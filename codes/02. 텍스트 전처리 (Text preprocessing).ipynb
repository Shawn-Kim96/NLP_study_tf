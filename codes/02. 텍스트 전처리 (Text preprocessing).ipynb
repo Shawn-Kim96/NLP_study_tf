{
 "cells": [
  {
   "cell_type": "markdown",
   "id": "12133efd",
   "metadata": {},
   "source": [
    "# 토큰화(Tokenization)"
   ]
  },
  {
   "cell_type": "markdown",
   "id": "f70eea8c",
   "metadata": {},
   "source": [
    "## 단어 토큰화"
   ]
  },
  {
   "cell_type": "code",
   "execution_count": 1,
   "id": "1d8aec2f",
   "metadata": {
    "ExecuteTime": {
     "end_time": "2021-11-27T08:44:29.766473Z",
     "start_time": "2021-11-27T08:44:24.184222Z"
    }
   },
   "outputs": [
    {
     "name": "stdout",
     "output_type": "stream",
     "text": [
      "word_tokenize\n",
      "['Do', \"n't\", 'be', 'fooled', 'by', 'the', 'dark', 'sounding', 'name', ',', 'Mr.', 'Jone', \"'s\", 'Orphanage', 'is', 'as', 'cheery', 'as', 'cheery', 'goes', 'for', 'a', 'pastry', 'shop', '.']\n",
      "\n",
      "WordPunctTokenizer\n",
      "['Don', \"'\", 't', 'be', 'fooled', 'by', 'the', 'dark', 'sounding', 'name', ',', 'Mr', '.', 'Jone', \"'\", 's', 'Orphanage', 'is', 'as', 'cheery', 'as', 'cheery', 'goes', 'for', 'a', 'pastry', 'shop', '.']\n",
      "\n",
      "text_to_word_sequence\n",
      "[\"don't\", 'be', 'fooled', 'by', 'the', 'dark', 'sounding', 'name', 'mr', \"jone's\", 'orphanage', 'is', 'as', 'cheery', 'as', 'cheery', 'goes', 'for', 'a', 'pastry', 'shop']\n"
     ]
    }
   ],
   "source": [
    "from nltk.tokenize import word_tokenize \n",
    "print('word_tokenize')\n",
    "print(word_tokenize(\"Don't be fooled by the dark sounding name, Mr. Jone's Orphanage is as cheery as cheery goes for a pastry shop.\")) \n",
    "\n",
    "from nltk.tokenize import WordPunctTokenizer  \n",
    "print('\\nWordPunctTokenizer')\n",
    "print(WordPunctTokenizer().tokenize(\"Don't be fooled by the dark sounding name, Mr. Jone's Orphanage is as cheery as cheery goes for a pastry shop.\"))\n",
    "\n",
    "from tensorflow.keras.preprocessing.text import text_to_word_sequence\n",
    "print('\\ntext_to_word_sequence')\n",
    "print(text_to_word_sequence(\"Don't be fooled by the dark sounding name, Mr. Jone's Orphanage is as cheery as cheery goes for a pastry shop.\"))\n"
   ]
  },
  {
   "cell_type": "code",
   "execution_count": 2,
   "id": "8f2896bc",
   "metadata": {
    "ExecuteTime": {
     "end_time": "2021-11-27T08:44:29.780356Z",
     "start_time": "2021-11-27T08:44:29.777565Z"
    }
   },
   "outputs": [
    {
     "name": "stdout",
     "output_type": "stream",
     "text": [
      "['Starting', 'a', 'home-based', 'restaurant', 'may', 'be', 'an', 'ideal.', 'it', 'does', \"n't\", 'have', 'a', 'food', 'chain', 'or', 'restaurant', 'of', 'their', 'own', '.']\n"
     ]
    }
   ],
   "source": [
    "from nltk.tokenize import TreebankWordTokenizer\n",
    "tokenizer = TreebankWordTokenizer()\n",
    "text = \"Starting a home-based restaurant may be an ideal. it doesn't have a food chain or restaurant of their own.\"\n",
    "print(tokenizer.tokenize(text))"
   ]
  },
  {
   "cell_type": "markdown",
   "id": "a076f78d",
   "metadata": {},
   "source": [
    "## 문장 토큰화"
   ]
  },
  {
   "cell_type": "markdown",
   "id": "0b61ab46",
   "metadata": {},
   "source": [
    "* 문장의 구분은 '.', '?', '!' 로 보통 하지만, '.'은 정확한 구분자가 되어주지 못할 경우가 많다.\n",
    "* '.'이 약어(abbreivation)로 쓰였는지 구분자(boundary)로 쓰였는지 구분하기 위해 이진 분류기를 사용한다. (ML or function 기반)"
   ]
  },
  {
   "cell_type": "code",
   "execution_count": 3,
   "id": "5f8f1a57",
   "metadata": {
    "ExecuteTime": {
     "end_time": "2021-11-27T08:44:29.793570Z",
     "start_time": "2021-11-27T08:44:29.790300Z"
    }
   },
   "outputs": [
    {
     "name": "stdout",
     "output_type": "stream",
     "text": [
      "['His barber kept his word.', 'But keeping such a huge secret to himself was driving him crazy.', 'Finally, the barber went up a mountain and almost to the edge of a cliff.', 'He dug a hole in the midst of some reeds.', 'He looked about, to make sure no one was near.'] \n",
      "\n",
      "['I am actively looking for Ph.D. students.', 'and you are a Ph.D student.'] \n",
      "\n"
     ]
    }
   ],
   "source": [
    "from nltk.tokenize import sent_tokenize\n",
    "text = \"His barber kept his word. But keeping such a huge secret to himself was driving him crazy. Finally, the barber went up a mountain and almost to the edge of a cliff. He dug a hole in the midst of some reeds. He looked about, to make sure no one was near.\"\n",
    "print(sent_tokenize(text), '\\n')\n",
    "\n",
    "text = \"I am actively looking for Ph.D. students. and you are a Ph.D student.\"\n",
    "print(sent_tokenize(text), '\\n')\n"
   ]
  },
  {
   "cell_type": "markdown",
   "id": "b1e28c9e",
   "metadata": {},
   "source": [
    "## 토큰화의 특징"
   ]
  },
  {
   "cell_type": "markdown",
   "id": "821a1d71",
   "metadata": {},
   "source": [
    "1) 토큰화는 언어가 가지고 있는 고유 특성에 따라 다르게 적용되어야 한다.\n",
    "\n",
    "한국어와 영어의 차이점 (한국어의 특성)\n",
    "\n",
    "> 1. 한국어는 교착어다.\n",
    "    - 자립 형태소 (김수현, 딥러닝책, 물) / 의존 형태소 (-가, -을, -었, -다)\n",
    "> 2. 한국어는 띄어쓰기가 영어보다 잘 지켜지지 않는다.\n",
    "\n",
    "2) 품사 태깅 (Part-of-speech tagging)\n",
    "\n",
    "- fly의 의미가 '날다' vs '파리'"
   ]
  },
  {
   "cell_type": "markdown",
   "id": "2210b3e6",
   "metadata": {
    "ExecuteTime": {
     "end_time": "2021-11-27T08:15:01.302055Z",
     "start_time": "2021-11-27T08:15:01.300235Z"
    }
   },
   "source": [
    "## 실습"
   ]
  },
  {
   "cell_type": "code",
   "execution_count": 4,
   "id": "caab7cb3",
   "metadata": {
    "ExecuteTime": {
     "end_time": "2021-11-27T08:44:29.809201Z",
     "start_time": "2021-11-27T08:44:29.806249Z"
    }
   },
   "outputs": [
    {
     "name": "stdout",
     "output_type": "stream",
     "text": [
      "['I', 'am', 'actively', 'looking', 'for', 'Ph.D.', 'students', '.', 'and', 'you', 'are', 'a', 'Ph.D.', 'student', '.']\n"
     ]
    }
   ],
   "source": [
    "from nltk.tokenize import word_tokenize\n",
    "text = \"I am actively looking for Ph.D. students. and you are a Ph.D. student.\"\n",
    "print(word_tokenize(text))"
   ]
  },
  {
   "cell_type": "code",
   "execution_count": 5,
   "id": "cd87c836",
   "metadata": {
    "ExecuteTime": {
     "end_time": "2021-11-27T08:44:29.906011Z",
     "start_time": "2021-11-27T08:44:29.819612Z"
    }
   },
   "outputs": [
    {
     "name": "stdout",
     "output_type": "stream",
     "text": [
      "[('I', 'PRP'), ('am', 'VBP'), ('actively', 'RB'), ('looking', 'VBG'), ('for', 'IN'), ('Ph.D.', 'NNP'), ('students', 'NNS'), ('.', '.'), ('and', 'CC'), ('you', 'PRP'), ('are', 'VBP'), ('a', 'DT'), ('Ph.D.', 'NNP'), ('student', 'NN'), ('.', '.')]\n"
     ]
    }
   ],
   "source": [
    "from nltk.tag import pos_tag\n",
    "tokenized_sentence = word_tokenize(text)\n",
    "print(pos_tag(tokenized_sentence))"
   ]
  },
  {
   "cell_type": "code",
   "execution_count": 8,
   "id": "61f12f67",
   "metadata": {
    "ExecuteTime": {
     "end_time": "2021-11-27T08:45:32.174352Z",
     "start_time": "2021-11-27T08:45:32.138310Z"
    }
   },
   "outputs": [
    {
     "name": "stdout",
     "output_type": "stream",
     "text": [
      "['열심히', '코딩', '한', '당신', ',', '연휴', '에는', '여행', '을', '가봐요'] \n",
      "\n",
      "[('열심히', 'Adverb'), ('코딩', 'Noun'), ('한', 'Josa'), ('당신', 'Noun'), (',', 'Punctuation'), ('연휴', 'Noun'), ('에는', 'Josa'), ('여행', 'Noun'), ('을', 'Josa'), ('가봐요', 'Verb')] \n",
      "\n",
      "['코딩', '당신', '연휴', '여행'] \n",
      "\n"
     ]
    }
   ],
   "source": [
    "from konlpy.tag import Okt\n",
    "okt = Okt()\n",
    "print(okt.morphs(\"열심히 코딩한 당신, 연휴에는 여행을 가봐요\"), '\\n')\n",
    "print(okt.pos(\"열심히 코딩한 당신, 연휴에는 여행을 가봐요\"), '\\n')\n",
    "print(okt.nouns(\"열심히 코딩한 당신, 연휴에는 여행을 가봐요\"), '\\n')"
   ]
  },
  {
   "cell_type": "code",
   "execution_count": 10,
   "id": "37a6b4e6",
   "metadata": {
    "ExecuteTime": {
     "end_time": "2021-11-27T08:46:32.345225Z",
     "start_time": "2021-11-27T08:46:32.210724Z"
    }
   },
   "outputs": [
    {
     "name": "stdout",
     "output_type": "stream",
     "text": [
      "['열심히', '코딩', '하', 'ㄴ', '당신', ',', '연휴', '에', '는', '여행', '을', '가보', '아요'] \n",
      "\n",
      "[('열심히', 'MAG'), ('코딩', 'NNG'), ('하', 'XSV'), ('ㄴ', 'ETD'), ('당신', 'NP'), (',', 'SP'), ('연휴', 'NNG'), ('에', 'JKM'), ('는', 'JX'), ('여행', 'NNG'), ('을', 'JKO'), ('가보', 'VV'), ('아요', 'EFN')] \n",
      "\n",
      "['코딩', '당신', '연휴', '여행'] \n",
      "\n"
     ]
    }
   ],
   "source": [
    "from konlpy.tag import Kkma  \n",
    "kkma = Kkma()  \n",
    "print(kkma.morphs(\"열심히 코딩한 당신, 연휴에는 여행을 가봐요\"), '\\n')\n",
    "print(kkma.pos(\"열심히 코m딩한 당신, 연휴에는 여행을 가봐요\"), '\\n')\n",
    "print(kkma.nouns(\"열심히 코딩한 당신, 연휴에는 여행을 가봐요\"), '\\n')"
   ]
  },
  {
   "cell_type": "markdown",
   "id": "8c489ebd",
   "metadata": {},
   "source": [
    "# 정제(Cleaning) & 정규화(Normalization)"
   ]
  },
  {
   "cell_type": "markdown",
   "id": "ec78a1c3",
   "metadata": {},
   "source": [
    "* 정제 : 갖고 있는 코퍼스로부터 노이즈 데이터를 제거\n",
    "* 정규화 : 표현 방법이 다른 단어들을 통합시켜서 같은 단어로 만들어준다. (ex. US, USA)"
   ]
  },
  {
   "cell_type": "markdown",
   "id": "9b3de198",
   "metadata": {},
   "source": [
    " 정제, 정규화의 대표적인 방법들이 몇가지 있다.\n",
    " \n",
    " 1. 규칙에 기반한 표기가 다른 단어들의 통합\n",
    " \n",
    " 2. 대, 소문자 통합\n",
    " \n",
    " 3. 불필요한 단어의 제거(Removing Unnecesary Words)\n",
    " \n",
    "     1) 등장 빈도가 적은 단어\n",
    "     \n",
    "     2) 길이가 짧은 단어 (in english)\n",
    " \n",
    " 4. "
   ]
  },
  {
   "cell_type": "code",
   "execution_count": 11,
   "id": "fae932df",
   "metadata": {
    "ExecuteTime": {
     "end_time": "2021-11-27T09:23:59.122020Z",
     "start_time": "2021-11-27T09:23:59.119149Z"
    }
   },
   "outputs": [],
   "source": [
    "import re\n",
    "text = \"I was wondering if anyone out there could enlighten me on this car.\"\n",
    "\n",
    "shortword = re.compile(r'\\W*\\b\\w{1,2}\\b')"
   ]
  },
  {
   "cell_type": "code",
   "execution_count": 19,
   "id": "e5b3ed44",
   "metadata": {
    "ExecuteTime": {
     "end_time": "2021-11-27T09:24:50.975685Z",
     "start_time": "2021-11-27T09:24:50.972027Z"
    }
   },
   "outputs": [
    {
     "data": {
      "text/plain": [
       "' was wondering anyone out there could enlighten this car.'"
      ]
     },
     "execution_count": 19,
     "metadata": {},
     "output_type": "execute_result"
    }
   ],
   "source": [
    "shortword.sub('', text)"
   ]
  },
  {
   "cell_type": "markdown",
   "id": "f5631598",
   "metadata": {},
   "source": [
    "# 어간 추출(Stemming) & 표제어 추출(Lemmatization)"
   ]
  },
  {
   "cell_type": "markdown",
   "id": "71cf4acc",
   "metadata": {},
   "source": [
    "* 눈으로 봤을 때 서로 다른 단어들을, 하나의 단어로 일반화 시킬 수 있다면 일반화 시키는 과정\n",
    "* 문서 내 단어를 줄이는 과정"
   ]
  },
  {
   "cell_type": "markdown",
   "id": "4eff5f71",
   "metadata": {},
   "source": [
    "## 표제어 추출"
   ]
  },
  {
   "cell_type": "markdown",
   "id": "ad56f5c3",
   "metadata": {},
   "source": [
    "단어를 2가지로 분리한다.\n",
    "\n",
    "1) 어간 (stem) : 단어의 의미를 담고 있는 단어의 핵심 부분\n",
    "\n",
    "2) 접사 (affix) : 단어에 추가적인 의미를 주는 부분"
   ]
  },
  {
   "cell_type": "code",
   "execution_count": 23,
   "id": "d4a08374",
   "metadata": {
    "ExecuteTime": {
     "end_time": "2021-11-27T11:10:38.541397Z",
     "start_time": "2021-11-27T11:10:38.538047Z"
    }
   },
   "outputs": [
    {
     "name": "stdout",
     "output_type": "stream",
     "text": [
      "['policy', 'doing', 'organization', 'have', 'going', 'love', 'life', 'fly', 'dy', 'watched', 'ha', 'starting']\n"
     ]
    }
   ],
   "source": [
    "from nltk.stem import WordNetLemmatizer\n",
    "lemmatizer = WordNetLemmatizer()\n",
    "\n",
    "words = ['policy', 'doing', 'organization', 'have', 'going', 'love', 'lives', 'fly', 'dies', 'watched', 'has', 'starting']\n",
    "print([lemmatizer.lemmatize(w) for w in words])\n"
   ]
  },
  {
   "cell_type": "markdown",
   "id": "ac031fc3",
   "metadata": {},
   "source": [
    "* dy, ha와 같이 이상하게 뽑히는 단어들 존재"
   ]
  },
  {
   "cell_type": "code",
   "execution_count": 27,
   "id": "491ffc15",
   "metadata": {
    "ExecuteTime": {
     "end_time": "2021-11-27T11:12:43.717871Z",
     "start_time": "2021-11-27T11:12:43.714313Z"
    }
   },
   "outputs": [
    {
     "data": {
      "text/plain": [
       "'hors'"
      ]
     },
     "execution_count": 27,
     "metadata": {},
     "output_type": "execute_result"
    }
   ],
   "source": [
    "lemmatizer.lemmatize('hors', 'v')"
   ]
  },
  {
   "cell_type": "markdown",
   "id": "611a39e2",
   "metadata": {},
   "source": [
    "## 어간 추출"
   ]
  },
  {
   "cell_type": "code",
   "execution_count": 28,
   "id": "22ae72c6",
   "metadata": {
    "ExecuteTime": {
     "end_time": "2021-11-27T11:17:38.615798Z",
     "start_time": "2021-11-27T11:17:38.612049Z"
    }
   },
   "outputs": [
    {
     "name": "stdout",
     "output_type": "stream",
     "text": [
      "['This', 'was', 'not', 'the', 'map', 'we', 'found', 'in', 'Billy', 'Bones', \"'s\", 'chest', ',', 'but', 'an', 'accurate', 'copy', ',', 'complete', 'in', 'all', 'things', '--', 'names', 'and', 'heights', 'and', 'soundings', '--', 'with', 'the', 'single', 'exception', 'of', 'the', 'red', 'crosses', 'and', 'the', 'written', 'notes', '.']\n"
     ]
    }
   ],
   "source": [
    "from nltk.stem import PorterStemmer\n",
    "from nltk.tokenize import word_tokenize\n",
    "stemmer = PorterStemmer()\n",
    "\n",
    "text = \"This was not the map we found in Billy Bones's chest, but an accurate copy, complete in all things--names and heights and soundings--with the single exception of the red crosses and the written notes.\"\n",
    "words = word_tokenize(text)\n",
    "print(words)"
   ]
  },
  {
   "cell_type": "code",
   "execution_count": 29,
   "id": "00ca2e2b",
   "metadata": {
    "ExecuteTime": {
     "end_time": "2021-11-27T11:18:18.635253Z",
     "start_time": "2021-11-27T11:18:18.631653Z"
    }
   },
   "outputs": [
    {
     "name": "stdout",
     "output_type": "stream",
     "text": [
      "['thi', 'wa', 'not', 'the', 'map', 'we', 'found', 'in', 'billi', 'bone', \"'s\", 'chest', ',', 'but', 'an', 'accur', 'copi', ',', 'complet', 'in', 'all', 'thing', '--', 'name', 'and', 'height', 'and', 'sound', '--', 'with', 'the', 'singl', 'except', 'of', 'the', 'red', 'cross', 'and', 'the', 'written', 'note', '.']\n"
     ]
    }
   ],
   "source": [
    "print([stemmer.stem(w) for w in words])\n"
   ]
  },
  {
   "cell_type": "markdown",
   "id": "33dfb27c",
   "metadata": {},
   "source": [
    "* 어간 추출은 약간 -ical, -ion, -s 등 뒤에 붙는 것들을 문맥 상관없이 특정 규칙에 따라 지워주는 거다.\n",
    "* 표제어 추출은 단어의 원 뜻을 추출해준다."
   ]
  },
  {
   "cell_type": "markdown",
   "id": "f1fb11f8",
   "metadata": {},
   "source": [
    "# 불용어(Stopword)"
   ]
  },
  {
   "cell_type": "markdown",
   "id": "ad17149e",
   "metadata": {},
   "source": [
    "* 문장 해석하는데 도움 되지 않는 몇 대표적인 단어들\n",
    "* nltk 라이브러리에서 100여개를 지정해놨다."
   ]
  },
  {
   "cell_type": "code",
   "execution_count": 32,
   "id": "ddeee28b",
   "metadata": {
    "ExecuteTime": {
     "end_time": "2021-11-27T11:29:50.956923Z",
     "start_time": "2021-11-27T11:29:50.952337Z"
    }
   },
   "outputs": [
    {
     "data": {
      "text/plain": [
       "['i', 'me', 'my', 'myself', 'we', 'our', 'ours', 'ourselves', 'you', \"you're\"]"
      ]
     },
     "execution_count": 32,
     "metadata": {},
     "output_type": "execute_result"
    }
   ],
   "source": [
    "from nltk.corpus import stopwords\n",
    "stopwords.words('english')[:10]"
   ]
  },
  {
   "cell_type": "code",
   "execution_count": 33,
   "id": "48185ec3",
   "metadata": {
    "ExecuteTime": {
     "end_time": "2021-11-27T11:31:07.548299Z",
     "start_time": "2021-11-27T11:31:07.541686Z"
    }
   },
   "outputs": [
    {
     "data": {
      "text/plain": [
       "['Family',\n",
       " 'is',\n",
       " 'not',\n",
       " 'an',\n",
       " 'important',\n",
       " 'thing',\n",
       " '.',\n",
       " 'It',\n",
       " \"'s\",\n",
       " 'everything',\n",
       " '.']"
      ]
     },
     "metadata": {},
     "output_type": "display_data"
    },
    {
     "data": {
      "text/plain": [
       "['Family', 'important', 'thing', '.', 'It', \"'s\", 'everything', '.']"
      ]
     },
     "metadata": {},
     "output_type": "display_data"
    }
   ],
   "source": [
    "example = \"Family is not an important thing. It's everything.\"\n",
    "stop_words = set(stopwords.words('english'))\n",
    "\n",
    "word_tokens = word_tokenize(example)\n",
    "\n",
    "result = [w for w in word_tokens if w not in stop_words]\n",
    "display(word_tokens)\n",
    "display(result)"
   ]
  },
  {
   "cell_type": "markdown",
   "id": "f28a2034",
   "metadata": {},
   "source": [
    "* 한국어의 경우는 불용어가 문장에 따라 너무 다른 형태를 보일 수 있어, 상황에 따라 사용자가 직접 만들어 사용한다."
   ]
  },
  {
   "cell_type": "code",
   "execution_count": 37,
   "id": "f0167931",
   "metadata": {
    "ExecuteTime": {
     "end_time": "2021-11-27T11:38:21.436693Z",
     "start_time": "2021-11-27T11:38:21.431650Z"
    }
   },
   "outputs": [
    {
     "name": "stdout",
     "output_type": "stream",
     "text": [
      "['고기를', '아무렇게나', '구우려고', '하면', '안', '돼', '.', '고기라고', '다', '같은', '게', '아니거든', '.', '예컨대', '삼겹살을', '구울', '때는', '중요한', '게', '있지', '.']\n",
      "['고기를', '구우려고', '안', '돼', '.', '고기라고', '다', '같은', '게', '.', '삼겹살을', '구울', '때는', '중요한', '게', '있지', '.']\n"
     ]
    }
   ],
   "source": [
    "# 아래의 불용어는 저자가 임의로 선정한 것으로 실제 의미있는 선정 기준이 아님\n",
    "example = \"고기를 아무렇게나 구우려고 하면 안 돼. 고기라고 다 같은 게 아니거든. 예컨대 삼겹살을 구울 때는 중요한 게 있지.\"\n",
    "stop_words = \"아무거나 아무렇게나 어찌하든지 같다 비슷하다 예컨대 이럴정도로 하면 아니거든\"\n",
    "\n",
    "stop_words = set(stop_words.split(' '))\n",
    "word_tokens = word_tokenize(example)\n",
    "\n",
    "result = [word for word in word_tokens if not word in stop_words]\n",
    "\n",
    "print(word_tokens)\n",
    "print(result)"
   ]
  },
  {
   "cell_type": "markdown",
   "id": "1bfc2522",
   "metadata": {},
   "source": [
    "# 정규표현식"
   ]
  },
  {
   "cell_type": "code",
   "execution_count": 38,
   "id": "292efd14",
   "metadata": {
    "ExecuteTime": {
     "end_time": "2021-11-27T11:39:13.979347Z",
     "start_time": "2021-11-27T11:39:13.974965Z"
    }
   },
   "outputs": [
    {
     "name": "stdout",
     "output_type": "stream",
     "text": [
      "None\n",
      "<re.Match object; span=(0, 3), match='abc'>\n"
     ]
    }
   ],
   "source": [
    "r = re.compile('a.c')\n",
    "print(r.search('kk'))\n",
    "print(r.search('abc'))"
   ]
  },
  {
   "cell_type": "code",
   "execution_count": 41,
   "id": "0934a320",
   "metadata": {
    "ExecuteTime": {
     "end_time": "2021-11-27T11:40:18.556716Z",
     "start_time": "2021-11-27T11:40:18.552210Z"
    }
   },
   "outputs": [
    {
     "name": "stdout",
     "output_type": "stream",
     "text": [
      "None\n",
      "<re.Match object; span=(0, 3), match='abc'>\n",
      "<re.Match object; span=(0, 2), match='ac'>\n"
     ]
    }
   ],
   "source": [
    "r = re.compile(\"ab?c\")\n",
    "print(r.search(\"abbc\"))\n",
    "print(r.search(\"abc\"))\n",
    "print(r.search(\"ac\"))"
   ]
  },
  {
   "cell_type": "code",
   "execution_count": 45,
   "id": "909b6798",
   "metadata": {
    "ExecuteTime": {
     "end_time": "2021-11-27T11:49:37.395534Z",
     "start_time": "2021-11-27T11:49:37.391763Z"
    }
   },
   "outputs": [
    {
     "data": {
      "text/plain": [
       "['사과', '딸기', '수박', '메론', '바나나']"
      ]
     },
     "execution_count": 45,
     "metadata": {},
     "output_type": "execute_result"
    }
   ],
   "source": [
    "text = \"사과+딸기+수박+메론+바나나\"\n",
    "re.split(\"\\+\",text)"
   ]
  },
  {
   "cell_type": "code",
   "execution_count": 47,
   "id": "6b1e321f",
   "metadata": {
    "ExecuteTime": {
     "end_time": "2021-11-27T11:50:53.699694Z",
     "start_time": "2021-11-27T11:50:53.694578Z"
    }
   },
   "outputs": [
    {
     "data": {
      "text/plain": [
       "['010', '1234', '1234', '30']"
      ]
     },
     "execution_count": 47,
     "metadata": {},
     "output_type": "execute_result"
    }
   ],
   "source": [
    "text = \"\"\"이름 : 김철수\n",
    "전화번호 : 010 - 1234 - 1234\n",
    "나이 : 30\n",
    "성별 : 남\"\"\"  \n",
    "re.findall(\"\\d+\", text)"
   ]
  },
  {
   "cell_type": "code",
   "execution_count": 48,
   "id": "163d097b",
   "metadata": {
    "ExecuteTime": {
     "end_time": "2021-11-27T11:51:30.620500Z",
     "start_time": "2021-11-27T11:51:30.616446Z"
    }
   },
   "outputs": [
    {
     "data": {
      "text/plain": [
       "['100', 'John', 'PROF', '101', 'James', 'STUD', '102', 'Mac', 'STUD']"
      ]
     },
     "execution_count": 48,
     "metadata": {},
     "output_type": "execute_result"
    }
   ],
   "source": [
    "text = \"\"\"100 John    PROF\n",
    "101 James   STUD\n",
    "102 Mac   STUD\"\"\"  \n",
    "\n",
    "re.split('\\s+', text)"
   ]
  },
  {
   "cell_type": "code",
   "execution_count": 53,
   "id": "b501fe83",
   "metadata": {
    "ExecuteTime": {
     "end_time": "2021-11-27T11:52:49.515995Z",
     "start_time": "2021-11-27T11:52:49.512120Z"
    }
   },
   "outputs": [
    {
     "data": {
      "text/plain": [
       "['John', 'James', 'Mac']"
      ]
     },
     "execution_count": 53,
     "metadata": {},
     "output_type": "execute_result"
    }
   ],
   "source": [
    "re.findall('[A-Z][a-z]+', text)"
   ]
  },
  {
   "cell_type": "code",
   "execution_count": 54,
   "id": "a22d9c9f",
   "metadata": {
    "ExecuteTime": {
     "end_time": "2021-11-27T11:53:16.822805Z",
     "start_time": "2021-11-27T11:53:16.819748Z"
    }
   },
   "outputs": [
    {
     "name": "stdout",
     "output_type": "stream",
     "text": [
      "['Don', 't', 'be', 'fooled', 'by', 'the', 'dark', 'sounding', 'name', 'Mr', 'Jone', 's', 'Orphanage', 'is', 'as', 'cheery', 'as', 'cheery', 'goes', 'for', 'a', 'pastry', 'shop']\n"
     ]
    }
   ],
   "source": [
    "from nltk.tokenize import RegexpTokenizer\n",
    "tokenizer = RegexpTokenizer(\"[\\w]+\") # 숫자, 단어가 하나 이상 있는 것들로 매칭\n",
    "print(tokenizer.tokenize(\"Don't be fooled by the dark sounding name, Mr. Jone's Orphanage is as cheery as cheery goes for a pastry shop\"))"
   ]
  },
  {
   "cell_type": "code",
   "execution_count": 57,
   "id": "405b5dfa",
   "metadata": {
    "ExecuteTime": {
     "end_time": "2021-11-27T11:54:18.394755Z",
     "start_time": "2021-11-27T11:54:18.391515Z"
    }
   },
   "outputs": [
    {
     "name": "stdout",
     "output_type": "stream",
     "text": [
      "[\"Don't\", 'be', 'fooled', 'by', 'the', 'dark', 'sounding', 'name,', 'Mr.', \"Jone's\", 'Orphanage', 'is', 'as', 'cheery', 'as', 'cheery', 'goes', 'for', 'a', 'pastry', 'shop']\n"
     ]
    }
   ],
   "source": [
    "from nltk.tokenize import RegexpTokenizer\n",
    "tokenizer = RegexpTokenizer(\"\\s+\", gaps=True) # gaps=ture : 해당 정규 표현식을 토큰으로 나누기 위한 기준으로 사용된다는 뜻\n",
    "print(tokenizer.tokenize(\"Don't be fooled by the dark sounding name, Mr. Jone's Orphanage is as cheery as cheery goes for a pastry shop\"))"
   ]
  },
  {
   "cell_type": "markdown",
   "id": "a699d59a",
   "metadata": {},
   "source": [
    "# 정수 인코딩"
   ]
  },
  {
   "cell_type": "markdown",
   "id": "60f49fb0",
   "metadata": {},
   "source": [
    "* Word tokenize, sent_tokenize 등 일반적인 tokenize 방법을 배웠다.\n",
    "* 하지만 컴퓨터 입장에서 생각해보면, 단어 - 숫자 mapping 해주는게 더 편하고 계산이 빠르다.\n",
    "* 대표적으로 Counter, FreqDist 등이 있다."
   ]
  },
  {
   "cell_type": "code",
   "execution_count": 58,
   "id": "d2b01aa6",
   "metadata": {
    "ExecuteTime": {
     "end_time": "2021-11-27T11:56:56.633688Z",
     "start_time": "2021-11-27T11:56:56.630453Z"
    }
   },
   "outputs": [
    {
     "name": "stdout",
     "output_type": "stream",
     "text": [
      "['A barber is a person.', 'a barber is good person.', 'a barber is huge person.', 'he Knew A Secret!', 'The Secret He Kept is huge secret.', 'Huge secret.', 'His barber kept his word.', 'a barber kept his word.', 'His barber kept his secret.', 'But keeping and keeping such a huge secret to himself was driving the barber crazy.', 'the barber went up a huge mountain.']\n"
     ]
    }
   ],
   "source": [
    "from nltk.tokenize import sent_tokenize\n",
    "from nltk.tokenize import word_tokenize\n",
    "from nltk.corpus import stopwords\n",
    "\n",
    "raw_text = \"A barber is a person. a barber is good person. a barber is huge person. he Knew A Secret! The Secret He Kept is huge secret. Huge secret. His barber kept his word. a barber kept his word. His barber kept his secret. But keeping and keeping such a huge secret to himself was driving the barber crazy. the barber went up a huge mountain.\"\n",
    "\n",
    "sentences = sent_tokenize(raw_text)\n",
    "print(sentences)"
   ]
  },
  {
   "cell_type": "code",
   "execution_count": 59,
   "id": "c401c8c3",
   "metadata": {
    "ExecuteTime": {
     "end_time": "2021-11-27T12:01:26.884941Z",
     "start_time": "2021-11-27T12:01:26.876426Z"
    }
   },
   "outputs": [
    {
     "name": "stdout",
     "output_type": "stream",
     "text": [
      "[['barber', 'person'], ['barber', 'good', 'person'], ['barber', 'huge', 'person'], ['knew', 'secret'], ['secret', 'kept', 'huge', 'secret'], ['huge', 'secret'], ['barber', 'kept', 'word'], ['barber', 'kept', 'word'], ['barber', 'kept', 'secret'], ['keeping', 'keeping', 'huge', 'secret', 'driving', 'barber', 'crazy'], ['barber', 'went', 'huge', 'mountain']]\n"
     ]
    }
   ],
   "source": [
    "vocab = {}\n",
    "preprocessed_sentences = []\n",
    "stop_words = set(stopwords.words('english'))\n",
    "\n",
    "for sentence in sentences:\n",
    "    # 단어 토큰화\n",
    "    tokenized_sentence = word_tokenize(sentence)\n",
    "    result = []\n",
    "\n",
    "    for word in tokenized_sentence: \n",
    "        word = word.lower() # 모든 단어를 소문자화하여 단어의 개수를 줄인다.\n",
    "        if word not in stop_words: # 단어 토큰화 된 결과에 대해서 불용어를 제거한다.\n",
    "            if len(word) > 2: # 단어 길이가 2이하인 경우에 대하여 추가로 단어를 제거한다.\n",
    "                result.append(word)\n",
    "                if word not in vocab:\n",
    "                    vocab[word] = 0 \n",
    "                vocab[word] += 1\n",
    "    preprocessed_sentences.append(result) \n",
    "print(preprocessed_sentences)"
   ]
  },
  {
   "cell_type": "code",
   "execution_count": 60,
   "id": "f5dab2a4",
   "metadata": {
    "ExecuteTime": {
     "end_time": "2021-11-27T12:01:40.632686Z",
     "start_time": "2021-11-27T12:01:40.628761Z"
    }
   },
   "outputs": [
    {
     "data": {
      "text/plain": [
       "{'barber': 8,\n",
       " 'person': 3,\n",
       " 'good': 1,\n",
       " 'huge': 5,\n",
       " 'knew': 1,\n",
       " 'secret': 6,\n",
       " 'kept': 4,\n",
       " 'word': 2,\n",
       " 'keeping': 2,\n",
       " 'driving': 1,\n",
       " 'crazy': 1,\n",
       " 'went': 1,\n",
       " 'mountain': 1}"
      ]
     },
     "execution_count": 60,
     "metadata": {},
     "output_type": "execute_result"
    }
   ],
   "source": [
    "vocab"
   ]
  },
  {
   "cell_type": "code",
   "execution_count": 61,
   "id": "30af3a76",
   "metadata": {
    "ExecuteTime": {
     "end_time": "2021-11-27T12:02:21.331220Z",
     "start_time": "2021-11-27T12:02:21.328102Z"
    }
   },
   "outputs": [
    {
     "name": "stdout",
     "output_type": "stream",
     "text": [
      "[('barber', 8), ('secret', 6), ('huge', 5), ('kept', 4), ('person', 3), ('word', 2), ('keeping', 2), ('good', 1), ('knew', 1), ('driving', 1), ('crazy', 1), ('went', 1), ('mountain', 1)]\n"
     ]
    }
   ],
   "source": [
    "vocab_sorted = sorted(vocab.items(), key = lambda x:-x[1])\n",
    "print(vocab_sorted)"
   ]
  },
  {
   "cell_type": "code",
   "execution_count": 62,
   "id": "e4c700e4",
   "metadata": {
    "ExecuteTime": {
     "end_time": "2021-11-27T12:02:48.198682Z",
     "start_time": "2021-11-27T12:02:48.194231Z"
    }
   },
   "outputs": [
    {
     "name": "stdout",
     "output_type": "stream",
     "text": [
      "{'barber': 1, 'secret': 2, 'huge': 3, 'kept': 4, 'person': 5, 'word': 6, 'keeping': 7}\n"
     ]
    }
   ],
   "source": [
    "word_to_index = {}\n",
    "i = 0\n",
    "for (word, frequency) in vocab_sorted :\n",
    "    if frequency > 1 : # 빈도수가 작은 단어는 제외.\n",
    "        i += 1\n",
    "        word_to_index[word] = i\n",
    "\n",
    "print(word_to_index)"
   ]
  },
  {
   "cell_type": "code",
   "execution_count": 70,
   "id": "8867136c",
   "metadata": {
    "ExecuteTime": {
     "end_time": "2021-11-27T12:11:19.548515Z",
     "start_time": "2021-11-27T12:11:19.545885Z"
    }
   },
   "outputs": [],
   "source": [
    "from collections import Counter\n",
    "vocab = Counter(sum(preprocessed_sentences, []))"
   ]
  },
  {
   "cell_type": "code",
   "execution_count": 71,
   "id": "1bd604fa",
   "metadata": {
    "ExecuteTime": {
     "end_time": "2021-11-27T12:11:27.412964Z",
     "start_time": "2021-11-27T12:11:27.408969Z"
    }
   },
   "outputs": [
    {
     "data": {
      "text/plain": [
       "[('barber', 8), ('secret', 6), ('huge', 5), ('kept', 4), ('person', 3)]"
      ]
     },
     "execution_count": 71,
     "metadata": {},
     "output_type": "execute_result"
    }
   ],
   "source": [
    "vocab.most_common(5)"
   ]
  },
  {
   "cell_type": "code",
   "execution_count": 72,
   "id": "3c2ba2bc",
   "metadata": {
    "ExecuteTime": {
     "end_time": "2021-11-27T12:13:45.224827Z",
     "start_time": "2021-11-27T12:13:45.222360Z"
    }
   },
   "outputs": [],
   "source": [
    "from nltk import FreqDist\n",
    "import numpy as np\n"
   ]
  },
  {
   "cell_type": "code",
   "execution_count": 74,
   "id": "0186e39d",
   "metadata": {
    "ExecuteTime": {
     "end_time": "2021-11-27T12:13:57.765499Z",
     "start_time": "2021-11-27T12:13:57.761410Z"
    }
   },
   "outputs": [
    {
     "data": {
      "text/plain": [
       "FreqDist({'barber': 8, 'secret': 6, 'huge': 5, 'kept': 4, 'person': 3, 'word': 2, 'keeping': 2, 'good': 1, 'knew': 1, 'driving': 1, ...})"
      ]
     },
     "execution_count": 74,
     "metadata": {},
     "output_type": "execute_result"
    }
   ],
   "source": [
    "FreqDist(np.hstack(preprocessed_sentences))"
   ]
  },
  {
   "cell_type": "code",
   "execution_count": 75,
   "id": "a9302154",
   "metadata": {
    "ExecuteTime": {
     "end_time": "2021-11-27T12:14:15.526679Z",
     "start_time": "2021-11-27T12:14:15.524339Z"
    }
   },
   "outputs": [],
   "source": [
    "from tensorflow.keras.preprocessing.text import Tokenizer\n"
   ]
  },
  {
   "cell_type": "code",
   "execution_count": 77,
   "id": "5e05f928",
   "metadata": {
    "ExecuteTime": {
     "end_time": "2021-11-27T12:15:32.162687Z",
     "start_time": "2021-11-27T12:15:32.155160Z"
    }
   },
   "outputs": [
    {
     "data": {
      "text/plain": [
       "[['barber', 'person'],\n",
       " ['barber', 'good', 'person'],\n",
       " ['barber', 'huge', 'person'],\n",
       " ['knew', 'secret'],\n",
       " ['secret', 'kept', 'huge', 'secret'],\n",
       " ['huge', 'secret'],\n",
       " ['barber', 'kept', 'word'],\n",
       " ['barber', 'kept', 'word'],\n",
       " ['barber', 'kept', 'secret'],\n",
       " ['keeping', 'keeping', 'huge', 'secret', 'driving', 'barber', 'crazy'],\n",
       " ['barber', 'went', 'huge', 'mountain']]"
      ]
     },
     "metadata": {},
     "output_type": "display_data"
    },
    {
     "data": {
      "text/plain": [
       "None"
      ]
     },
     "metadata": {},
     "output_type": "display_data"
    },
    {
     "data": {
      "text/plain": [
       "{'barber': 1,\n",
       " 'secret': 2,\n",
       " 'huge': 3,\n",
       " 'kept': 4,\n",
       " 'person': 5,\n",
       " 'word': 6,\n",
       " 'keeping': 7,\n",
       " 'good': 8,\n",
       " 'knew': 9,\n",
       " 'driving': 10,\n",
       " 'crazy': 11,\n",
       " 'went': 12,\n",
       " 'mountain': 13}"
      ]
     },
     "metadata": {},
     "output_type": "display_data"
    }
   ],
   "source": [
    "display(preprocessed_sentences)\n",
    "tokenizer = Tokenizer()\n",
    "\n",
    "display(tokenizer.fit_on_texts(preprocessed_sentences))\n",
    "display(tokenizer.word_index)\n"
   ]
  },
  {
   "cell_type": "code",
   "execution_count": 78,
   "id": "f25586e5",
   "metadata": {
    "ExecuteTime": {
     "end_time": "2021-11-27T12:15:49.425261Z",
     "start_time": "2021-11-27T12:15:49.422479Z"
    }
   },
   "outputs": [
    {
     "name": "stdout",
     "output_type": "stream",
     "text": [
      "OrderedDict([('barber', 8), ('person', 3), ('good', 1), ('huge', 5), ('knew', 1), ('secret', 6), ('kept', 4), ('word', 2), ('keeping', 2), ('driving', 1), ('crazy', 1), ('went', 1), ('mountain', 1)])\n"
     ]
    }
   ],
   "source": [
    "print(tokenizer.word_counts)"
   ]
  },
  {
   "cell_type": "code",
   "execution_count": 79,
   "id": "2c3ad043",
   "metadata": {
    "ExecuteTime": {
     "end_time": "2021-11-27T12:18:56.229425Z",
     "start_time": "2021-11-27T12:18:56.226592Z"
    }
   },
   "outputs": [
    {
     "name": "stdout",
     "output_type": "stream",
     "text": [
      "[[1, 5], [1, 8, 5], [1, 3, 5], [9, 2], [2, 4, 3, 2], [3, 2], [1, 4, 6], [1, 4, 6], [1, 4, 2], [7, 7, 3, 2, 10, 1, 11], [1, 12, 3, 13]]\n"
     ]
    }
   ],
   "source": [
    "print(tokenizer.texts_to_sequences(preprocessed_sentences))\n"
   ]
  },
  {
   "cell_type": "code",
   "execution_count": 83,
   "id": "d0ac0cb5",
   "metadata": {
    "ExecuteTime": {
     "end_time": "2021-11-27T12:20:54.240674Z",
     "start_time": "2021-11-27T12:20:54.236632Z"
    }
   },
   "outputs": [
    {
     "name": "stdout",
     "output_type": "stream",
     "text": [
      "{'barber': 1, 'secret': 2, 'huge': 3, 'kept': 4, 'person': 5}\n",
      "OrderedDict([('barber', 8), ('person', 3), ('huge', 5), ('secret', 6), ('kept', 4)])\n",
      "[[1, 5], [1, 5], [1, 3, 5], [2], [2, 4, 3, 2], [3, 2], [1, 4], [1, 4], [1, 4, 2], [3, 2, 1], [1, 3]]\n"
     ]
    }
   ],
   "source": [
    "vocab_size = 5\n",
    "words_frequency = [word for word, index in tokenizer.word_index.items() if index >= vocab_size + 1] # 인덱스가 5 초과인 단어 제거\n",
    "for word in words_frequency:\n",
    "    del tokenizer.word_index[word] # 해당 단어에 대한 인덱스 정보를 삭제\n",
    "    del tokenizer.word_counts[word] # 해당 단어에 대한 카운트 정보를 삭제\n",
    "\n",
    "print(tokenizer.word_index)\n",
    "print(tokenizer.word_counts)\n",
    "print(tokenizer.texts_to_sequences(preprocessed_sentences))\n"
   ]
  },
  {
   "cell_type": "code",
   "execution_count": 84,
   "id": "4e9d3bcf",
   "metadata": {
    "ExecuteTime": {
     "end_time": "2021-11-27T12:21:03.658641Z",
     "start_time": "2021-11-27T12:21:03.655695Z"
    }
   },
   "outputs": [],
   "source": [
    "vocab_size = 5\n",
    "tokenizer = Tokenizer(num_words = vocab_size + 2, oov_token = 'OOV')\n",
    "tokenizer.fit_on_texts(preprocessed_sentences)"
   ]
  },
  {
   "cell_type": "markdown",
   "id": "9e6d4eb6",
   "metadata": {},
   "source": [
    "# 패딩(Padding)"
   ]
  },
  {
   "cell_type": "code",
   "execution_count": 87,
   "id": "c83eaaa2",
   "metadata": {
    "ExecuteTime": {
     "end_time": "2021-11-27T12:23:25.839429Z",
     "start_time": "2021-11-27T12:23:25.836976Z"
    }
   },
   "outputs": [],
   "source": [
    "import numpy as np\n",
    "from tensorflow.keras.preprocessing.text import Tokenizer"
   ]
  },
  {
   "cell_type": "code",
   "execution_count": 90,
   "id": "9bf062f4",
   "metadata": {
    "ExecuteTime": {
     "end_time": "2021-11-27T12:25:14.392503Z",
     "start_time": "2021-11-27T12:25:14.389467Z"
    }
   },
   "outputs": [
    {
     "name": "stdout",
     "output_type": "stream",
     "text": [
      "[[1, 5], [1, 8, 5], [1, 3, 5], [9, 2], [2, 4, 3, 2], [3, 2], [1, 4, 6], [1, 4, 6], [1, 4, 2], [7, 7, 3, 2, 10, 1, 11], [1, 12, 3, 13]]\n"
     ]
    }
   ],
   "source": [
    "tokenizer.fit_on_texts(preprocessed_sentences)\n",
    "encoded = tokenizer.texts_to_sequences(preprocessed_sentences)\n",
    "print(encoded)"
   ]
  },
  {
   "cell_type": "code",
   "execution_count": 91,
   "id": "e49927c0",
   "metadata": {
    "ExecuteTime": {
     "end_time": "2021-11-27T12:25:43.729277Z",
     "start_time": "2021-11-27T12:25:43.725361Z"
    }
   },
   "outputs": [
    {
     "data": {
      "text/plain": [
       "7"
      ]
     },
     "execution_count": 91,
     "metadata": {},
     "output_type": "execute_result"
    }
   ],
   "source": [
    "max_len = max(len(item) for item in encoded) #문장 기준 길이\n",
    "max_len"
   ]
  },
  {
   "cell_type": "code",
   "execution_count": 92,
   "id": "e911140e",
   "metadata": {
    "ExecuteTime": {
     "end_time": "2021-11-27T12:26:36.821843Z",
     "start_time": "2021-11-27T12:26:36.814011Z"
    }
   },
   "outputs": [
    {
     "data": {
      "text/plain": [
       "array([[ 1,  5,  0,  0,  0,  0,  0],\n",
       "       [ 1,  8,  5,  0,  0,  0,  0],\n",
       "       [ 1,  3,  5,  0,  0,  0,  0],\n",
       "       [ 9,  2,  0,  0,  0,  0,  0],\n",
       "       [ 2,  4,  3,  2,  0,  0,  0],\n",
       "       [ 3,  2,  0,  0,  0,  0,  0],\n",
       "       [ 1,  4,  6,  0,  0,  0,  0],\n",
       "       [ 1,  4,  6,  0,  0,  0,  0],\n",
       "       [ 1,  4,  2,  0,  0,  0,  0],\n",
       "       [ 7,  7,  3,  2, 10,  1, 11],\n",
       "       [ 1, 12,  3, 13,  0,  0,  0]])"
      ]
     },
     "execution_count": 92,
     "metadata": {},
     "output_type": "execute_result"
    }
   ],
   "source": [
    "for sentence in encoded:\n",
    "    while len(sentence) < max_len:\n",
    "        sentence.append(0)\n",
    "\n",
    "padded_np = np.array(encoded)\n",
    "padded_np"
   ]
  },
  {
   "cell_type": "code",
   "execution_count": 93,
   "id": "911d98c8",
   "metadata": {
    "ExecuteTime": {
     "end_time": "2021-11-27T12:27:03.605234Z",
     "start_time": "2021-11-27T12:27:03.596694Z"
    }
   },
   "outputs": [
    {
     "data": {
      "text/plain": [
       "array([[ 0,  0,  0,  0,  0,  1,  5],\n",
       "       [ 0,  0,  0,  0,  1,  8,  5],\n",
       "       [ 0,  0,  0,  0,  1,  3,  5],\n",
       "       [ 0,  0,  0,  0,  0,  9,  2],\n",
       "       [ 0,  0,  0,  2,  4,  3,  2],\n",
       "       [ 0,  0,  0,  0,  0,  3,  2],\n",
       "       [ 0,  0,  0,  0,  1,  4,  6],\n",
       "       [ 0,  0,  0,  0,  1,  4,  6],\n",
       "       [ 0,  0,  0,  0,  1,  4,  2],\n",
       "       [ 7,  7,  3,  2, 10,  1, 11],\n",
       "       [ 0,  0,  0,  1, 12,  3, 13]], dtype=int32)"
      ]
     },
     "execution_count": 93,
     "metadata": {},
     "output_type": "execute_result"
    }
   ],
   "source": [
    "from tensorflow.keras.preprocessing.sequence import pad_sequences\n",
    "\n",
    "encoded = tokenizer.texts_to_sequences(preprocessed_sentences)\n",
    "padded = pad_sequences(encoded, padding='post', maxlen = 5) # padding 조건에 따라 0이 붙는 방향이 바뀐다.\n",
    "padded"
   ]
  },
  {
   "cell_type": "code",
   "execution_count": 95,
   "id": "6fb16465",
   "metadata": {
    "ExecuteTime": {
     "end_time": "2021-11-27T12:36:38.378297Z",
     "start_time": "2021-11-27T12:36:30.968113Z"
    }
   },
   "outputs": [],
   "source": [
    "import torchtext"
   ]
  },
  {
   "cell_type": "markdown",
   "id": "57b898cc",
   "metadata": {},
   "source": [
    "# one-hot encoding"
   ]
  },
  {
   "cell_type": "code",
   "execution_count": 96,
   "id": "ec83f826",
   "metadata": {
    "ExecuteTime": {
     "end_time": "2021-11-27T12:37:13.539749Z",
     "start_time": "2021-11-27T12:37:13.506738Z"
    }
   },
   "outputs": [
    {
     "name": "stdout",
     "output_type": "stream",
     "text": [
      "['나', '는', '자연어', '처리', '를', '배운다']\n"
     ]
    }
   ],
   "source": [
    "from konlpy.tag import Okt\n",
    "okt = Okt()\n",
    "token = okt.morphs(\"나는 자연어 처리를 배운다\")\n",
    "print(token)"
   ]
  },
  {
   "cell_type": "code",
   "execution_count": 97,
   "id": "71c2745f",
   "metadata": {
    "ExecuteTime": {
     "end_time": "2021-11-27T12:37:58.675532Z",
     "start_time": "2021-11-27T12:37:58.672261Z"
    }
   },
   "outputs": [
    {
     "name": "stdout",
     "output_type": "stream",
     "text": [
      "{'나': 0, '는': 1, '자연어': 2, '처리': 3, '를': 4, '배운다': 5}\n"
     ]
    }
   ],
   "source": [
    "word2index = {}\n",
    "for voca in token:\n",
    "    if voca not in word2index.keys():\n",
    "        word2index[voca] = len(word2index)\n",
    "print(word2index)"
   ]
  },
  {
   "cell_type": "code",
   "execution_count": 98,
   "id": "a684fe47",
   "metadata": {
    "ExecuteTime": {
     "end_time": "2021-11-27T12:38:35.083310Z",
     "start_time": "2021-11-27T12:38:35.080602Z"
    }
   },
   "outputs": [],
   "source": [
    "def one_hot_encoding(word, word2index):\n",
    "    one_hot_vector = [0]*(len(word2index))\n",
    "    index = word2index[word]\n",
    "    one_hot_vector[index] = 1\n",
    "    return one_hot_vector"
   ]
  },
  {
   "cell_type": "code",
   "execution_count": 99,
   "id": "bc47578b",
   "metadata": {
    "ExecuteTime": {
     "end_time": "2021-11-27T12:40:02.354133Z",
     "start_time": "2021-11-27T12:40:02.348876Z"
    }
   },
   "outputs": [
    {
     "name": "stdout",
     "output_type": "stream",
     "text": [
      "{'갈래': 1, '점심': 2, '햄버거': 3, '나랑': 4, '먹으러': 5, '메뉴는': 6, '최고야': 7}\n"
     ]
    }
   ],
   "source": [
    "# Using keras\n",
    "\n",
    "from tensorflow.keras.preprocessing.text import Tokenizer\n",
    "from tensorflow.keras.utils import to_categorical\n",
    "\n",
    "text = \"나랑 점심 먹으러 갈래 점심 메뉴는 햄버거 갈래 갈래 햄버거 최고야\"\n",
    "\n",
    "tokenizer = Tokenizer()\n",
    "tokenizer.fit_on_texts([text])\n",
    "print(tokenizer.word_index)"
   ]
  },
  {
   "cell_type": "code",
   "execution_count": 100,
   "id": "4d633cca",
   "metadata": {
    "ExecuteTime": {
     "end_time": "2021-11-27T12:40:21.532945Z",
     "start_time": "2021-11-27T12:40:21.529947Z"
    }
   },
   "outputs": [
    {
     "name": "stdout",
     "output_type": "stream",
     "text": [
      "[2, 5, 1, 6, 3, 7]\n"
     ]
    }
   ],
   "source": [
    "sub_text = \"점심 먹으러 갈래 메뉴는 햄버거 최고야\"\n",
    "encoded = tokenizer.texts_to_sequences([sub_text])[0]\n",
    "print(encoded)"
   ]
  },
  {
   "cell_type": "code",
   "execution_count": 105,
   "id": "faa8ba83",
   "metadata": {
    "ExecuteTime": {
     "end_time": "2021-11-27T12:41:08.773474Z",
     "start_time": "2021-11-27T12:41:08.769168Z"
    }
   },
   "outputs": [
    {
     "data": {
      "text/plain": [
       "array([[0., 0., 1., 0., 0., 0., 0., 0.],\n",
       "       [0., 0., 0., 0., 0., 1., 0., 0.],\n",
       "       [0., 1., 0., 0., 0., 0., 0., 0.],\n",
       "       [0., 0., 0., 0., 0., 0., 1., 0.],\n",
       "       [0., 0., 0., 1., 0., 0., 0., 0.],\n",
       "       [0., 0., 0., 0., 0., 0., 0., 1.]], dtype=float32)"
      ]
     },
     "execution_count": 105,
     "metadata": {},
     "output_type": "execute_result"
    }
   ],
   "source": [
    "one_hot = to_categorical(encoded)\n",
    "one_hot"
   ]
  },
  {
   "cell_type": "markdown",
   "id": "bb67e2a1",
   "metadata": {},
   "source": [
    "one-hot encoding 의 한계점\n",
    "\n",
    "    1) 단어 개수에 따라 벡터 차원이 linear하게 증가\n",
    "\n",
    "    2) 단어간 유사성 파악이 어려움"
   ]
  },
  {
   "cell_type": "markdown",
   "id": "3f94f63c",
   "metadata": {},
   "source": [
    "# 한국어 전처리 패키지"
   ]
  },
  {
   "cell_type": "markdown",
   "id": "a2e8d916",
   "metadata": {},
   "source": [
    "* PyKoSpacing : 한글 문장의 띄어쓰기를 고쳐준다.\n",
    "\n",
    "* Py-Hanspell : 네이버 한글 맞춤법 검사기 바탕으로 만들어짐\n",
    "\n",
    "* SOYNLP : 단어 토큰화 -> 문장들을 주고 학습하면, 거기에서 자중 녀결되어 쓴 단어들을 묶어 토큰화를 해준다. (확률값으로 표기)\n",
    "    \n",
    "    - 응집 확률 (cohesion probability)\n",
    "    \n",
    "    - 브랜칭 엔트로피 (branching entropy)\n",
    "    \n",
    "    - L tokenizer\n",
    "    \n",
    "    - 최대 점수 토크나이저 : 띄어쓰기가 되지 않는 문장에서 점수가 높은 글자 시퀀스를 순차적으로 찾아내는 토크나이저\n",
    "     \n",
    "    \n",
    "\n"
   ]
  },
  {
   "cell_type": "code",
   "execution_count": 116,
   "id": "23c808c6",
   "metadata": {
    "ExecuteTime": {
     "end_time": "2021-11-27T12:50:34.163907Z",
     "start_time": "2021-11-27T12:50:23.081111Z"
    }
   },
   "outputs": [
    {
     "data": {
      "text/plain": [
       "('2016-10-20.txt', <http.client.HTTPMessage at 0x7f9ba74b10a0>)"
      ]
     },
     "execution_count": 116,
     "metadata": {},
     "output_type": "execute_result"
    }
   ],
   "source": [
    "\n",
    "import urllib.request\n",
    "from soynlp import DoublespaceLineCorpus\n",
    "from soynlp.word import WordExtractor\n",
    "\n",
    "urllib.request.urlretrieve(\"https://raw.githubusercontent.com/lovit/soynlp/master/tutorials/2016-10-20.txt\", filename=\"2016-10-20.txt\")"
   ]
  },
  {
   "cell_type": "code",
   "execution_count": 119,
   "id": "c3a35d6d",
   "metadata": {
    "ExecuteTime": {
     "end_time": "2021-11-27T12:50:47.206486Z",
     "start_time": "2021-11-27T12:50:46.974724Z"
    }
   },
   "outputs": [
    {
     "data": {
      "text/plain": [
       "30091"
      ]
     },
     "execution_count": 119,
     "metadata": {},
     "output_type": "execute_result"
    }
   ],
   "source": [
    "corpus = DoublespaceLineCorpus(\"2016-10-20.txt\")\n",
    "len(corpus)"
   ]
  },
  {
   "cell_type": "code",
   "execution_count": 121,
   "id": "51285f65",
   "metadata": {
    "ExecuteTime": {
     "end_time": "2021-11-27T12:50:58.017221Z",
     "start_time": "2021-11-27T12:50:58.014233Z"
    },
    "collapsed": true
   },
   "outputs": [
    {
     "name": "stdout",
     "output_type": "stream",
     "text": [
      "19  1990  52 1 22\n",
      "오패산터널 총격전 용의자 검거 서울 연합뉴스 경찰 관계자들이 19일 오후 서울 강북구 오패산 터널 인근에서 사제 총기를 발사해 경찰을 살해한 용의자 성모씨를 검거하고 있다 성씨는 검거 당시 서바이벌 게임에서 쓰는 방탄조끼에 헬멧까지 착용한 상태였다 독자제공 영상 캡처 연합뉴스  서울 연합뉴스 김은경 기자 사제 총기로 경찰을 살해한 범인 성모 46 씨는 주도면밀했다  경찰에 따르면 성씨는 19일 오후 강북경찰서 인근 부동산 업소 밖에서 부동산업자 이모 67 씨가 나오기를 기다렸다 이씨와는 평소에도 말다툼을 자주 한 것으로 알려졌다  이씨가 나와 걷기 시작하자 성씨는 따라가면서 미리 준비해온 사제 총기를 이씨에게 발사했다 총알이 빗나가면서 이씨는 도망갔다 그 빗나간 총알은 지나가던 행인 71 씨의 배를 스쳤다  성씨는 강북서 인근 치킨집까지 이씨 뒤를 쫓으며 실랑이하다 쓰러뜨린 후 총기와 함께 가져온 망치로 이씨 머리를 때렸다  이 과정에서 오후 6시 20분께 강북구 번동 길 위에서 사람들이 싸우고 있다 총소리가 났다 는 등의 신고가 여러건 들어왔다  5분 후에 성씨의 전자발찌가 훼손됐다는 신고가 보호관찰소 시스템을 통해 들어왔다 성범죄자로 전자발찌를 차고 있던 성씨는 부엌칼로 직접 자신의 발찌를 끊었다  용의자 소지 사제총기 2정 서울 연합뉴스 임헌정 기자 서울 시내에서 폭행 용의자가 현장 조사를 벌이던 경찰관에게 사제총기를 발사해 경찰관이 숨졌다 19일 오후 6시28분 강북구 번동에서 둔기로 맞았다 는 폭행 피해 신고가 접수돼 현장에서 조사하던 강북경찰서 번동파출소 소속 김모 54 경위가 폭행 용의자 성모 45 씨가 쏜 사제총기에 맞고 쓰러진 뒤 병원에 옮겨졌으나 숨졌다 사진은 용의자가 소지한 사제총기  신고를 받고 번동파출소에서 김창호 54 경위 등 경찰들이 오후 6시 29분께 현장으로 출동했다 성씨는 그사이 부동산 앞에 놓아뒀던 가방을 챙겨 오패산 쪽으로 도망간 후였다  김 경위는 오패산 터널 입구 오른쪽의 급경사에서 성씨에게 접근하다가 오후 6시 33분께 풀숲에 숨은 성씨가 허공에 난사한 10여발의 총알 중 일부를 왼쪽 어깨 뒷부분에 맞고 쓰러졌다  김 경위는 구급차가 도착했을 때 이미 의식이 없었고 심폐소생술을 하며 병원으로 옮겨졌으나 총알이 폐를 훼손해 오후 7시 40분께 사망했다  김 경위는 외근용 조끼를 입고 있었으나 총알을 막기에는 역부족이었다  머리에 부상을 입은 이씨도 함께 병원으로 이송됐으나 생명에는 지장이 없는 것으로 알려졌다  성씨는 오패산 터널 밑쪽 숲에서 오후 6시 45분께 잡혔다  총격현장 수색하는 경찰들 서울 연합뉴스 이효석 기자 19일 오후 서울 강북구 오패산 터널 인근에서 경찰들이 폭행 용의자가 사제총기를 발사해 경찰관이 사망한 사건을 조사 하고 있다  총 때문에 쫓던 경관들과 민간인들이 몸을 숨겼는데 인근 신발가게 직원 이모씨가 다가가 성씨를 덮쳤고 이어 현장에 있던 다른 상인들과 경찰이 가세해 체포했다  성씨는 경찰에 붙잡힌 직후 나 자살하려고 한 거다 맞아 죽어도 괜찮다 고 말한 것으로 전해졌다  성씨 자신도 경찰이 발사한 공포탄 1발 실탄 3발 중 실탄 1발을 배에 맞았으나 방탄조끼를 입은 상태여서 부상하지는 않았다  경찰은 인근을 수색해 성씨가 만든 사제총 16정과 칼 7개를 압수했다 실제 폭발할지는 알 수 없는 요구르트병에 무언가를 채워두고 심지를 꽂은 사제 폭탄도 발견됐다  일부는 숲에서 발견됐고 일부는 성씨가 소지한 가방 안에 있었다\n",
      "테헤란 연합뉴스 강훈상 특파원 이용 승객수 기준 세계 최대 공항인 아랍에미리트 두바이국제공항은 19일 현지시간 이 공항을 이륙하는 모든 항공기의 탑승객은 삼성전자의 갤럭시노트7을 휴대하면 안 된다고 밝혔다  두바이국제공항은 여러 항공 관련 기구의 권고에 따라 안전성에 우려가 있는 스마트폰 갤럭시노트7을 휴대하고 비행기를 타면 안 된다 며 탑승 전 검색 중 발견되면 압수할 계획 이라고 발표했다  공항 측은 갤럭시노트7의 배터리가 폭발 우려가 제기된 만큼 이 제품을 갖고 공항 안으로 들어오지 말라고 이용객에 당부했다  이런 조치는 두바이국제공항 뿐 아니라 신공항인 두바이월드센터에도 적용된다  배터리 폭발문제로 회수된 갤럭시노트7 연합뉴스자료사진\n"
     ]
    }
   ],
   "source": [
    "i = 0\n",
    "for document in corpus:\n",
    "    if len(document) > 0:\n",
    "        print(document)\n",
    "        i = i+1\n",
    "    if i == 3:\n",
    "        break"
   ]
  },
  {
   "cell_type": "code",
   "execution_count": 122,
   "id": "8d9444e6",
   "metadata": {
    "ExecuteTime": {
     "end_time": "2021-11-27T12:52:09.224706Z",
     "start_time": "2021-11-27T12:51:11.577298Z"
    }
   },
   "outputs": [
    {
     "name": "stdout",
     "output_type": "stream",
     "text": [
      "training was done. used memory 1.403 Gb\n",
      "all cohesion probabilities was computed. # words = 223348\n",
      "all branching entropies was computed # words = 361598\n",
      "all accessor variety was computed # words = 361598\n"
     ]
    }
   ],
   "source": [
    "word_extractor = WordExtractor()\n",
    "word_extractor.train(corpus)\n",
    "word_score_table = word_extractor.extract()"
   ]
  },
  {
   "cell_type": "code",
   "execution_count": 123,
   "id": "61dbb356",
   "metadata": {
    "ExecuteTime": {
     "end_time": "2021-11-27T12:52:09.883838Z",
     "start_time": "2021-11-27T12:52:09.880799Z"
    }
   },
   "outputs": [
    {
     "data": {
      "text/plain": [
       "0.33492963377557666"
      ]
     },
     "execution_count": 123,
     "metadata": {},
     "output_type": "execute_result"
    }
   ],
   "source": [
    "word_score_table[\"반포한강공원에\"].cohesion_forward\n"
   ]
  },
  {
   "cell_type": "code",
   "execution_count": 125,
   "id": "3818d849",
   "metadata": {
    "ExecuteTime": {
     "end_time": "2021-11-27T12:53:33.962392Z",
     "start_time": "2021-11-27T12:53:33.958734Z"
    }
   },
   "outputs": [
    {
     "data": {
      "text/plain": [
       "Scores(cohesion_forward=0.08391608391608392, cohesion_backward=0.015401953418482344, left_branching_entropy=2.6173880565964, right_branching_entropy=1.6371694761537934, left_accessor_variety=69, right_accessor_variety=17, leftside_frequency=528, rightside_frequency=492)"
      ]
     },
     "execution_count": 125,
     "metadata": {},
     "output_type": "execute_result"
    }
   ],
   "source": [
    "word_score_table['디스']"
   ]
  },
  {
   "cell_type": "markdown",
   "id": "b8c1b67d",
   "metadata": {},
   "source": [
    "word_score_table 에 여러 parameter들이 있다.\n",
    "\n",
    "* cohesion_foward : word가 하나로 사용되었을 확률 (자세한 수식은 책 참고)\n",
    "* right_branching_entropy : \n",
    "    - 오른쪽에 단어가 더 이어서 나올 엔트로피. ~~엔트로피 값이 낮을수록 '단어' 자체로 사용된 확률이 높다는 뜻 (무질서도가 낮다 -> 안정적이다 -> 이 단어로만 거의 사용이 된다.)~~\n",
    "    - 단어가 완성이 되는 순간 엔트로피 값 증가. 왜냐하면 그 단어 뒤로 다양한 조사, 단어들이 조합되는 경우가 많기 때문"
   ]
  },
  {
   "cell_type": "code",
   "execution_count": 127,
   "id": "4a26e52f",
   "metadata": {
    "ExecuteTime": {
     "end_time": "2021-11-27T12:58:05.189406Z",
     "start_time": "2021-11-27T12:58:05.181092Z"
    }
   },
   "outputs": [
    {
     "data": {
      "text/plain": [
       "2.68517802819071"
      ]
     },
     "metadata": {},
     "output_type": "display_data"
    },
    {
     "data": {
      "text/plain": [
       "1.6371694761537934"
      ]
     },
     "metadata": {},
     "output_type": "display_data"
    },
    {
     "data": {
      "text/plain": [
       "-0.0"
      ]
     },
     "metadata": {},
     "output_type": "display_data"
    },
    {
     "data": {
      "text/plain": [
       "-0.0"
      ]
     },
     "metadata": {},
     "output_type": "display_data"
    },
    {
     "data": {
      "text/plain": [
       "3.1400392861792916"
      ]
     },
     "metadata": {},
     "output_type": "display_data"
    }
   ],
   "source": [
    "display(word_score_table[\"디\"].right_branching_entropy)\n",
    "display(word_score_table[\"디스\"].right_branching_entropy)\n",
    "display(word_score_table[\"디스플\"].right_branching_entropy)\n",
    "display(word_score_table[\"디스플레\"].right_branching_entropy)\n",
    "display(word_score_table[\"디스플레이\"].right_branching_entropy)\n"
   ]
  },
  {
   "cell_type": "code",
   "execution_count": 128,
   "id": "6171f2f4",
   "metadata": {
    "ExecuteTime": {
     "end_time": "2021-11-27T12:59:44.487130Z",
     "start_time": "2021-11-27T12:59:44.453105Z"
    }
   },
   "outputs": [
    {
     "data": {
      "text/plain": [
       "[('국제사회', '와'), ('우리', '의'), ('노력', '들로'), ('범죄', '를'), ('척결', '하자')]"
      ]
     },
     "execution_count": 128,
     "metadata": {},
     "output_type": "execute_result"
    }
   ],
   "source": [
    "from soynlp.tokenizer import LTokenizer\n",
    "\n",
    "scores = {word:score.cohesion_forward for word, score in word_score_table.items()}\n",
    "l_tokenizer = LTokenizer(scores=scores)\n",
    "l_tokenizer.tokenize(\"국제사회와 우리의 노력들로 범죄를 척결하자\", flatten=False)"
   ]
  },
  {
   "cell_type": "code",
   "execution_count": 130,
   "id": "b27574d8",
   "metadata": {
    "ExecuteTime": {
     "end_time": "2021-11-27T13:00:26.389736Z",
     "start_time": "2021-11-27T13:00:26.259208Z"
    }
   },
   "outputs": [
    {
     "data": {
      "text/plain": [
       "[('힉스', 1.0),\n",
       " ('껑충', 1.0),\n",
       " ('ㅣ이', 1.0),\n",
       " ('벡스', 1.0),\n",
       " ('짊어', 1.0),\n",
       " ('땔감', 1.0),\n",
       " ('꿋꿋', 1.0),\n",
       " ('챗봇', 1.0),\n",
       " ('뻣뻣', 1.0),\n",
       " ('츤데', 1.0),\n",
       " ('띈다', 1.0),\n",
       " ('밋밋', 1.0),\n",
       " ('깹시', 1.0),\n",
       " ('멕시', 1.0),\n",
       " ('큽니', 1.0),\n",
       " ('촬영', 1.0),\n",
       " ('럿거', 1.0),\n",
       " ('햅쌀', 1.0),\n",
       " ('툇마', 1.0),\n",
       " ('엣지', 1.0),\n",
       " ('챕터', 1.0),\n",
       " ('뮌헨', 1.0),\n",
       " ('뒹굴', 1.0),\n",
       " ('퓰리', 1.0),\n",
       " ('걱정', 1.0),\n",
       " ('껄끄', 1.0),\n",
       " ('넝쿨', 1.0),\n",
       " ('됩니', 1.0),\n",
       " ('숟가', 1.0),\n",
       " ('끙끙', 1.0),\n",
       " ('뮐러', 1.0),\n",
       " ('랠리', 1.0),\n",
       " ('맙니', 1.0),\n",
       " ('닻을', 1.0),\n",
       " ('윽박', 1.0),\n",
       " ('슴만', 1.0),\n",
       " ('롸이', 1.0),\n",
       " ('뭡니', 1.0),\n",
       " ('떤다', 1.0),\n",
       " ('뭄바', 1.0),\n",
       " ('찹쌀', 1.0),\n",
       " ('뭇매', 1.0),\n",
       " ('윰댕', 1.0),\n",
       " ('똬리', 1.0),\n",
       " ('꽤나', 1.0),\n",
       " ('뛴다', 1.0),\n",
       " ('씀씀', 1.0),\n",
       " ('렛츠', 1.0),\n",
       " ('듭니', 1.0),\n",
       " ('쥴리', 1.0),\n",
       " ('챌린', 1.0),\n",
       " ('갉아', 1.0),\n",
       " ('빡빡', 1.0),\n",
       " ('꾐에', 1.0),\n",
       " ('딩고', 1.0),\n",
       " ('췌장', 1.0),\n",
       " ('멧돼', 1.0),\n",
       " ('쐐기', 1.0),\n",
       " ('웁니', 1.0),\n",
       " ('뻐근', 1.0),\n",
       " ('ㅋㅋ', 1.0),\n",
       " ('팻말', 1.0),\n",
       " ('갹출', 1.0),\n",
       " ('녀석', 1.0),\n",
       " ('빕니', 1.0),\n",
       " ('띕니', 1.0),\n",
       " ('딛고', 1.0),\n",
       " ('띤다', 1.0),\n",
       " ('깻잎', 1.0),\n",
       " ('칫솔', 1.0),\n",
       " ('꼈다', 1.0),\n",
       " ('댈러', 1.0),\n",
       " ('텝스', 1.0),\n",
       " ('홋카', 1.0),\n",
       " ('빕니다', 1.0),\n",
       " ('퓰리처', 1.0),\n",
       " ('숟가락', 1.0),\n",
       " ('띕니다', 1.0),\n",
       " ('벡스코', 1.0),\n",
       " ('큽니다', 1.0),\n",
       " ('깹시다', 1.0),\n",
       " ('듭니다', 1.0),\n",
       " ('껄끄러', 1.0),\n",
       " ('롸이터', 1.0),\n",
       " ('슴만튀', 1.0),\n",
       " ('툇마루', 1.0),\n",
       " ('댈러스', 1.0),\n",
       " ('ㅣ이정', 1.0),\n",
       " ('럿거스', 1.0),\n",
       " ('맙니다', 1.0),\n",
       " ('쥴리우', 1.0),\n",
       " ('씀씀이', 1.0),\n",
       " ('멧돼지', 1.0),\n",
       " ('홋카이', 1.0),\n",
       " ('츤데레', 1.0),\n",
       " ('웁니다', 1.0),\n",
       " ('뭡니까', 1.0),\n",
       " ('홋카이도', 1.0),\n",
       " ('ㅣ이정아', 1.0),\n",
       " ('툇마루에', 1.0),\n",
       " ('쥴리우스', 1.0),\n",
       " ('롯데', 0.9989873417721519),\n",
       " ('멤버', 0.9936305732484076),\n",
       " ('끔찍', 0.9910714285714286),\n",
       " ('싼타페', 0.9904759734735801),\n",
       " ('챌린지', 0.9883036912035246),\n",
       " ('멕시코', 0.9876538476102782),\n",
       " ('훼손', 0.9869281045751634),\n",
       " ('젝스키스', 0.986484829732188),\n",
       " ('씽크', 0.9850746268656716),\n",
       " ('긍정', 0.9833333333333333),\n",
       " ('훨씬', 0.9825581395348837),\n",
       " ('챔피언', 0.9820728104759555),\n",
       " ('된다', 0.982051282051282),\n",
       " ('싼타', 0.981042654028436),\n",
       " ('씽크풀', 0.9798974461519554),\n",
       " ('젝스키', 0.9797958971132712),\n",
       " ('힙합', 0.9776119402985075),\n",
       " ('닌텐', 0.9767441860465116),\n",
       " ('닌텐도', 0.9764672918705589),\n",
       " ('굉장', 0.9758454106280193),\n",
       " ('킨텍스', 0.9739463170891035),\n",
       " ('굉장히', 0.9730672655996823),\n",
       " ('숫자', 0.9728260869565217),\n",
       " ('쿤스트할레에서', 0.9725416783974978),\n",
       " ('횟수', 0.971830985915493),\n",
       " ('댓글', 0.9712918660287081),\n",
       " ('얘기', 0.9698239731768651),\n",
       " ('콕콕', 0.9693251533742331),\n",
       " ('론칭', 0.9692307692307692),\n",
       " ('꿍꼬또', 0.9689042833036098),\n",
       " ('렙토스', 0.9682458365518543),\n",
       " ('됩니다', 0.9672673160021797),\n",
       " ('렙토스피라', 0.9671682101338347),\n",
       " ('룽투코리아', 0.9671682101338347),\n",
       " ('쿤스트할레에', 0.9671411600006063),\n",
       " ('탤런트', 0.9660917830792959),\n",
       " ('튈지', 0.9655172413793104),\n",
       " ('촛불', 0.9649122807017544),\n",
       " ('챔피', 0.9644670050761421),\n",
       " ('봅니다', 0.9641459769084412),\n",
       " ('멱살을', 0.9636241116594315),\n",
       " ('텔레', 0.962890625),\n",
       " ('혐의', 0.9616483068135455),\n",
       " ('밍크고래', 0.9614997135382722),\n",
       " ('젝스', 0.96),\n",
       " ('렙토스피라증', 0.9593225958126531),\n",
       " ('왼쪽', 0.959221501390176),\n",
       " ('쿤스트할레', 0.9590965597935381),\n",
       " ('랴오', 0.9565217391304348),\n",
       " ('렙토스피', 0.9564655913861946),\n",
       " ('헥토리터', 0.9564655913861946),\n",
       " ('룽투코리', 0.9564655913861946),\n",
       " ('퓰리처상', 0.9564655913861946),\n",
       " ('왠지', 0.9545454545454546),\n",
       " ('잿더미', 0.9534625892455924),\n",
       " ('으로', 0.9533255542590432),\n",
       " ('첩보', 0.9528301886792453),\n",
       " ('촘촘', 0.9523809523809523),\n",
       " ('롤링홀에서', 0.952102031997413),\n",
       " ('핼러윈', 0.9511897312113419),\n",
       " ('럿거스대', 0.9499142515929965),\n",
       " ('뭇매를', 0.9486832980505138),\n",
       " ('킨텍', 0.9485714285714286),\n",
       " ('앵커', 0.9480421686746988),\n",
       " ('덧붙', 0.9480234260614934),\n",
       " ('쿤스트할', 0.9458373162202222),\n",
       " ('을지', 0.9457579972183588),\n",
       " ('션화에너지', 0.9457416090031758),\n",
       " ('쩔쩔', 0.9444444444444444),\n",
       " ('쯔쯔가무시', 0.944314070430326),\n",
       " ('밍크고', 0.9428090415820634),\n",
       " ('닐슨', 0.9415204678362573),\n",
       " ('앗아', 0.9411764705882353),\n",
       " ('텀블러', 0.9411239481143202),\n",
       " ('꿍꼬', 0.9387755102040817),\n",
       " ('앨범', 0.9378151260504202),\n",
       " ('턴어라운드', 0.9375761691678882),\n",
       " ('렙토', 0.9375),\n",
       " ('닐슨코리아', 0.9373341827832584),\n",
       " ('왈리드', 0.9372184261837677),\n",
       " ('킨텍스에서', 0.9371819810760768),\n",
       " ('롤링홀에', 0.9366514060256199),\n",
       " ('떳떳', 0.9354838709677419),\n",
       " ('뗄래야', 0.9354143466934853),\n",
       " ('헥토리', 0.9354143466934853),\n",
       " ('룽투코', 0.9354143466934853),\n",
       " ('꼭두각시', 0.935297861645616),\n",
       " ('탤런', 0.9333333333333333),\n",
       " ('밉상', 0.9333333333333333),\n",
       " ('움직', 0.9315642458100558),\n",
       " ('쫀쫀한', 0.9309493362512627),\n",
       " ('봅니', 0.9295774647887324),\n",
       " ('멱살', 0.9285714285714286),\n",
       " ('덧붙였다', 0.928374395635447),\n",
       " ('션화에너', 0.9283177667225558),\n",
       " ('팟캐스트', 0.9283177667225558),\n",
       " ('덧붙였', 0.9266669124436582),\n",
       " ('쯔쯔가무', 0.9264499190872476),\n",
       " ('밍크', 0.9259259259259259),\n",
       " ('탭으로', 0.9258200997725514),\n",
       " ('줴에리', 0.9258200997725514),\n",
       " ('썬코어', 0.9232603308678528),\n",
       " ('훗날', 0.9230769230769231),\n",
       " ('을지로', 0.9203313184631331),\n",
       " ('벙커', 0.92),\n",
       " ('쿤스트', 0.9198662110077999),\n",
       " ('킨텍스에', 0.9193910814472489),\n",
       " ('넉넉', 0.9180327868852459),\n",
       " ('턴어라운', 0.9176465021484269),\n",
       " ('닐슨코리', 0.9173307256258517),\n",
       " ('튕겨', 0.9166666666666666),\n",
       " ('ㄴ씨', 0.9166666666666666),\n",
       " ('슐츠', 0.9166666666666666),\n",
       " ('쌩쌩', 0.9166666666666666),\n",
       " ('겁니다', 0.9147860966285037),\n",
       " ('텀블', 0.9142857142857143),\n",
       " ('갉아먹', 0.9128709291752769),\n",
       " ('랍스터', 0.9128709291752769),\n",
       " ('샅샅이', 0.9128709291752769),\n",
       " ('함께', 0.9115521394975336),\n",
       " ('씩씩', 0.9090909090909091),\n",
       " ('잿더', 0.9090909090909091),\n",
       " ('혁신', 0.908745247148289),\n",
       " ('롤링홀', 0.9064982793336028),\n",
       " ('엇갈', 0.9064327485380117),\n",
       " ('낚시', 0.9053254437869822),\n",
       " ('핼러', 0.9047619047619048),\n",
       " ('꼭두각', 0.9045340337332909),\n",
       " ('먼저', 0.9033306255077173),\n",
       " ('헝그리앱', 0.902698453894437),\n",
       " ('텃밭', 0.9024390243902439),\n",
       " ('긍정적', 0.9016445879408155),\n",
       " ('횃불', 0.9),\n",
       " ('션화', 0.9),\n",
       " ('즈음', 0.9),\n",
       " ('넋을', 0.9),\n",
       " ('궂은', 0.9),\n",
       " ('씀씀이를', 0.8992886260452183),\n",
       " ('쯔쯔가', 0.8984591897591402),\n",
       " ('겁니', 0.8966074313408724),\n",
       " ('톡톡', 0.8957055214723927),\n",
       " ('션화에', 0.8944271909999159),\n",
       " ('뻐근함', 0.8944271909999159),\n",
       " ('팟캐스', 0.8944271909999159),\n",
       " ('횃불과', 0.8944271909999159),\n",
       " ('셈이다', 0.8941634648579602),\n",
       " ('젊은', 0.8939393939393939),\n",
       " ('퀼팅', 0.8936170212765957),\n",
       " ('텐아시아', 0.8899587828287869),\n",
       " ('랍스', 0.8888888888888888),\n",
       " ('깼다', 0.8888888888888888),\n",
       " ('뗐다', 0.8870967741935484),\n",
       " ('셈이', 0.8867924528301887),\n",
       " ('돋보', 0.8864097363083164),\n",
       " ('텔레콤', 0.8860904299223641),\n",
       " ('몬스', 0.8857142857142857),\n",
       " ('엊그제', 0.8819171036881969),\n",
       " ('쫄깃', 0.8813559322033898),\n",
       " ('턴어라', 0.8790490729915326),\n",
       " ('닐슨코', 0.8785953702139588),\n",
       " ('왈리', 0.8783783783783784),\n",
       " ('널리', 0.8777777777777778),\n",
       " ('샐러', 0.8775510204081632),\n",
       " ('쯔쯔가무시증', 0.876754639371059),\n",
       " ('뗄래', 0.875),\n",
       " ('룽투', 0.875),\n",
       " ('헥토', 0.875),\n",
       " ('얀센', 0.875),\n",
       " ('슐츠버거', 0.8735804647362989),\n",
       " ('뚱뚱하고', 0.8735804647362989),\n",
       " ('캘리포니아', 0.8713224421888977),\n",
       " ('콰트로포르테', 0.8705505632961241),\n",
       " ('믹스', 0.8703703703703703),\n",
       " ('쫀쫀', 0.8666666666666667),\n",
       " ('닝보', 0.8666666666666667),\n",
       " ('튼튼', 0.8666666666666667),\n",
       " ('뭄바이', 0.8660254037844386),\n",
       " ('괄목할', 0.8660254037844386),\n",
       " ('뚱뚱하', 0.8660254037844386),\n",
       " ('똥물을', 0.8660254037844386),\n",
       " ('쐐기를', 0.8660254037844386),\n",
       " ('넙빌레부터', 0.8633400213704505),\n",
       " ('헝그리', 0.8632452187485938),\n",
       " ('잿더미가', 0.8601386275372181),\n",
       " ('줴에', 0.8571428571428571),\n",
       " ('탭으', 0.8571428571428571),\n",
       " ('짭짤', 0.8571428571428571),\n",
       " ('밋밋한', 0.8563488385776752),\n",
       " ('몬스타', 0.8556534679079242),\n",
       " ('겟잇뷰티', 0.8549879733383485),\n",
       " ('켐핀스키', 0.8549879733383485),\n",
       " ('롬바르드', 0.8549879733383485),\n",
       " ('샹젤리제', 0.8549879733383485),\n",
       " ('몬스타엑스', 0.8540967302758021),\n",
       " ('폈다', 0.8529411764705882),\n",
       " ('족보', 0.8528864059590316),\n",
       " ('쌉싸름', 0.8528028654224418),\n",
       " ('썬코', 0.8524096385542169),\n",
       " ('럿거스대학', 0.8507331335123524),\n",
       " ('롤링', 0.85),\n",
       " ('랴오자오슈', 0.8498912392268879),\n",
       " ('쿤스', 0.8461538461538461),\n",
       " ('꼼꼼', 0.8461538461538461),\n",
       " ('샌프란시스코', 0.8456363669475176),\n",
       " ('곧바로', 0.8451542547285166),\n",
       " ('캉가와', 0.8451542547285166),\n",
       " ('괜찮', 0.8443579766536965),\n",
       " ('럿거스대학교', 0.8441208798441101),\n",
       " ('헛개나무열매', 0.8436393502209618),\n",
       " ('펌프', 0.8421052631578947),\n",
       " ('줬다', 0.8412017167381974),\n",
       " ('홈페이지', 0.8409576482615029),\n",
       " ('콰트로포르', 0.8408964152537145),\n",
       " ('괄목할만한', 0.8408964152537145),\n",
       " ('끔찍한', 0.8398554297360605),\n",
       " ('텐아시', 0.8395659951260055),\n",
       " ('숱한', 0.8378378378378378),\n",
       " ('뭔가', 0.8375),\n",
       " ('쟈렛', 0.837037037037037),\n",
       " ('컬렉션', 0.8363967188874182),\n",
       " ('밝혔다', 0.8357108940373449),\n",
       " ('꼭두', 0.8347107438016529),\n",
       " ('캄보디아', 0.8342641927885572),\n",
       " ('엠카운트다운', 0.8336120539303781),\n",
       " ('깻잎머리', 0.8334502759861924),\n",
       " ('튤립', 0.8333333333333334),\n",
       " ('콤비', 0.8333333333333334),\n",
       " ('뚱뚱', 0.8333333333333334),\n",
       " ('샅샅', 0.8333333333333334),\n",
       " ('댑니', 0.8333333333333334),\n",
       " ('쩍벌', 0.8333333333333334),\n",
       " ('캘리포니', 0.8322207374397547),\n",
       " ('뛰어', 0.8306451612903226),\n",
       " ('팜한농', 0.8299933065325822),\n",
       " ('엔터테인먼트', 0.8298646048175475),\n",
       " ('깻잎머리와', 0.8296066547537364),\n",
       " ('머니투데이', 0.8292879456183653),\n",
       " ('짬뽕', 0.8275862068965517),\n",
       " ('쉐보레', 0.8269649132471918),\n",
       " ('떴다', 0.8260869565217391),\n",
       " ('꿋꿋하게', 0.8254818122236567),\n",
       " ('뿜어', 0.8252427184466019),\n",
       " ('뷰티', 0.8231939163498099),\n",
       " ('넙빌레부', 0.8220706914434901),\n",
       " ('헷갈', 0.8214285714285714),\n",
       " ('낡은', 0.8208955223880597),\n",
       " ('퀴즈', 0.8203592814371258),\n",
       " ('놈이라도', 0.8199573898550925),\n",
       " ('캡처', 0.8189944134078212),\n",
       " ('며칠', 0.8181818181818182),\n",
       " ('쏜다', 0.8181818181818182),\n",
       " ('갯벌', 0.8181818181818182),\n",
       " ('뱅크', 0.8176470588235294),\n",
       " ('글로벌', 0.8172584921868236),\n",
       " ('떨어', 0.8172103487064117),\n",
       " ('펩타이드', 0.8170579406432438),\n",
       " ('췌장암', 0.816496580927726),\n",
       " ('슐츠버', 0.816496580927726),\n",
       " ('궈다청', 0.816496580927726),\n",
       " ('엑스포츠뉴스', 0.816322190263954),\n",
       " ('씽크풀의', 0.815474052543833),\n",
       " ('퀄컴', 0.8153846153846154),\n",
       " ('쟁점', 0.8127659574468085),\n",
       " ('괄목', 0.8125),\n",
       " ('갤럭시노트7', 0.8123797491612372),\n",
       " ('옵션', 0.8110236220472441),\n",
       " ('샌프란시스', 0.8109228996775397),\n",
       " ('몬스타엑', 0.8103564235106036),\n",
       " ('저작권자', 0.8094490325157283),\n",
       " ('뮤직비디오', 0.808532932153396),\n",
       " ('헛개나무열', 0.8085298080223223),\n",
       " ('킹덤홀딩컴퍼니', 0.807761066278148),\n",
       " ('짚어주는', 0.8077512320237985),\n",
       " ('둬야', 0.8076923076923077),\n",
       " ('쯔쯔', 0.8072289156626506),\n",
       " ('컬렉션에', 0.8063192620661297),\n",
       " ('칵테일', 0.8058229640253803),\n",
       " ('랴오자오', 0.8050406370364621),\n",
       " ('젠트리피케이션', 0.8045344807550908),\n",
       " ('뵈르너', 0.8043996665398437),\n",
       " ('찢어', 0.8037383177570093),\n",
       " ('떳떳하', 0.8032193289024988),\n",
       " ('훙하이', 0.8017837257372732),\n",
       " ('팟캐', 0.8),\n",
       " ('넝쿨과', 0.8),\n",
       " ('롱비치터미널', 0.799568570870856),\n",
       " ('밍크고래를', 0.7989272423094768),\n",
       " ('란제리', 0.7977240352174656),\n",
       " ('꽁냥꽁냥', 0.797629800548711),\n",
       " ('칩거', 0.7971014492753623),\n",
       " ('엠카운트다', 0.7965352177346161),\n",
       " ('낱낱이', 0.7958224257542215),\n",
       " ('젝스키스가', 0.7952707287670506),\n",
       " ('밴드', 0.7938144329896907),\n",
       " ('콰트로포', 0.7937005259840998),\n",
       " ('괄목할만', 0.7937005259840998),\n",
       " ('쇳소리가', 0.7937005259840998),\n",
       " ('댄스', 0.7935222672064778),\n",
       " ('듬직', 0.7925925925925926),\n",
       " ('씁쓸', 0.7924528301886793),\n",
       " ('링크', 0.7920792079207921),\n",
       " ('엔터테인먼', 0.7920617700037866),\n",
       " ('쿵쉬안유', 0.7909636058852552),\n",
       " ('롬바르', 0.7905694150420949),\n",
       " ('켐핀스', 0.7905694150420949),\n",
       " ('겟잇뷰', 0.7905694150420949),\n",
       " ('샹젤리', 0.7905694150420949),\n",
       " ('팸투어', 0.7905694150420949),\n",
       " ('붕괴', 0.7884615384615384),\n",
       " ('벡스코에서', 0.788200954197212),\n",
       " ('깜짝', 0.7878787878787878),\n",
       " ('럿거스대학교는', 0.7872725666763027),\n",
       " ('쏟아', 0.7872340425531915),\n",
       " ('섣불리', 0.7867957924694432),\n",
       " ('잭슨', 0.7866666666666666),\n",
       " ('앗아간', 0.7859052479933758),\n",
       " ('뾰족', 0.7857142857142857),\n",
       " ('홧김에', 0.7844645405527362),\n",
       " ('재배포', 0.7833908218701949),\n",
       " ('왁자지껄', 0.7829735282337728),\n",
       " ('펀드', 0.7820121951219512),\n",
       " ('놨다', 0.78125),\n",
       " ('헛개나무', 0.779894229773055),\n",
       " ('밝혔', 0.7797827903091061),\n",
       " ('머니투데', 0.7791249944411033),\n",
       " ('러시아', 0.7789711910621947),\n",
       " ('엊그', 0.7777777777777778),\n",
       " ('늪으로', 0.777593185920953),\n",
       " ('햄버거', 0.7772815877574012),\n",
       " ('갤럭시노트', 0.7772294079500202),\n",
       " ('갑자기', 0.7764257076067382),\n",
       " ('엑스포츠뉴', 0.7759379671981612),\n",
       " ('젤리피쉬엔터테인먼트', 0.7757109381961126),\n",
       " ('씻어내는', 0.775235636102305),\n",
       " ('뭘까', 0.775),\n",
       " ('뻥튀기', 0.7745966692414834),\n",
       " ('왁자지껄한', 0.7745966692414834),\n",
       " ('킹덤홀딩컴퍼', 0.7739973965005764),\n",
       " ('턴어', 0.7727272727272727),\n",
       " ('닐슨코리아에', 0.7723610237246834),\n",
       " ('첨단', 0.7718696397941681),\n",
       " ('홈페이', 0.7711896406108454),\n",
       " ('젠트리피케이', 0.7702888194000513),\n",
       " ('웹툰', 0.7702127659574468),\n",
       " ('동대문디자인플라자', 0.770088633310807),\n",
       " ('홧김', 0.7692307692307693),\n",
       " ('밧줄', 0.7692307692307693),\n",
       " ('더불어민주당', 0.7684713143342496),\n",
       " ('탔다', 0.7676767676767676),\n",
       " ('껍데기', 0.7676494735787385),\n",
       " ('칭찬', 0.767515923566879),\n",
       " ('북한', 0.7663985148514851),\n",
       " ('엑스', 0.7651785714285714),\n",
       " ('껴안', 0.7647058823529411),\n",
       " ('캘리포', 0.7637626158259734),\n",
       " ('빔포밍', 0.7637626158259734),\n",
       " ('넌버벌', 0.7637626158259734),\n",
       " ('됨으로써', 0.7631428283688879),\n",
       " ('궤도', 0.7622950819672131),\n",
       " ('캄보디', 0.762000762001143),\n",
       " ('젖소개량사업소', 0.7619283144908843),\n",
       " ('온라인', 0.7618189405360759),\n",
       " ('갤럭시', 0.7613390156652905),\n",
       " ('깻잎머', 0.7608859102526822),\n",
       " ('돋보이는', 0.7595136975744718),\n",
       " ('쫄깃한', 0.759125277171481),\n",
       " ('얕은', 0.7586206896551724),\n",
       " ('져야', 0.7575757575757576),\n",
       " ('혜택', 0.7572559366754618),\n",
       " ('샌프란시', 0.7562047822671437),\n",
       " ('롱비치터미', 0.756083295989952),\n",
       " ('펠로우', 0.7559289460184544),\n",
       " ('훤칠한', 0.7559289460184544),\n",
       " ('끈다', 0.7546728971962616),\n",
       " ('능력', 0.7533632286995515),\n",
       " ('뮤직비디', 0.7532346412325766),\n",
       " ('톰슨로이터', 0.7521206186172787),\n",
       " ('톰슨로이터가', 0.7516960157530126),\n",
       " ('젤리피쉬엔터테인먼', 0.7514713104978752),\n",
       " ('클린턴', 0.7511940781322977),\n",
       " ('놈이라', 0.7510676161988108),\n",
       " ('브랜드', 0.750871467434543),\n",
       " ('똥물', 0.75),\n",
       " ('럭키', 0.75),\n",
       " ('꿋꿋하', 0.75),\n",
       " ('됐다', 0.7499155119972963),\n",
       " ('밸류에이션', 0.749634235443537),\n",
       " ('촛불문화제', 0.749634235443537),\n",
       " ('싹쓸이', 0.7483314773547883),\n",
       " ('캔디', 0.7476190476190476),\n",
       " ('낸다', 0.7469879518072289),\n",
       " ('웡메이이', 0.7469007910928608),\n",
       " ('콘텐츠', 0.7468235190093616),\n",
       " ('춘천', 0.7468123861566485),\n",
       " ('헤라서울패션위크', 0.7466396367101223),\n",
       " ('윙스', 0.746268656716418),\n",
       " ('넙빌레', 0.7453559924999299),\n",
       " ('헝그', 0.7451923076923077),\n",
       " ('첼리스트', 0.7447295556130372),\n",
       " ('ㄱ씨', 0.7441860465116279),\n",
       " ('콤비의', 0.7440238091428449),\n",
       " ('루이', 0.7434858135495078),\n",
       " ('금지', 0.7431028705461856),\n",
       " ('싣고', 0.7428571428571429),\n",
       " ('쥬니버', 0.741998516004452),\n",
       " ('동대문디자인플라', 0.7418775748219206),\n",
       " ('잣대', 0.74),\n",
       " ('짚어', 0.7398648648648649),\n",
       " ('폰중진담', 0.7389544352058082),\n",
       " ('찜질방', 0.7385489458759964),\n",
       " ('펩타이', 0.7385489458759964),\n",
       " ('엠카운트', 0.7383687533917513),\n",
       " ('월화드라마', 0.737697158555673),\n",
       " ('팁코소프트웨어코리아', 0.7374641659904596),\n",
       " ('첼리스트이자', 0.7369676656404461),\n",
       " ('폄하', 0.7368421052631579),\n",
       " ('캘리', 0.7361111111111112),\n",
       " ('뜯어', 0.736),\n",
       " ('흠집', 0.7355371900826446),\n",
       " ('짚어주', 0.7352146220938077),\n",
       " ('엔터테인', 0.7328448989925426),\n",
       " ('핀테크', 0.7317676345451075),\n",
       " ('반영하겠습니다', 0.7312747739959168),\n",
       " ('렛츠런파크', 0.7311104457090247),\n",
       " ('저작권', 0.7309980235810485),\n",
       " ('킹덤홀딩컴퍼니의', 0.7305999556432364),\n",
       " ('웨스틴조선호텔에서', 0.7298880394477847),\n",
       " ('윌엔터테인먼트', 0.7294770573141335),\n",
       " ('젖소개량사업', 0.7294460127552893),\n",
       " ('샐러리맨', 0.7292098174287804),\n",
       " ('떳떳하다', 0.728796901249081),\n",
       " ('돗자리', 0.7282190812544191),\n",
       " ('벡스코에', 0.7280858794306144),\n",
       " ('꾹꾹이', 0.7276068751089989),\n",
       " ('끊임없이', 0.7275596839713703),\n",
       " ('쌉싸', 0.7272727272727273),\n",
       " ('씽크풀에', 0.7262701963837265),\n",
       " ('윌리', 0.726027397260274),\n",
       " ('킹덤홀딩컴', 0.7259795291154771),\n",
       " ('폄하하', 0.7254762501100116),\n",
       " ('쉼터', 0.725),\n",
       " ('닛케이225지수', 0.7244844278875847),\n",
       " ('쯔쯔가무시증은', 0.7244646386603509),\n",
       " ('딥러닝', 0.7237468644557459),\n",
       " ('샀다', 0.7235772357723578),\n",
       " ('쪼그라들', 0.7226334188086248),\n",
       " ('랴오자', 0.7223151185146152),\n",
       " ('콰트로', 0.7223151185146152),\n",
       " ('졸업', 0.7222222222222222),\n",
       " ('쿡방', 0.7222222222222222),\n",
       " ('펠로우십', 0.722163871295776),\n",
       " ('궁금', 0.7218225419664268),\n",
       " ('젠트리피케', 0.721634009677548),\n",
       " ('젤리피쉬엔터테인', 0.7214157265792118),\n",
       " ('켐차이나', 0.7211247851537042),\n",
       " ('힐러리', 0.7210015354426994),\n",
       " ('뒀다', 0.7207207207207207),\n",
       " ('웬만한', 0.7205766921228921),\n",
       " ('뷔페', 0.72),\n",
       " ('더불어민주', 0.7195062584159906),\n",
       " ('휩싸', 0.71900826446281),\n",
       " ('프로그램', 0.7188782079891621),\n",
       " ('쿵푸팬더', 0.7186381282174309),\n",
       " ('튜브', 0.7185185185185186),\n",
       " ('훈련', 0.7185185185185186),\n",
       " ('무단전재', 0.7169948024505313),\n",
       " ('딱풀콤비의', 0.7169501760758958),\n",
       " ('엔터온뉴스', 0.7169210556321856),\n",
       " ('첩보수집', 0.7165605819575862),\n",
       " ('샌프란시스코에', 0.716354587955443),\n",
       " ('릴레이', 0.7161148740394329),\n",
       " ('닥터', 0.7148936170212766),\n",
       " ('갤럭시노', 0.7146043125571695),\n",
       " ('캉가', 0.7142857142857143),\n",
       " ('벚꽃', 0.7142857142857143),\n",
       " ('곧바', 0.7142857142857143),\n",
       " ('엑스포츠', 0.7130215735712043),\n",
       " ('떳떳하다면', 0.7127415436192576),\n",
       " ('트럼프', 0.7124730360788393),\n",
       " ('꽁냥꽁', 0.7123641530615955),\n",
       " ('돋보이', 0.7121091148698563),\n",
       " ('웬만', 0.7115384615384616),\n",
       " ('헤라서울패션위', 0.7111527303184353),\n",
       " ('너무', 0.7105413105413105),\n",
       " ('캘리포니아주', 0.7101043468785146),\n",
       " ('팁코소프트웨어코리', 0.7099185718985978),\n",
       " ('냄새', 0.7093023255813954),\n",
       " ('썼다', 0.7089783281733746),\n",
       " ('궁금증을', 0.7080140675877694),\n",
       " ('쇳소리', 0.7071067811865476),\n",
       " ('짤막한', 0.7071067811865476),\n",
       " ('씻어내', 0.7071067811865476),\n",
       " ('람사르', 0.7071067811865476),\n",
       " ('됨으로', 0.7071067811865476),\n",
       " ('뼛조각', 0.7071067811865476),\n",
       " ('꼈다는', 0.7071067811865476),\n",
       " ('댈러스에서', 0.7071067811865476),\n",
       " ('폴크스바겐', 0.7065339927204461),\n",
       " ('말했다', 0.7061132523863819),\n",
       " ('탁월한', 0.7058990829845027),\n",
       " ('균형', 0.7058823529411765),\n",
       " ('꾹꾹', 0.7058823529411765),\n",
       " ('동대문디자인플', 0.7058638667250514),\n",
       " ('붉은', 0.7053941908713693),\n",
       " ('칵퉤작전', 0.7051654294812815),\n",
       " ('텐아', 0.7048710601719198),\n",
       " ('뺐다', 0.7037037037037037),\n",
       " ('팰리스에비뉴', 0.7035814833268276),\n",
       " ('쿵쉬안', 0.703452458112659),\n",
       " ('쥐락펴락하는', 0.7031990325753023),\n",
       " ('닛케이225', 0.702775545949105),\n",
       " ('디자이너', 0.7024611611005713),\n",
       " ('휠라', 0.7022900763358778),\n",
       " ('숟가락을', 0.7007380117785719),\n",
       " ('컬렉', 0.7004405286343612),\n",
       " ('읊조', 0.7),\n",
       " ('샴푸', 0.7),\n",
       " ('틴매경', 0.6995439243733446),\n",
       " ('샌프란시스코에서', 0.6984436311312859),\n",
       " ('캐릭터', 0.6983690272668269),\n",
       " ('웨스틴조선호텔에', 0.6977846718781684),\n",
       " ('넷마블게임즈', 0.6970489096626562),\n",
       " ('쉐라톤서울팔래스강남', 0.696772595650662),\n",
       " ('굴수하식수산업협동조', 0.6962748992460286),\n",
       " ('때문에', 0.6960393527291466),\n",
       " ('젖소개량사업소에서', 0.6948607361913078),\n",
       " ('때문', 0.6946260727421332),\n",
       " ('삼성', 0.6940393962650294),\n",
       " ('엑스포', 0.6937218462755804),\n",
       " ('릿거스대', 0.6933612743506347),\n",
       " ('쇠구슬', 0.6932405962375867),\n",
       " ('왁자지', 0.6928203230275509),\n",
       " ('몹시', 0.6923076923076923),\n",
       " ('샤이니', 0.6916646586316233),\n",
       " ('쑤저우', 0.6915640748081247),\n",
       " ('찻잎을', 0.6915640748081247),\n",
       " ('까지', 0.6913319238900634),\n",
       " ('핸드메이드', 0.6905926523128503),\n",
       " ('욱씨남정기', 0.6904573083274563),\n",
       " ('쿵푸팬더3', 0.690101126982054),\n",
       " ('촘촘히', 0.6900655593423543),\n",
       " ('똑같', 0.6894409937888198),\n",
       " ('했다', 0.6890166650423936),\n",
       " ('젤로스', 0.6888949638271721),\n",
       " ('팜한', 0.6888888888888889),\n",
       " ('롱비치터', 0.6887995549530457),\n",
       " ('헛개나', 0.6887372317211945),\n",
       " ('글로', 0.6884502534009069),\n",
       " ('엔터', 0.6882352941176471),\n",
       " ('머니투', 0.6877184967479286),\n",
       " ('덥겠습니다', 0.6877155309162784),\n",
       " ('뜨거운', 0.6876235066928135),\n",
       " ('쪄서', 0.6875),\n",
       " ('곶감', 0.6875),\n",
       " ('반영하겠습니', 0.6869050523830057),\n",
       " ('긍정적인', 0.6868808833014262),\n",
       " ('닛케이225지', 0.68659488603825),\n",
       " ('콰이러다번잉', 0.6862273792887422),\n",
       " ('맏이인', 0.6859943405700354),\n",
       " ('돗토리', 0.6853444168423419),\n",
       " ('샐러드', 0.6851187890446743),\n",
       " ('헤럴드경제', 0.68501805909544),\n",
       " ('윌엔터테인먼', 0.684879181485267),\n",
       " ('젝스키스의', 0.6848661007688605),\n",
       " ('벗어나', 0.6846531968814576),\n",
       " ('톨의', 0.6842105263157895),\n",
       " ('갓세븐', 0.6841674549282352),\n",
       " ('톰슨로이', 0.6839903786706788),\n",
       " ('쉐보', 0.6838709677419355),\n",
       " ('털어', 0.6838235294117647),\n",
       " ('꽁냥꽁냥하는', 0.6835732187591713),\n",
       " ('혜택을', 0.6833874959764716),\n",
       " ('젤리피쉬엔터테', 0.68320317055284),\n",
       " ('동대문디자인플라자에', 0.6829178117180201),\n",
       " ('첼리스트이', 0.6828267746069693),\n",
       " ('렛츠런', 0.6813851438692469),\n",
       " ('밸류에이', 0.6809771661258215),\n",
       " ('촛불문화', 0.6809771661258215),\n",
       " ('꼭두각시가', 0.6808430278033513),\n",
       " ('펫플러스', 0.6798945296957598),\n",
       " ('헛개나무열매씨', 0.6793370950136003),\n",
       " ('딱풀', 0.6789297658862876),\n",
       " ('삼성전자', 0.6788704872558027),\n",
       " ('촌철살인', 0.6778619479714958),\n",
       " ('맴도는', 0.677834389404565),\n",
       " ('흩어', 0.6774193548387096),\n",
       " ('옆에', 0.6773255813953488),\n",
       " ('밖에', 0.6770981507823614),\n",
       " ('젖소개량사업소의', 0.677054059125404),\n",
       " ('젖소개량사업소는', 0.677054059125404),\n",
       " ('워싱턴', 0.6763128737049247),\n",
       " ('팁코소프트웨어코', 0.6760092126534512),\n",
       " ('헤라서울패션위크는', 0.6757623985692167),\n",
       " ('찢어버리', 0.6756317560069001),\n",
       " ('새누리당', 0.675066147899698),\n",
       " ('큼직한', 0.674199862463242),\n",
       " ('젖소개량사', 0.6741265679182158),\n",
       " ('프로', 0.6740841248303935),\n",
       " ('팝업스토어', 0.6740451762393505),\n",
       " ('옵티머스헬스케어', 0.6737045284658849),\n",
       " ('덴마크', 0.673145600891813),\n",
       " ('쪼그라', 0.6729265849104531),\n",
       " ('콜라보레이션', 0.6720313432253078),\n",
       " ('돗자리를', 0.6716793862139855),\n",
       " ('획기적으로', 0.6706647574011155),\n",
       " ('씌우려', 0.6698641270570836),\n",
       " ('읊조리며', 0.6694329500821695),\n",
       " ('읊조렸다', 0.6694329500821695),\n",
       " ('촉구', 0.6683760683760683),\n",
       " ('움직임', 0.6674808808175582),\n",
       " ('20', 0.6669627597373392),\n",
       " ('쇼케이스', 0.666771641736823),\n",
       " ('뤼순', 0.6666666666666666),\n",
       " ('릿터', 0.6666666666666666),\n",
       " ('숄더', 0.6666666666666666),\n",
       " ('궈다', 0.6666666666666666),\n",
       " ('찐빵', 0.6666666666666666),\n",
       " ('믹스매치', 0.6666666666666666),\n",
       " ('짊어지고', 0.6666666666666666),\n",
       " ('월화드라', 0.6665572873920758),\n",
       " ('털어놨다', 0.666135197338151),\n",
       " ('쉐라톤서울팔래스강', 0.6660049300701598),\n",
       " ('굴수하식수산업협동', 0.6654697696132765),\n",
       " ('돔글라스', 0.6650286584282477),\n",
       " ('꾹와이현', 0.6650286584282477),\n",
       " ('돔베고기', 0.6650286584282477),\n",
       " ('팁코소프트웨어', 0.6644074696680135),\n",
       " ('헤라서울패션', 0.664286548262761),\n",
       " ('맨투맨', 0.6642111641550714),\n",
       " ('쥐락펴락하', 0.6641543866904203),\n",
       " ('훌륭', 0.6639344262295082),\n",
       " ('씽크풀에서', 0.6636928475745412),\n",
       " ('몬스타엑스는', 0.6634816161740066),\n",
       " ('섹시', 0.6632124352331606),\n",
       " ('락토바실러스', 0.6625378262691284),\n",
       " ('킹콩엔터테인먼트', 0.6617216689362398),\n",
       " ('갸우뚱', 0.6614378277661477),\n",
       " ('샛강역', 0.6614378277661477),\n",
       " ('뉘우', 0.66),\n",
       " ('젖소개량사업소에', 0.6596472246652484),\n",
       " ('랴오닝', 0.659380473395787),\n",
       " ('웨스틴조선호텔', 0.6592163612789875),\n",
       " ('냈다', 0.6589147286821705),\n",
       " ('곤엔터테인먼트', 0.6588830025669353),\n",
       " ('핸드', 0.6588235294117647),\n",
       " ('꼼꼼하게', 0.6586337560083495),\n",
       " ('봇물처럼', 0.6586337560083495),\n",
       " ('멧돼지가', 0.6586337560083495),\n",
       " ('렛츠런파', 0.6586337560083495),\n",
       " ('동대문디자인', 0.6583625838741695),\n",
       " ('왜곡', 0.6580882352941176),\n",
       " ('샌프란', 0.6575959492214292),\n",
       " ('찢어버리려', 0.6575239168023601),\n",
       " ('서울', 0.6567029685126542),\n",
       " ('챔피언스리그', 0.6563704233402555),\n",
       " ('굵직한', 0.6557438524302001),\n",
       " ('짝사랑', 0.6556725875435656),\n",
       " ('쇼케이스에서', 0.6554225920583111),\n",
       " ('딱풀콤비', 0.654941785203181),\n",
       " ('랑세스', 0.6546536707079771),\n",
       " ('쿨한', 0.654320987654321),\n",
       " ('뉴시스', 0.653903028442238),\n",
       " ('뮤직비', 0.6537255023765679),\n",
       " ('텍사스', 0.6535935021245373),\n",
       " ('혐의로', 0.653272214228734),\n",
       " ('넥스트엔터테인먼트월', 0.6532427659694029),\n",
       " ('찜질방에서', 0.6529942057256105),\n",
       " ('넉넉한', 0.652862549237373),\n",
       " ('킹덤홀딩', 0.6524779401948106),\n",
       " ('랍스터를', 0.6524779401948106),\n",
       " ('멸종위기', 0.6524779401948106),\n",
       " ('쩔쩔매는', 0.6524779401948106),\n",
       " ('벗어', 0.65234375),\n",
       " ('타임스퀘어', 0.6522832692272135),\n",
       " ('네이버', 0.6519374574058097),\n",
       " ('슈퍼', 0.6519174041297935),\n",
       " ('궁금증', 0.6515062790600535),\n",
       " ('짬뽕라면', 0.6509745294753353),\n",
       " ('무단', 0.6505570611261668),\n",
       " ('챔피언스', 0.649594757365955),\n",
       " ('칵테', 0.6493506493506493),\n",
       " ('돗토리현', 0.6484993172480279),\n",
       " ('찜질방에', 0.6484993172480279),\n",
       " ('콜렉션에', 0.6483870618680377),\n",
       " ('씻어', 0.6477272727272727),\n",
       " ('뉴시스통신사', 0.6475258564885722),\n",
       " ('페이스북', 0.647367179683928),\n",
       " ('젠트리피', 0.6472757307238635),\n",
       " ('뵈르', 0.6470588235294118),\n",
       " ('웡메이', 0.6454972243679028),\n",
       " ('숏컷탭', 0.6454972243679028),\n",
       " ('낫다', 0.6451612903225806),\n",
       " ('더불어민', 0.6447323093840546),\n",
       " ('쓸쓸하고', 0.644615994694649),\n",
       " ('팰리스에비', 0.6443814082270685),\n",
       " ('닛케이22', 0.6434588841607617),\n",
       " ('팰리스', 0.6432675209026769),\n",
       " ('짤막', 0.6428571428571429),\n",
       " ('훙하', 0.6428571428571429),\n",
       " ('섀도', 0.6428571428571429),\n",
       " ('템포', 0.6428571428571429),\n",
       " ('첼리스', 0.6426845869171515),\n",
       " ('뽐냈다', 0.6419098011177928),\n",
       " ('엔터온뉴', 0.641645442849833),\n",
       " ('쯔쯔가무시는', 0.6412581287962807),\n",
       " ('씌우', 0.6410256410256411),\n",
       " ('웰에이징연구센터', 0.640554279847258),\n",
       " ('닛케이', 0.6399404734221844),\n",
       " ('빅히트엔터테인먼트', 0.6397304710916366),\n",
       " ('욱일기', 0.6396021490668313),\n",
       " ('준비', 0.63894000736106),\n",
       " ('샐러리', 0.6388765649999399),\n",
       " ('끊임없', 0.6372605814089957),\n",
       " ('넷마블게임', 0.6369114629360134),\n",
       " ('란제', 0.6363636363636364),\n",
       " ('큼직', 0.6363636363636364),\n",
       " ('뉴스1코리아', 0.6361320052071929),\n",
       " ('핑크', 0.6360294117647058),\n",
       " ('엠카운', 0.6359021817067886),\n",
       " ('갯벌생태지구', 0.6357990173532082),\n",
       " ('잉글우드랩', 0.6356579408934371),\n",
       " ('쇼케이스에', 0.6354647872182532),\n",
       " ('폰중진', 0.6352234031660235),\n",
       " ('필요', 0.6351676857513433),\n",
       " ('멤버들', 0.6347174505543522),\n",
       " ('뿐만', 0.6342710997442456),\n",
       " ('뱅크오브아메리카', 0.634005070554779),\n",
       " ('날벼락처럼', 0.6334822180741879),\n",
       " ('낱낱', 0.6333333333333333),\n",
       " ('멸종', 0.6333333333333333),\n",
       " ('왼쪽부터', 0.6332517121902068),\n",
       " ('촉구했다', 0.6331746648951052),\n",
       " ('젤리피쉬엔터', 0.6330818280727492),\n",
       " ('옴부즈만', 0.6329043084724449),\n",
       " ('닉네임', 0.6324555320336759),\n",
       " ('객관적', 0.6324555320336759),\n",
       " ('줍니다', 0.6324555320336759),\n",
       " ('샌드위치', 0.6318466455583691),\n",
       " ('였다', 0.6317365269461078),\n",
       " ('쎄씨', 0.631578947368421),\n",
       " ('넥스트바이오홀딩스', 0.6314330124860432),\n",
       " ('넷마블게임즈는', 0.6312825996777558),\n",
       " ('섰다', 0.6309523809523809),\n",
       " ('옵티머스헬스케', 0.6307845454401123),\n",
       " ('투자', 0.6302299806040454),\n",
       " ('헷갈리는', 0.6299605249474366),\n",
       " ('댈러스에', 0.6299605249474366),\n",
       " ('줌으로써', 0.6299605249474366),\n",
       " ('엔터테', 0.629913838433692),\n",
       " ('폴크스바', 0.6292802214755233),\n",
       " ('혀를', 0.6285714285714286),\n",
       " ('쉐라톤서울팔래스', 0.6284343798528128),\n",
       " ('놈이', 0.6282051282051282),\n",
       " ('삐빠빠룰라', 0.628016973395869),\n",
       " ('굴수하식수산업협', 0.6278573031765139),\n",
       " ('꾸준히', 0.6276667246567873),\n",
       " ('썬코어의', 0.6274203339503482),\n",
       " ('탱크', 0.6271186440677966),\n",
       " ('팬들', 0.6263322884012539),\n",
       " ('엇갈리', 0.6259495710495183),\n",
       " ('니혼게이자이신문', 0.6257503044060035),\n",
       " ('빽다방', 0.6255432421712243),\n",
       " ('썸뱅크', 0.6255432421712243),\n",
       " ('벵게트', 0.6255432421712243),\n",
       " ('핸디소프트', 0.625361451032538),\n",
       " ('반영하겠습', 0.625346737510946),\n",
       " ('림프', 0.625),\n",
       " ('샜지', 0.625),\n",
       " ('뜰에', 0.625),\n",
       " ('겟잇', 0.625),\n",
       " ('팸투', 0.625),\n",
       " ('켐핀', 0.625),\n",
       " ('뭣이', 0.625),\n",
       " ('꾼다', 0.625),\n",
       " ('롬바', 0.625),\n",
       " ('첸씨', 0.625),\n",
       " ('톈궁', 0.625),\n",
       " ('샹젤', 0.625),\n",
       " ('섰습니다', 0.6249206248403961),\n",
       " ('꼼꼼히', 0.6245877761451069),\n",
       " ('콰이러다번', 0.6245756549872457),\n",
       " ('둘러', 0.6244167962674961),\n",
       " ('쩔쩔매', 0.6236095644623235),\n",
       " ('펠로', 0.6233766233766234),\n",
       " ('윌엔터테인', 0.6230421898092633),\n",
       " ('켈리블루북의', 0.6228654698077587),\n",
       " ('쏠리고', 0.6218999773930958),\n",
       " ('꽁냥꽁냥하', 0.6215574829757324),\n",
       " ('닛케이평균주가', 0.6206217504332536),\n",
       " ('긍정적으로', 0.6204032394013997),\n",
       " ('러시', 0.6199722607489597),\n",
       " ('엮어내는', 0.6197980942410934),\n",
       " ('딥마인드', 0.6197980942410934),\n",
       " ('뤼미에르', 0.6197980942410934),\n",
       " ('넥스트엔터테인먼트', 0.6193825064232814),\n",
       " ('젤리피쉬', 0.6190969645767314),\n",
       " ('섣불', 0.6190476190476191),\n",
       " ('흉기', 0.6189189189189189),\n",
       " ('재배', 0.6187145387409564),\n",
       " ('니혼게이자이신문은', 0.6186872694654637),\n",
       " ('앙코르닷오르그', 0.618352478054564),\n",
       " ('낭만닥터', 0.6182918960943297),\n",
       " ('빅데이터', 0.6179516142996242),\n",
       " ('킹콩엔터테인먼', 0.6177146705271326),\n",
       " ('핸드메이드페어', 0.6164974849649452),\n",
       " ('풋풋한', 0.6163156344279367),\n",
       " ('획득', 0.615606936416185),\n",
       " ('헨리', 0.6153846153846154),\n",
       " ('헤럴드', 0.6147562027913688),\n",
       " ('촛불문화제에', 0.6146374660551205),\n",
       " ('촛불문화제가', 0.6146374660551205),\n",
       " ('억제전략위원회', 0.6140184110241474),\n",
       " ('프로그', 0.6137280699351488),\n",
       " ('식품의약품안전처', 0.6129479323647408),\n",
       " ('붉은보석2', 0.6128659152938007),\n",
       " ('풋풋', 0.6124031007751938),\n",
       " ('곰팡이', 0.6123724356957945),\n",
       " ('꿋꿋이', 0.6123724356957945),\n",
       " ('켈로그', 0.6123724356957945),\n",
       " ('힌트를', 0.6123724356957945),\n",
       " ('짱에게', 0.6123724356957945),\n",
       " ('켐차이', 0.6123724356957945),\n",
       " ('팁코소프트웨', 0.6122395874641254),\n",
       " ('설명했다', 0.6121400056553303),\n",
       " ('칩거생활을', 0.6117963943340494),\n",
       " ('와이씨에이치', 0.6117695789592275),\n",
       " ('랜드마크', 0.611637238668811),\n",
       " ('캠페인', 0.6108186434652092),\n",
       " ('웹툰을', 0.6107779018514593),\n",
       " ('콘텐츠허브', 0.6107501179833472),\n",
       " ('핸드메이', 0.6104207259596653),\n",
       " ('깎아', 0.6103896103896104),\n",
       " ('욱씨남정', 0.6102612222351425),\n",
       " ('깐부치킨', 0.6102612222351425),\n",
       " ('빛나는', 0.609749843620211),\n",
       " ('엘리시안제주를', 0.6096330563997235),\n",
       " ('웃음을', 0.6095255005387799),\n",
       " ('드라마', 0.6093651029086764),\n",
       " ('쿵푸팬', 0.6092076990801715),\n",
       " ('흩날리는', 0.6089460000067677),\n",
       " ('뜨거', 0.6086956521739131),\n",
       " ('짊어진', 0.6085806194501846),\n",
       " ('짊어지', 0.6085806194501846),\n",
       " ('챔피언십시리즈', 0.6084930594463309),\n",
       " ('콜라보레이', 0.6084668341559815),\n",
       " ('삼성디스플레이', 0.6082749335719068),\n",
       " ('잠수함발사탄도미사일', 0.6081452741406478),\n",
       " ('뻗어나가는', 0.6076795808137692),\n",
       " ('왜냐하면', 0.6075569272759603),\n",
       " ('쇄도하고', 0.6074424235176369),\n",
       " ('예정이다', 0.6074307417079161),\n",
       " ('뜯어내려고', 0.6072740553421622),\n",
       " ('북한인권결의안', 0.6072123701051673),\n",
       " ('무단전', 0.6071192609768542),\n",
       " ('권역응급의료센터', 0.6070612213262553),\n",
       " ('덥겠습니', 0.6070322664560496),\n",
       " ('옅어질', 0.6069769786668839),\n",
       " ('홈페이지에', 0.606734179070139),\n",
       " ('광명시흥테크노밸리', 0.6065878786752262),\n",
       " ('첩보수', 0.6065678266293777),\n",
       " ('첩보를', 0.6065678266293777),\n",
       " ('웨스틴조선호', 0.6065038656285111),\n",
       " ('넥슨', 0.6064981949458483),\n",
       " ('곤엔터테인먼', 0.6061358411671057),\n",
       " ('잉글우드랩은', 0.6058606999546629),\n",
       " ('팜한농은', 0.6057068642773799),\n",
       " ('튼튼한', 0.6055300708194983),\n",
       " ('퓨리서치센터', 0.605039747480038),\n",
       " ('셀트리온헬스케어', 0.6047284323937576),\n",
       " ('늪으', 0.6046511627906976),\n",
       " ('햄버', 0.6041666666666666),\n",
       " ('캘리포니아대학', 0.6041191342144286),\n",
       " ('융합클러스터', 0.6040384350026325),\n",
       " ('왔다', 0.6039426523297491),\n",
       " ('큐브엔터테인먼트', 0.6038890609511035),\n",
       " ('헤럴드경', 0.6038596735702016),\n",
       " ('에서', 0.6037219044550068),\n",
       " ('웃음', 0.6034322820037106),\n",
       " ('뿔났다', 0.6030226891555273),\n",
       " ('읍면동', 0.6030226891555273),\n",
       " ('쪼그라들어', 0.6028448325695556),\n",
       " ('갑자', 0.6028368794326241),\n",
       " ('네바다대학에서', 0.6026158974598209),\n",
       " ('심산기념문화센터에서', 0.6025860361006349),\n",
       " ('헛개', 0.6025641025641025),\n",
       " ('듬직한', 0.6024640760767093),\n",
       " ('랴오닝성', 0.6012854886644341),\n",
       " ('몽환적인', 0.6012854886644341),\n",
       " ('젖소개량', 0.6012854886644341),\n",
       " ('빽빽하게', 0.6012854886644341),\n",
       " ('쥐락펴락', 0.6011040506664953),\n",
       " ('훌륭한', 0.6005461994758755),\n",
       " ('칵퉤작전에', 0.6003124062338072),\n",
       " ('빅히트엔터테인먼', 0.6001811179894101),\n",
       " ('왓슨', 0.6),\n",
       " ('숍을', 0.6),\n",
       " ('팍스', 0.6),\n",
       " ('뵙고', 0.6),\n",
       " ('뻥튀', 0.6),\n",
       " ...]"
      ]
     },
     "execution_count": 130,
     "metadata": {},
     "output_type": "execute_result"
    }
   ],
   "source": [
    "t = scores\n",
    "sorted(t.items(), key=lambda x: -x[1])"
   ]
  },
  {
   "cell_type": "markdown",
   "id": "52e01642",
   "metadata": {},
   "source": [
    "아래 예제는, 문장마다 사용자가 추가해야되는 단어가 있을 때 편하게 할 수 있는 라이브러리 소개"
   ]
  },
  {
   "cell_type": "code",
   "execution_count": 134,
   "id": "18b94f0e",
   "metadata": {
    "ExecuteTime": {
     "end_time": "2021-11-27T13:04:30.725477Z",
     "start_time": "2021-11-27T13:04:30.505219Z"
    }
   },
   "outputs": [
    {
     "data": {
      "text/plain": [
       "['은', '경이', '는', '사무실', '로', '갔습니다', '.']"
      ]
     },
     "execution_count": 134,
     "metadata": {},
     "output_type": "execute_result"
    }
   ],
   "source": [
    "from ckonlpy.tag import Twitter\n",
    "twitter = Twitter()\n",
    "twitter.morphs('은경이는 사무실로 갔습니다.')"
   ]
  },
  {
   "cell_type": "code",
   "execution_count": 138,
   "id": "1d1c4878",
   "metadata": {
    "ExecuteTime": {
     "end_time": "2021-11-27T13:05:16.699001Z",
     "start_time": "2021-11-27T13:05:16.692404Z"
    }
   },
   "outputs": [
    {
     "data": {
      "text/plain": [
       "['은지', '남자친구', '수현이', '는', '사무실', '로', '갔습니다', '.']"
      ]
     },
     "execution_count": 138,
     "metadata": {},
     "output_type": "execute_result"
    }
   ],
   "source": [
    "twitter.add_dictionary('수현이', 'Noun')\n",
    "twitter.morphs('은지 남자친구 수현이는 사무실로 갔습니다.')"
   ]
  },
  {
   "cell_type": "code",
   "execution_count": null,
   "id": "a53f0182",
   "metadata": {},
   "outputs": [],
   "source": []
  }
 ],
 "metadata": {
  "hide_input": false,
  "kernelspec": {
   "display_name": "Python [conda env:NLP_tf] *",
   "language": "python",
   "name": "conda-env-NLP_tf-py"
  },
  "language_info": {
   "codemirror_mode": {
    "name": "ipython",
    "version": 3
   },
   "file_extension": ".py",
   "mimetype": "text/x-python",
   "name": "python",
   "nbconvert_exporter": "python",
   "pygments_lexer": "ipython3",
   "version": "3.8.5"
  },
  "toc": {
   "base_numbering": 1,
   "nav_menu": {},
   "number_sections": true,
   "sideBar": true,
   "skip_h1_title": false,
   "title_cell": "Table of Contents",
   "title_sidebar": "Contents",
   "toc_cell": false,
   "toc_position": {},
   "toc_section_display": true,
   "toc_window_display": false
  },
  "varInspector": {
   "cols": {
    "lenName": 16,
    "lenType": 16,
    "lenVar": 40
   },
   "kernels_config": {
    "python": {
     "delete_cmd_postfix": "",
     "delete_cmd_prefix": "del ",
     "library": "var_list.py",
     "varRefreshCmd": "print(var_dic_list())"
    },
    "r": {
     "delete_cmd_postfix": ") ",
     "delete_cmd_prefix": "rm(",
     "library": "var_list.r",
     "varRefreshCmd": "cat(var_dic_list()) "
    }
   },
   "types_to_exclude": [
    "module",
    "function",
    "builtin_function_or_method",
    "instance",
    "_Feature"
   ],
   "window_display": false
  }
 },
 "nbformat": 4,
 "nbformat_minor": 5
}
