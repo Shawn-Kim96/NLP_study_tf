{
 "cells": [
  {
   "cell_type": "markdown",
   "id": "7622ad5c",
   "metadata": {},
   "source": [
    "## SimpleRNN, LSTM in Pytorch"
   ]
  },
  {
   "cell_type": "markdown",
   "id": "3312635a",
   "metadata": {},
   "source": [
    "RNN"
   ]
  },
  {
   "cell_type": "code",
   "execution_count": 7,
   "id": "1ae21698",
   "metadata": {
    "ExecuteTime": {
     "end_time": "2021-12-04T06:10:54.803148Z",
     "start_time": "2021-12-04T06:10:54.800718Z"
    }
   },
   "outputs": [],
   "source": [
    "import numpy as np\n",
    "import torch.nn as nn\n",
    "import torch"
   ]
  },
  {
   "cell_type": "code",
   "execution_count": 3,
   "id": "cfe730a0",
   "metadata": {
    "ExecuteTime": {
     "end_time": "2021-12-04T06:08:46.699257Z",
     "start_time": "2021-12-04T06:08:46.695565Z"
    }
   },
   "outputs": [
    {
     "name": "stdout",
     "output_type": "stream",
     "text": [
      "(1, 4, 5)\n"
     ]
    }
   ],
   "source": [
    "train_X = [[[0.1, 4.2, 1.5, 1.1, 2.8], [1.0, 3.1, 2.5, 0.7, 1.1], [0.3, 2.1, 1.5, 2.1, 0.1], [2.2, 1.4, 0.5, 0.9, 1.1]]]\n",
    "train_X = np.array(train_X, dtype=np.float32)\n",
    "print(train_X.shape)"
   ]
  },
  {
   "cell_type": "code",
   "execution_count": 14,
   "id": "5ec1ef9b",
   "metadata": {
    "ExecuteTime": {
     "end_time": "2021-12-04T06:12:03.264524Z",
     "start_time": "2021-12-04T06:12:03.259547Z"
    }
   },
   "outputs": [],
   "source": [
    "rnn = nn.RNN(input_size=5, hidden_size=3, batch_first=True)\n",
    "hidden_state = rnn(torch.Tensor(train_X))"
   ]
  },
  {
   "cell_type": "code",
   "execution_count": 16,
   "id": "83be0f9d",
   "metadata": {
    "ExecuteTime": {
     "end_time": "2021-12-04T06:12:25.058876Z",
     "start_time": "2021-12-04T06:12:25.056332Z"
    }
   },
   "outputs": [
    {
     "name": "stdout",
     "output_type": "stream",
     "text": [
      "torch.Size([1, 4, 3])\n",
      "torch.Size([1, 1, 3])\n"
     ]
    }
   ],
   "source": [
    "for x in hidden_state:\n",
    "    print(x.shape)"
   ]
  },
  {
   "cell_type": "code",
   "execution_count": 17,
   "id": "bd767ce6",
   "metadata": {
    "ExecuteTime": {
     "end_time": "2021-12-04T06:13:04.091019Z",
     "start_time": "2021-12-04T06:13:04.086572Z"
    }
   },
   "outputs": [
    {
     "data": {
      "text/plain": [
       "(tensor([[[-0.6037,  0.3148,  0.9215],\n",
       "          [-0.2451,  0.4842,  0.1278],\n",
       "          [-0.4799, -0.7831,  0.0037],\n",
       "          [ 0.1668, -0.8375,  0.9610]]], grad_fn=<TransposeBackward1>),\n",
       " tensor([[[ 0.1668, -0.8375,  0.9610]]], grad_fn=<StackBackward>))"
      ]
     },
     "execution_count": 17,
     "metadata": {},
     "output_type": "execute_result"
    }
   ],
   "source": [
    "hidden_state"
   ]
  },
  {
   "cell_type": "markdown",
   "id": "a12d1d07",
   "metadata": {},
   "source": [
    "LSTM"
   ]
  },
  {
   "cell_type": "code",
   "execution_count": 22,
   "id": "1ef0f01f",
   "metadata": {
    "ExecuteTime": {
     "end_time": "2021-12-04T06:15:21.990221Z",
     "start_time": "2021-12-04T06:15:21.984454Z"
    }
   },
   "outputs": [],
   "source": [
    "lstm = nn.LSTM(input_size=5, hidden_size=3, batch_first=True, bidirectional=True)\n",
    "output, (h_n, c_n) = lstm(torch.Tensor(train_X))"
   ]
  },
  {
   "cell_type": "code",
   "execution_count": 23,
   "id": "1347991b",
   "metadata": {
    "ExecuteTime": {
     "end_time": "2021-12-04T06:15:22.458111Z",
     "start_time": "2021-12-04T06:15:22.452708Z"
    }
   },
   "outputs": [
    {
     "name": "stdout",
     "output_type": "stream",
     "text": [
      "tensor([[[ 0.4927, -0.5936, -0.1566, -0.0501,  0.3646,  0.2888],\n",
      "         [ 0.6602, -0.6393, -0.3721, -0.1072,  0.0677,  0.1797],\n",
      "         [ 0.4946, -0.6110, -0.4594, -0.0567,  0.1437,  0.2343],\n",
      "         [ 0.6278, -0.3790, -0.4976, -0.0691, -0.0278,  0.3694]]],\n",
      "       grad_fn=<TransposeBackward0>)\n",
      "tensor([[[ 0.6278, -0.3790, -0.4976]],\n",
      "\n",
      "        [[-0.0501,  0.3646,  0.2888]]], grad_fn=<StackBackward>)\n",
      "tensor([[[ 0.9288, -0.6268, -1.2566]],\n",
      "\n",
      "        [[-1.0342,  0.9499,  0.6844]]], grad_fn=<StackBackward>)\n"
     ]
    }
   ],
   "source": [
    "print(output)\n",
    "print(h_n)\n",
    "print(c_n)"
   ]
  },
  {
   "cell_type": "markdown",
   "id": "2b0c9755",
   "metadata": {},
   "source": [
    "## RNN을 이용한 텍스트 생성"
   ]
  },
  {
   "cell_type": "markdown",
   "id": "50247fa8",
   "metadata": {},
   "source": [
    "### 데이터 전처리"
   ]
  },
  {
   "cell_type": "code",
   "execution_count": 98,
   "id": "0b6f3852",
   "metadata": {
    "ExecuteTime": {
     "end_time": "2021-12-04T07:57:08.928526Z",
     "start_time": "2021-12-04T07:57:08.925975Z"
    }
   },
   "outputs": [],
   "source": [
    "import numpy as np\n",
    "from tensorflow.keras.preprocessing.text import Tokenizer\n",
    "from tensorflow.keras.preprocessing.sequence import pad_sequences\n",
    "from tensorflow.keras.utils import to_categorical"
   ]
  },
  {
   "cell_type": "code",
   "execution_count": 99,
   "id": "f701c779",
   "metadata": {
    "ExecuteTime": {
     "end_time": "2021-12-04T07:57:09.088963Z",
     "start_time": "2021-12-04T07:57:09.086729Z"
    }
   },
   "outputs": [],
   "source": [
    "text = \"\"\"경마장에 있는 말이 뛰고 있다\\n\n",
    "그의 말이 법이다\\n\n",
    "가는 말이 고와야 오는 말이 곱다\\n\"\"\""
   ]
  },
  {
   "cell_type": "code",
   "execution_count": 100,
   "id": "67de2d71",
   "metadata": {
    "ExecuteTime": {
     "end_time": "2021-12-04T07:57:09.256477Z",
     "start_time": "2021-12-04T07:57:09.253783Z"
    }
   },
   "outputs": [],
   "source": [
    "tokenizer = Tokenizer()\n",
    "tokenizer.fit_on_texts([text])\n",
    "vocab_size = len(tokenizer.word_index) + 1"
   ]
  },
  {
   "cell_type": "code",
   "execution_count": 101,
   "id": "b2faa48e",
   "metadata": {
    "ExecuteTime": {
     "end_time": "2021-12-04T07:57:09.423882Z",
     "start_time": "2021-12-04T07:57:09.420150Z"
    }
   },
   "outputs": [
    {
     "data": {
      "text/plain": [
       "{'말이': 1,\n",
       " '경마장에': 2,\n",
       " '있는': 3,\n",
       " '뛰고': 4,\n",
       " '있다': 5,\n",
       " '그의': 6,\n",
       " '법이다': 7,\n",
       " '가는': 8,\n",
       " '고와야': 9,\n",
       " '오는': 10,\n",
       " '곱다': 11}"
      ]
     },
     "execution_count": 101,
     "metadata": {},
     "output_type": "execute_result"
    }
   ],
   "source": [
    "tokenizer.word_index"
   ]
  },
  {
   "cell_type": "code",
   "execution_count": 102,
   "id": "af0b47ff",
   "metadata": {
    "ExecuteTime": {
     "end_time": "2021-12-04T07:57:09.583821Z",
     "start_time": "2021-12-04T07:57:09.580070Z"
    }
   },
   "outputs": [
    {
     "name": "stdout",
     "output_type": "stream",
     "text": [
      "학습에 사용할 샘플의 개수: 11\n"
     ]
    }
   ],
   "source": [
    "sequences = list()\n",
    "for line in text.split('\\n'):\n",
    "    encoded = tokenizer.texts_to_sequences([line])[0]\n",
    "    for i in range(1, len(encoded)):\n",
    "        sequence = encoded[:i+1]\n",
    "        sequences.append(sequence)\n",
    "\n",
    "print(f'학습에 사용할 샘플의 개수: {len(sequences)}')"
   ]
  },
  {
   "cell_type": "code",
   "execution_count": 103,
   "id": "8d795879",
   "metadata": {
    "ExecuteTime": {
     "end_time": "2021-12-04T07:57:10.228821Z",
     "start_time": "2021-12-04T07:57:10.224653Z"
    }
   },
   "outputs": [
    {
     "data": {
      "text/plain": [
       "[[2, 3],\n",
       " [2, 3, 1],\n",
       " [2, 3, 1, 4],\n",
       " [2, 3, 1, 4, 5],\n",
       " [6, 1],\n",
       " [6, 1, 7],\n",
       " [8, 1],\n",
       " [8, 1, 9],\n",
       " [8, 1, 9, 10],\n",
       " [8, 1, 9, 10, 1],\n",
       " [8, 1, 9, 10, 1, 11]]"
      ]
     },
     "execution_count": 103,
     "metadata": {},
     "output_type": "execute_result"
    }
   ],
   "source": [
    "sequences"
   ]
  },
  {
   "cell_type": "code",
   "execution_count": 104,
   "id": "0d527442",
   "metadata": {
    "ExecuteTime": {
     "end_time": "2021-12-04T07:57:10.407665Z",
     "start_time": "2021-12-04T07:57:10.403237Z"
    }
   },
   "outputs": [
    {
     "data": {
      "text/plain": [
       "array([[ 0,  0,  0,  0,  2,  3],\n",
       "       [ 0,  0,  0,  2,  3,  1],\n",
       "       [ 0,  0,  2,  3,  1,  4],\n",
       "       [ 0,  2,  3,  1,  4,  5],\n",
       "       [ 0,  0,  0,  0,  6,  1],\n",
       "       [ 0,  0,  0,  6,  1,  7],\n",
       "       [ 0,  0,  0,  0,  8,  1],\n",
       "       [ 0,  0,  0,  8,  1,  9],\n",
       "       [ 0,  0,  8,  1,  9, 10],\n",
       "       [ 0,  8,  1,  9, 10,  1],\n",
       "       [ 8,  1,  9, 10,  1, 11]], dtype=int32)"
      ]
     },
     "execution_count": 104,
     "metadata": {},
     "output_type": "execute_result"
    }
   ],
   "source": [
    "#전체 백터의 크기를 맞춰주는 작업 진행\n",
    "max_len = max([len(x) for x in sequences])\n",
    "\n",
    "sequences = pad_sequences(sequences, maxlen=max_len, padding='pre')\n",
    "sequences"
   ]
  },
  {
   "cell_type": "code",
   "execution_count": 105,
   "id": "51d02268",
   "metadata": {
    "ExecuteTime": {
     "end_time": "2021-12-04T07:57:11.023993Z",
     "start_time": "2021-12-04T07:57:11.019204Z"
    }
   },
   "outputs": [
    {
     "name": "stdout",
     "output_type": "stream",
     "text": [
      "[[ 0  0  0  0  2]\n",
      " [ 0  0  0  2  3]\n",
      " [ 0  0  2  3  1]\n",
      " [ 0  2  3  1  4]\n",
      " [ 0  0  0  0  6]\n",
      " [ 0  0  0  6  1]\n",
      " [ 0  0  0  0  8]\n",
      " [ 0  0  0  8  1]\n",
      " [ 0  0  8  1  9]\n",
      " [ 0  8  1  9 10]\n",
      " [ 8  1  9 10  1]]\n",
      "[ 3  1  4  5  1  7  1  9 10  1 11]\n"
     ]
    },
    {
     "data": {
      "text/plain": [
       "(None, None)"
      ]
     },
     "execution_count": 105,
     "metadata": {},
     "output_type": "execute_result"
    }
   ],
   "source": [
    "# [:-1] 까지는 입력, [-1] 은 라벨링 값이 된다.\n",
    "X = sequences[:, :-1]\n",
    "y = sequences[:, -1]\n",
    "print(X), print(y)"
   ]
  },
  {
   "cell_type": "code",
   "execution_count": 106,
   "id": "c09e4e67",
   "metadata": {
    "ExecuteTime": {
     "end_time": "2021-12-04T07:57:11.957863Z",
     "start_time": "2021-12-04T07:57:11.952921Z"
    }
   },
   "outputs": [
    {
     "data": {
      "text/plain": [
       "(array([[0., 0., 0., 1., 0., 0., 0., 0., 0., 0., 0., 0.],\n",
       "        [0., 1., 0., 0., 0., 0., 0., 0., 0., 0., 0., 0.],\n",
       "        [0., 0., 0., 0., 1., 0., 0., 0., 0., 0., 0., 0.],\n",
       "        [0., 0., 0., 0., 0., 1., 0., 0., 0., 0., 0., 0.],\n",
       "        [0., 1., 0., 0., 0., 0., 0., 0., 0., 0., 0., 0.],\n",
       "        [0., 0., 0., 0., 0., 0., 0., 1., 0., 0., 0., 0.],\n",
       "        [0., 1., 0., 0., 0., 0., 0., 0., 0., 0., 0., 0.],\n",
       "        [0., 0., 0., 0., 0., 0., 0., 0., 0., 1., 0., 0.],\n",
       "        [0., 0., 0., 0., 0., 0., 0., 0., 0., 0., 1., 0.],\n",
       "        [0., 1., 0., 0., 0., 0., 0., 0., 0., 0., 0., 0.],\n",
       "        [0., 0., 0., 0., 0., 0., 0., 0., 0., 0., 0., 1.]], dtype=float32),\n",
       " (11, 12))"
      ]
     },
     "execution_count": 106,
     "metadata": {},
     "output_type": "execute_result"
    }
   ],
   "source": [
    "# labeling 값을 one-hot encoding으로 바꿔주는 작업\n",
    "y = to_categorical(y, num_classes = vocab_size)\n",
    "y, y.shape"
   ]
  },
  {
   "cell_type": "markdown",
   "id": "944db8fb",
   "metadata": {},
   "source": [
    "### 모델 설계"
   ]
  },
  {
   "cell_type": "code",
   "execution_count": 207,
   "id": "e5fa54ca",
   "metadata": {
    "ExecuteTime": {
     "end_time": "2021-12-04T09:40:00.353152Z",
     "start_time": "2021-12-04T09:40:00.348332Z"
    }
   },
   "outputs": [],
   "source": [
    "import torch.nn as nn\n",
    "import torch\n",
    "\n",
    "class text_RNN(nn.Module):\n",
    "    def __init__(self, vocab_size, embedding_dim, hidden_dim):\n",
    "        super(text_RNN, self).__init__()\n",
    "        \n",
    "        self.embedding = nn.Embedding(vocab_size, embedding_dim)\n",
    "        self.rnn = nn.RNN(input_size=embedding_dim, \n",
    "                          hidden_size=hidden_dim, \n",
    "                          batch_first=True)\n",
    "        self.linear = nn.Linear(hidden_dim, vocab_size)\n",
    "        self.softmax = nn.Softmax()\n",
    "\n",
    "    def forward(self, inp):\n",
    "        output = self.embedding(inp)\n",
    "        _, output = self.rnn(torch.unsqueeze(output, 0))\n",
    "#         output = torch.squeeze(self.linear(output))\n",
    "        output = self.linear(output)\n",
    "#         output = self.softmax(output)\n",
    "         \n",
    "        return output"
   ]
  },
  {
   "cell_type": "code",
   "execution_count": 208,
   "id": "242d0c9d",
   "metadata": {
    "ExecuteTime": {
     "end_time": "2021-12-04T09:40:02.444944Z",
     "start_time": "2021-12-04T09:40:02.440446Z"
    }
   },
   "outputs": [],
   "source": [
    "embedding_dim = 10\n",
    "hidden_dim = 32\n",
    "lr = 0.001\n",
    "\n",
    "model = text_RNN(vocab_size=vocab_size,\n",
    "                 embedding_dim=embedding_dim,\n",
    "                 hidden_dim=hidden_dim)\n",
    "\n",
    "criterion = nn.CrossEntropyLoss()\n",
    "optimizer = torch.optim.Adam(model.parameters(), lr=lr)"
   ]
  },
  {
   "cell_type": "code",
   "execution_count": 262,
   "id": "d5930a76",
   "metadata": {
    "ExecuteTime": {
     "end_time": "2021-12-04T10:13:33.005587Z",
     "start_time": "2021-12-04T10:13:30.531518Z"
    },
    "scrolled": true
   },
   "outputs": [
    {
     "name": "stderr",
     "output_type": "stream",
     "text": [
      "/var/folders/ph/pv7rmwrx0yl4zl9pm78d51hm0000gn/T/ipykernel_34727/2977715577.py:1: UserWarning: To copy construct from a tensor, it is recommended to use sourceTensor.clone().detach() or sourceTensor.clone().detach().requires_grad_(True), rather than torch.tensor(sourceTensor).\n",
      "  X, y = torch.Tensor(X), torch.tensor(y)\n"
     ]
    }
   ],
   "source": [
    "X, y = torch.Tensor(X), torch.tensor(y)\n",
    "from sklearn.metrics import accuracy_score\n",
    "\n",
    "for epoch in range(1, 201):\n",
    "    train_losses, valid_losses = [], []\n",
    "    train_accs, valid_accs = [], []\n",
    "\n",
    "    model.train()\n",
    "    for inp, label in zip(X, y):\n",
    "        inp = inp.long()\n",
    "        label = label.long()\n",
    "        optimizer.zero_grad()\n",
    "        output = model(inp)\n",
    "        label_unsqueeze = torch.unsqueeze(label, 0)\n",
    "#         predicted = torch.max(output.squeeze().data)\n",
    "        loss = criterion(output[0], torch.max(label_unsqueeze, 1)[1])\n",
    "    # TODO: criterion 에서 오류 생김.. 해결해야된다.\n",
    "\n",
    "        loss.backward()\n",
    "        optimizer.step()\n",
    "\n",
    "        train_losses.append(loss.item())"
   ]
  },
  {
   "cell_type": "code",
   "execution_count": 263,
   "id": "db5896e8",
   "metadata": {
    "ExecuteTime": {
     "end_time": "2021-12-04T10:13:40.830722Z",
     "start_time": "2021-12-04T10:13:40.826989Z"
    }
   },
   "outputs": [
    {
     "data": {
      "text/plain": [
       "[0.017601946368813515,\n",
       " 0.003255189396440983,\n",
       " 0.019564863294363022,\n",
       " 0.007057973183691502,\n",
       " 0.01085318997502327,\n",
       " 0.015461812727153301,\n",
       " 0.0036493625957518816,\n",
       " 0.011755832470953465,\n",
       " 0.00931016355752945,\n",
       " 0.007985097356140614,\n",
       " 0.00857043731957674]"
      ]
     },
     "execution_count": 263,
     "metadata": {},
     "output_type": "execute_result"
    }
   ],
   "source": [
    "train_losses"
   ]
  },
  {
   "cell_type": "code",
   "execution_count": null,
   "id": "a75f15c0",
   "metadata": {},
   "outputs": [],
   "source": []
  }
 ],
 "metadata": {
  "hide_input": false,
  "kernelspec": {
   "display_name": "Python [conda env:NLP_tf] *",
   "language": "python",
   "name": "conda-env-NLP_tf-py"
  },
  "language_info": {
   "codemirror_mode": {
    "name": "ipython",
    "version": 3
   },
   "file_extension": ".py",
   "mimetype": "text/x-python",
   "name": "python",
   "nbconvert_exporter": "python",
   "pygments_lexer": "ipython3",
   "version": "3.8.5"
  },
  "toc": {
   "base_numbering": 1,
   "nav_menu": {},
   "number_sections": true,
   "sideBar": true,
   "skip_h1_title": false,
   "title_cell": "Table of Contents",
   "title_sidebar": "Contents",
   "toc_cell": false,
   "toc_position": {},
   "toc_section_display": true,
   "toc_window_display": false
  },
  "varInspector": {
   "cols": {
    "lenName": 16,
    "lenType": 16,
    "lenVar": 40
   },
   "kernels_config": {
    "python": {
     "delete_cmd_postfix": "",
     "delete_cmd_prefix": "del ",
     "library": "var_list.py",
     "varRefreshCmd": "print(var_dic_list())"
    },
    "r": {
     "delete_cmd_postfix": ") ",
     "delete_cmd_prefix": "rm(",
     "library": "var_list.r",
     "varRefreshCmd": "cat(var_dic_list()) "
    }
   },
   "types_to_exclude": [
    "module",
    "function",
    "builtin_function_or_method",
    "instance",
    "_Feature"
   ],
   "window_display": false
  }
 },
 "nbformat": 4,
 "nbformat_minor": 5
}
