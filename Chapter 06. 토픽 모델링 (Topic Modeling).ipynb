{
 "cells": [
  {
   "cell_type": "markdown",
   "id": "9e65de0c",
   "metadata": {},
   "source": [
    "## 잠재 의미 분석 (LSA)"
   ]
  },
  {
   "cell_type": "markdown",
   "id": "5309032c",
   "metadata": {},
   "source": [
    "### Trunced STV 구현"
   ]
  },
  {
   "cell_type": "code",
   "execution_count": 1,
   "id": "359713a3",
   "metadata": {
    "ExecuteTime": {
     "end_time": "2021-11-29T11:51:15.072693Z",
     "start_time": "2021-11-29T11:51:15.062650Z"
    }
   },
   "outputs": [
    {
     "data": {
      "text/plain": [
       "(4, 9)"
      ]
     },
     "execution_count": 1,
     "metadata": {},
     "output_type": "execute_result"
    }
   ],
   "source": [
    "import numpy as np\n",
    "\n",
    "A=np.array([[0,0,0,1,0,1,1,0,0],[0,0,0,1,1,0,1,0,0],[0,1,1,0,2,0,0,0,0],[1,0,0,0,0,0,0,1,1]])\n",
    "np.shape(A)"
   ]
  },
  {
   "cell_type": "code",
   "execution_count": 2,
   "id": "6c69eed2",
   "metadata": {
    "ExecuteTime": {
     "end_time": "2021-11-29T11:51:15.679209Z",
     "start_time": "2021-11-29T11:51:15.674452Z"
    }
   },
   "outputs": [
    {
     "name": "stdout",
     "output_type": "stream",
     "text": [
      "[[-0.24  0.75  0.   -0.62]\n",
      " [-0.51  0.44 -0.    0.74]\n",
      " [-0.83 -0.49 -0.   -0.27]\n",
      " [-0.   -0.    1.    0.  ]]\n",
      "[2.68731789 2.04508425 1.73205081 0.77197992]\n"
     ]
    }
   ],
   "source": [
    "U, s, VT = np.linalg.svd(A, full_matrices = True)\n",
    "\n",
    "print(U.round(2))\n",
    "print(s)"
   ]
  },
  {
   "cell_type": "markdown",
   "id": "87cbcf6b",
   "metadata": {
    "ExecuteTime": {
     "end_time": "2021-11-28T07:30:33.540837Z",
     "start_time": "2021-11-28T07:30:33.537396Z"
    }
   },
   "source": [
    "s가 대각행렬로 안나오고 singular value만 나왔다. 다시 대각행렬로 바꿔주면,"
   ]
  },
  {
   "cell_type": "code",
   "execution_count": 3,
   "id": "e73d255a",
   "metadata": {
    "ExecuteTime": {
     "end_time": "2021-11-29T11:51:16.087649Z",
     "start_time": "2021-11-29T11:51:16.084209Z"
    }
   },
   "outputs": [
    {
     "name": "stdout",
     "output_type": "stream",
     "text": [
      "[[2.69 0.   0.   0.   0.   0.   0.   0.   0.  ]\n",
      " [0.   2.05 0.   0.   0.   0.   0.   0.   0.  ]\n",
      " [0.   0.   1.73 0.   0.   0.   0.   0.   0.  ]\n",
      " [0.   0.   0.   0.77 0.   0.   0.   0.   0.  ]]\n"
     ]
    }
   ],
   "source": [
    "S = np.zeros((4, 9))\n",
    "S[:4, :4] = np.diag(s)\n",
    "print(S.round(2))"
   ]
  },
  {
   "cell_type": "code",
   "execution_count": 4,
   "id": "707b3048",
   "metadata": {
    "ExecuteTime": {
     "end_time": "2021-11-29T11:51:16.288243Z",
     "start_time": "2021-11-29T11:51:16.283832Z"
    }
   },
   "outputs": [
    {
     "name": "stdout",
     "output_type": "stream",
     "text": [
      "[[0 0 0 1 0 1 1 0 0]\n",
      " [0 0 0 1 1 0 1 0 0]\n",
      " [0 1 1 0 2 0 0 0 0]\n",
      " [1 0 0 0 0 0 0 1 1]]\n",
      "[[ 0.   -0.17 -0.17  1.08  0.12  0.62  1.08 -0.   -0.  ]\n",
      " [ 0.    0.2   0.2   0.91  0.86  0.45  0.91  0.    0.  ]\n",
      " [ 0.    0.93  0.93  0.03  2.05 -0.17  0.03  0.    0.  ]\n",
      " [ 0.    0.    0.    0.    0.    0.    0.    0.    0.  ]]\n"
     ]
    }
   ],
   "source": [
    "# t=2로 설정하고 trunced SVD를 수행하면\n",
    "\n",
    "S = S[:2, :2]\n",
    "U = U[:, :2]\n",
    "VT = VT[:2, :]\n",
    "\n",
    "A_prime = np.dot(np.dot(U, S), VT)\n",
    "print(A)\n",
    "print(A_prime.round(2))"
   ]
  },
  {
   "cell_type": "code",
   "execution_count": 5,
   "id": "9d414248",
   "metadata": {
    "ExecuteTime": {
     "end_time": "2021-11-29T11:51:16.514076Z",
     "start_time": "2021-11-29T11:51:16.510568Z"
    }
   },
   "outputs": [
    {
     "data": {
      "text/plain": [
       "(4, 2)"
      ]
     },
     "execution_count": 5,
     "metadata": {},
     "output_type": "execute_result"
    }
   ],
   "source": [
    "U.shape # 4개의 문장을 각각 2개의 값으로 표현했다는 의미"
   ]
  },
  {
   "cell_type": "code",
   "execution_count": 6,
   "id": "5c0d1a86",
   "metadata": {
    "ExecuteTime": {
     "end_time": "2021-11-29T11:51:16.738367Z",
     "start_time": "2021-11-29T11:51:16.734736Z"
    }
   },
   "outputs": [
    {
     "data": {
      "text/plain": [
       "(2, 9)"
      ]
     },
     "execution_count": 6,
     "metadata": {},
     "output_type": "execute_result"
    }
   ],
   "source": [
    "VT.shape # 9개의 keyword를 2개의 값으로 표현했다는 의미"
   ]
  },
  {
   "cell_type": "markdown",
   "id": "81173597",
   "metadata": {},
   "source": [
    "### 실습"
   ]
  },
  {
   "cell_type": "code",
   "execution_count": 7,
   "id": "c517766e",
   "metadata": {
    "ExecuteTime": {
     "end_time": "2021-11-29T11:51:19.555990Z",
     "start_time": "2021-11-29T11:51:17.517226Z"
    }
   },
   "outputs": [
    {
     "data": {
      "text/plain": [
       "11314"
      ]
     },
     "execution_count": 7,
     "metadata": {},
     "output_type": "execute_result"
    }
   ],
   "source": [
    "import pandas as pd\n",
    "from sklearn.datasets import fetch_20newsgroups\n",
    "dataset = fetch_20newsgroups(shuffle=True, random_state=1, remove=('headers', 'footers', 'quotes'))\n",
    "documents = dataset.data\n",
    "len(documents)"
   ]
  },
  {
   "cell_type": "code",
   "execution_count": 8,
   "id": "1677c8c3",
   "metadata": {
    "ExecuteTime": {
     "end_time": "2021-11-29T11:51:19.773816Z",
     "start_time": "2021-11-29T11:51:19.770520Z"
    }
   },
   "outputs": [
    {
     "data": {
      "text/plain": [
       "\"\\n\\n\\n\\n\\n\\n\\nYeah, do you expect people to read the FAQ, etc. and actually accept hard\\natheism?  No, you need a little leap of faith, Jimmy.  Your logic runs out\\nof steam!\\n\\n\\n\\n\\n\\n\\n\\nJim,\\n\\nSorry I can't pity you, Jim.  And I'm sorry that you have these feelings of\\ndenial about the faith you need to get by.  Oh well, just pretend that it will\\nall end happily ever after anyway.  Maybe if you start a new newsgroup,\\nalt.atheist.hard, you won't be bummin' so much?\\n\\n\\n\\n\\n\\n\\nBye-Bye, Big Jim.  Don't forget your Flintstone's Chewables!  :) \\n--\\nBake Timmons, III\""
      ]
     },
     "execution_count": 8,
     "metadata": {},
     "output_type": "execute_result"
    }
   ],
   "source": [
    "documents[1]"
   ]
  },
  {
   "cell_type": "code",
   "execution_count": 9,
   "id": "45547802",
   "metadata": {
    "ExecuteTime": {
     "end_time": "2021-11-29T11:51:19.977988Z",
     "start_time": "2021-11-29T11:51:19.973430Z"
    }
   },
   "outputs": [
    {
     "data": {
      "text/plain": [
       "['alt.atheism',\n",
       " 'comp.graphics',\n",
       " 'comp.os.ms-windows.misc',\n",
       " 'comp.sys.ibm.pc.hardware',\n",
       " 'comp.sys.mac.hardware',\n",
       " 'comp.windows.x',\n",
       " 'misc.forsale',\n",
       " 'rec.autos',\n",
       " 'rec.motorcycles',\n",
       " 'rec.sport.baseball',\n",
       " 'rec.sport.hockey',\n",
       " 'sci.crypt',\n",
       " 'sci.electronics',\n",
       " 'sci.med',\n",
       " 'sci.space',\n",
       " 'soc.religion.christian',\n",
       " 'talk.politics.guns',\n",
       " 'talk.politics.mideast',\n",
       " 'talk.politics.misc',\n",
       " 'talk.religion.misc']"
      ]
     },
     "execution_count": 9,
     "metadata": {},
     "output_type": "execute_result"
    }
   ],
   "source": [
    "dataset.target_names"
   ]
  },
  {
   "cell_type": "code",
   "execution_count": 10,
   "id": "bc533727",
   "metadata": {
    "ExecuteTime": {
     "end_time": "2021-11-29T11:51:21.207088Z",
     "start_time": "2021-11-29T11:51:20.179187Z"
    }
   },
   "outputs": [
    {
     "name": "stderr",
     "output_type": "stream",
     "text": [
      "/var/folders/ph/pv7rmwrx0yl4zl9pm78d51hm0000gn/T/ipykernel_72896/2086978340.py:3: FutureWarning: The default value of regex will change from True to False in a future version.\n",
      "  news_df['clean_doc'] = news_df['document'].str.replace(\"[^a-zA-Z]\", \" \")\n"
     ]
    },
    {
     "data": {
      "text/html": [
       "<div>\n",
       "<style scoped>\n",
       "    .dataframe tbody tr th:only-of-type {\n",
       "        vertical-align: middle;\n",
       "    }\n",
       "\n",
       "    .dataframe tbody tr th {\n",
       "        vertical-align: top;\n",
       "    }\n",
       "\n",
       "    .dataframe thead th {\n",
       "        text-align: right;\n",
       "    }\n",
       "</style>\n",
       "<table border=\"1\" class=\"dataframe\">\n",
       "  <thead>\n",
       "    <tr style=\"text-align: right;\">\n",
       "      <th></th>\n",
       "      <th>document</th>\n",
       "      <th>clean_doc</th>\n",
       "    </tr>\n",
       "  </thead>\n",
       "  <tbody>\n",
       "    <tr>\n",
       "      <th>0</th>\n",
       "      <td>Well i'm not sure about the story nad it did s...</td>\n",
       "      <td>well sure about story seem biased what disagre...</td>\n",
       "    </tr>\n",
       "    <tr>\n",
       "      <th>1</th>\n",
       "      <td>\\n\\n\\n\\n\\n\\n\\nYeah, do you expect people to re...</td>\n",
       "      <td>yeah expect people read actually accept hard a...</td>\n",
       "    </tr>\n",
       "    <tr>\n",
       "      <th>2</th>\n",
       "      <td>Although I realize that principle is not one o...</td>\n",
       "      <td>although realize that principle your strongest...</td>\n",
       "    </tr>\n",
       "    <tr>\n",
       "      <th>3</th>\n",
       "      <td>Notwithstanding all the legitimate fuss about ...</td>\n",
       "      <td>notwithstanding legitimate fuss about this pro...</td>\n",
       "    </tr>\n",
       "    <tr>\n",
       "      <th>4</th>\n",
       "      <td>Well, I will have to change the scoring on my ...</td>\n",
       "      <td>well will have change scoring playoff pool unf...</td>\n",
       "    </tr>\n",
       "    <tr>\n",
       "      <th>...</th>\n",
       "      <td>...</td>\n",
       "      <td>...</td>\n",
       "    </tr>\n",
       "    <tr>\n",
       "      <th>11309</th>\n",
       "      <td>Danny Rubenstein, an Israeli journalist, will ...</td>\n",
       "      <td>danny rubenstein israeli journalist will speak...</td>\n",
       "    </tr>\n",
       "    <tr>\n",
       "      <th>11310</th>\n",
       "      <td>\\n</td>\n",
       "      <td></td>\n",
       "    </tr>\n",
       "    <tr>\n",
       "      <th>11311</th>\n",
       "      <td>\\nI agree.  Home runs off Clemens are always m...</td>\n",
       "      <td>agree home runs clemens always memorable kinda...</td>\n",
       "    </tr>\n",
       "    <tr>\n",
       "      <th>11312</th>\n",
       "      <td>I used HP DeskJet with Orange Micros Grappler ...</td>\n",
       "      <td>used deskjet with orange micros grappler syste...</td>\n",
       "    </tr>\n",
       "    <tr>\n",
       "      <th>11313</th>\n",
       "      <td>^^^^^^\\n...</td>\n",
       "      <td>argument with murphy scared hell when came las...</td>\n",
       "    </tr>\n",
       "  </tbody>\n",
       "</table>\n",
       "<p>11314 rows × 2 columns</p>\n",
       "</div>"
      ],
      "text/plain": [
       "                                                document  \\\n",
       "0      Well i'm not sure about the story nad it did s...   \n",
       "1      \\n\\n\\n\\n\\n\\n\\nYeah, do you expect people to re...   \n",
       "2      Although I realize that principle is not one o...   \n",
       "3      Notwithstanding all the legitimate fuss about ...   \n",
       "4      Well, I will have to change the scoring on my ...   \n",
       "...                                                  ...   \n",
       "11309  Danny Rubenstein, an Israeli journalist, will ...   \n",
       "11310                                                 \\n   \n",
       "11311  \\nI agree.  Home runs off Clemens are always m...   \n",
       "11312  I used HP DeskJet with Orange Micros Grappler ...   \n",
       "11313                                        ^^^^^^\\n...   \n",
       "\n",
       "                                               clean_doc  \n",
       "0      well sure about story seem biased what disagre...  \n",
       "1      yeah expect people read actually accept hard a...  \n",
       "2      although realize that principle your strongest...  \n",
       "3      notwithstanding legitimate fuss about this pro...  \n",
       "4      well will have change scoring playoff pool unf...  \n",
       "...                                                  ...  \n",
       "11309  danny rubenstein israeli journalist will speak...  \n",
       "11310                                                     \n",
       "11311  agree home runs clemens always memorable kinda...  \n",
       "11312  used deskjet with orange micros grappler syste...  \n",
       "11313  argument with murphy scared hell when came las...  \n",
       "\n",
       "[11314 rows x 2 columns]"
      ]
     },
     "execution_count": 10,
     "metadata": {},
     "output_type": "execute_result"
    }
   ],
   "source": [
    "# 텍스트 전처리\n",
    "news_df = pd.DataFrame({'document': documents})\n",
    "news_df['clean_doc'] = news_df['document'].str.replace(\"[^a-zA-Z]\", \" \")\n",
    "news_df['clean_doc'] = news_df['clean_doc'].apply(lambda x: ' '.join([w for w in x.split() if len(w) > 3]))\n",
    "news_df['clean_doc'] = news_df['clean_doc'].apply(lambda x: x.lower())\n",
    "\n",
    "news_df"
   ]
  },
  {
   "cell_type": "code",
   "execution_count": 11,
   "id": "89ee55fc",
   "metadata": {
    "ExecuteTime": {
     "end_time": "2021-11-29T11:51:24.110153Z",
     "start_time": "2021-11-29T11:51:21.419568Z"
    }
   },
   "outputs": [],
   "source": [
    "from nltk.corpus import stopwords\n",
    "stop_words = stopwords.words('english')\n",
    "tokenized_doc = news_df['clean_doc'].apply(lambda x: x.split())\n",
    "tokenized_doc = tokenized_doc.apply(lambda x: [item for item in x if item not in stop_words])\n"
   ]
  },
  {
   "cell_type": "code",
   "execution_count": 12,
   "id": "156798ce",
   "metadata": {
    "ExecuteTime": {
     "end_time": "2021-11-29T11:51:24.328316Z",
     "start_time": "2021-11-29T11:51:24.322423Z"
    }
   },
   "outputs": [
    {
     "data": {
      "text/plain": [
       "0        [well, sure, story, seem, biased, disagree, st...\n",
       "1        [yeah, expect, people, read, actually, accept,...\n",
       "2        [although, realize, principle, strongest, poin...\n",
       "3        [notwithstanding, legitimate, fuss, proposal, ...\n",
       "4        [well, change, scoring, playoff, pool, unfortu...\n",
       "                               ...                        \n",
       "11309    [danny, rubenstein, israeli, journalist, speak...\n",
       "11310                                                   []\n",
       "11311    [agree, home, runs, clemens, always, memorable...\n",
       "11312    [used, deskjet, orange, micros, grappler, syst...\n",
       "11313    [argument, murphy, scared, hell, came, last, y...\n",
       "Name: clean_doc, Length: 11314, dtype: object"
      ]
     },
     "execution_count": 12,
     "metadata": {},
     "output_type": "execute_result"
    }
   ],
   "source": [
    "tokenized_doc"
   ]
  },
  {
   "cell_type": "code",
   "execution_count": 13,
   "id": "1807b5d9",
   "metadata": {
    "ExecuteTime": {
     "end_time": "2021-11-29T11:51:24.558603Z",
     "start_time": "2021-11-29T11:51:24.527444Z"
    }
   },
   "outputs": [],
   "source": [
    "detokenized_doc = [' '.join(x) for x in tokenized_doc]\n",
    "\n",
    "news_df['clean_doc'] = detokenized_doc"
   ]
  },
  {
   "cell_type": "markdown",
   "id": "e851c813",
   "metadata": {},
   "source": [
    "TF-IDF 적용"
   ]
  },
  {
   "cell_type": "code",
   "execution_count": 14,
   "id": "8c31901e",
   "metadata": {
    "ExecuteTime": {
     "end_time": "2021-11-29T11:51:25.682235Z",
     "start_time": "2021-11-29T11:51:24.788776Z"
    }
   },
   "outputs": [
    {
     "data": {
      "text/plain": [
       "(11314, 1000)"
      ]
     },
     "execution_count": 14,
     "metadata": {},
     "output_type": "execute_result"
    }
   ],
   "source": [
    "from sklearn.feature_extraction.text import TfidfVectorizer\n",
    "\n",
    "vectorizer = TfidfVectorizer(stop_words='english', \n",
    "                             max_features= 1000, # 상위 1,000개의 단어를 보존 \n",
    "                             max_df = 0.5, \n",
    "                             smooth_idf=True)\n",
    "\n",
    "X = vectorizer.fit_transform(news_df['clean_doc'])\n",
    "X.shape"
   ]
  },
  {
   "cell_type": "code",
   "execution_count": 15,
   "id": "0cfa1267",
   "metadata": {
    "ExecuteTime": {
     "end_time": "2021-11-29T11:51:25.938001Z",
     "start_time": "2021-11-29T11:51:25.934497Z"
    }
   },
   "outputs": [
    {
     "data": {
      "text/plain": [
       "array([0.12383418, 0.15794161, 0.11513969, ..., 0.08171431, 0.12486897,\n",
       "       0.1573019 ])"
      ]
     },
     "execution_count": 15,
     "metadata": {},
     "output_type": "execute_result"
    }
   ],
   "source": [
    "X.data"
   ]
  },
  {
   "cell_type": "code",
   "execution_count": 16,
   "id": "a5286f93",
   "metadata": {
    "ExecuteTime": {
     "end_time": "2021-11-29T11:51:27.079718Z",
     "start_time": "2021-11-29T11:51:26.183825Z"
    }
   },
   "outputs": [
    {
     "name": "stdout",
     "output_type": "stream",
     "text": [
      "20\n"
     ]
    }
   ],
   "source": [
    "from sklearn.decomposition import TruncatedSVD\n",
    "svd_model = TruncatedSVD(n_components=20,\n",
    "                         algorithm='randomized',\n",
    "                         n_iter=100,\n",
    "                         random_state=122)\n",
    "svd_model.fit(X)\n",
    "print(len(svd_model.components_))\n",
    "# svd_model.components_ = VT 의미한다."
   ]
  },
  {
   "cell_type": "code",
   "execution_count": 17,
   "id": "b03266b1",
   "metadata": {
    "ExecuteTime": {
     "end_time": "2021-11-29T11:51:27.345621Z",
     "start_time": "2021-11-29T11:51:27.342097Z"
    }
   },
   "outputs": [
    {
     "data": {
      "text/plain": [
       "(20, 1000)"
      ]
     },
     "execution_count": 17,
     "metadata": {},
     "output_type": "execute_result"
    }
   ],
   "source": [
    "np.shape(svd_model.components_)"
   ]
  },
  {
   "cell_type": "code",
   "execution_count": 18,
   "id": "bf2e1c24",
   "metadata": {
    "ExecuteTime": {
     "end_time": "2021-11-29T11:51:27.585380Z",
     "start_time": "2021-11-29T11:51:27.576788Z"
    },
    "scrolled": true
   },
   "outputs": [
    {
     "name": "stdout",
     "output_type": "stream",
     "text": [
      "Topic 1: [('like', 0.21386), ('know', 0.20046), ('people', 0.19293), ('think', 0.17805), ('good', 0.15128)]\n",
      "Topic 2: [('thanks', 0.32888), ('windows', 0.29088), ('card', 0.18069), ('drive', 0.17455), ('mail', 0.15111)]\n",
      "Topic 3: [('game', 0.37064), ('team', 0.32443), ('year', 0.28154), ('games', 0.2537), ('season', 0.18419)]\n",
      "Topic 4: [('drive', 0.53324), ('scsi', 0.20165), ('hard', 0.15628), ('disk', 0.15578), ('card', 0.13994)]\n",
      "Topic 5: [('windows', 0.40399), ('file', 0.25436), ('window', 0.18044), ('files', 0.16078), ('program', 0.13894)]\n",
      "Topic 6: [('chip', 0.16114), ('government', 0.16009), ('mail', 0.15625), ('space', 0.1507), ('information', 0.13562)]\n",
      "Topic 7: [('like', 0.67086), ('bike', 0.14236), ('chip', 0.11169), ('know', 0.11139), ('sounds', 0.10371)]\n",
      "Topic 8: [('card', 0.46633), ('video', 0.22137), ('sale', 0.21266), ('monitor', 0.15463), ('offer', 0.14643)]\n",
      "Topic 9: [('know', 0.46047), ('card', 0.33605), ('chip', 0.17558), ('government', 0.1522), ('video', 0.14356)]\n",
      "Topic 10: [('good', 0.42756), ('know', 0.23039), ('time', 0.1882), ('bike', 0.11406), ('jesus', 0.09027)]\n",
      "Topic 11: [('think', 0.78469), ('chip', 0.10899), ('good', 0.10635), ('thanks', 0.09123), ('clipper', 0.07946)]\n",
      "Topic 12: [('thanks', 0.36824), ('good', 0.22729), ('right', 0.21559), ('bike', 0.21037), ('problem', 0.20894)]\n",
      "Topic 13: [('good', 0.36212), ('people', 0.33985), ('windows', 0.28385), ('know', 0.26232), ('file', 0.18422)]\n",
      "Topic 14: [('space', 0.39946), ('think', 0.23258), ('know', 0.18074), ('nasa', 0.15174), ('problem', 0.12957)]\n",
      "Topic 15: [('space', 0.31613), ('good', 0.3094), ('card', 0.22603), ('people', 0.17476), ('time', 0.14496)]\n",
      "Topic 16: [('people', 0.48156), ('problem', 0.19961), ('window', 0.15281), ('time', 0.14664), ('game', 0.12871)]\n",
      "Topic 17: [('time', 0.34465), ('bike', 0.27303), ('right', 0.25557), ('windows', 0.1997), ('file', 0.19118)]\n",
      "Topic 18: [('time', 0.5973), ('problem', 0.15504), ('file', 0.14956), ('think', 0.12847), ('israel', 0.10903)]\n",
      "Topic 19: [('file', 0.44163), ('need', 0.26633), ('card', 0.18388), ('files', 0.17453), ('right', 0.15448)]\n",
      "Topic 20: [('problem', 0.33006), ('file', 0.27651), ('thanks', 0.23578), ('used', 0.19206), ('space', 0.13185)]\n"
     ]
    },
    {
     "name": "stderr",
     "output_type": "stream",
     "text": [
      "/Users/timber/opt/anaconda3/envs/NLP_tf/lib/python3.8/site-packages/sklearn/utils/deprecation.py:87: FutureWarning: Function get_feature_names is deprecated; get_feature_names is deprecated in 1.0 and will be removed in 1.2. Please use get_feature_names_out instead.\n",
      "  warnings.warn(msg, category=FutureWarning)\n"
     ]
    }
   ],
   "source": [
    "terms = vectorizer.get_feature_names() # 단어 집합. 1,000개의 단어가 저장됨.\n",
    "\n",
    "# 각 20개의 행의 각 1,000개 열 중 가장 큰 5개의 값을 찾아서 단어로 출력\n",
    "\n",
    "def get_topics(components, feature_names, n=5):\n",
    "    for idx, topic in enumerate(components):\n",
    "        print(f\"Topic {idx+1}:\", \n",
    "              [(feature_names[i], topic[i].round(5)) for i in topic.argsort()[:-n - 1:-1]])\n",
    "\n",
    "# 부가설명을 하자면, argsort()는 정렬했을 때 나오는 index의 순서를 반환한다.\n",
    "# 즉, VT에서 각 20개의 topic 별로 1000개의 단어들 중에서 가장 성적이 높은 단어 5개의 index 값을 받고, \n",
    "# 단어 - 점수 를 매칭해서 보여주는거다.\n",
    "\n",
    "get_topics(svd_model.components_,terms)"
   ]
  },
  {
   "cell_type": "code",
   "execution_count": 19,
   "id": "ff54c08b",
   "metadata": {
    "ExecuteTime": {
     "end_time": "2021-11-29T11:51:27.832843Z",
     "start_time": "2021-11-29T11:51:27.830592Z"
    }
   },
   "outputs": [],
   "source": [
    "components = svd_model.components_[0]\n",
    "topic = components"
   ]
  },
  {
   "cell_type": "markdown",
   "id": "3cc7d26c",
   "metadata": {},
   "source": [
    "## 잠재 디리클레 할당 (LDA)"
   ]
  },
  {
   "cell_type": "code",
   "execution_count": 20,
   "id": "bd1d250d",
   "metadata": {
    "ExecuteTime": {
     "end_time": "2021-11-29T11:52:30.495401Z",
     "start_time": "2021-11-29T11:52:28.054408Z"
    }
   },
   "outputs": [
    {
     "name": "stdout",
     "output_type": "stream",
     "text": [
      "[(52, 1), (55, 1), (56, 1), (57, 1), (58, 1), (59, 1), (60, 1), (61, 1), (62, 1), (63, 1), (64, 1), (65, 1), (66, 2), (67, 1), (68, 1), (69, 1), (70, 1), (71, 2), (72, 1), (73, 1), (74, 1), (75, 1), (76, 1), (77, 1), (78, 2), (79, 1), (80, 1), (81, 1), (82, 1), (83, 1), (84, 1), (85, 2), (86, 1), (87, 1), (88, 1), (89, 1)]\n"
     ]
    }
   ],
   "source": [
    "from gensim import corpora\n",
    "dictionary = corpora.Dictionary(tokenized_doc)\n",
    "corpus = [dictionary.doc2bow(text) for text in tokenized_doc]\n",
    "print(corpus[1])\n"
   ]
  },
  {
   "cell_type": "code",
   "execution_count": 21,
   "id": "44522f9f",
   "metadata": {
    "ExecuteTime": {
     "end_time": "2021-11-29T11:52:50.446188Z",
     "start_time": "2021-11-29T11:52:50.425625Z"
    }
   },
   "outputs": [
    {
     "data": {
      "text/plain": [
       "'faith'"
      ]
     },
     "execution_count": 21,
     "metadata": {},
     "output_type": "execute_result"
    }
   ],
   "source": [
    "dictionary[66]"
   ]
  },
  {
   "cell_type": "code",
   "execution_count": 22,
   "id": "cd9a5ca2",
   "metadata": {
    "ExecuteTime": {
     "end_time": "2021-11-29T11:56:07.275597Z",
     "start_time": "2021-11-29T11:54:54.157952Z"
    }
   },
   "outputs": [
    {
     "name": "stdout",
     "output_type": "stream",
     "text": [
      "(0, '0.019*\"wire\" + 0.018*\"ground\" + 0.013*\"circuit\" + 0.011*\"wiring\"')\n",
      "(1, '0.020*\"israel\" + 0.017*\"jews\" + 0.012*\"israeli\" + 0.009*\"jewish\"')\n",
      "(2, '0.011*\"available\" + 0.009*\"information\" + 0.008*\"data\" + 0.008*\"also\"')\n",
      "(3, '0.008*\"evidence\" + 0.006*\"science\" + 0.006*\"health\" + 0.006*\"medical\"')\n",
      "(4, '0.018*\"runs\" + 0.013*\"ball\" + 0.010*\"pitching\" + 0.009*\"dave\"')\n",
      "(5, '0.012*\"would\" + 0.010*\"good\" + 0.010*\"like\" + 0.008*\"time\"')\n",
      "(6, '0.015*\"mask\" + 0.011*\"thanx\" + 0.009*\"arrest\" + 0.009*\"mydisplay\"')\n",
      "(7, '0.013*\"government\" + 0.008*\"president\" + 0.007*\"public\" + 0.006*\"state\"')\n",
      "(8, '0.011*\"objective\" + 0.010*\"morality\" + 0.010*\"cover\" + 0.008*\"pope\"')\n",
      "(9, '0.017*\"chip\" + 0.014*\"encryption\" + 0.014*\"keys\" + 0.012*\"clipper\"')\n",
      "(10, '0.008*\"john\" + 0.007*\"lemieux\" + 0.007*\"stanley\" + 0.007*\"bruins\"')\n",
      "(11, '0.020*\"jesus\" + 0.013*\"christian\" + 0.012*\"bible\" + 0.010*\"church\"')\n",
      "(12, '0.024*\"game\" + 0.022*\"team\" + 0.016*\"play\" + 0.015*\"games\"')\n",
      "(13, '0.028*\"armenian\" + 0.025*\"armenians\" + 0.020*\"turkish\" + 0.012*\"turkey\"')\n",
      "(14, '0.043*\"file\" + 0.024*\"output\" + 0.022*\"entry\" + 0.019*\"program\"')\n",
      "(15, '0.012*\"windows\" + 0.010*\"thanks\" + 0.009*\"drive\" + 0.009*\"would\"')\n",
      "(16, '0.071*\"scsi\" + 0.021*\"filename\" + 0.012*\"adaptec\" + 0.012*\"byte\"')\n",
      "(17, '0.024*\"price\" + 0.022*\"sale\" + 0.018*\"shipping\" + 0.018*\"offer\"')\n",
      "(18, '0.054*\"space\" + 0.014*\"nasa\" + 0.013*\"launch\" + 0.011*\"earth\"')\n",
      "(19, '0.019*\"people\" + 0.018*\"would\" + 0.012*\"know\" + 0.012*\"think\"')\n"
     ]
    }
   ],
   "source": [
    "import gensim\n",
    "NUM_TOPICS = 20\n",
    "ldamodel = gensim.models.ldamodel.LdaModel(corpus,\n",
    "                                           num_topics = NUM_TOPICS,\n",
    "                                           id2word=dictionary,\n",
    "                                           passes=15)\n",
    "topics = ldamodel.print_topics(num_words=4)\n",
    "for topic in topics:\n",
    "    print(topic)\n",
    "\n",
    "    "
   ]
  },
  {
   "cell_type": "code",
   "execution_count": 28,
   "id": "1bf57e34",
   "metadata": {
    "ExecuteTime": {
     "end_time": "2021-11-29T11:58:00.272728Z",
     "start_time": "2021-11-29T11:57:46.967204Z"
    }
   },
   "outputs": [
    {
     "name": "stderr",
     "output_type": "stream",
     "text": [
      "/Users/timber/opt/anaconda3/envs/NLP_tf/lib/python3.8/site-packages/pyLDAvis/_prepare.py:246: FutureWarning: In a future version of pandas all arguments of DataFrame.drop except for the argument 'labels' will be keyword-only\n",
      "  default_term_info = default_term_info.sort_values(\n"
     ]
    },
    {
     "data": {
      "text/html": [
       "\n",
       "<link rel=\"stylesheet\" type=\"text/css\" href=\"https://cdn.jsdelivr.net/gh/bmabey/pyLDAvis@3.3.1/pyLDAvis/js/ldavis.v1.0.0.css\">\n",
       "\n",
       "\n",
       "<div id=\"ldavis_el728961405635070955849946128394\"></div>\n",
       "<script type=\"text/javascript\">\n",
       "\n",
       "var ldavis_el728961405635070955849946128394_data = {\"mdsDat\": {\"x\": [0.27937262743012586, 0.24195497418723091, 0.17401605569113635, 0.2461004462393941, 0.1554301639446214, 0.15041055872323908, 0.12268939914526204, -0.04284449824105461, 0.07339367843942182, 0.007413384758302829, 0.054412091641946235, -0.033591428480972865, -0.09745516742659985, -0.11246095811162225, -0.16168491134949853, -0.22284293773577754, -0.17656777459296963, -0.20008470206196968, -0.21918643770112295, -0.2384745644990913], \"y\": [0.05318459061566229, -0.01553270705426762, -0.11025126869135113, -0.16259020433928564, 0.12201658492488672, 0.044791061101931845, 0.04200626825408994, 0.06851160035750513, -0.10612935441455687, 0.24079281497656985, -0.16241601037490708, 0.25724067738786166, -0.03898239864543048, -0.08117894712400713, -0.010722839725164088, -0.007022387399501241, -0.04494350245404075, -0.02462379258352965, -0.037674976756360966, -0.026475208056106328], \"topics\": [1, 2, 3, 4, 5, 6, 7, 8, 9, 10, 11, 12, 13, 14, 15, 16, 17, 18, 19, 20], \"cluster\": [1, 1, 1, 1, 1, 1, 1, 1, 1, 1, 1, 1, 1, 1, 1, 1, 1, 1, 1, 1], \"Freq\": [18.34671418259045, 15.311121228215537, 12.01706839894974, 11.332050818871657, 8.749303381953295, 5.3288235865938285, 4.940269623224671, 3.4776006750517654, 3.252509743842559, 3.1116932564131603, 3.0669702344909178, 2.434115627703766, 2.0938285881492797, 1.5012525133931367, 1.2277124315563923, 0.9755879044539075, 0.9576588122138833, 0.938754955109332, 0.6010264802683952, 0.3359375569543293]}, \"tinfo\": {\"Term\": [\"file\", \"space\", \"people\", \"program\", \"know\", \"jesus\", \"windows\", \"system\", \"said\", \"game\", \"team\", \"output\", \"year\", \"government\", \"scsi\", \"armenian\", \"would\", \"think\", \"mail\", \"please\", \"entry\", \"like\", \"price\", \"available\", \"armenians\", \"israel\", \"thanks\", \"drive\", \"chip\", \"play\", \"koresh\", \"apartment\", \"judas\", \"sumgait\", \"karina\", \"mamma\", \"believes\", \"marriage\", \"married\", \"prophecy\", \"sins\", \"messiah\", \"subjective\", \"husband\", \"lyuda\", \"implies\", \"romans\", \"arrogant\", \"feelings\", \"disciples\", \"mankind\", \"nonsense\", \"marina\", \"foods\", \"shouting\", \"deaf\", \"label\", \"vitamin\", \"prayer\", \"gays\", \"food\", \"standing\", \"claiming\", \"woman\", \"people\", \"knew\", \"judge\", \"afraid\", \"said\", \"absolute\", \"says\", \"saying\", \"think\", \"everyone\", \"question\", \"asked\", \"know\", \"told\", \"something\", \"person\", \"mean\", \"would\", \"kill\", \"come\", \"nothing\", \"someone\", \"things\", \"thought\", \"talking\", \"going\", \"anything\", \"even\", \"tell\", \"could\", \"right\", \"never\", \"like\", \"want\", \"really\", \"well\", \"time\", \"believe\", \"take\", \"make\", \"made\", \"many\", \"much\", \"still\", \"anyone\", \"good\", \"also\", \"bike\", \"cars\", \"insurance\", \"ride\", \"tobacco\", \"riding\", \"motorcycle\", \"bikes\", \"foot\", \"rear\", \"honda\", \"smokeless\", \"ford\", \"lucky\", \"wheel\", \"tires\", \"autos\", \"houston\", \"gear\", \"snow\", \"handguns\", \"homicide\", \"motorcycles\", \"phillies\", \"tire\", \"lights\", \"toyota\", \"liked\", \"comparing\", \"aged\", \"brake\", \"miles\", \"front\", \"lock\", \"baseball\", \"damn\", \"driving\", \"higher\", \"good\", \"road\", \"engine\", \"owner\", \"imho\", \"much\", \"better\", \"back\", \"little\", \"year\", \"like\", \"years\", \"time\", \"around\", \"last\", \"would\", \"pretty\", \"well\", \"still\", \"probably\", \"long\", \"really\", \"think\", \"make\", \"even\", \"enough\", \"getting\", \"take\", \"also\", \"less\", \"could\", \"might\", \"look\", \"right\", \"know\", \"used\", \"first\", \"since\", \"many\", \"widget\", \"jpeg\", \"contrib\", \"ripem\", \"xlib\", \"widgets\", \"newsgroups\", \"toolkit\", \"binaries\", \"networks\", \"proceedings\", \"planetary\", \"telescope\", \"monthly\", \"astronomy\", \"functionality\", \"propulsion\", \"visualization\", \"listserv\", \"layout\", \"library\", \"password\", \"offset\", \"handler\", \"isbn\", \"cryptanalysis\", \"ozone\", \"molecular\", \"ieee\", \"digest\", \"distribution\", \"export\", \"mailing\", \"anonymous\", \"images\", \"requests\", \"processing\", \"distributed\", \"archive\", \"comp\", \"image\", \"sites\", \"database\", \"available\", \"internet\", \"objects\", \"request\", \"users\", \"motif\", \"data\", \"graphics\", \"information\", \"list\", \"mail\", \"contact\", \"send\", \"user\", \"version\", \"software\", \"university\", \"systems\", \"code\", \"server\", \"based\", \"subject\", \"also\", \"computer\", \"program\", \"email\", \"system\", \"source\", \"include\", \"monitor\", \"keyboard\", \"drives\", \"modem\", \"printer\", \"xterm\", \"font\", \"fonts\", \"motherboard\", \"bios\", \"microsoft\", \"mouse\", \"simms\", \"upgrade\", \"cache\", \"desktop\", \"adapter\", \"gateway\", \"intel\", \"windows\", \"openwindows\", \"sunos\", \"connector\", \"macs\", \"svga\", \"settings\", \"diamond\", \"vram\", \"icon\", \"eisa\", \"card\", \"screen\", \"floppy\", \"disk\", \"controller\", \"memory\", \"video\", \"apple\", \"drive\", \"window\", \"port\", \"tape\", \"thanks\", \"advance\", \"installed\", \"appreciated\", \"color\", \"display\", \"mode\", \"problem\", \"using\", \"running\", \"anyone\", \"system\", \"need\", \"please\", \"help\", \"hardware\", \"work\", \"know\", \"like\", \"hard\", \"would\", \"used\", \"software\", \"also\", \"want\", \"could\", \"president\", \"federal\", \"jobs\", \"firearms\", \"amendment\", \"constitution\", \"militia\", \"economic\", \"nist\", \"funds\", \"administration\", \"senate\", \"warrant\", \"firearm\", \"attorney\", \"funding\", \"assault\", \"ncsl\", \"rockefeller\", \"feds\", \"legislation\", \"surveillance\", \"initiative\", \"constitutional\", \"senator\", \"maine\", \"republicans\", \"financial\", \"concealed\", \"rkba\", \"clinton\", \"congress\", \"senior\", \"united\", \"government\", \"private\", \"privacy\", \"weapons\", \"states\", \"legal\", \"illegal\", \"national\", \"proposal\", \"crime\", \"protect\", \"police\", \"public\", \"technology\", \"american\", \"state\", \"military\", \"bill\", \"rights\", \"washington\", \"security\", \"court\", \"control\", \"house\", \"april\", \"laws\", \"people\", \"year\", \"disease\", \"islam\", \"patients\", \"diseases\", \"aids\", \"patient\", \"diet\", \"homosexuality\", \"homosexual\", \"syndrome\", \"hicnet\", \"infections\", \"infection\", \"temple\", \"subjects\", \"genetic\", \"clinical\", \"cure\", \"therapy\", \"cluster\", \"chronic\", \"convincing\", \"researchers\", \"pagan\", \"balloon\", \"detectors\", \"chemistry\", \"yeast\", \"secular\", \"reactions\", \"radar\", \"medical\", \"medicine\", \"prevention\", \"detector\", \"treatment\", \"theory\", \"evidence\", \"symptoms\", \"health\", \"pain\", \"science\", \"study\", \"universe\", \"physical\", \"studies\", \"scientific\", \"natural\", \"doctor\", \"sexual\", \"doctors\", \"cause\", \"human\", \"among\", \"results\", \"research\", \"many\", \"general\", \"cases\", \"knowledge\", \"world\", \"book\", \"years\", \"since\", \"however\", \"also\", \"problem\", \"jesus\", \"bible\", \"church\", \"faith\", \"christ\", \"christianity\", \"lord\", \"matthew\", \"scripture\", \"mary\", \"biblical\", \"worship\", \"passages\", \"satan\", \"divine\", \"resurrection\", \"grace\", \"revelation\", \"testament\", \"sabbath\", \"gospel\", \"orthodox\", \"luke\", \"churches\", \"salvation\", \"mormon\", \"christians\", \"verses\", \"verse\", \"scriptures\", \"christian\", \"atheism\", \"spirit\", \"eternal\", \"catholic\", \"doctrine\", \"heaven\", \"belief\", \"interpretation\", \"holy\", \"beliefs\", \"atheists\", \"religion\", \"truth\", \"religions\", \"existence\", \"word\", \"paul\", \"argument\", \"believe\", \"john\", \"meaning\", \"therefore\", \"true\", \"exist\", \"world\", \"words\", \"also\", \"must\", \"life\", \"season\", \"hockey\", \"teams\", \"detroit\", \"montreal\", \"minnesota\", \"puck\", \"calgary\", \"scorer\", \"scoring\", \"pitt\", \"playoffs\", \"scored\", \"quebec\", \"flyers\", \"pens\", \"compass\", \"espn\", \"coach\", \"winnipeg\", \"sharks\", \"jets\", \"shameful\", \"cadre\", \"chastity\", \"sweden\", \"winner\", \"lindros\", \"tampa\", \"edmonton\", \"team\", \"game\", \"philadelphia\", \"leafs\", \"players\", \"games\", \"play\", \"louis\", \"league\", \"chicago\", \"player\", \"pittsburgh\", \"toronto\", \"kings\", \"boston\", \"played\", \"fans\", \"period\", \"goal\", \"division\", \"year\", \"flames\", \"first\", \"second\", \"points\", \"power\", \"last\", \"third\", \"series\", \"keys\", \"encrypted\", \"wiretap\", \"phones\", \"cellular\", \"creative\", \"dont\", \"steering\", \"denning\", \"trigger\", \"riders\", \"paranoid\", \"kidney\", \"wrap\", \"clipper\", \"escrowed\", \"ghetto\", \"skipjack\", \"losses\", \"premises\", \"managing\", \"hammer\", \"anyways\", \"implement\", \"pads\", \"replacing\", \"seeds\", \"mime\", \"methanol\", \"hawk\", \"algorithm\", \"escrow\", \"scheme\", \"crypto\", \"secure\", \"encryption\", \"chip\", \"compact\", \"hash\", \"random\", \"classified\", \"block\", \"secret\", \"bits\", \"blocks\", \"chips\", \"phone\", \"system\", \"security\", \"number\", \"used\", \"method\", \"serial\", \"using\", \"unit\", \"standard\", \"message\", \"data\", \"must\", \"would\", \"could\", \"israel\", \"israeli\", \"arab\", \"palestinian\", \"arabs\", \"civilians\", \"lebanon\", \"palestine\", \"cursor\", \"palestinians\", \"israelis\", \"lebanese\", \"gaza\", \"yankees\", \"iran\", \"hebrew\", \"cooper\", \"zionist\", \"decenso\", \"borders\", \"tyre\", \"negotiations\", \"gang\", \"massacres\", \"defeated\", \"formatted\", \"yassin\", \"nords\", \"casualties\", \"fighters\", \"judges\", \"jerusalem\", \"jews\", \"nazis\", \"propaganda\", \"entries\", \"jewish\", \"nazi\", \"occupied\", \"peace\", \"attacks\", \"land\", \"anti\", \"german\", \"hitler\", \"francisco\", \"northern\", \"deaths\", \"western\", \"killed\", \"soldiers\", \"state\", \"country\", \"west\", \"rights\", \"south\", \"countries\", \"death\", \"world\", \"attack\", \"printf\", \"char\", \"null\", \"contest\", \"entry\", \"uuencode\", \"echo\", \"winners\", \"prog\", \"pixmap\", \"sleeve\", \"string\", \"anon\", \"argv\", \"cica\", \"astros\", \"pseudo\", \"digit\", \"arithmetic\", \"ctrl\", \"accelerators\", \"argc\", \"corn\", \"pyramid\", \"tigers\", \"grayscale\", \"wustl\", \"leagues\", \"qemm\", \"alias\", \"remark\", \"output\", \"obfuscate\", \"file\", \"guidelines\", \"stream\", \"title\", \"section\", \"define\", \"bytes\", \"rules\", \"build\", \"exit\", \"obscure\", \"program\", \"check\", \"size\", \"count\", \"line\", \"return\", \"author\", \"input\", \"info\", \"open\", \"name\", \"files\", \"number\", \"read\", \"must\", \"year\", \"source\", \"armenian\", \"armenians\", \"turkish\", \"turkey\", \"armenia\", \"turks\", \"genocide\", \"azerbaijan\", \"henrik\", \"azerbaijani\", \"greece\", \"karabakh\", \"argic\", \"ottoman\", \"serdar\", \"azeri\", \"cyprus\", \"azeris\", \"allocation\", \"azerbaijanis\", \"kurds\", \"istanbul\", \"karabagh\", \"sdpa\", \"fascist\", \"ankara\", \"refugees\", \"nagorno\", \"retail\", \"asala\", \"massacre\", \"baku\", \"republic\", \"soviet\", \"greek\", \"ethnic\", \"muslim\", \"russian\", \"killed\", \"soldiers\", \"women\", \"history\", \"said\", \"people\", \"government\", \"children\", \"dead\", \"world\", \"launch\", \"orbit\", \"lunar\", \"solar\", \"satellites\", \"spacecraft\", \"satellite\", \"battery\", \"mars\", \"saturn\", \"temperature\", \"rockets\", \"orbital\", \"payload\", \"engines\", \"ciphertext\", \"venus\", \"plants\", \"launches\", \"cooling\", \"batteries\", \"liquid\", \"titan\", \"intake\", \"males\", \"launched\", \"orbiter\", \"lopez\", \"torque\", \"diagnosed\", \"probe\", \"moon\", \"shuttle\", \"fuel\", \"flight\", \"space\", \"exhaust\", \"missions\", \"rocket\", \"atmosphere\", \"water\", \"mission\", \"nasa\", \"earth\", \"station\", \"surface\", \"stage\", \"nuclear\", \"power\", \"high\", \"first\", \"vehicle\", \"system\", \"sale\", \"myers\", \"terminals\", \"pounds\", \"forsale\", \"deck\", \"inner\", \"shipping\", \"toshiba\", \"allocated\", \"bounced\", \"witnessed\", \"democrats\", \"aggression\", \"targa\", \"raid\", \"flaws\", \"tons\", \"feustel\", \"biker\", \"miami\", \"rickey\", \"clubs\", \"mixer\", \"darn\", \"momentum\", \"appointment\", \"castle\", \"mosaic\", \"olympic\", \"offer\", \"condition\", \"price\", \"asking\", \"manuals\", \"excellent\", \"nick\", \"sell\", \"netcom\", \"prices\", \"items\", \"stereo\", \"paid\", \"interested\", \"included\", \"sold\", \"best\", \"email\", \"trade\", \"includes\", \"original\", \"please\", \"mail\", \"games\", \"send\", \"package\", \"great\", \"address\", \"contact\", \"call\", \"pope\", \"candida\", \"allah\", \"alomar\", \"zionism\", \"meat\", \"theories\", \"ghost\", \"unto\", \"hulk\", \"suck\", \"miracles\", \"runner\", \"wolverine\", \"comics\", \"believer\", \"mainstream\", \"twins\", \"schism\", \"comic\", \"mint\", \"objection\", \"insane\", \"nintendo\", \"baerga\", \"forty\", \"sega\", \"udel\", \"corruption\", \"confess\", \"bishop\", \"morality\", \"objective\", \"frank\", \"posters\", \"cover\", \"copies\", \"essence\", \"bobby\", \"appears\", \"definitions\", \"smith\", \"annual\", \"issue\", \"rider\", \"colorado\", \"copy\", \"double\", \"print\", \"force\", \"lemieux\", \"stanley\", \"bruins\", \"francis\", \"finals\", \"jagr\", \"arena\", \"stevens\", \"rochester\", \"tocchet\", \"civic\", \"publisher\", \"fleury\", \"neely\", \"franchise\", \"championships\", \"bone\", \"babies\", \"bure\", \"gainey\", \"messier\", \"canadiens\", \"mullen\", \"moncton\", \"providence\", \"seal\", \"juneau\", \"knee\", \"dreams\", \"sutter\", \"cassels\", \"captain\", \"kevin\", \"murphy\", \"scott\", \"andrew\", \"john\", \"jeff\", \"mike\", \"gary\", \"period\", \"steve\", \"jersey\", \"hartford\", \"brian\", \"mark\", \"michael\", \"david\", \"king\", \"circuit\", \"wiring\", \"electrical\", \"cubs\", \"braves\", \"slots\", \"wires\", \"hitter\", \"mets\", \"aluminum\", \"temp\", \"dodgers\", \"sync\", \"grounded\", \"idle\", \"wire\", \"pitched\", \"shaft\", \"jays\", \"powerpc\", \"batting\", \"intentional\", \"orioles\", \"streak\", \"voltage\", \"bullpen\", \"lciii\", \"rockies\", \"uniforms\", \"transformer\", \"electronics\", \"amps\", \"neutral\", \"ground\", \"connected\", \"panel\", \"processor\", \"cable\", \"unit\", \"current\", \"cross\", \"radio\", \"lost\", \"power\", \"pitcher\", \"liar\", \"clemens\", \"pitching\", \"patent\", \"paradox\", \"innings\", \"inning\", \"wwii\", \"ingr\", \"fuse\", \"pitchers\", \"bonds\", \"trees\", \"catbyte\", \"dtmedin\", \"boggs\", \"morris\", \"sandberg\", \"nixon\", \"norm\", \"fielding\", \"catcher\", \"winfield\", \"moore\", \"surfaces\", \"homers\", \"huntsville\", \"pitch\", \"theist\", \"kent\", \"ball\", \"nolan\", \"borland\", \"runs\", \"olson\", \"rotation\", \"dave\", \"stats\", \"pirates\", \"park\", \"davis\", \"career\", \"average\", \"bases\", \"base\", \"hits\", \"field\", \"year\", \"players\", \"smith\", \"filename\", \"adaptec\", \"weaver\", \"laptop\", \"fleet\", \"asynchronous\", \"headache\", \"chrysler\", \"beef\", \"promotion\", \"wrench\", \"executables\", \"laserjet\", \"throughput\", \"interrupts\", \"rtrace\", \"synchronous\", \"rewritten\", \"investigated\", \"phenomena\", \"barrasso\", \"swap\", \"mathcad\", \"antibiotic\", \"whats\", \"combo\", \"ware\", \"perpendicular\", \"devotion\", \"libertarianism\", \"tips\", \"scsi\", \"nubus\", \"burst\", \"tapes\", \"confidential\", \"byte\", \"column\", \"loop\", \"saab\", \"shadow\", \"assembled\", \"randy\", \"bath\", \"wide\", \"integration\", \"speeds\", \"fast\", \"chip\", \"tape\", \"thanx\", \"mydisplay\", \"kong\", \"deletion\", \"coprocessor\", \"promo\", \"icons\", \"arafat\", \"hong\", \"combat\", \"capitalist\", \"auth\", \"socialist\", \"oxygen\", \"boom\", \"repost\", \"limbaugh\", \"kirlian\", \"polish\", \"assessment\", \"laserwriter\", \"scratches\", \"imprisoned\", \"persecuted\", \"spacewalks\", \"myhint\", \"uudecode\", \"tesla\", \"anas\", \"aura\", \"mask\", \"photography\", \"arrest\", \"chemicals\", \"adobe\", \"boots\", \"plastic\", \"detail\", \"main\"], \"Freq\": [1784.0, 1309.0, 4366.0, 1630.0, 3694.0, 965.0, 1328.0, 2094.0, 1908.0, 855.0, 789.0, 786.0, 1571.0, 1278.0, 487.0, 654.0, 6481.0, 3220.0, 1284.0, 1560.0, 640.0, 4233.0, 591.0, 1597.0, 577.0, 593.0, 1311.0, 1102.0, 662.0, 625.0, 197.4467427692088, 183.3302710240767, 148.59198207921258, 130.40349667859914, 129.86303844205955, 94.12058823118507, 86.64657288987321, 81.6901966715218, 72.64907375543217, 71.83749911614034, 67.89295356530283, 62.351224555333864, 62.07080696352411, 61.42555227066837, 60.56694645447011, 60.13896427442246, 60.07391204371713, 59.03459595459141, 59.799603456562465, 58.25713587384929, 55.91669868057533, 54.74868044746812, 52.63966132536053, 51.852762373486044, 50.22134707107442, 49.91517783192894, 49.847371959726324, 49.646534607188144, 49.304868889408205, 49.25217235008791, 301.0288431850692, 104.08198833433995, 82.49852303371405, 207.21411313352715, 3381.315759777275, 219.4307150269428, 161.2001415948701, 126.48496284123877, 1418.7709062587257, 134.20333836875423, 563.8379582815832, 436.4817534692753, 2072.788583841989, 387.25880031507523, 785.2351812844768, 345.0910846238109, 2171.856201208443, 469.09775991881986, 1082.3650108907998, 532.1016892970605, 567.1108753732243, 3168.0019635750596, 258.248024115098, 685.633969387882, 518.256257464639, 668.7070699385863, 790.0702493962006, 480.6910801586609, 284.4673621611356, 841.8821150941158, 636.8973297194472, 1202.5102649128366, 574.4163066628689, 1273.0344912068879, 981.0419367672797, 690.9482935042001, 1626.634368852002, 922.5027005207056, 799.1083127106266, 1123.226847797329, 1210.6308556750557, 695.9189631616568, 688.2428713291331, 789.6129409342068, 605.9892745079304, 745.2595681984965, 709.4873582621069, 619.0146922998044, 619.2933200246409, 650.5813777627832, 615.3396619601818, 360.46394177598233, 292.577144611522, 183.59436639727596, 151.5704204348241, 160.15047237550272, 122.54719376835058, 116.09788573552227, 109.87202302739705, 104.53087715799164, 101.29404782687106, 98.96031108032922, 98.67423161307138, 90.13779972682856, 88.93900147371063, 81.99136942777749, 79.7984424725695, 79.67918311593446, 78.46606897373145, 73.38307722551485, 72.30207439744895, 71.33573060613074, 70.3955886367795, 68.66451081793787, 66.19587107377504, 63.972584560679735, 63.792938026245274, 60.47891183781097, 57.86883247128438, 53.80629040434664, 53.70850488133922, 57.71406851814612, 202.51268615475652, 288.35897895720245, 145.44468383799307, 189.87294766485005, 107.90928229115814, 175.7087627456757, 238.05011898382867, 1483.445995287586, 237.97949279617828, 211.86994958633474, 113.48332946194529, 100.3120220940313, 1071.3155501971244, 681.3187292942555, 809.2265170928672, 555.5327571230837, 725.2778711385968, 1475.9390903095596, 668.5390832034094, 1136.5435752474625, 522.9465592979919, 615.519839016382, 1724.304820215574, 312.8508607453526, 923.1737766869467, 607.0195032571366, 484.1368478642918, 516.0857928668045, 600.5089569234955, 931.5327579361295, 689.9410820486992, 737.5016998567842, 420.8731125940768, 348.8879878955811, 512.7599445797143, 810.1281627683233, 371.75184158373474, 664.6696737150531, 446.2207815497219, 425.75923958929826, 492.3842639088806, 579.4898953443864, 479.7896179162231, 476.2179653028683, 445.4321990553635, 459.5101141459015, 457.3046229468995, 312.1936029077924, 287.75673066062825, 256.3121783841279, 162.78137773116006, 156.68482516543932, 146.6335115324458, 128.04584059124932, 122.69112804114086, 102.00674969062017, 90.7671306254217, 84.02001512125368, 84.0024798221057, 79.66595692206782, 79.65440032491506, 71.55480890783319, 70.08465610737994, 69.61173075938723, 67.74576784650864, 66.07577943690795, 322.80279957813644, 61.82078732776577, 60.20169470643499, 57.289305301772096, 56.634213246059154, 55.60218573991807, 55.11690552115423, 55.07133378371135, 54.54400892767611, 53.20934553863964, 256.06987729052946, 342.8399082863927, 189.07087270362246, 435.3580170230799, 327.41547170921376, 167.08140716862823, 186.14531679434216, 154.77866800685658, 283.4573291538724, 365.7086371414077, 660.2755035013133, 231.28729578564847, 113.2033488219089, 1240.7913013612283, 404.19889265591104, 145.63377903724984, 353.25612982462735, 346.72655891171775, 392.11972354819073, 872.421173215424, 491.1968491401283, 976.0574231449264, 666.6122596048486, 773.2038453916701, 390.27256515611276, 578.9903270357495, 389.3264739760247, 608.0125363876621, 648.8936581297683, 415.71148121790344, 441.3442007459347, 458.8884512466294, 434.95098431919985, 511.3642735115384, 468.5710359491961, 868.439290885469, 412.76023359032865, 481.763780054238, 402.6972297579031, 457.557558781924, 382.84155294483134, 368.91888614748376, 375.13690835947733, 371.5069110966513, 328.88970056719313, 291.39565353892743, 233.37944647870367, 212.3775552327146, 191.34011060981513, 182.33743367651556, 170.98601650556262, 170.18736318553923, 161.22720667997626, 335.64317915900136, 145.93841049925877, 141.4029234046445, 119.67081467965879, 111.22821052118319, 110.96588152967752, 102.99976443407965, 99.7738120239135, 1316.2583798425082, 97.36301715905518, 91.8409112565312, 84.35513640925919, 83.97987946100773, 82.90757726671677, 81.91977418615305, 81.12876194447698, 78.68117273615057, 78.54369631912485, 76.94341009947516, 780.9063643709933, 438.05726407177565, 241.17314481466025, 669.9793244646378, 293.1783870398416, 537.2225111352776, 451.8623052021323, 401.29829759957516, 976.0882050757948, 778.5024420671217, 254.06614481769586, 300.69405847230445, 1041.5674968231858, 318.3216545595689, 230.60910517622722, 266.96526776232554, 462.51904567235374, 483.61079045630356, 316.4243489787031, 861.9014420906664, 812.9087879189301, 425.2113326074138, 826.7289978181741, 882.3345297006695, 769.7263769660291, 655.952446388626, 583.1509732026029, 360.3022303469868, 650.8170873988263, 917.6783659432147, 888.6972487112396, 436.43264356881537, 955.294191476518, 608.0408063743748, 487.4197136790452, 655.8809868727379, 465.2330458332485, 471.95820267052284, 676.0282055327665, 319.9554574956875, 263.45617480354395, 213.4329844385306, 198.98749617810543, 179.46821131139023, 159.81089717011778, 150.57825614880826, 136.6548375990781, 130.5330593188646, 354.03355275451156, 110.93164752014891, 102.0712478151718, 90.57403178673592, 86.35088070969404, 92.33966841614102, 89.68213311066627, 82.62189194456597, 79.93016545515403, 75.73936711716622, 73.6047915631632, 70.46299625736725, 67.77603124293034, 67.39332343615231, 67.12647170228578, 65.19225745887685, 64.6542399683625, 63.37380687977418, 62.77549520614898, 61.307516421429504, 292.7759467071309, 283.7402721960758, 119.67044722785752, 367.244131323454, 1082.8704941940716, 339.18926786277575, 305.72990171572314, 258.90097528983637, 493.3479878300444, 264.486345934711, 146.97580880952341, 476.5747559853981, 131.69946018859216, 255.62797921904902, 210.88845999364827, 302.22747939618966, 590.9846244977304, 343.0846310262144, 392.9598703506347, 532.2051254261216, 281.92834371905843, 277.1181548182301, 294.04171114554083, 258.13594876514446, 282.37097121091557, 226.11189252905513, 314.3147000510011, 251.40206561107166, 274.9762206210838, 227.28600708551446, 317.68524070003093, 251.6369974672455, 220.01089403033777, 201.99858449003654, 179.55521495307784, 114.23730392954911, 89.31886690233922, 85.86671255910883, 84.75847656764607, 76.90742596597151, 75.63395758202981, 71.31099476117626, 68.24475788105373, 67.90324995591726, 65.07432802543723, 60.432435287612755, 60.22413820309618, 59.50340149793211, 57.02696546402145, 56.76570988698536, 54.02028689302732, 50.77364515154315, 50.33165886941697, 49.61797223765017, 50.854152250194865, 48.91699647350846, 46.65480861548207, 46.14879107850066, 45.47488996597704, 44.757645713138764, 97.72991253572003, 42.68590166552585, 137.62963704350645, 313.45138195150844, 132.78315591523827, 61.38993597029667, 75.84180440975798, 142.66786831931762, 224.00154364362845, 387.30811674541997, 75.2140575802608, 318.86012716871915, 198.99665138861485, 325.58646593513447, 242.75066287155326, 127.2422010863187, 152.67443442897272, 137.44898928045635, 169.80912239551057, 123.43058779073021, 136.99393370260378, 82.19769440351946, 83.23868809829395, 198.79159496808845, 210.73671798246227, 186.99377701669766, 127.15784903167133, 166.22689123588478, 273.3989315259839, 157.09632340578227, 127.64448182902595, 117.84556704086198, 149.62200147407341, 132.5662032364079, 146.21377086543745, 146.41203788754933, 139.53647454236886, 136.40287687692955, 133.76111365963712, 965.0497243158188, 555.1615695862117, 483.7944525916833, 400.3631946447831, 399.3994676778016, 253.13506134033167, 210.0891833329199, 196.6203157462111, 135.75541919635864, 119.85404507502912, 114.66967908571189, 99.06146989046181, 95.6090266718801, 94.80638223172824, 92.50180580536295, 90.44136321816329, 86.79518486698267, 86.55587888996526, 84.08019621843073, 80.15802233488552, 79.73185227822417, 79.12623843971438, 71.77191044199652, 69.48380586839862, 67.66353157261601, 65.89851130779036, 439.16945172817054, 64.86643082040534, 63.981899466979385, 62.071356781656235, 596.8178361772977, 178.33070422440727, 204.274064568742, 142.30499914618545, 135.6668040337881, 105.26758507171373, 156.0228064644145, 206.9803696563652, 122.12432665355193, 175.1399212478524, 164.89684550383365, 147.1523704711492, 288.99727819932235, 278.78743176815544, 123.07430052972663, 172.6164597676405, 317.26060481045397, 200.0548096434044, 219.27400707290258, 422.7759432448324, 249.05863204332456, 164.12137769839103, 181.0433915370774, 256.8673997296457, 184.10846335453255, 218.34400373912942, 178.496883743357, 241.96164173073862, 187.03957435538328, 179.31113921943756, 444.73276619158986, 369.26573986588284, 272.9445650757278, 180.7677497728558, 148.6906269468699, 137.06207818592162, 135.34644821457397, 125.34513817693406, 119.59460354430243, 116.2796263054838, 114.6616048306806, 108.63046993483059, 102.10097727982706, 96.09284684228489, 95.9456105765237, 85.4795718181104, 84.56281129103131, 83.52812875077761, 80.78911355466792, 80.2525104002907, 76.76810435946099, 75.61319549390637, 75.51005046218597, 74.80745950880507, 73.35947771070414, 71.95399423289226, 68.04781401444882, 61.64157886042912, 60.407070702833884, 57.004460009896704, 745.3346133180625, 796.8864367646752, 152.99120023809752, 91.85847226284666, 332.53794295729267, 503.7901827238329, 533.0380587490051, 130.8859185453444, 320.9642955926421, 202.43058807217776, 230.08033857926148, 197.00351545483187, 178.20475154631293, 148.98375400755342, 163.33734517262408, 163.43442012038764, 124.46837834324201, 279.2379971918333, 173.19398616472407, 166.23330876882594, 345.2628184741687, 133.88831352445348, 273.4582256325254, 210.5792234276835, 156.4047525473391, 200.96363822828553, 192.85211930971343, 158.47745810717052, 138.99550431615955, 432.44678245688317, 145.03105466267826, 98.03073084499553, 95.40020929137411, 69.37806506410222, 57.910903544694065, 53.764705483610925, 53.562329856055825, 51.710628662781566, 46.89942890362701, 45.90191370035906, 45.05751273068946, 44.9662798914082, 44.479259974923124, 380.7045495525115, 36.18292597871891, 33.656514004001444, 32.747776344815705, 32.73645450495088, 31.44924701260881, 31.39150960694873, 31.0373106741989, 30.22238047900977, 67.0273169855181, 29.889727756044223, 29.716233487479986, 28.941907872246833, 28.494521627380564, 28.312527842814323, 26.596316275185313, 266.7031467787131, 183.3914007895307, 109.58807655035989, 132.5488111887842, 203.89763575901586, 436.7425293302594, 521.5020388679443, 38.711930658381476, 56.72787433612898, 129.8771318001767, 60.539291631205856, 157.39781609316026, 184.29626566350555, 184.92354838628793, 60.61734398300475, 137.89449869959012, 202.66385534556323, 367.76781249543933, 164.40044817849883, 275.2962894424182, 286.14648120208915, 99.51715715677963, 119.01021944403975, 208.96490219596922, 104.42592506771727, 123.38382701877961, 119.46648488973261, 142.35173818502747, 110.4614745924907, 127.80667067515458, 105.28530731575161, 592.8789172873937, 363.6075101405616, 240.50459344193024, 125.39660025765129, 113.77283751172979, 95.62946471256714, 82.42715039707139, 80.29703153774084, 77.81948990914194, 76.50892429339042, 74.74753866335541, 69.20005921230373, 63.192467556119034, 59.624418487471715, 59.44199264686213, 56.718446665578966, 56.17287467245045, 51.966051483467936, 50.95881397407779, 49.49876032452175, 46.662012902814794, 44.86544079730303, 43.018474297113286, 42.728063927398274, 36.93369795364495, 35.45897260587861, 34.95896555901932, 34.50045855736887, 33.36323762028352, 31.445199352106908, 107.58675691485612, 70.83572696613923, 501.8069781298479, 91.19875715164937, 68.63642522050606, 201.97086740315112, 274.7589438619069, 136.59191205333735, 73.52429750085177, 176.11022285925688, 112.66649252525205, 166.4410997885068, 205.96775488494347, 123.34133092967606, 74.04485391988015, 94.21904436983097, 69.92550740171714, 72.03972644379364, 111.61318152452385, 137.49886585895007, 97.2181802645375, 149.6251679986042, 117.9034688871345, 92.69496593395614, 111.36456179719987, 92.89912429240516, 88.2862538121379, 92.35326516158473, 100.68464486106808, 85.15675048631684, 220.92782147134574, 217.40776741257747, 203.48411410823516, 169.82128364333198, 635.8159326362493, 133.43125213179698, 110.76482962588236, 88.57918447934243, 74.94564791858197, 73.05124191236834, 71.01703539740036, 157.49075601953217, 57.282794733577674, 56.90919662765846, 42.59365180936117, 38.870406235539704, 38.76436584476527, 38.45149571594155, 38.36799389499313, 37.88117783559393, 37.749059535284054, 37.53468738929903, 33.14131660118486, 32.20967237177185, 31.14061447155884, 29.670025641823795, 29.513319500815687, 28.023139846128245, 27.203562773324382, 27.115841363849533, 144.7398857733616, 692.7212046203571, 45.058689394624984, 1257.9946461617515, 84.04310805970663, 194.01330477429224, 227.19451225723117, 327.7753726465611, 180.50562958863276, 121.35423397689641, 254.32047551889139, 287.8845727269289, 70.62396410354222, 45.85618992123543, 566.3853534121932, 263.0405629403605, 232.40597516396477, 127.94475729735302, 331.02943748369745, 187.69492189785277, 151.15055062465296, 166.62960393078512, 236.1261144386771, 209.49972318039778, 260.76802042634586, 224.54644511809136, 193.82597209256141, 170.1193110498482, 171.865398945579, 157.2001755474335, 145.84074999420048, 653.7680608736989, 576.1205943319686, 460.9264729198755, 290.31729385026716, 224.2385914971073, 215.77450754011946, 193.42432574063656, 171.63084828484, 151.31622194467363, 128.4460640645102, 106.95981371175877, 100.1907829325926, 95.33648212742868, 92.45492095186631, 91.35764109204405, 88.22260835546047, 76.28082984945706, 76.20218828425297, 62.09030309312617, 79.68216684844512, 61.100539729709915, 59.89094261172417, 53.10632424083138, 48.686619565137065, 43.58529602379301, 43.03573058062311, 42.52336698180492, 42.32730701079764, 39.97587820615016, 39.506586154193236, 87.31828447919575, 83.04939516581473, 95.23829112426745, 153.1035558304602, 217.69240915604942, 75.4747835740854, 144.2958412489157, 191.63229392789904, 173.26114800869735, 107.6138972048706, 132.0006303375859, 131.588230289252, 194.0690675034289, 240.20251531676087, 135.33111415487494, 109.0941338842098, 94.19414979762989, 95.1132115253778, 256.37221952383624, 181.46393235367353, 164.83345505726103, 127.13633897982649, 111.2505992825134, 107.36248071897509, 215.2676130402097, 104.89551938105977, 85.78250272190986, 81.90771812821328, 76.21792603698027, 66.47095703273534, 64.89098868795355, 61.32944064835988, 60.87569459362044, 55.94287066670132, 52.27623846743676, 47.02062911345895, 46.55171473688141, 45.407256008336965, 44.71018362684909, 44.58450723651832, 44.52704173730173, 43.224875294225754, 43.18297385268404, 89.22689433095293, 42.27268365805331, 41.521469958377814, 40.93782943485907, 40.621012635362206, 77.7374864702061, 157.1552486805291, 181.96522257741563, 106.08750365574396, 153.20738797278378, 1083.0438787910691, 58.61298881607376, 75.49052166753192, 110.96867707238933, 60.794750319993305, 220.65111024948854, 147.45711347854316, 282.14732329090015, 222.73141439628841, 115.65519501449482, 96.58945249283542, 78.6902461036972, 86.77360217441165, 132.22309018010694, 113.4517844324454, 103.26218256690103, 78.77565055299067, 83.08596804150324, 320.71435749205506, 149.86999655977806, 58.23896724229983, 51.80545772212381, 45.905022417411615, 45.42639591775697, 43.653208296232464, 265.16923530266456, 31.133404853183297, 30.27735296969687, 29.328301677072833, 26.400814802768515, 25.788931432590772, 25.285018840896736, 24.564991111141417, 22.78791460549468, 22.551874360716152, 22.310987197701163, 20.56034508979171, 20.071155179145826, 19.766723983383397, 19.219873437642804, 19.216947594781747, 18.514328045882586, 18.402712064427657, 17.84071323014914, 17.226950510820483, 17.09576159198298, 17.01093551569797, 16.59443101906023, 257.2298230026388, 224.71493295673338, 338.3227174066214, 197.73742668151982, 67.70407056687634, 142.07442957700127, 35.01912445854787, 168.14562890395572, 47.30540458267959, 65.44548678303634, 61.572285045018, 47.495736252105594, 75.15999275852124, 124.76842122316893, 95.33712587166924, 60.20910598150303, 131.33644941489655, 111.52951136540112, 62.32134755082066, 83.75271756249387, 85.72347051172153, 120.01836123708574, 111.05580188404008, 81.4513927723869, 91.5768119304282, 72.0253318415388, 76.14905783137975, 71.01247280642856, 63.403245127918844, 58.89457635764245, 91.02111450130467, 80.68110359425368, 56.66836899553488, 45.664636579330924, 45.5945690032494, 44.66411188576954, 43.279333405569304, 42.55901349945142, 42.4400484899818, 38.8390877489978, 36.64111372183947, 35.21901518738238, 35.101423302577466, 35.07918851054162, 34.835959813721274, 33.57733409098702, 33.4576210971076, 32.606884376413845, 29.753468536142393, 28.058423938861004, 27.030062759800607, 25.983026539326183, 25.935010853983215, 25.207344867402654, 24.917517287825785, 24.845211218255077, 23.614913357639423, 22.84313812984153, 22.715892059396985, 22.58016564745958, 32.567069220877585, 120.26460235307918, 130.11862540414816, 73.63697952405242, 40.472396333769595, 114.45025200843268, 79.57450706774635, 36.91736565736547, 48.01403104168192, 77.13431985544813, 36.986477778908935, 62.40394074858279, 45.153290959908674, 61.676916281477794, 39.27190046513127, 41.824056029810365, 44.234924437140506, 41.31863422852412, 37.94285501307146, 37.26286347807027, 69.50473361230235, 62.80942777740872, 61.799337590070856, 61.55953450301728, 51.29134792588436, 50.731062609938554, 48.201834855707354, 42.083118499753176, 37.253962518310395, 34.762161017954824, 34.50899094681839, 33.20629569911294, 31.755461642089305, 31.72420476548269, 31.169034566133345, 31.01173496911929, 30.920892841167646, 29.65317258281111, 29.493397859403263, 28.793915426510182, 28.69514465090796, 28.52708335184342, 27.93012668472579, 27.83931492642315, 26.698659110236957, 26.668046504041346, 26.064480099744152, 24.629770157080774, 24.62325369810886, 24.28640439766434, 26.329702583013724, 40.106631372951036, 39.66925202652273, 41.21406930090924, 45.438595940339695, 49.29360204477971, 72.69718677703763, 37.47940509990656, 41.12207963407739, 33.0428484174363, 43.624855424026464, 39.10745256664803, 33.345883282975976, 33.31622081294205, 34.80685863350617, 36.842974396866204, 32.98960608421174, 32.35825578959755, 31.80935258424616, 119.58783730717117, 103.90975254070403, 100.05127257337732, 85.23208335912695, 81.95497921056008, 64.64197085812984, 60.73471923793423, 52.708541402490404, 50.86014601247096, 44.79217644420554, 44.737778930924506, 44.68730376241228, 43.23845519017144, 42.762186286605804, 40.00457775105439, 178.17482364502695, 35.393784817131184, 33.00804309954862, 32.845998303370244, 32.216400215536474, 30.252744957088492, 29.944783399085072, 26.61526846235623, 24.852238370619222, 85.6854825651807, 23.106654408464596, 22.556440149610577, 21.23708644839296, 19.55000760161437, 19.25428154471926, 87.70166998728025, 28.712981884357035, 86.91359809793546, 167.4612604476394, 74.11467622575044, 73.25182851724114, 55.14066346285752, 81.43784296671066, 81.12763276805802, 87.43644111919008, 56.851218884595916, 57.820877023942785, 47.57572952300505, 47.951163076852154, 56.38062765427716, 53.27414181749384, 44.761399250376456, 88.18305504370869, 38.80782393258743, 37.31582836167487, 36.91267127671791, 35.28060543093529, 32.08180187767191, 31.603668871710873, 31.138615269993043, 30.25802235766063, 28.01474797787408, 27.828081542627235, 27.50361588131605, 27.50361588131605, 25.330224261609, 75.10527894211485, 25.14061464730328, 25.106027074958906, 25.019514309516246, 24.91598328955798, 24.90490148982495, 24.714283680139488, 24.60054337736068, 24.401713889364853, 22.33039004953077, 21.969662752325412, 52.73534383778239, 21.407260894033985, 70.62524274896991, 115.28015736352404, 29.38615670181414, 49.85433056524134, 158.117381290205, 31.049136364520127, 32.7742421537008, 82.7312186978217, 51.39572562240025, 32.42961675951683, 50.142048235537274, 30.456027338047765, 42.59584567135456, 54.60996938523704, 33.964094302206874, 50.23930673558638, 34.53890760921041, 45.501940674088125, 48.44836766673346, 35.51233172883741, 33.98999427792498, 119.95251420167266, 68.70800757872601, 57.318580727892986, 34.57057398642967, 27.103546204036615, 26.03824225047964, 23.237607683843976, 21.019157705240325, 18.82043978483758, 18.276578021117732, 17.942750084897288, 15.568441570047078, 15.566501106213165, 14.283122160632923, 14.120577577168001, 14.048595991064575, 13.994738764820319, 13.560363530065407, 13.444629295574618, 13.38788008328588, 13.312974437355594, 56.467465493061056, 11.460688113240527, 11.044427883491592, 10.888533264239857, 10.68918869292196, 10.678025680246568, 10.490885851327569, 9.494659470161148, 8.882596817435765, 20.361332447098512, 405.9773216620154, 57.0381543029255, 43.10143834683588, 51.37305834272053, 18.570325757033174, 66.9763280312081, 45.65866497899948, 34.175395586556746, 14.985550022395133, 21.990488149242868, 21.184765334922414, 22.53379931303188, 16.850744707510035, 36.20013061085376, 19.55907360127496, 23.99780176407785, 28.241569440691727, 22.795494649090198, 19.02955550031639, 34.5343246196246, 27.97134255333572, 26.74281685840406, 22.496743917040657, 21.76755804813071, 21.248039540640498, 21.05460685246561, 19.96379128406721, 19.910763794711738, 18.685630843217922, 17.60878214333577, 17.17453040454435, 16.891495526509676, 15.47092352205144, 14.662026856633519, 14.543071684357724, 13.994306264369639, 13.731801144293067, 13.686292667585183, 13.221223882718972, 13.086922932991158, 11.783586572980909, 11.032403147597806, 11.002312904553625, 10.48853711206785, 10.231783670650769, 10.15121311022889, 9.968374715356278, 9.04073277658507, 8.386653373370487, 47.368593489443256, 16.707156466386813, 29.67738605606074, 13.802978541189871, 18.574837078868565, 14.544544711671556, 20.210696656465238, 17.098821880017873, 18.294867770862272], \"Total\": [1784.0, 1309.0, 4366.0, 1630.0, 3694.0, 965.0, 1328.0, 2094.0, 1908.0, 855.0, 789.0, 786.0, 1571.0, 1278.0, 487.0, 654.0, 6481.0, 3220.0, 1284.0, 1560.0, 640.0, 4233.0, 591.0, 1597.0, 577.0, 593.0, 1311.0, 1102.0, 662.0, 625.0, 198.3623386344485, 184.24589544543042, 149.50757553751237, 131.31909924468292, 130.7786318870402, 95.03618167088024, 87.56264711005291, 82.60579011121698, 73.56466720041284, 72.75309256119924, 68.8085470450752, 63.26834876005426, 62.98640046345271, 62.34114571902745, 61.48253989416529, 61.05455772717163, 60.989505488776025, 59.950189399650306, 60.72927554281, 59.17272933047934, 56.832292125634225, 55.66427391064512, 53.55525476505571, 52.76835584624639, 51.13694053104005, 50.830771283933245, 50.76296556683467, 50.5621280526689, 50.2204623344671, 50.16777024039778, 312.80083019533987, 108.04748267311496, 85.25608491629849, 221.45102267095575, 4366.038346379021, 241.7020815314162, 174.94059175833564, 136.90196855680534, 1908.0642126710218, 147.88648099274064, 733.6983055325983, 557.768778801052, 3220.048356389771, 503.1446397228219, 1144.2915048696532, 444.8030137725669, 3694.7590523158783, 639.1041561174662, 1695.4091832773902, 745.8852983051578, 820.8893564392213, 6481.096894505539, 331.51064982541095, 1080.2740386447733, 769.2992490380127, 1065.6431862552097, 1315.9404293941816, 720.9149684790315, 375.03452395472, 1473.202760910026, 1035.5678313847668, 2431.697975999468, 921.9745555695915, 2675.1885650574764, 1946.1280118995332, 1237.8156521508217, 4233.970603678067, 1889.705693234716, 1550.0477589136126, 2663.381801233288, 3193.106739210373, 1417.8359134569696, 1427.5321594535947, 2156.9823884213047, 1260.8159277562822, 2297.7876431735244, 2222.094963829564, 1499.115402158723, 1686.9666034002137, 2635.8187510932376, 3670.5262200039156, 361.3790967269447, 293.4922996308745, 184.50956033101676, 152.48557538578643, 161.20172070117044, 123.46234886762733, 117.01304069001591, 110.78717797835941, 105.44603212010331, 102.20920277783343, 99.87546708361745, 99.58938970311796, 91.05295467779092, 89.89763020092337, 82.90652445382874, 80.71359742353187, 80.59433807817, 79.38122396885558, 74.29823217647721, 73.2172751369553, 72.25088556522113, 71.31074360165546, 69.5796657902991, 67.11102604468357, 64.88773951979586, 64.70809297720763, 61.39406679529304, 58.78398759931981, 54.72144536985007, 54.62365987967486, 58.748264355023444, 219.62827652802494, 322.45361605427723, 156.82930350309383, 212.4575049278714, 115.1925216311704, 198.40970748512927, 300.9113246845741, 2635.8187510932376, 309.7155353544657, 269.54435035516394, 128.00170733860358, 110.10400317764093, 2222.094963829564, 1256.0491489255528, 1571.1871392863757, 1065.327636150517, 1571.4478242463877, 4233.970603678067, 1490.7834000993867, 3193.106739210373, 1123.528388788034, 1423.6117250776279, 6481.096894505539, 535.8770344942393, 2663.381801233288, 1499.115402158723, 1093.1272120113465, 1212.2130078751745, 1550.0477589136126, 3220.048356389771, 2156.9823884213047, 2431.697975999468, 936.1147239847214, 677.1047220589631, 1427.5321594535947, 3670.5262200039156, 771.343171777523, 2675.1885650574764, 1297.2647477772298, 1189.6441830408905, 1946.1280118995332, 3694.7590523158783, 2035.1758147133596, 2301.1303162455606, 1603.8729689396016, 2297.7876431735244, 458.22103852963636, 313.1053030594739, 288.6684342381455, 257.2238776574662, 163.6930755014893, 157.59652293576855, 147.54540948490828, 128.96930636363416, 123.60284644421236, 102.91844746307862, 91.67882838959925, 84.93171288997783, 84.91417759082985, 80.57765468624537, 80.56609809363921, 72.46650667201074, 70.9963538761041, 70.52342852356477, 68.65746561604992, 66.98747739089961, 327.4043647449218, 62.73248509547461, 61.1138533019884, 58.20100306972531, 57.545911294012, 56.51388722657931, 56.02860328987837, 55.98303155367447, 55.45570669185365, 54.12104330281718, 263.2610846596296, 359.8441368406757, 196.69598915336798, 460.9814571478469, 345.30609081868687, 174.32438304774843, 195.2511298667148, 161.45350003365883, 304.72250294849357, 401.1887124726682, 764.5456403146396, 255.03386307279303, 118.79464723812653, 1597.7642536727924, 477.5964481442266, 158.06230120635573, 430.44508168070143, 424.51859033173963, 509.1833988142031, 1375.611845301362, 689.7455256305367, 1645.7079735855514, 1051.7447879622023, 1284.87900189584, 537.3490143554704, 914.218411869171, 541.3197797921367, 1031.8687892013638, 1137.1729638904476, 647.7039056061734, 708.6975226325116, 752.3570668560188, 702.1426865475826, 1037.9342648576312, 870.262530899937, 3670.5262200039156, 838.7220935305045, 1630.637350959681, 804.6543665966666, 2094.5239489149644, 760.1427150570976, 639.910781975582, 376.05361260680564, 372.4236184118215, 329.8064073550931, 292.31237563645914, 234.29615070823527, 213.29425948181685, 192.25681484587028, 183.25413790604716, 171.90272073509422, 171.10406741507083, 162.14391116060133, 337.673924775225, 146.85511472879037, 142.31962784747626, 120.5875189091904, 112.14491475723834, 111.88258576375573, 103.91646868646619, 100.69479342896977, 1328.4487288176103, 98.27972176042907, 92.75761549258635, 85.27184063879079, 84.89658370122186, 83.82428149624837, 82.83647842147023, 82.04546617400858, 79.59787696568218, 79.46040055157431, 77.86011432900676, 794.0863672490285, 450.11723780293204, 247.0815527332533, 708.6999552959004, 306.0947157926355, 578.5303337474124, 484.81141412255033, 432.4826111652835, 1102.9188638916485, 889.6056916345941, 272.1892672608089, 333.9135530174696, 1311.763943997771, 363.4517086578034, 253.4020727829122, 300.94904091128586, 582.9993299255102, 628.5828235723966, 406.4577801821963, 1687.0359358721478, 1589.5912683673128, 623.0142298280334, 1686.9666034002137, 2094.5239489149644, 1749.3925705823053, 1560.1185134173043, 1271.3206951492657, 535.6619181984669, 1780.2442701986567, 3694.7590523158783, 4233.970603678067, 847.2272861703398, 6481.096894505539, 2035.1758147133596, 1137.1729638904476, 3670.5262200039156, 1889.705693234716, 2675.1885650574764, 676.9423415783116, 320.86959250715, 264.37031010383606, 214.34715472293695, 199.9016337323476, 180.38239755902026, 160.72503326676807, 151.49470744470972, 137.56897255576263, 131.44719428785825, 356.60670957886003, 111.84578247683345, 102.98538329906337, 91.48817171190076, 87.26501566637857, 93.33058935329755, 90.66529517803477, 83.53602690125051, 80.84430041183856, 76.6535038477844, 74.51892651984774, 71.37977167578148, 68.69016620490038, 68.30745849243327, 68.04060665897032, 66.10639243490094, 65.56837492504704, 64.28794185239381, 63.689690917559915, 62.22165174074299, 298.63509242007655, 289.504157090045, 122.56306186653696, 395.93812071784095, 1278.4227652202894, 382.55231789798074, 353.4929244499643, 302.54169030860385, 634.0701140303696, 318.2658691100879, 164.5552498976007, 650.634683663596, 145.11750739571488, 324.1025643729902, 256.495199171975, 409.58127408086, 951.3992024372999, 504.843774856007, 612.928722323873, 968.8692021507587, 403.8899884817753, 415.56302217414765, 474.07993195096657, 414.32218788085146, 510.60608747619494, 331.55631448456296, 781.6733996703747, 442.4752660759739, 588.7877287256051, 339.3593020035074, 4366.038346379021, 1571.4478242463877, 220.9268556609229, 202.9145460561897, 180.47117652390511, 115.15326549041676, 90.23907230577383, 86.78267411997648, 85.67444073355512, 77.82343026404187, 76.5502794757496, 72.22695706548035, 69.16072094233759, 68.81921677759178, 65.99028962116361, 61.34839685384411, 61.140099785808, 60.41936306377957, 57.94292703141264, 57.681671447853, 54.936248453894954, 51.68960674308349, 51.24762044522407, 50.53393540306284, 51.796066376816874, 49.832958039739815, 47.570770199288106, 47.064752639368294, 46.390862156920036, 45.67360746061862, 99.77797835680667, 43.60186322639348, 141.06552972788003, 338.64854197333113, 140.61434643664376, 63.47663635471712, 80.71731159463579, 162.21347582887165, 284.7945449678025, 555.776694795248, 82.31560935946831, 469.6178013500712, 268.06008931081345, 501.09277532637543, 349.7249382415276, 169.80921700984499, 218.43386905137044, 194.46524208061734, 264.6206415044656, 179.9335391594544, 217.71524992637777, 95.90047872829474, 98.40298141175532, 489.0735523416781, 591.5972821598766, 505.5398062938715, 285.9135237963924, 579.5619989866422, 2297.7876431735244, 748.6615770016458, 373.2591353805707, 288.8786099258066, 1181.0706867262058, 688.8166062098287, 1490.7834000993867, 1603.8729689396016, 1189.4551897511706, 3670.5262200039156, 1687.0359358721478, 965.9658715157167, 556.0777253287737, 484.71185617199035, 401.2806463385867, 400.3156144253418, 254.092667101842, 211.00564310792424, 197.5364623975232, 136.6715676404061, 120.7701915221686, 115.58582553285137, 99.97762332751236, 96.52517326825382, 95.72430031452375, 93.4179529898678, 91.35750966691428, 87.71143439840407, 87.47202780709566, 84.99634266557021, 81.07416877206535, 80.64799873034346, 80.04238487689422, 72.68805692897456, 70.39996424718781, 68.57967801477567, 66.81465774497019, 445.36515508623745, 65.78257948165077, 64.89804590415922, 62.98750324373516, 612.1169946235404, 183.4300262295166, 213.09416765736498, 147.70980186982476, 141.75943843070888, 108.86759007249644, 164.8028999765149, 225.07872607757136, 128.9871430375562, 199.65811227472054, 192.4174075649282, 173.7699189602744, 435.9335032126158, 444.17165507673485, 142.39954030332348, 244.57974771958573, 656.380477901243, 333.70890460644415, 410.9699932468041, 1417.8359134569696, 562.3663560094157, 259.497171211755, 330.43195888679844, 1027.410981794363, 403.08136926892666, 1181.0706867262058, 460.09311210645996, 3670.5262200039156, 1402.3509951522406, 840.2953576770683, 445.65158561650486, 370.29595706656477, 273.8633843659459, 181.68656906645236, 149.60944623708804, 137.98089796453766, 136.2652675047921, 126.2639574671522, 120.5134228387574, 117.19844559570194, 115.58042412089874, 109.54928922504872, 103.01979657412208, 97.01166619068526, 96.86442986674184, 86.3983915023544, 85.48163059725452, 84.44694804523259, 81.70793284488606, 81.17132969050884, 77.68692364967913, 76.53201591536005, 76.42886976297513, 75.7262787990232, 74.27829700092228, 72.87281353834089, 68.96664366884116, 62.56039815064724, 61.325889993052, 57.92327930011482, 789.8293884138235, 855.6474857014158, 159.53854113925462, 94.77799537781931, 374.69641755313893, 586.1137440617059, 625.5584675731727, 138.26643671624538, 372.79656315513944, 234.24518939201562, 272.75720511595614, 228.20944568184603, 205.0326785601746, 166.69039614927897, 195.6648057741751, 199.76260580246912, 140.51401072453245, 515.4386169643489, 263.36714710905835, 271.483966835744, 1571.4478242463877, 180.77372710975567, 2301.1303162455606, 1018.0311673357111, 360.57083334222347, 1131.5749255249839, 1423.6117250776279, 463.3910185671256, 364.1886562073608, 433.81052517271706, 145.94948623647807, 98.9485740928168, 96.32588735851759, 70.33533165925819, 58.82874683370881, 54.68265080820431, 54.48017317182147, 52.64143195929156, 47.81727213548332, 46.81975693221537, 45.975356009551376, 45.88412313877953, 45.398458853035336, 389.67368081420534, 37.1007706354612, 34.57435724261457, 33.665619576672015, 33.654297801485406, 32.367090265957955, 32.30935286774865, 31.95515391632054, 31.140223714641763, 69.08124051317573, 30.807571326750047, 30.63408091780171, 29.859751120511408, 29.412364865760427, 29.230371074670636, 27.51415954481787, 280.2383769423074, 191.99949163056894, 117.73371374230432, 145.88244554379247, 230.65410614786455, 524.6262488011497, 662.0161028057564, 40.74819087562361, 63.58084379011446, 171.35199441941563, 70.00581708071499, 221.69065846387363, 270.123250351618, 283.53239097364684, 71.51821451405463, 260.542823266722, 501.54517364550384, 2094.5239489149644, 510.60608747619494, 1422.6304302000678, 2035.1758147133596, 214.04927709817593, 327.43484528242294, 1589.5912683673128, 282.66420348399765, 652.2566098763922, 636.8025470620152, 1375.611845301362, 1402.3509951522406, 6481.096894505539, 2675.1885650574764, 593.7975398724762, 364.52613268848205, 241.4232159898508, 126.31522280557182, 114.69146005965032, 96.54808756139886, 83.34577294499192, 81.21565408566137, 78.73982501399163, 77.42754684131096, 75.66616121127595, 70.11868176022426, 64.11109011463344, 60.54304106756906, 60.360615210639175, 57.63706927590951, 57.091497220370975, 52.884674031388464, 51.87743656059222, 50.41738288149897, 47.58063545073532, 45.78406334997318, 43.937096845033814, 43.64668648588981, 37.852320509578, 36.377633317643934, 35.87758810693985, 35.41908113264147, 34.28186016820405, 32.36382196675504, 114.13663588203575, 74.46169074957652, 594.3510612226667, 101.51267925637532, 75.27227404136845, 255.09319903847828, 370.3505526234791, 168.22380843496708, 83.49007318851974, 268.4342814078059, 150.06309617635998, 261.5515153505807, 357.76384132948334, 186.65627777030184, 86.8855640157514, 138.00355330003467, 81.79597068003463, 86.87018527147794, 218.72188066226195, 380.4676079449209, 205.70094846857216, 968.8692021507587, 439.3671088031037, 212.08317698212005, 474.07993195096657, 249.38619973975878, 217.0092822942791, 410.22810410215334, 1181.0706867262058, 254.27210404020954, 221.85147380093406, 218.3314197421658, 204.4078259240172, 170.7449359729203, 640.0884657712206, 134.3549044613853, 111.68849670849916, 89.50283725348899, 75.86930024817028, 73.9748942484802, 71.94068772990653, 159.96545301363284, 58.20644706968953, 57.832848960164625, 43.51730414510116, 39.79405860502037, 39.68801824734889, 39.375148349766796, 39.291646258384574, 38.80483017133392, 38.672714355557964, 38.458339721805196, 34.06496893655875, 33.13332470136016, 32.06426683356602, 30.59367797756379, 30.436971844940064, 28.94679221408497, 28.127215111674545, 28.03949370808942, 152.3218281839281, 786.6374278008582, 47.929062020025164, 1784.6386904687, 94.82419896662351, 237.76926527432997, 289.34928552026577, 450.8084177867647, 245.77677913841583, 153.82084454380012, 376.98691607437337, 480.2086417572684, 84.66581392280277, 49.100448178564825, 1630.637350959681, 621.2718044471374, 522.0557390411171, 219.30834714008293, 1033.666631175855, 414.9648466083119, 297.8809317495063, 377.79856387593895, 860.3870720974576, 669.6188116033969, 1160.648666261105, 940.9758883987132, 1422.6304302000678, 1203.9057734388255, 1402.3509951522406, 1571.4478242463877, 760.1427150570976, 654.6870635477161, 577.0395970059858, 461.84547559389273, 291.2362965242844, 225.1575941711246, 216.69351021413675, 194.34332841465385, 172.5498509588573, 152.23522461869092, 129.36546765779357, 107.87881638577605, 101.10978560660988, 96.25548480144596, 93.37392362588359, 92.27664376606133, 89.14161102947774, 77.19983252347434, 77.12119095827025, 63.00930583756167, 80.87229777113275, 62.019542403727186, 60.80994528574144, 54.02532691822706, 49.605622239154336, 44.50429870656386, 43.95473325464038, 43.44236966257901, 43.24630968481491, 40.89488092121072, 40.42558882821051, 90.10611643000031, 87.57904504790673, 101.30524662324008, 202.87096559209215, 329.18907240544746, 89.499023005741, 205.48273954089666, 347.64403591910997, 380.4676079449209, 205.70094846857216, 390.9033527084875, 473.87380144240365, 1908.0642126710218, 4366.038346379021, 1278.4227652202894, 629.0924157394913, 391.5029407165542, 1181.0706867262058, 257.2880298763435, 182.37970054136701, 165.74922303620096, 128.05217620609523, 112.16655757619823, 108.27824845328003, 217.11709600201868, 105.81128679901569, 86.69827047904913, 82.82409695982673, 77.1336934157537, 67.38673561146334, 65.80697020873957, 62.24531140581099, 61.79146205171764, 56.85863808072649, 53.19201555977434, 47.93687635879876, 47.46841853985142, 46.323023387110396, 45.62595101423788, 45.50027461529175, 45.44281228651987, 44.14064267878476, 44.09874129550072, 91.15306534302, 43.18845410941822, 42.43723734122812, 41.85359681779147, 41.536780047335874, 79.64550662702464, 162.5736627052798, 190.51633622015711, 109.87231130471382, 166.35409470736636, 1309.6524019623555, 61.26200310874601, 82.38563255752449, 129.02975864487286, 64.73194782337296, 291.4502857514662, 184.16704951705398, 479.41876427740766, 390.5327440193162, 247.5427922370076, 175.49154606859665, 115.15483672852976, 177.89235874970947, 1131.5749255249839, 893.7636422247249, 2301.1303162455606, 160.66067323334718, 2094.5239489149644, 321.63651511567025, 150.83585109697225, 59.16112385736145, 52.727614325004076, 46.82717900578564, 46.34855282008081, 44.57537503250241, 272.6464268696395, 32.055561447709, 31.1995095788256, 30.250458298018224, 27.32297145049113, 26.711088035443858, 26.207175463520638, 25.48714773152561, 23.710071208520286, 23.474031004954387, 23.233143810421776, 21.482501678165736, 20.993311767519852, 20.68888059682869, 20.142030034170585, 20.139104204812025, 19.436484638415585, 19.324868711481013, 18.762869831197794, 18.149107123030106, 18.01791819021041, 17.93309212007708, 17.516587619222456, 363.59159595563773, 319.33597152173206, 591.0336934819608, 314.58268688539056, 98.6445395214568, 259.36655885165175, 44.11354170072842, 356.2088204109465, 77.59708252174958, 133.90634593047963, 135.53025967785533, 88.38877639558278, 194.89480310641102, 551.3342735210176, 341.4176985239438, 177.84975795335671, 1005.246083674513, 804.6543665966666, 211.62928758747614, 452.1106235535994, 576.028795313357, 1560.1185134173043, 1284.87900189584, 586.1137440617059, 914.218411869171, 565.005258706833, 907.3792653178796, 645.4916345701112, 537.3490143554704, 868.6852675353922, 91.94362853052452, 81.60171918921915, 57.588984584714765, 46.58525217258769, 46.51518460256451, 45.59955238403188, 44.19994900053477, 43.47962911415908, 43.3606640845254, 39.75970333817769, 37.561729311019356, 36.13963078192599, 36.02203891110561, 35.99980409972151, 35.75657540290116, 34.49794969131621, 34.3782367218178, 33.52749998969888, 30.67408412532228, 28.97903954457871, 27.95067850534356, 26.903642155937153, 26.85562645750531, 26.127960482293393, 25.838132877005673, 25.765826822086545, 24.535528953339035, 23.763753745660235, 23.636507660389086, 23.500781255646924, 35.002401983521786, 155.29225517452969, 223.86259105619607, 116.35050296556318, 54.84968269759344, 291.4880386643778, 184.70961012431616, 51.201984642114105, 86.98304805271097, 243.23835969368398, 53.533320560692815, 196.36565372474297, 113.52314661100036, 574.4081301593391, 105.48487297163989, 175.6998804697862, 427.08947655346753, 208.49695780357033, 183.66222034770763, 415.56827862426536, 70.42762405800104, 63.73231838134908, 62.72222803954523, 62.482424953465596, 52.21423837535873, 51.653953055637245, 49.12472530669155, 43.00600895611542, 38.176853057108794, 35.685051463653515, 35.431881392517084, 34.129186264150114, 32.67835209911504, 32.64709521495706, 32.09192501968459, 31.934625423879165, 31.843783297631735, 30.57606308988439, 30.416288308877633, 29.716805872208873, 29.61803509660665, 29.44997379754211, 28.85301713042448, 28.76220537212184, 27.621549555935648, 27.590936979001413, 26.98737054921852, 25.552660620122225, 25.54614417281432, 25.209294863227118, 28.30073788534818, 58.65917920872382, 58.272425744228194, 71.97355708471503, 119.01854356348058, 173.048276850769, 562.3663560094157, 87.40250114192698, 242.0815966140469, 73.4903696349532, 515.4386169643489, 251.1605668030648, 86.9865268454864, 86.36074595131103, 140.64131570056873, 393.2881988707712, 182.83753053874008, 483.2808467042182, 194.7923307624061, 120.51545845911912, 104.83584766705924, 100.97776021231849, 86.15817848955903, 82.88107435008537, 65.56806599063673, 61.660814530384854, 53.63480021828106, 51.78624114667873, 45.718271589981754, 45.663874070330564, 45.61339889284436, 44.16455033273318, 43.68828141771063, 40.930673373537296, 182.4266613298327, 36.319879947563265, 33.93413823942902, 33.772093433802326, 33.14249535065353, 31.178840095373133, 30.87087860695295, 27.541363588711437, 25.778333504525786, 89.05537570323486, 24.03274953889668, 23.482535275965784, 22.16318545079433, 20.476102736633493, 20.18229125687498, 94.14090093113577, 30.77806168894775, 123.17679702167317, 318.93401120789014, 132.4400345296805, 146.1627737465563, 112.87703308303065, 250.18975967014933, 282.66420348399765, 706.5820062921129, 207.01844657470977, 285.2951892569444, 351.3739346517384, 1131.5749255249839, 57.308506118301956, 54.20202029554626, 45.68927819107044, 90.24703201685438, 39.73570241494798, 38.24371170546129, 37.84312403735359, 36.20848389496008, 33.00968038702582, 32.53154733573567, 32.066493808983665, 31.186040188895404, 28.942626441898874, 28.755960062131656, 28.431494345340845, 28.431494345340845, 26.258102725633794, 77.87468573550461, 26.068493111328074, 26.033907724934586, 25.94739284566952, 25.84386175358277, 25.83278015390003, 25.64216214416428, 25.528421959727968, 25.329592382554498, 23.258268513555564, 22.89754123543287, 54.98585360321871, 22.335139385337193, 74.42956890212307, 125.33963546316204, 33.63867889240722, 70.14443895000207, 375.6555137883884, 36.31858666771921, 40.053384911583926, 203.67061315145853, 109.9546626862261, 45.978763297486175, 135.09720669527292, 42.64824106456721, 107.7251155373088, 269.01358038905477, 59.38071206775535, 264.63676740552165, 71.92448463584014, 300.4467828423699, 1571.4478242463877, 374.69641755313893, 196.36565372474297, 120.88209197669185, 69.63758531725298, 58.24815846641995, 35.500151741702204, 28.033123972815343, 26.96781998900661, 24.16718544428564, 21.948735443767294, 19.750017546208873, 19.206155797607074, 18.872327823424257, 16.49801933110268, 16.49607885380967, 15.212699906222483, 15.050155327632233, 14.978173736115094, 14.924316507893886, 14.489941299863137, 14.374207058780593, 14.31745786676411, 14.242552240905011, 60.71592053462958, 12.390265851767499, 11.97400562780414, 11.818111006542507, 11.618766443843755, 11.60760344666589, 11.420463613438942, 10.424237227044173, 9.812174560712355, 22.84539819851157, 487.437813747003, 66.80624539570185, 54.989107076044036, 67.96358123006168, 22.191656272925812, 119.84891454343709, 74.9900387330751, 67.70831918428802, 17.763801735222096, 40.25012997185559, 37.38358368452027, 46.57897142214511, 23.71105496412634, 228.32410504081145, 41.53943650133731, 87.76283010634553, 418.9343504386227, 662.0161028057564, 333.9135530174696, 35.47340998116511, 28.910418051609724, 27.681892497749466, 23.435819395744016, 22.706633533357618, 22.18711502267371, 21.993682369702682, 20.902866769527385, 20.849839273415096, 19.624706361494294, 18.547857627824705, 18.113605950341814, 17.830571058480295, 16.409999014597613, 15.601102335336877, 15.482147172622339, 14.933382034265605, 14.670876622996426, 14.625368166368318, 14.160299398923835, 14.025998411694516, 12.722662104489116, 11.97147866105111, 11.941388434519943, 11.427612595317806, 11.170859149354127, 11.09028870774162, 10.907450194059637, 9.979808255288429, 9.325728874745632, 53.99318006415889, 19.141818870457115, 39.1555891149643, 16.653288883297396, 32.05102913051492, 23.939073244539877, 97.78907556779978, 94.40768831409073, 320.7809186946656], \"Category\": [\"Default\", \"Default\", \"Default\", \"Default\", \"Default\", \"Default\", \"Default\", \"Default\", \"Default\", \"Default\", \"Default\", \"Default\", \"Default\", \"Default\", \"Default\", \"Default\", \"Default\", \"Default\", \"Default\", \"Default\", \"Default\", \"Default\", \"Default\", \"Default\", \"Default\", \"Default\", \"Default\", \"Default\", \"Default\", \"Default\", \"Topic1\", \"Topic1\", \"Topic1\", \"Topic1\", \"Topic1\", \"Topic1\", \"Topic1\", \"Topic1\", \"Topic1\", \"Topic1\", \"Topic1\", \"Topic1\", \"Topic1\", \"Topic1\", \"Topic1\", \"Topic1\", \"Topic1\", \"Topic1\", \"Topic1\", \"Topic1\", \"Topic1\", \"Topic1\", \"Topic1\", \"Topic1\", \"Topic1\", \"Topic1\", \"Topic1\", \"Topic1\", \"Topic1\", \"Topic1\", \"Topic1\", \"Topic1\", \"Topic1\", \"Topic1\", \"Topic1\", \"Topic1\", \"Topic1\", \"Topic1\", \"Topic1\", \"Topic1\", \"Topic1\", \"Topic1\", \"Topic1\", \"Topic1\", \"Topic1\", \"Topic1\", \"Topic1\", \"Topic1\", \"Topic1\", \"Topic1\", \"Topic1\", \"Topic1\", \"Topic1\", \"Topic1\", \"Topic1\", \"Topic1\", \"Topic1\", \"Topic1\", \"Topic1\", \"Topic1\", \"Topic1\", \"Topic1\", \"Topic1\", \"Topic1\", \"Topic1\", \"Topic1\", \"Topic1\", \"Topic1\", \"Topic1\", \"Topic1\", \"Topic1\", \"Topic1\", \"Topic1\", \"Topic1\", \"Topic1\", \"Topic1\", \"Topic1\", \"Topic1\", \"Topic1\", \"Topic1\", \"Topic1\", \"Topic2\", \"Topic2\", \"Topic2\", \"Topic2\", \"Topic2\", \"Topic2\", \"Topic2\", \"Topic2\", \"Topic2\", \"Topic2\", \"Topic2\", \"Topic2\", \"Topic2\", \"Topic2\", \"Topic2\", \"Topic2\", \"Topic2\", \"Topic2\", \"Topic2\", \"Topic2\", \"Topic2\", \"Topic2\", \"Topic2\", \"Topic2\", \"Topic2\", \"Topic2\", \"Topic2\", \"Topic2\", \"Topic2\", \"Topic2\", \"Topic2\", \"Topic2\", \"Topic2\", \"Topic2\", \"Topic2\", \"Topic2\", \"Topic2\", \"Topic2\", \"Topic2\", \"Topic2\", \"Topic2\", \"Topic2\", \"Topic2\", \"Topic2\", \"Topic2\", \"Topic2\", \"Topic2\", \"Topic2\", \"Topic2\", \"Topic2\", \"Topic2\", \"Topic2\", \"Topic2\", \"Topic2\", \"Topic2\", \"Topic2\", \"Topic2\", \"Topic2\", \"Topic2\", \"Topic2\", \"Topic2\", \"Topic2\", \"Topic2\", \"Topic2\", \"Topic2\", \"Topic2\", \"Topic2\", \"Topic2\", \"Topic2\", \"Topic2\", \"Topic2\", \"Topic2\", \"Topic2\", \"Topic2\", \"Topic2\", \"Topic2\", \"Topic2\", \"Topic3\", \"Topic3\", \"Topic3\", \"Topic3\", \"Topic3\", \"Topic3\", \"Topic3\", \"Topic3\", \"Topic3\", \"Topic3\", \"Topic3\", \"Topic3\", \"Topic3\", \"Topic3\", \"Topic3\", \"Topic3\", \"Topic3\", \"Topic3\", \"Topic3\", \"Topic3\", \"Topic3\", \"Topic3\", \"Topic3\", \"Topic3\", \"Topic3\", \"Topic3\", \"Topic3\", \"Topic3\", \"Topic3\", \"Topic3\", \"Topic3\", \"Topic3\", \"Topic3\", \"Topic3\", \"Topic3\", \"Topic3\", \"Topic3\", \"Topic3\", \"Topic3\", \"Topic3\", \"Topic3\", \"Topic3\", \"Topic3\", \"Topic3\", \"Topic3\", \"Topic3\", \"Topic3\", \"Topic3\", \"Topic3\", \"Topic3\", \"Topic3\", \"Topic3\", \"Topic3\", \"Topic3\", \"Topic3\", \"Topic3\", \"Topic3\", \"Topic3\", \"Topic3\", \"Topic3\", \"Topic3\", \"Topic3\", \"Topic3\", \"Topic3\", \"Topic3\", \"Topic3\", \"Topic3\", \"Topic3\", \"Topic3\", \"Topic3\", \"Topic3\", \"Topic3\", \"Topic4\", \"Topic4\", \"Topic4\", \"Topic4\", \"Topic4\", \"Topic4\", \"Topic4\", \"Topic4\", \"Topic4\", \"Topic4\", \"Topic4\", \"Topic4\", \"Topic4\", \"Topic4\", \"Topic4\", \"Topic4\", \"Topic4\", \"Topic4\", \"Topic4\", \"Topic4\", \"Topic4\", \"Topic4\", \"Topic4\", \"Topic4\", \"Topic4\", \"Topic4\", \"Topic4\", \"Topic4\", \"Topic4\", \"Topic4\", \"Topic4\", \"Topic4\", \"Topic4\", \"Topic4\", \"Topic4\", \"Topic4\", \"Topic4\", \"Topic4\", \"Topic4\", \"Topic4\", \"Topic4\", \"Topic4\", \"Topic4\", \"Topic4\", \"Topic4\", \"Topic4\", \"Topic4\", \"Topic4\", \"Topic4\", \"Topic4\", \"Topic4\", \"Topic4\", \"Topic4\", \"Topic4\", \"Topic4\", \"Topic4\", \"Topic4\", \"Topic4\", \"Topic4\", \"Topic4\", \"Topic4\", \"Topic4\", \"Topic4\", \"Topic4\", \"Topic4\", \"Topic4\", \"Topic4\", \"Topic4\", \"Topic5\", \"Topic5\", \"Topic5\", \"Topic5\", \"Topic5\", \"Topic5\", \"Topic5\", \"Topic5\", \"Topic5\", \"Topic5\", \"Topic5\", \"Topic5\", \"Topic5\", \"Topic5\", \"Topic5\", \"Topic5\", \"Topic5\", \"Topic5\", \"Topic5\", \"Topic5\", \"Topic5\", \"Topic5\", \"Topic5\", \"Topic5\", \"Topic5\", \"Topic5\", \"Topic5\", \"Topic5\", \"Topic5\", \"Topic5\", \"Topic5\", \"Topic5\", \"Topic5\", \"Topic5\", \"Topic5\", \"Topic5\", \"Topic5\", \"Topic5\", \"Topic5\", \"Topic5\", \"Topic5\", \"Topic5\", \"Topic5\", \"Topic5\", \"Topic5\", \"Topic5\", \"Topic5\", \"Topic5\", \"Topic5\", \"Topic5\", \"Topic5\", \"Topic5\", \"Topic5\", \"Topic5\", \"Topic5\", \"Topic5\", \"Topic5\", \"Topic5\", \"Topic5\", \"Topic5\", \"Topic5\", \"Topic5\", \"Topic6\", \"Topic6\", \"Topic6\", \"Topic6\", \"Topic6\", \"Topic6\", \"Topic6\", \"Topic6\", \"Topic6\", \"Topic6\", \"Topic6\", \"Topic6\", \"Topic6\", \"Topic6\", \"Topic6\", \"Topic6\", \"Topic6\", \"Topic6\", \"Topic6\", \"Topic6\", \"Topic6\", \"Topic6\", \"Topic6\", \"Topic6\", \"Topic6\", \"Topic6\", \"Topic6\", \"Topic6\", \"Topic6\", \"Topic6\", \"Topic6\", \"Topic6\", \"Topic6\", \"Topic6\", \"Topic6\", \"Topic6\", \"Topic6\", \"Topic6\", \"Topic6\", \"Topic6\", \"Topic6\", \"Topic6\", \"Topic6\", \"Topic6\", \"Topic6\", \"Topic6\", \"Topic6\", \"Topic6\", \"Topic6\", \"Topic6\", \"Topic6\", \"Topic6\", \"Topic6\", \"Topic6\", \"Topic6\", \"Topic6\", \"Topic6\", \"Topic6\", \"Topic6\", \"Topic6\", \"Topic6\", \"Topic6\", \"Topic6\", \"Topic6\", \"Topic6\", \"Topic6\", \"Topic6\", \"Topic7\", \"Topic7\", \"Topic7\", \"Topic7\", \"Topic7\", \"Topic7\", \"Topic7\", \"Topic7\", \"Topic7\", \"Topic7\", \"Topic7\", \"Topic7\", \"Topic7\", \"Topic7\", \"Topic7\", \"Topic7\", \"Topic7\", \"Topic7\", \"Topic7\", \"Topic7\", \"Topic7\", \"Topic7\", \"Topic7\", \"Topic7\", \"Topic7\", \"Topic7\", \"Topic7\", \"Topic7\", \"Topic7\", \"Topic7\", \"Topic7\", \"Topic7\", \"Topic7\", \"Topic7\", \"Topic7\", \"Topic7\", \"Topic7\", \"Topic7\", \"Topic7\", \"Topic7\", \"Topic7\", \"Topic7\", \"Topic7\", \"Topic7\", \"Topic7\", \"Topic7\", \"Topic7\", \"Topic7\", \"Topic7\", \"Topic7\", \"Topic7\", \"Topic7\", \"Topic7\", \"Topic7\", \"Topic7\", \"Topic7\", \"Topic7\", \"Topic7\", \"Topic7\", \"Topic7\", \"Topic8\", \"Topic8\", \"Topic8\", \"Topic8\", \"Topic8\", \"Topic8\", \"Topic8\", \"Topic8\", \"Topic8\", \"Topic8\", \"Topic8\", \"Topic8\", \"Topic8\", \"Topic8\", \"Topic8\", \"Topic8\", \"Topic8\", \"Topic8\", \"Topic8\", \"Topic8\", \"Topic8\", \"Topic8\", \"Topic8\", \"Topic8\", \"Topic8\", \"Topic8\", \"Topic8\", \"Topic8\", \"Topic8\", \"Topic8\", \"Topic8\", \"Topic8\", \"Topic8\", \"Topic8\", \"Topic8\", \"Topic8\", \"Topic8\", \"Topic8\", \"Topic8\", \"Topic8\", \"Topic8\", \"Topic8\", \"Topic8\", \"Topic8\", \"Topic8\", \"Topic8\", \"Topic8\", \"Topic8\", \"Topic8\", \"Topic8\", \"Topic8\", \"Topic8\", \"Topic8\", \"Topic8\", \"Topic8\", \"Topic8\", \"Topic8\", \"Topic8\", \"Topic8\", \"Topic9\", \"Topic9\", \"Topic9\", \"Topic9\", \"Topic9\", \"Topic9\", \"Topic9\", \"Topic9\", \"Topic9\", \"Topic9\", \"Topic9\", \"Topic9\", \"Topic9\", \"Topic9\", \"Topic9\", \"Topic9\", \"Topic9\", \"Topic9\", \"Topic9\", \"Topic9\", \"Topic9\", \"Topic9\", \"Topic9\", \"Topic9\", \"Topic9\", \"Topic9\", \"Topic9\", \"Topic9\", \"Topic9\", \"Topic9\", \"Topic9\", \"Topic9\", \"Topic9\", \"Topic9\", \"Topic9\", \"Topic9\", \"Topic9\", \"Topic9\", \"Topic9\", \"Topic9\", \"Topic9\", \"Topic9\", \"Topic9\", \"Topic9\", \"Topic9\", \"Topic9\", \"Topic9\", \"Topic9\", \"Topic9\", \"Topic9\", \"Topic9\", \"Topic9\", \"Topic9\", \"Topic9\", \"Topic9\", \"Topic9\", \"Topic9\", \"Topic9\", \"Topic9\", \"Topic9\", \"Topic9\", \"Topic10\", \"Topic10\", \"Topic10\", \"Topic10\", \"Topic10\", \"Topic10\", \"Topic10\", \"Topic10\", \"Topic10\", \"Topic10\", \"Topic10\", \"Topic10\", \"Topic10\", \"Topic10\", \"Topic10\", \"Topic10\", \"Topic10\", \"Topic10\", \"Topic10\", \"Topic10\", \"Topic10\", \"Topic10\", \"Topic10\", \"Topic10\", \"Topic10\", \"Topic10\", \"Topic10\", \"Topic10\", \"Topic10\", \"Topic10\", \"Topic10\", \"Topic10\", \"Topic10\", \"Topic10\", \"Topic10\", \"Topic10\", \"Topic10\", \"Topic10\", \"Topic10\", \"Topic10\", \"Topic10\", \"Topic10\", \"Topic10\", \"Topic10\", \"Topic10\", \"Topic10\", \"Topic10\", \"Topic10\", \"Topic10\", \"Topic10\", \"Topic10\", \"Topic10\", \"Topic10\", \"Topic10\", \"Topic10\", \"Topic10\", \"Topic10\", \"Topic10\", \"Topic10\", \"Topic10\", \"Topic11\", \"Topic11\", \"Topic11\", \"Topic11\", \"Topic11\", \"Topic11\", \"Topic11\", \"Topic11\", \"Topic11\", \"Topic11\", \"Topic11\", \"Topic11\", \"Topic11\", \"Topic11\", \"Topic11\", \"Topic11\", \"Topic11\", \"Topic11\", \"Topic11\", \"Topic11\", \"Topic11\", \"Topic11\", \"Topic11\", \"Topic11\", \"Topic11\", \"Topic11\", \"Topic11\", \"Topic11\", \"Topic11\", \"Topic11\", \"Topic11\", \"Topic11\", \"Topic11\", \"Topic11\", \"Topic11\", \"Topic11\", \"Topic11\", \"Topic11\", \"Topic11\", \"Topic11\", \"Topic11\", \"Topic11\", \"Topic11\", \"Topic11\", \"Topic11\", \"Topic11\", \"Topic11\", \"Topic11\", \"Topic11\", \"Topic11\", \"Topic11\", \"Topic11\", \"Topic11\", \"Topic11\", \"Topic11\", \"Topic11\", \"Topic11\", \"Topic11\", \"Topic11\", \"Topic11\", \"Topic11\", \"Topic12\", \"Topic12\", \"Topic12\", \"Topic12\", \"Topic12\", \"Topic12\", \"Topic12\", \"Topic12\", \"Topic12\", \"Topic12\", \"Topic12\", \"Topic12\", \"Topic12\", \"Topic12\", \"Topic12\", \"Topic12\", \"Topic12\", \"Topic12\", \"Topic12\", \"Topic12\", \"Topic12\", \"Topic12\", \"Topic12\", \"Topic12\", \"Topic12\", \"Topic12\", \"Topic12\", \"Topic12\", \"Topic12\", \"Topic12\", \"Topic12\", \"Topic12\", \"Topic12\", \"Topic12\", \"Topic12\", \"Topic12\", \"Topic12\", \"Topic12\", \"Topic12\", \"Topic12\", \"Topic12\", \"Topic12\", \"Topic12\", \"Topic12\", \"Topic12\", \"Topic12\", \"Topic12\", \"Topic12\", \"Topic13\", \"Topic13\", \"Topic13\", \"Topic13\", \"Topic13\", \"Topic13\", \"Topic13\", \"Topic13\", \"Topic13\", \"Topic13\", \"Topic13\", \"Topic13\", \"Topic13\", \"Topic13\", \"Topic13\", \"Topic13\", \"Topic13\", \"Topic13\", \"Topic13\", \"Topic13\", \"Topic13\", \"Topic13\", \"Topic13\", \"Topic13\", \"Topic13\", \"Topic13\", \"Topic13\", \"Topic13\", \"Topic13\", \"Topic13\", \"Topic13\", \"Topic13\", \"Topic13\", \"Topic13\", \"Topic13\", \"Topic13\", \"Topic13\", \"Topic13\", \"Topic13\", \"Topic13\", \"Topic13\", \"Topic13\", \"Topic13\", \"Topic13\", \"Topic13\", \"Topic13\", \"Topic13\", \"Topic13\", \"Topic13\", \"Topic13\", \"Topic13\", \"Topic13\", \"Topic13\", \"Topic14\", \"Topic14\", \"Topic14\", \"Topic14\", \"Topic14\", \"Topic14\", \"Topic14\", \"Topic14\", \"Topic14\", \"Topic14\", \"Topic14\", \"Topic14\", \"Topic14\", \"Topic14\", \"Topic14\", \"Topic14\", \"Topic14\", \"Topic14\", \"Topic14\", \"Topic14\", \"Topic14\", \"Topic14\", \"Topic14\", \"Topic14\", \"Topic14\", \"Topic14\", \"Topic14\", \"Topic14\", \"Topic14\", \"Topic14\", \"Topic14\", \"Topic14\", \"Topic14\", \"Topic14\", \"Topic14\", \"Topic14\", \"Topic14\", \"Topic14\", \"Topic14\", \"Topic14\", \"Topic14\", \"Topic14\", \"Topic14\", \"Topic14\", \"Topic14\", \"Topic14\", \"Topic14\", \"Topic14\", \"Topic14\", \"Topic14\", \"Topic14\", \"Topic14\", \"Topic14\", \"Topic14\", \"Topic14\", \"Topic14\", \"Topic14\", \"Topic14\", \"Topic14\", \"Topic14\", \"Topic15\", \"Topic15\", \"Topic15\", \"Topic15\", \"Topic15\", \"Topic15\", \"Topic15\", \"Topic15\", \"Topic15\", \"Topic15\", \"Topic15\", \"Topic15\", \"Topic15\", \"Topic15\", \"Topic15\", \"Topic15\", \"Topic15\", \"Topic15\", \"Topic15\", \"Topic15\", \"Topic15\", \"Topic15\", \"Topic15\", \"Topic15\", \"Topic15\", \"Topic15\", \"Topic15\", \"Topic15\", \"Topic15\", \"Topic15\", \"Topic15\", \"Topic15\", \"Topic15\", \"Topic15\", \"Topic15\", \"Topic15\", \"Topic15\", \"Topic15\", \"Topic15\", \"Topic15\", \"Topic15\", \"Topic15\", \"Topic15\", \"Topic15\", \"Topic15\", \"Topic15\", \"Topic15\", \"Topic15\", \"Topic15\", \"Topic15\", \"Topic16\", \"Topic16\", \"Topic16\", \"Topic16\", \"Topic16\", \"Topic16\", \"Topic16\", \"Topic16\", \"Topic16\", \"Topic16\", \"Topic16\", \"Topic16\", \"Topic16\", \"Topic16\", \"Topic16\", \"Topic16\", \"Topic16\", \"Topic16\", \"Topic16\", \"Topic16\", \"Topic16\", \"Topic16\", \"Topic16\", \"Topic16\", \"Topic16\", \"Topic16\", \"Topic16\", \"Topic16\", \"Topic16\", \"Topic16\", \"Topic16\", \"Topic16\", \"Topic16\", \"Topic16\", \"Topic16\", \"Topic16\", \"Topic16\", \"Topic16\", \"Topic16\", \"Topic16\", \"Topic16\", \"Topic16\", \"Topic16\", \"Topic16\", \"Topic16\", \"Topic16\", \"Topic16\", \"Topic16\", \"Topic16\", \"Topic17\", \"Topic17\", \"Topic17\", \"Topic17\", \"Topic17\", \"Topic17\", \"Topic17\", \"Topic17\", \"Topic17\", \"Topic17\", \"Topic17\", \"Topic17\", \"Topic17\", \"Topic17\", \"Topic17\", \"Topic17\", \"Topic17\", \"Topic17\", \"Topic17\", \"Topic17\", \"Topic17\", \"Topic17\", \"Topic17\", \"Topic17\", \"Topic17\", \"Topic17\", \"Topic17\", \"Topic17\", \"Topic17\", \"Topic17\", \"Topic17\", \"Topic17\", \"Topic17\", \"Topic17\", \"Topic17\", \"Topic17\", \"Topic17\", \"Topic17\", \"Topic17\", \"Topic17\", \"Topic17\", \"Topic17\", \"Topic17\", \"Topic17\", \"Topic18\", \"Topic18\", \"Topic18\", \"Topic18\", \"Topic18\", \"Topic18\", \"Topic18\", \"Topic18\", \"Topic18\", \"Topic18\", \"Topic18\", \"Topic18\", \"Topic18\", \"Topic18\", \"Topic18\", \"Topic18\", \"Topic18\", \"Topic18\", \"Topic18\", \"Topic18\", \"Topic18\", \"Topic18\", \"Topic18\", \"Topic18\", \"Topic18\", \"Topic18\", \"Topic18\", \"Topic18\", \"Topic18\", \"Topic18\", \"Topic18\", \"Topic18\", \"Topic18\", \"Topic18\", \"Topic18\", \"Topic18\", \"Topic18\", \"Topic18\", \"Topic18\", \"Topic18\", \"Topic18\", \"Topic18\", \"Topic18\", \"Topic18\", \"Topic18\", \"Topic18\", \"Topic18\", \"Topic18\", \"Topic18\", \"Topic18\", \"Topic18\", \"Topic19\", \"Topic19\", \"Topic19\", \"Topic19\", \"Topic19\", \"Topic19\", \"Topic19\", \"Topic19\", \"Topic19\", \"Topic19\", \"Topic19\", \"Topic19\", \"Topic19\", \"Topic19\", \"Topic19\", \"Topic19\", \"Topic19\", \"Topic19\", \"Topic19\", \"Topic19\", \"Topic19\", \"Topic19\", \"Topic19\", \"Topic19\", \"Topic19\", \"Topic19\", \"Topic19\", \"Topic19\", \"Topic19\", \"Topic19\", \"Topic19\", \"Topic19\", \"Topic19\", \"Topic19\", \"Topic19\", \"Topic19\", \"Topic19\", \"Topic19\", \"Topic19\", \"Topic19\", \"Topic19\", \"Topic19\", \"Topic19\", \"Topic19\", \"Topic19\", \"Topic19\", \"Topic19\", \"Topic19\", \"Topic19\", \"Topic19\", \"Topic20\", \"Topic20\", \"Topic20\", \"Topic20\", \"Topic20\", \"Topic20\", \"Topic20\", \"Topic20\", \"Topic20\", \"Topic20\", \"Topic20\", \"Topic20\", \"Topic20\", \"Topic20\", \"Topic20\", \"Topic20\", \"Topic20\", \"Topic20\", \"Topic20\", \"Topic20\", \"Topic20\", \"Topic20\", \"Topic20\", \"Topic20\", \"Topic20\", \"Topic20\", \"Topic20\", \"Topic20\", \"Topic20\", \"Topic20\", \"Topic20\", \"Topic20\", \"Topic20\", \"Topic20\", \"Topic20\", \"Topic20\", \"Topic20\", \"Topic20\", \"Topic20\"], \"logprob\": [30.0, 29.0, 28.0, 27.0, 26.0, 25.0, 24.0, 23.0, 22.0, 21.0, 20.0, 19.0, 18.0, 17.0, 16.0, 15.0, 14.0, 13.0, 12.0, 11.0, 10.0, 9.0, 8.0, 7.0, 6.0, 5.0, 4.0, 3.0, 2.0, 1.0, -6.7883, -6.8625, -7.0725, -7.2031, -7.2073, -7.5292, -7.6119, -7.6708, -7.7881, -7.7993, -7.8558, -7.941, -7.9455, -7.9559, -7.97, -7.9771, -7.9782, -7.9956, -7.9828, -8.0089, -8.0499, -8.071, -8.1103, -8.1253, -8.1573, -8.1634, -8.1648, -8.1688, -8.1757, -8.1768, -6.3665, -7.4286, -7.661, -6.74, -3.9477, -6.6827, -6.9911, -7.2336, -4.8162, -7.1744, -5.739, -5.995, -4.4371, -6.1147, -5.4078, -6.2299, -4.3904, -5.9229, -5.0868, -5.7969, -5.7332, -4.0129, -6.5198, -5.5434, -5.8233, -5.5684, -5.4016, -5.8985, -6.4231, -5.3381, -5.6171, -4.9816, -5.7204, -4.9246, -5.1851, -5.5357, -4.6795, -5.2467, -5.3903, -5.0498, -4.9749, -5.5285, -5.5396, -5.4022, -5.6669, -5.46, -5.5092, -5.6456, -5.6452, -5.5959, -5.6516, -6.0055, -6.2142, -6.6802, -6.8718, -6.8168, -7.0844, -7.1384, -7.1936, -7.2434, -7.2749, -7.2982, -7.3011, -7.3915, -7.4049, -7.4863, -7.5134, -7.5149, -7.5302, -7.5972, -7.612, -7.6255, -7.6387, -7.6636, -7.7003, -7.7344, -7.7372, -7.7906, -7.8347, -7.9075, -7.9093, -7.8374, -6.5821, -6.2287, -6.9131, -6.6465, -7.2116, -6.7241, -6.4204, -4.5908, -6.4207, -6.5369, -7.1612, -7.2846, -4.9162, -5.3688, -5.1968, -5.573, -5.3063, -4.5958, -5.3878, -4.8571, -5.6334, -5.4704, -4.4403, -6.1472, -5.0651, -5.4843, -5.7105, -5.6466, -5.4951, -5.056, -5.3563, -5.2896, -5.8505, -6.0381, -5.6531, -5.1957, -5.9747, -5.3936, -5.7921, -5.839, -5.6936, -5.5307, -5.7195, -5.727, -5.7938, -5.7627, -5.5253, -5.907, -5.9885, -6.1042, -6.5582, -6.5964, -6.6627, -6.7982, -6.841, -7.0256, -7.1423, -7.2196, -7.2198, -7.2728, -7.2729, -7.3802, -7.4009, -7.4077, -7.4349, -7.4598, -5.8736, -7.5264, -7.5529, -7.6025, -7.614, -7.6324, -7.6412, -7.642, -7.6516, -7.6764, -6.1052, -5.8134, -6.4085, -5.5745, -5.8594, -6.5321, -6.4241, -6.6086, -6.0036, -5.7488, -5.158, -6.207, -6.9214, -4.5271, -5.6487, -6.6695, -5.7834, -5.8021, -5.6791, -4.8794, -5.4538, -4.7671, -5.1484, -5.0001, -5.6838, -5.2893, -5.6862, -5.2404, -5.1754, -5.6206, -5.5608, -5.5218, -5.5754, -5.4135, -5.5009, -4.8839, -5.6278, -5.4732, -5.6524, -5.5247, -5.703, -5.7401, -5.6646, -5.6744, -5.7962, -5.9173, -6.1393, -6.2336, -6.3379, -6.3861, -6.4504, -6.455, -6.5091, -5.7759, -6.6088, -6.6403, -6.8072, -6.8804, -6.8827, -6.9572, -6.989, -4.4094, -7.0135, -7.0719, -7.1569, -7.1614, -7.1742, -7.1862, -7.1959, -7.2265, -7.2283, -7.2489, -4.9315, -5.5096, -6.1064, -5.0847, -5.9112, -5.3055, -5.4786, -5.5972, -4.7084, -4.9346, -6.0543, -5.8858, -4.6435, -5.8289, -6.1512, -6.0048, -5.4552, -5.4107, -5.8349, -4.8328, -4.8913, -5.5393, -4.8745, -4.8094, -4.9459, -5.1058, -5.2235, -5.705, -5.1137, -4.7701, -4.8022, -5.5133, -4.7299, -5.1817, -5.4028, -5.106, -5.4494, -5.435, -4.817, -5.5651, -5.7594, -5.97, -6.04, -6.1433, -6.2593, -6.3188, -6.4158, -6.4616, -5.4639, -6.6244, -6.7076, -6.8271, -6.8749, -6.8078, -6.837, -6.919, -6.9521, -7.006, -7.0346, -7.0782, -7.1171, -7.1227, -7.1267, -7.1559, -7.1642, -7.1842, -7.1937, -7.2174, -5.6539, -5.6852, -6.5485, -5.4272, -4.3459, -5.5067, -5.6106, -5.7768, -5.1321, -5.7555, -6.343, -5.1667, -6.4528, -5.7896, -5.9819, -5.6221, -4.9515, -5.4953, -5.3596, -5.0562, -5.6916, -5.7088, -5.6496, -5.7798, -5.6901, -5.9122, -5.5829, -5.8062, -5.7166, -5.9071, -5.5722, -5.8053, -5.4438, -5.5292, -5.6469, -6.0992, -6.3452, -6.3846, -6.3976, -6.4948, -6.5115, -6.5704, -6.6143, -6.6193, -6.6619, -6.7359, -6.7394, -6.7514, -6.7939, -6.7985, -6.8481, -6.9101, -6.9188, -6.9331, -6.9085, -6.9473, -6.9947, -7.0056, -7.0203, -7.0362, -6.2552, -7.0836, -5.9129, -5.0898, -5.9487, -6.7202, -6.5088, -5.8769, -5.4258, -4.8782, -6.5171, -5.0727, -5.5441, -5.0518, -5.3454, -5.9913, -5.8091, -5.9142, -5.7028, -6.0218, -5.9175, -6.4283, -6.4157, -5.5452, -5.4868, -5.6064, -5.992, -5.7241, -5.2265, -5.7806, -5.9882, -6.0681, -5.8293, -5.9503, -5.8524, -5.851, -5.8991, -5.9218, -5.9414, -3.8895, -4.4425, -4.5801, -4.7693, -4.7718, -5.2278, -5.4142, -5.4804, -5.8509, -5.9754, -6.0197, -6.166, -6.2015, -6.2099, -6.2345, -6.257, -6.2982, -6.3009, -6.3299, -6.3777, -6.3831, -6.3907, -6.4882, -6.5206, -6.5472, -6.5736, -4.6768, -6.5894, -6.6031, -6.6334, -4.3701, -5.5781, -5.4423, -5.8037, -5.8515, -6.1052, -5.7117, -5.4291, -5.9567, -5.5961, -5.6564, -5.7703, -5.0953, -5.1313, -5.9489, -5.6106, -5.002, -5.4631, -5.3714, -4.7149, -5.244, -5.6611, -5.563, -5.2132, -5.5462, -5.3756, -5.5771, -5.2729, -5.5304, -5.5726, -4.3132, -4.4991, -4.8014, -5.2134, -5.4088, -5.4902, -5.5028, -5.5796, -5.6265, -5.6546, -5.6687, -5.7227, -5.7847, -5.8453, -5.8469, -5.9624, -5.9731, -5.9855, -6.0188, -6.0255, -6.0699, -6.085, -6.0864, -6.0957, -6.1153, -6.1346, -6.1904, -6.2893, -6.3095, -6.3675, -3.7968, -3.7299, -5.3803, -5.8904, -4.6039, -4.1885, -4.1321, -5.5363, -4.6393, -5.1002, -4.9722, -5.1274, -5.2277, -5.4068, -5.3148, -5.3142, -5.5866, -4.7786, -5.2562, -5.2973, -4.5663, -5.5136, -4.7995, -5.0608, -5.3582, -5.1075, -5.1487, -5.345, -5.4762, -4.2743, -5.3668, -5.7584, -5.7856, -6.1042, -6.2848, -6.3591, -6.3629, -6.3981, -6.4957, -6.5172, -6.5358, -6.5378, -6.5487, -4.4017, -6.7551, -6.8275, -6.8549, -6.8552, -6.8954, -6.8972, -6.9085, -6.9351, -6.1386, -6.9462, -6.952, -6.9784, -6.994, -7.0004, -7.063, -4.7576, -5.1321, -5.647, -5.4568, -5.0261, -4.2644, -4.087, -6.6876, -6.3055, -5.4771, -6.2404, -5.285, -5.1272, -5.1238, -6.2391, -5.4172, -5.0322, -4.4363, -5.2414, -4.7259, -4.6872, -5.7434, -5.5645, -5.0016, -5.6952, -5.5284, -5.5607, -5.3854, -5.6391, -5.4932, -5.6871, -3.9145, -4.4034, -4.8167, -5.468, -5.5653, -5.739, -5.8876, -5.9137, -5.9451, -5.9621, -5.9854, -6.0625, -6.1533, -6.2114, -6.2145, -6.2614, -6.271, -6.3489, -6.3684, -6.3975, -6.4565, -6.4958, -6.5378, -6.5446, -6.6903, -6.7311, -6.7453, -6.7585, -6.792, -6.8512, -5.6212, -6.0391, -4.0813, -5.7864, -6.0706, -4.9913, -4.6836, -5.3825, -6.0019, -5.1284, -5.575, -5.1848, -4.9717, -5.4845, -5.9948, -5.7538, -6.052, -6.0222, -5.5844, -5.3759, -5.7225, -5.2913, -5.5296, -5.7702, -5.5867, -5.768, -5.8189, -5.7738, -5.6875, -5.855, -4.8872, -4.9032, -4.9694, -5.1502, -3.8301, -5.3914, -5.5776, -5.8011, -5.9682, -5.9938, -6.0221, -5.2256, -6.237, -6.2435, -6.5333, -6.6248, -6.6275, -6.6356, -6.6378, -6.6505, -6.654, -6.6597, -6.7842, -6.8127, -6.8465, -6.8949, -6.9001, -6.952, -6.9816, -6.9849, -5.3101, -3.7444, -6.477, -3.1477, -5.8537, -5.0171, -4.8592, -4.4927, -5.0892, -5.4863, -4.7464, -4.6224, -6.0276, -6.4595, -3.9457, -4.7127, -4.8365, -5.4334, -4.4828, -5.0502, -5.2667, -5.1692, -4.8206, -4.9403, -4.7214, -4.8709, -5.018, -5.1485, -5.1383, -5.2275, -5.3025, -3.5711, -3.6976, -3.9206, -4.3829, -4.6412, -4.6797, -4.789, -4.9085, -5.0345, -5.1984, -5.3814, -5.4468, -5.4965, -5.5272, -5.5391, -5.574, -5.7195, -5.7205, -5.9253, -5.6758, -5.9414, -5.9614, -6.0816, -6.1685, -6.2792, -6.2919, -6.3038, -6.3085, -6.3656, -6.3774, -5.5843, -5.6344, -5.4975, -5.0228, -4.6708, -5.7301, -5.082, -4.7983, -4.8991, -5.3753, -5.1711, -5.1742, -4.7857, -4.5724, -5.1462, -5.3617, -5.5085, -5.4988, -4.3567, -4.7022, -4.7984, -5.058, -5.1915, -5.2271, -4.5314, -5.2503, -5.4515, -5.4977, -5.5697, -5.7065, -5.7306, -5.787, -5.7945, -5.879, -5.9468, -6.0527, -6.0627, -6.0876, -6.1031, -6.1059, -6.1072, -6.1369, -6.1378, -5.4121, -6.1592, -6.1771, -6.1912, -6.199, -5.55, -4.8461, -4.6995, -5.239, -4.8715, -2.9158, -5.8323, -5.5793, -5.194, -5.7958, -4.5067, -4.9098, -4.2609, -4.4973, -5.1527, -5.3328, -5.5378, -5.44, -5.0188, -5.1719, -5.266, -5.5367, -5.4834, -3.8, -4.5608, -5.506, -5.6231, -5.744, -5.7545, -5.7943, -3.9902, -6.1323, -6.1602, -6.192, -6.2972, -6.3207, -6.3404, -6.3693, -6.4444, -6.4548, -6.4655, -6.5472, -6.5713, -6.5866, -6.6147, -6.6148, -6.6521, -6.6581, -6.6891, -6.7241, -6.7318, -6.7367, -6.7615, -4.0206, -4.1558, -3.7466, -4.2837, -5.3555, -4.6142, -6.0147, -4.4458, -5.714, -5.3894, -5.4504, -5.71, -5.251, -4.7441, -5.0132, -5.4728, -4.6928, -4.8563, -5.4383, -5.1427, -5.1195, -4.783, -4.8606, -5.1706, -5.0534, -5.2936, -5.2379, -5.3077, -5.4211, -5.4949, -4.8584, -4.9789, -5.3322, -5.5481, -5.5497, -5.5703, -5.6018, -5.6186, -5.6214, -5.71, -5.7683, -5.8079, -5.8112, -5.8118, -5.8188, -5.8556, -5.8592, -5.8849, -5.9765, -6.0352, -6.0725, -6.112, -6.1139, -6.1423, -6.1539, -6.1568, -6.2076, -6.2408, -6.2464, -6.2524, -5.8862, -4.5798, -4.501, -5.0703, -5.6688, -4.6293, -4.9928, -5.7608, -5.498, -5.0239, -5.7589, -5.2358, -5.5594, -5.2475, -5.6989, -5.636, -5.5799, -5.6481, -5.7334, -5.7515, -4.8982, -4.9995, -5.0157, -5.0196, -5.2021, -5.213, -5.2642, -5.3999, -5.5218, -5.5911, -5.5984, -5.6368, -5.6815, -5.6825, -5.7002, -5.7052, -5.7082, -5.75, -5.7554, -5.7794, -5.7829, -5.7887, -5.8099, -5.8131, -5.855, -5.8561, -5.879, -5.9356, -5.9359, -5.9497, -5.8689, -5.448, -5.459, -5.4208, -5.3232, -5.2418, -4.8533, -5.5158, -5.423, -5.6418, -5.364, -5.4733, -5.6327, -5.6335, -5.5898, -5.5329, -5.6434, -5.6627, -5.6798, -4.337, -4.4775, -4.5154, -4.6757, -4.7149, -4.9522, -5.0145, -5.1563, -5.192, -5.319, -5.3202, -5.3213, -5.3543, -5.3654, -5.432, -3.9383, -5.5545, -5.6243, -5.6292, -5.6486, -5.7114, -5.7217, -5.8396, -5.9081, -4.6704, -5.9809, -6.005, -6.0653, -6.1481, -6.1633, -4.6471, -5.7637, -4.6561, -4.0003, -4.8154, -4.8271, -5.1111, -4.7212, -4.725, -4.6501, -5.0806, -5.0637, -5.2587, -5.2509, -5.069, -5.1256, -5.2998, -4.6217, -5.4425, -5.4817, -5.4925, -5.5378, -5.6328, -5.6478, -5.6627, -5.6913, -5.7684, -5.7751, -5.7868, -5.7868, -5.8691, -4.7822, -5.8766, -5.878, -5.8814, -5.8856, -5.886, -5.8937, -5.8983, -5.9064, -5.9952, -6.0114, -5.1358, -6.0374, -4.8437, -4.3537, -5.7206, -5.192, -4.0378, -5.6655, -5.6115, -4.6855, -5.1615, -5.622, -5.1862, -5.6848, -5.3493, -5.1009, -5.5758, -5.1843, -5.559, -5.2833, -5.2206, -5.5312, -5.575, -3.8681, -4.4253, -4.6066, -5.1122, -5.3555, -5.3956, -5.5094, -5.6098, -5.7202, -5.7496, -5.768, -5.9099, -5.9101, -5.9961, -6.0076, -6.0127, -6.0165, -6.048, -6.0566, -6.0608, -6.0664, -4.6215, -6.2163, -6.2533, -6.2675, -6.286, -6.287, -6.3047, -6.4045, -6.4711, -5.6415, -2.6489, -4.6115, -4.8916, -4.7161, -5.7336, -4.4508, -4.834, -5.1237, -5.9481, -5.5646, -5.6019, -5.5402, -5.8308, -5.0661, -5.6817, -5.4772, -5.3144, -5.5286, -5.7092, -4.5315, -4.7423, -4.7872, -4.9601, -4.993, -5.0172, -5.0264, -5.0796, -5.0822, -5.1457, -5.2051, -5.23, -5.2467, -5.3345, -5.3882, -5.3964, -5.4348, -5.4538, -5.4571, -5.4916, -5.5019, -5.6068, -5.6726, -5.6754, -5.7232, -5.748, -5.7559, -5.7741, -5.8717, -5.9468, -4.2155, -5.2576, -4.6831, -5.4486, -5.1517, -5.3963, -5.0673, -5.2345, -5.1669], \"loglift\": [30.0, 29.0, 28.0, 27.0, 26.0, 25.0, 24.0, 23.0, 22.0, 21.0, 20.0, 19.0, 18.0, 17.0, 16.0, 15.0, 14.0, 13.0, 12.0, 11.0, 10.0, 9.0, 8.0, 7.0, 6.0, 5.0, 4.0, 3.0, 2.0, 1.0, 1.6911, 1.6907, 1.6896, 1.6887, 1.6887, 1.686, 1.6852, 1.6846, 1.6832, 1.6831, 1.6823, 1.6811, 1.6811, 1.6809, 1.6807, 1.6806, 1.6806, 1.6803, 1.6803, 1.6801, 1.6795, 1.6791, 1.6785, 1.6782, 1.6777, 1.6775, 1.6775, 1.6774, 1.6773, 1.6773, 1.6574, 1.6583, 1.6628, 1.6293, 1.4401, 1.5991, 1.6139, 1.6166, 1.3994, 1.5986, 1.4324, 1.4505, 1.2552, 1.4339, 1.3192, 1.4419, 1.1644, 1.3865, 1.2469, 1.358, 1.3259, 0.9799, 1.446, 1.2411, 1.3007, 1.2297, 1.1855, 1.2904, 1.4193, 1.1362, 1.2096, 0.9915, 1.2226, 0.9531, 1.0107, 1.1127, 0.7391, 0.9786, 1.0332, 0.8323, 0.7259, 0.9841, 0.9662, 0.6908, 0.9631, 0.5698, 0.5541, 0.8112, 0.6936, 0.2966, -0.0902, 1.8741, 1.8735, 1.8716, 1.8706, 1.87, 1.8692, 1.8687, 1.8683, 1.8679, 1.8676, 1.8674, 1.8674, 1.8665, 1.8659, 1.8655, 1.8652, 1.8652, 1.865, 1.8642, 1.864, 1.8638, 1.8637, 1.8634, 1.8629, 1.8624, 1.8623, 1.8616, 1.8609, 1.8597, 1.8597, 1.8588, 1.7955, 1.7648, 1.8012, 1.7642, 1.8113, 1.7551, 1.6423, 1.3018, 1.6131, 1.6358, 1.7562, 1.7835, 1.147, 1.2649, 1.2131, 1.2255, 1.1034, 0.8227, 1.0746, 0.8436, 1.1118, 1.0381, 0.5525, 1.3384, 0.8171, 0.9725, 1.0622, 1.0227, 0.9283, 0.6363, 0.7367, 0.6835, 1.0772, 1.2135, 0.8527, 0.3657, 1.1467, 0.4841, 0.8094, 0.8491, 0.5023, 0.0241, 0.4316, 0.3013, 0.5955, 0.267, 2.1168, 2.1159, 2.1157, 2.1153, 2.1133, 2.113, 2.1126, 2.1117, 2.1114, 2.1099, 2.1088, 2.108, 2.108, 2.1075, 2.1075, 2.1062, 2.1059, 2.1058, 2.1055, 2.1051, 2.1047, 2.1042, 2.1038, 2.1031, 2.1029, 2.1026, 2.1024, 2.1024, 2.1023, 2.1019, 2.0911, 2.0704, 2.0793, 2.0617, 2.0656, 2.0764, 2.0711, 2.0766, 2.0465, 2.0262, 1.9722, 2.0211, 2.0706, 1.866, 1.952, 2.0369, 1.9212, 1.9164, 1.8576, 1.6635, 1.7794, 1.5964, 1.6628, 1.611, 1.799, 1.6621, 1.7893, 1.5899, 1.5578, 1.6754, 1.6452, 1.6244, 1.6399, 1.4109, 1.4997, 0.6774, 1.4098, 0.8996, 1.4266, 0.5977, 1.433, 1.5681, 2.1751, 2.1751, 2.1748, 2.1744, 2.1736, 2.1732, 2.1728, 2.1725, 2.1722, 2.1722, 2.1719, 2.1715, 2.1713, 2.1711, 2.1699, 2.1693, 2.1693, 2.1687, 2.1683, 2.1683, 2.1682, 2.1676, 2.1667, 2.1667, 2.1665, 2.1664, 2.1663, 2.166, 2.1659, 2.1657, 2.1608, 2.1504, 2.1533, 2.1213, 2.1344, 2.1035, 2.1072, 2.1027, 2.0554, 2.0441, 2.1086, 2.0727, 1.9469, 2.045, 2.0833, 2.0577, 1.946, 1.9153, 1.9271, 1.5059, 1.5069, 1.7956, 1.4643, 1.313, 1.3565, 1.3111, 1.3982, 1.781, 1.1713, 0.7847, 0.6164, 1.5142, 0.2629, 0.9694, 1.3304, 0.4554, 0.7759, 0.4427, 2.4348, 2.4333, 2.4327, 2.4319, 2.4316, 2.4311, 2.4305, 2.4301, 2.4295, 2.4292, 2.429, 2.428, 2.4273, 2.4262, 2.4257, 2.4255, 2.4253, 2.4252, 2.4248, 2.4242, 2.4239, 2.4233, 2.4228, 2.4227, 2.4227, 2.4223, 2.4222, 2.4219, 2.4217, 2.4214, 2.4164, 2.4161, 2.4123, 2.361, 2.2702, 2.3159, 2.291, 2.2804, 2.1853, 2.2511, 2.3232, 2.1249, 2.3392, 2.1989, 2.2404, 2.1322, 1.9601, 2.0499, 1.9917, 1.8371, 2.0767, 2.031, 1.9585, 1.963, 1.8438, 2.0534, 1.5252, 1.8709, 1.6748, 2.0353, -0.1844, 0.6044, 2.9279, 2.9275, 2.927, 2.9241, 2.9218, 2.9214, 2.9213, 2.9202, 2.92, 2.9193, 2.9187, 2.9186, 2.9181, 2.917, 2.9169, 2.9168, 2.9161, 2.916, 2.9152, 2.9142, 2.914, 2.9137, 2.9137, 2.9135, 2.9126, 2.9124, 2.9121, 2.9118, 2.9113, 2.9108, 2.9074, 2.8547, 2.8747, 2.8986, 2.8697, 2.8036, 2.6919, 2.5709, 2.8418, 2.5449, 2.6341, 2.5009, 2.5669, 2.6435, 2.5739, 2.585, 2.4884, 2.5551, 2.4688, 2.7779, 2.7647, 2.0318, 1.8998, 1.9375, 2.1218, 1.6831, 0.8033, 1.3706, 1.859, 2.0354, 0.866, 1.2841, 0.6101, 0.5383, 0.7891, -0.3604, 0.3974, 3.0068, 3.0061, 3.0059, 3.0055, 3.0055, 3.004, 3.0034, 3.0031, 3.001, 3.0001, 2.9998, 2.9985, 2.9982, 2.9981, 2.9979, 2.9977, 2.9972, 2.9972, 2.9969, 2.9964, 2.9963, 2.9962, 2.9951, 2.9947, 2.9943, 2.9939, 2.9937, 2.9937, 2.9935, 2.9931, 2.9824, 2.9796, 2.9655, 2.9705, 2.9638, 2.9741, 2.953, 2.9239, 2.9531, 2.8767, 2.8534, 2.8415, 2.5967, 2.542, 2.8619, 2.6593, 2.2807, 2.4961, 2.3796, 1.7977, 2.1933, 2.5496, 2.4061, 1.6215, 2.2241, 1.3196, 2.0609, 0.2884, 0.9932, 1.4631, 3.3568, 3.356, 3.3555, 3.3538, 3.3527, 3.3521, 3.3521, 3.3515, 3.3512, 3.351, 3.3508, 3.3504, 3.3499, 3.3493, 3.3493, 3.3481, 3.348, 3.3479, 3.3475, 3.3474, 3.3469, 3.3467, 3.3467, 3.3466, 3.3464, 3.3461, 3.3454, 3.344, 3.3437, 3.3428, 3.3008, 3.2877, 3.3169, 3.3275, 3.2395, 3.2075, 3.1988, 3.304, 3.2091, 3.2129, 3.1887, 3.2118, 3.2186, 3.2465, 3.1782, 3.1581, 3.2376, 2.7459, 2.9397, 2.8683, 1.8434, 3.0586, 1.2288, 1.7831, 2.5236, 1.6306, 1.3598, 2.2859, 2.3956, 3.4226, 3.4194, 3.4164, 3.4161, 3.412, 3.41, 3.4088, 3.4088, 3.4079, 3.4064, 3.4059, 3.4056, 3.4055, 3.4053, 3.4025, 3.4007, 3.3988, 3.3981, 3.3981, 3.397, 3.3969, 3.3966, 3.3958, 3.3956, 3.3955, 3.3953, 3.3945, 3.394, 3.3938, 3.3918, 3.3762, 3.3799, 3.354, 3.3299, 3.3024, 3.2424, 3.1872, 3.3745, 3.3117, 3.1486, 3.2805, 3.0832, 3.0434, 2.9984, 3.2604, 2.7895, 2.5196, 1.6861, 2.2925, 1.7833, 1.4639, 2.6599, 2.4137, 1.3967, 2.43, 1.7606, 1.7523, 1.1574, 0.8845, -0.5004, 0.1906, 3.4685, 3.4675, 3.4662, 3.4627, 3.462, 3.4604, 3.4589, 3.4586, 3.4582, 3.4581, 3.4578, 3.4568, 3.4556, 3.4547, 3.4547, 3.4539, 3.4538, 3.4525, 3.4521, 3.4516, 3.4505, 3.4497, 3.4489, 3.4487, 3.4454, 3.4444, 3.4441, 3.4437, 3.4428, 3.4412, 3.4109, 3.4201, 3.3007, 3.3629, 3.3777, 3.2365, 3.1714, 3.2617, 3.3429, 3.0485, 3.1834, 3.018, 2.9178, 3.0557, 3.3101, 3.0883, 3.3132, 3.2828, 2.7972, 2.4522, 2.7205, 1.602, 2.1545, 2.6423, 2.0214, 2.4825, 2.5706, 1.9789, 1.0078, 2.3761, 3.4803, 3.4802, 3.48, 3.4791, 3.4778, 3.4776, 3.4762, 3.4741, 3.4722, 3.4719, 3.4716, 3.4689, 3.4685, 3.4684, 3.463, 3.461, 3.4609, 3.4607, 3.4607, 3.4604, 3.4603, 3.4602, 3.457, 3.4562, 3.4553, 3.4538, 3.4537, 3.4521, 3.4511, 3.451, 3.4334, 3.3573, 3.4227, 3.1348, 3.3638, 3.2811, 3.2427, 3.1658, 3.1758, 3.2474, 3.0909, 2.9728, 3.3031, 3.4161, 2.427, 2.625, 2.6752, 2.9456, 2.3458, 2.6911, 2.8061, 2.6659, 2.1915, 2.3225, 1.9914, 2.0516, 1.4912, 1.5277, 1.3853, 1.1822, 1.8335, 3.7142, 3.714, 3.7136, 3.7124, 3.7115, 3.7113, 3.7108, 3.7102, 3.7095, 3.7085, 3.707, 3.7065, 3.706, 3.7057, 3.7056, 3.7052, 3.7036, 3.7036, 3.7009, 3.7008, 3.7007, 3.7004, 3.6984, 3.6969, 3.6947, 3.6945, 3.6942, 3.6941, 3.6929, 3.6926, 3.6842, 3.6625, 3.6538, 3.4341, 3.302, 3.5452, 3.3621, 3.12, 2.929, 3.0677, 2.6299, 2.4343, 1.43, 0.8155, 1.4699, 1.9635, 2.291, 1.1965, 3.8626, 3.8611, 3.8606, 3.859, 3.858, 3.8577, 3.8576, 3.8575, 3.8556, 3.8551, 3.8542, 3.8525, 3.8522, 3.8514, 3.8512, 3.8499, 3.8488, 3.8469, 3.8467, 3.8462, 3.8459, 3.8458, 3.8458, 3.8452, 3.8452, 3.8448, 3.8447, 3.8444, 3.8441, 3.8439, 3.8419, 3.8323, 3.8203, 3.8311, 3.7838, 3.6762, 3.822, 3.7788, 3.7154, 3.8034, 3.5879, 3.6439, 3.336, 3.3046, 3.1052, 3.2691, 3.4854, 3.1483, 1.7193, 1.8021, 0.7623, 3.1535, 0.639, 4.196, 4.1924, 4.1832, 4.1812, 4.179, 4.1788, 4.178, 4.1711, 4.1697, 4.1689, 4.1679, 4.1645, 4.1637, 4.163, 4.162, 4.1592, 4.1588, 4.1584, 4.155, 4.154, 4.1533, 4.152, 4.152, 4.1503, 4.15, 4.1485, 4.1467, 4.1463, 4.1461, 4.1448, 3.8528, 3.8475, 3.641, 3.7346, 3.8225, 3.597, 3.968, 3.4482, 3.704, 3.4829, 3.4099, 3.5778, 3.246, 2.713, 2.9232, 3.1158, 2.1636, 2.2227, 2.9763, 2.5128, 2.2938, 1.634, 1.7505, 2.2254, 1.898, 2.1391, 1.721, 1.9917, 2.0617, 1.5076, 4.3899, 4.3887, 4.3839, 4.3801, 4.38, 4.3793, 4.379, 4.3786, 4.3786, 4.3766, 4.3752, 4.3742, 4.3741, 4.3741, 4.3739, 4.373, 4.3729, 4.3722, 4.3695, 4.3677, 4.3665, 4.3652, 4.3651, 4.3641, 4.3637, 4.3636, 4.3618, 4.3605, 4.3603, 4.3601, 4.3279, 4.1444, 3.8574, 3.9426, 4.096, 3.4652, 3.5579, 4.0729, 3.8058, 3.2515, 4.0303, 3.2537, 3.4781, 2.1686, 3.412, 2.9647, 2.1325, 2.7814, 2.823, 1.9884, 4.6167, 4.6153, 4.6151, 4.615, 4.6121, 4.6119, 4.6109, 4.6082, 4.6054, 4.6037, 4.6035, 4.6025, 4.6012, 4.6012, 4.6007, 4.6006, 4.6005, 4.5992, 4.5991, 4.5983, 4.5982, 4.598, 4.5974, 4.5973, 4.5959, 4.5959, 4.5951, 4.5931, 4.5931, 4.5926, 4.5577, 4.2497, 4.2453, 4.0724, 3.667, 3.3741, 2.584, 3.7832, 2.8572, 3.8305, 2.1605, 2.7701, 3.6711, 3.6774, 3.2335, 2.262, 2.9175, 1.9262, 2.8177, 4.6407, 4.6396, 4.6392, 4.6376, 4.6372, 4.6342, 4.6333, 4.631, 4.6304, 4.628, 4.6279, 4.6279, 4.6272, 4.627, 4.6255, 4.6249, 4.6226, 4.6208, 4.6206, 4.6201, 4.6183, 4.618, 4.6142, 4.6118, 4.6099, 4.6091, 4.6082, 4.6058, 4.6022, 4.6014, 4.5776, 4.579, 4.2997, 4.0042, 4.0679, 3.9576, 3.932, 3.5261, 3.4002, 2.5589, 3.3561, 3.0523, 2.6489, 1.4873, 4.652, 4.6511, 4.6479, 4.6452, 4.6447, 4.6438, 4.6435, 4.6424, 4.6399, 4.6394, 4.639, 4.6382, 4.6358, 4.6356, 4.6352, 4.6352, 4.6324, 4.6322, 4.6321, 4.6321, 4.632, 4.6318, 4.6318, 4.6315, 4.6313, 4.6311, 4.6277, 4.627, 4.6266, 4.6259, 4.6159, 4.5847, 4.5332, 4.3269, 3.803, 4.5116, 4.4678, 3.7675, 3.9079, 4.3193, 3.6772, 4.3317, 3.7405, 3.0738, 4.1097, 3.0068, 3.9348, 2.7809, 1.1891, 2.3121, 2.9145, 5.1066, 5.1008, 5.0982, 5.0878, 5.0806, 5.0792, 5.0751, 5.071, 5.0661, 5.0647, 5.0638, 5.0563, 5.0563, 5.0512, 5.0505, 5.0502, 5.05, 5.048, 5.0474, 5.0472, 5.0468, 5.0417, 5.0363, 5.0335, 5.0324, 5.0309, 5.0308, 5.0294, 5.0209, 5.0148, 4.9992, 4.9314, 4.9562, 4.8707, 4.8344, 4.9361, 4.5324, 4.6181, 4.4306, 4.9442, 4.5098, 4.5463, 4.3882, 4.7727, 3.2726, 4.3611, 3.8176, 2.4174, 1.7456, 2.2494, 5.6692, 5.663, 5.6615, 5.6551, 5.6538, 5.6528, 5.6524, 5.65, 5.6499, 5.647, 5.644, 5.6428, 5.6419, 5.6371, 5.6339, 5.6334, 5.6311, 5.6299, 5.6296, 5.6274, 5.6267, 5.6193, 5.6143, 5.6141, 5.6103, 5.6082, 5.6075, 5.606, 5.5972, 5.5899, 5.5651, 5.56, 5.4188, 5.5083, 5.1505, 5.1977, 4.1194, 3.9874, 2.8319]}, \"token.table\": {\"Topic\": [1, 2, 3, 18, 11, 19, 4, 1, 3, 4, 5, 7, 11, 14, 1, 5, 11, 20, 1, 3, 4, 6, 9, 10, 12, 1, 2, 2, 14, 6, 3, 9, 11, 11, 15, 14, 12, 15, 1, 2, 3, 4, 5, 6, 7, 8, 9, 10, 11, 12, 17, 5, 1, 2, 5, 6, 8, 10, 12, 1, 2, 3, 5, 6, 7, 8, 10, 12, 17, 19, 20, 2, 3, 7, 16, 12, 2, 3, 5, 11, 15, 11, 3, 11, 5, 6, 10, 12, 19, 1, 2, 3, 4, 6, 9, 1, 2, 4, 5, 6, 11, 9, 1, 2, 3, 4, 5, 6, 7, 9, 15, 4, 11, 14, 1, 4, 6, 8, 3, 5, 8, 10, 12, 13, 16, 19, 10, 10, 20, 3, 11, 12, 16, 11, 12, 1, 2, 3, 5, 6, 7, 18, 11, 11, 12, 12, 12, 1, 2, 3, 4, 5, 6, 8, 11, 13, 18, 2, 20, 1, 12, 1, 2, 3, 5, 8, 1, 3, 4, 10, 14, 5, 2, 5, 19, 20, 3, 11, 19, 6, 7, 15, 6, 7, 6, 13, 1, 5, 6, 9, 10, 12, 9, 10, 5, 20, 20, 3, 7, 10, 11, 15, 2, 2, 3, 4, 5, 2, 8, 18, 12, 12, 12, 12, 12, 16, 1, 2, 4, 5, 8, 9, 10, 11, 13, 15, 1, 12, 8, 13, 18, 6, 19, 2, 4, 5, 6, 7, 8, 12, 13, 18, 2, 14, 17, 1, 2, 3, 4, 5, 6, 7, 9, 10, 5, 18, 10, 11, 19, 13, 13, 17, 19, 1, 6, 7, 6, 7, 1, 2, 4, 5, 6, 7, 9, 18, 15, 1, 1, 2, 3, 4, 6, 7, 8, 11, 14, 1, 2, 3, 4, 6, 8, 9, 11, 18, 7, 7, 2, 14, 2, 1, 2, 3, 5, 8, 16, 3, 4, 10, 15, 3, 4, 9, 11, 1, 2, 3, 9, 3, 4, 5, 9, 8, 13, 15, 16, 18, 18, 16, 2, 3, 4, 6, 7, 10, 12, 14, 15, 20, 4, 20, 10, 4, 18, 2, 8, 10, 14, 2, 17, 1, 3, 4, 8, 12, 16, 16, 2, 4, 5, 9, 11, 13, 17, 16, 6, 19, 3, 4, 9, 11, 19, 9, 11, 2, 4, 15, 17, 4, 8, 8, 1, 2, 3, 4, 5, 6, 7, 8, 9, 10, 14, 16, 15, 20, 1, 15, 16, 4, 15, 1, 2, 8, 18, 2, 1, 2, 3, 4, 5, 6, 9, 10, 11, 17, 8, 16, 14, 10, 18, 18, 7, 15, 1, 2, 4, 6, 11, 12, 17, 9, 16, 11, 8, 1, 2, 3, 4, 5, 11, 15, 20, 6, 2, 8, 10, 1, 3, 6, 7, 10, 12, 4, 9, 19, 4, 9, 7, 7, 10, 16, 7, 7, 12, 6, 19, 7, 7, 11, 13, 17, 16, 10, 1, 9, 5, 9, 18, 6, 5, 16, 5, 9, 14, 6, 8, 3, 4, 5, 7, 9, 11, 15, 17, 3, 4, 7, 8, 2, 3, 5, 8, 15, 18, 19, 2, 19, 20, 19, 1, 2, 3, 4, 5, 7, 15, 15, 15, 3, 11, 9, 20, 2, 8, 3, 4, 5, 9, 5, 1, 2, 6, 14, 15, 19, 20, 5, 12, 3, 4, 5, 7, 13, 17, 4, 5, 5, 1, 2, 3, 4, 5, 8, 11, 13, 14, 11, 3, 1, 2, 3, 4, 5, 6, 10, 13, 4, 19, 6, 13, 10, 3, 4, 11, 15, 20, 2, 3, 4, 5, 6, 9, 11, 15, 11, 15, 1, 2, 3, 4, 5, 6, 8, 9, 10, 2, 7, 11, 1, 5, 6, 10, 12, 1, 2, 5, 10, 12, 1, 5, 9, 2, 3, 5, 10, 12, 14, 15, 9, 1, 2, 5, 10, 12, 2, 3, 6, 7, 8, 11, 17, 3, 3, 5, 9, 11, 17, 6, 1, 2, 3, 4, 5, 6, 10, 11, 15, 17, 10, 12, 2, 5, 14, 3, 4, 5, 9, 3, 4, 2, 3, 4, 7, 8, 14, 16, 18, 1, 2, 3, 5, 7, 8, 10, 14, 16, 18, 2, 18, 1, 2, 4, 7, 10, 12, 1, 1, 6, 7, 10, 15, 2, 10, 10, 14, 10, 4, 5, 6, 7, 11, 15, 3, 15, 20, 14, 9, 4, 2, 3, 6, 10, 13, 20, 4, 6, 6, 8, 19, 13, 4, 6, 3, 11, 1, 6, 6, 4, 9, 3, 4, 7, 3, 5, 3, 5, 17, 7, 3, 5, 8, 1, 6, 1, 6, 7, 15, 17, 9, 2, 3, 4, 8, 14, 15, 18, 16, 2, 4, 4, 2, 9, 10, 18, 1, 3, 5, 6, 7, 13, 11, 5, 8, 4, 17, 4, 13, 17, 3, 4, 6, 11, 14, 9, 5, 9, 2, 13, 13, 1, 2, 3, 4, 6, 9, 15, 3, 10, 8, 11, 5, 9, 9, 8, 3, 13, 15, 1, 7, 6, 12, 1, 2, 3, 4, 5, 6, 7, 9, 10, 1, 2, 4, 7, 11, 1, 6, 7, 10, 2, 3, 8, 14, 19, 6, 13, 1, 3, 4, 6, 7, 11, 15, 6, 7, 10, 12, 4, 11, 3, 5, 7, 2, 8, 12, 2, 3, 4, 19, 5, 5, 1, 14, 2, 3, 6, 7, 9, 10, 13, 18, 18, 10, 3, 4, 5, 11, 19, 3, 4, 5, 11, 12, 16, 5, 5, 5, 1, 2, 3, 4, 5, 6, 7, 8, 9, 10, 11, 12, 13, 15, 16, 1, 2, 6, 8, 14, 19, 16, 5, 13, 15, 3, 4, 8, 4, 4, 1, 12, 1, 2, 1, 2, 5, 7, 9, 10, 12, 13, 15, 2, 10, 14, 15, 16, 16, 2, 3, 5, 8, 10, 15, 16, 18, 2, 3, 8, 12, 10, 13, 3, 5, 5, 18, 16, 2, 4, 8, 14, 8, 14, 10, 5, 6, 8, 16, 4, 1, 10, 2, 1, 2, 3, 4, 5, 6, 7, 12, 6, 12, 2, 3, 10, 12, 1, 2, 4, 8, 9, 9, 15, 1, 5, 8, 9, 1, 2, 4, 5, 8, 1, 2, 3, 4, 6, 7, 8, 14, 18, 7, 1, 5, 9, 10, 12, 7, 3, 4, 11, 1, 2, 3, 4, 5, 6, 7, 8, 13, 14, 12, 7, 12, 1, 2, 12, 13, 17, 17, 3, 11, 9, 2, 3, 1, 2, 4, 6, 8, 3, 4, 5, 8, 16, 4, 9, 9, 19, 5, 6, 1, 7, 10, 1, 2, 3, 4, 5, 6, 10, 11, 12, 12, 6, 2, 3, 4, 5, 6, 8, 9, 13, 15, 2, 3, 4, 5, 9, 1, 2, 3, 5, 6, 7, 10, 12, 1, 6, 10, 12, 2, 8, 11, 18, 17, 8, 1, 7, 18, 2, 6, 6, 2, 20, 1, 2, 5, 10, 12, 14, 17, 2, 1, 2, 3, 4, 5, 6, 7, 9, 10, 15, 1, 3, 6, 7, 10, 12, 18, 1, 4, 20, 17, 3, 1, 2, 5, 3, 4, 7, 11, 1, 3, 4, 2, 3, 9, 5, 9, 1, 20, 1, 2, 3, 4, 5, 6, 7, 11, 14, 3, 4, 5, 6, 7, 10, 11, 14, 1, 2, 3, 4, 6, 14, 6, 6, 2, 3, 4, 9, 11, 1, 3, 4, 5, 6, 9, 10, 11, 18, 5, 14, 18, 18, 3, 4, 11, 15, 4, 9, 2, 13, 6, 11, 19, 4, 17, 1, 2, 3, 4, 14, 3, 4, 5, 14, 18, 1, 7, 19, 19, 10, 3, 6, 10, 10, 10, 1, 2, 3, 4, 5, 6, 7, 11, 12, 15, 12, 3, 4, 5, 7, 11, 13, 14, 16, 17, 2, 4, 16, 17, 8, 14, 16, 1, 10, 7, 8, 7, 10, 7, 10, 12, 5, 1, 2, 3, 4, 5, 7, 8, 14, 16, 17, 3, 1, 1, 6, 15, 7, 10, 15, 16, 12, 12, 1, 10, 18, 9, 16, 18, 4, 9, 9, 1, 2, 4, 6, 10, 12, 1, 2, 10, 12, 1, 7, 8, 10, 16, 1, 8, 20, 16, 1, 2, 9, 1, 2, 4, 6, 9, 1, 2, 3, 6, 9, 11, 20, 1, 12, 1, 1, 2, 10, 12, 14, 15, 19, 19, 20, 1, 2, 3, 4, 5, 6, 7, 8, 10, 11, 12, 13, 15, 18, 13, 10, 13, 13, 1, 5, 6, 7, 10, 3, 17, 8, 16, 8, 10, 15, 18, 11, 10, 10, 2, 5, 9, 15, 5, 16, 1, 2, 3, 4, 5, 6, 9, 14, 18, 19, 3, 12, 1, 2, 3, 6, 7, 10, 2, 1, 2, 3, 4, 5, 6, 9, 14, 15, 2, 20, 8, 1, 2, 3, 4, 7, 8, 9, 11, 13, 1, 2, 3, 4, 5, 8, 10, 11, 14, 15, 16, 3, 1, 2, 4, 5, 6, 8, 13, 2, 4, 1, 2, 3, 4, 5, 6, 9, 10, 11, 13, 1, 2, 3, 4, 6, 7, 9, 11, 15, 18, 1, 2, 11, 19, 13, 7, 9, 1, 2, 3, 4, 5, 6, 8, 10, 17, 8, 10, 2, 7, 13, 1, 4, 1, 2, 3, 4, 5, 6, 7, 8, 9, 11, 13, 2, 3, 4, 8, 14, 15, 3, 8, 2, 3, 4, 5, 6, 10, 11, 13, 17, 20, 5, 15, 1, 2, 3, 4, 5, 6, 7, 8, 9, 11, 14, 13, 1, 9, 1, 4, 14, 1, 2, 3, 4, 5, 6, 7, 9, 10, 12, 15, 1, 1, 2, 3, 4, 7, 8, 14, 15, 16, 1, 1, 13, 7, 3, 20, 12, 15, 10, 19, 7, 1, 2, 4, 5, 6, 7, 15, 1, 3, 4, 6, 7, 15, 1, 3, 6, 2, 6, 1, 2, 4, 1, 3, 4, 5, 7, 9, 11, 1, 16, 9, 3, 4, 6, 9, 17, 14, 2, 3, 4, 7, 9, 14, 16, 17, 4, 1, 2, 3, 4, 5, 6, 7, 9, 11, 1, 2, 3, 4, 8, 16, 18, 2, 12, 13, 1, 5, 10, 12, 5, 9, 8, 15, 15, 3, 5, 6, 7, 13, 3, 13, 14, 3, 4, 7, 9, 11, 13, 19, 4, 3, 14, 16, 4, 3, 8, 13, 15, 18, 1, 15, 7, 3, 18, 14, 4, 3, 4, 2, 2, 3, 4, 1, 2, 3, 4, 5, 6, 7, 8, 9, 11, 13, 16, 8, 16, 6, 10, 12, 1, 2, 3, 4, 5, 6, 7, 9, 11, 17, 20, 14, 20, 12, 1, 2, 3, 4, 7, 10, 11, 3, 13, 2, 3, 5, 8, 10, 17, 1, 3, 5, 6, 7, 10, 12, 10, 12, 5, 1, 2, 3, 4, 5, 6, 7, 8, 9, 11, 16, 10, 3, 4, 5, 14, 3, 6, 8, 10, 17, 1, 2, 4, 6, 7, 10, 14, 3, 3, 14, 17, 15, 5, 18, 16, 18, 1, 10, 18, 2, 3, 5, 10, 1, 2, 4, 6, 7, 9, 10, 17, 19, 5, 13, 11, 1, 2, 3, 4, 5, 6, 8, 9, 10, 11, 12, 9, 11, 15, 1, 6, 15, 1, 3, 7, 10, 11, 10, 12, 1, 2, 3, 4, 6, 14, 3, 13, 18, 14, 1, 2, 3, 4, 5, 6, 11, 12, 4, 13, 13, 13, 1, 2, 3, 4, 6, 7, 9, 11, 14, 17, 7, 12, 4, 9, 11, 2, 3, 5, 8, 20, 3, 3, 4, 5, 14, 9, 6, 1, 2, 5, 14, 1, 2, 6, 10, 10, 10, 3, 4, 5, 17, 18, 9, 3, 5, 8, 14, 18, 7, 3, 18, 6, 6, 2, 3, 6, 7, 8, 11, 12, 16, 13, 1, 10, 12, 8, 1, 2, 3, 4, 5, 6, 7, 9, 10, 11, 12, 1, 2, 3, 5, 6, 8, 10, 11, 15, 16, 19, 20, 1, 2, 3, 4, 5, 6, 7, 9, 11, 19, 8, 14, 2, 3, 4, 5, 9, 14, 18, 9, 13, 20, 1, 2, 3, 4, 6, 7, 16, 17, 18, 18, 19, 17, 18, 18, 17, 18, 8, 5, 8, 11, 3, 13, 2, 20, 1, 2, 4, 5, 8, 5, 8, 10, 8, 14, 18, 8, 14, 18, 8, 1, 2, 3, 4, 6, 7, 11, 14, 15, 2, 3, 6, 7, 8, 9, 10, 1, 2, 5, 10, 20, 15, 4, 19, 5, 15, 14, 1, 2, 4, 5, 7, 8, 10, 12, 13, 14, 15, 17, 17, 1, 9, 5, 1, 2, 4, 18, 5, 6, 2, 3, 4, 14, 16, 2, 3, 4, 14, 4, 5, 11, 14, 15, 4, 11, 3, 5, 1, 2, 3, 5, 1, 2, 3, 4, 6, 8, 9, 3, 13, 1, 2, 4, 5, 6, 7, 10, 3, 3, 4, 3, 11, 17, 11, 3, 4, 5, 11, 20, 19, 5, 10, 1, 1, 5, 6, 3, 2, 5, 9, 10, 16, 11, 1, 3, 5, 11, 16, 8, 11, 11, 8, 1, 2, 4, 5, 6, 7, 9, 3, 6, 2, 3, 5, 8, 10, 13, 14, 17, 14, 3, 4, 6, 9, 8, 16, 19, 6, 1, 2, 3, 4, 6, 7, 8, 9, 10, 11, 1, 2, 4, 6, 7, 9, 2, 12, 1, 6, 7, 12, 6, 7, 7, 11, 9, 20, 3, 12, 5, 2, 3, 4, 5, 9, 11, 2, 3, 5, 3, 5, 6, 10, 6, 1, 3, 4, 5, 6, 8, 11, 16, 7, 12, 1, 2, 3, 4, 5, 8, 9, 10, 11, 12, 13, 15, 7, 19, 14, 2, 2, 15, 9, 2, 1, 2, 4, 5, 7, 8, 9, 10, 11, 19, 1, 5, 10, 11, 12, 15, 3, 5, 2, 3, 8, 12, 17, 16, 5, 10, 13, 17, 13, 17, 1, 9, 18, 19, 1, 2, 5, 6, 7, 11, 15, 15, 1, 2, 3, 4, 8, 17, 2, 3, 4, 17, 18, 5, 12, 5, 19, 7, 1, 2, 4, 5, 6, 8, 10, 12, 14, 7, 18, 7, 3, 13, 13, 13, 1, 2, 3, 5, 7, 1, 2, 4, 5, 7, 3, 9, 15, 3, 5, 6, 13, 3, 6, 8, 8, 8, 2, 3, 4, 16, 20, 3, 4, 7, 7, 4, 19, 12, 16, 8, 1, 2, 3, 4, 5, 6, 7, 8, 9, 10, 12, 13, 5, 9, 14, 3, 4, 5, 11, 12, 6, 15, 5, 9, 3, 5, 9, 10, 9, 15, 2, 4, 5, 9, 14, 16, 5, 5, 1, 2, 3, 4, 8, 11, 14, 15, 5, 13, 12, 4, 9, 2, 3, 4, 5, 8, 9, 15, 16, 18, 3, 4, 4, 1, 6, 8, 9, 15, 17, 19, 17, 8, 8, 11, 14, 1, 3, 13, 4, 1, 2, 3, 4, 5, 6, 7, 8, 9, 10, 11, 12, 15, 1, 3, 4, 5, 10, 2, 3, 4, 5, 9, 11, 13, 15, 9, 11, 17, 2, 3, 8, 15, 16, 18, 2, 2, 20, 3, 4, 13, 2, 4, 5, 10, 14, 10, 12, 1, 2, 3, 4, 9, 1, 2, 4, 6, 9, 11, 2, 3, 4, 6, 7, 9, 11, 12, 2, 3, 5, 10, 5, 10, 12, 13, 3, 4, 13, 15, 13, 20, 2, 19, 1, 5, 7, 1, 5, 6, 8, 13, 1, 2, 3, 4, 6, 7, 9, 1, 8, 16, 1, 2, 3, 4, 5, 10, 5, 6, 7, 10, 12, 1, 2, 3, 4, 5, 9, 13, 8, 11, 18, 9, 4, 14, 1, 2, 3, 4, 8, 10, 15, 16, 18, 16, 1, 2, 3, 4, 6, 7, 8, 9, 10, 12, 14, 17, 9, 11, 12, 4, 11, 3, 5, 6, 12, 2, 5, 6, 7, 13, 1, 2, 3, 4, 5, 6, 7, 9, 10, 11, 17, 1, 6, 15, 1, 4, 3, 6, 9, 13, 18, 5, 16, 4, 9, 19, 8, 4, 6, 17, 19, 6, 1, 3, 4, 5, 6, 9, 13, 3, 4, 5, 6, 7, 13, 1, 2, 3, 4, 5, 6, 8, 9, 1, 2, 4, 5, 7, 19, 8, 4, 9, 10, 19, 2, 19, 14, 5, 8, 8, 3, 4, 5, 13, 3, 1, 2, 4, 9, 17, 13, 6, 14, 20, 7, 1, 2, 3, 4, 8, 14, 20, 18, 15, 3, 4, 6, 6, 1, 2, 3, 4, 6, 7, 9, 10, 1, 2, 3, 4, 6, 7, 1, 2, 4, 5, 6, 7, 8, 9, 1, 2, 4, 5, 7, 8, 9, 10, 12, 13, 18, 1, 2, 4, 7, 13, 19, 11, 1, 2, 3, 4, 5, 6, 7, 8, 9, 10, 11, 13, 14, 19, 20, 2, 2, 13, 3, 6, 7, 8, 10, 11, 15, 2, 16, 1, 2, 4, 10, 12, 14, 3, 2, 3, 8, 13, 14, 2, 1, 2, 4, 5, 8, 10, 14, 15, 17, 1, 6, 12, 18, 9, 1, 2, 4, 6, 7, 9, 10, 11, 1, 7, 12, 12, 12, 15, 10, 15, 17, 2, 3, 4, 9, 13, 17, 3, 5, 10, 12, 1, 6, 7, 2, 3, 4, 5, 8, 10, 11, 12, 16, 17, 18, 15, 4, 1, 2, 3, 4, 5, 6, 7, 9, 10, 11, 13, 14, 17, 3, 4, 5, 9, 11, 3, 4, 5, 1, 2, 3, 4, 5, 6, 7, 9, 10, 11, 13, 20, 11, 2, 5, 13, 13, 7, 7, 3, 4, 7, 11, 3, 4, 5, 8, 12, 3, 1, 4, 17, 4, 1, 2, 3, 4, 5, 6, 9, 11, 15, 19, 5, 3, 5, 8, 10, 16, 1, 13, 2, 5, 10, 12, 19, 1, 2, 3, 4, 5, 6, 7, 8, 9, 11, 12, 1, 2, 3, 8, 10, 15, 17, 4, 5, 6, 10, 12, 19, 2, 1, 2, 3, 4, 5, 7, 11, 13, 19, 3, 3, 1, 3, 4, 12, 1, 4, 18, 8, 11, 8, 3, 17, 17, 9, 17, 14, 15, 1, 12, 15, 1, 2, 6, 10, 12, 1, 2, 3, 4, 6, 7, 10, 14, 1, 2, 3, 4, 5, 6, 7, 10, 11, 1, 2, 3, 4, 5, 6, 7, 9, 1, 2, 3, 4, 5, 6, 7, 8, 10, 12, 14, 7, 1, 2, 3, 4, 5, 6, 7, 8, 9, 10, 11, 15, 9, 19, 11, 18, 3, 4, 10, 10, 1, 2, 5, 8, 11, 13, 14, 18, 1, 2, 5, 6, 8, 10, 12, 13, 14, 18, 6, 15, 10], \"Freq\": [0.9061004028257167, 0.040571659828017165, 0.03380971652334764, 0.013523886609339055, 0.9826049356305065, 0.9908442357047809, 0.9921115001255035, 0.04337778911518757, 0.4771556802670633, 0.16576512269018107, 0.04647620262341525, 0.021688894557593784, 0.13478098760790425, 0.10999367954208276, 0.005608419433167507, 0.9926902396706487, 0.4056032006667471, 0.5928046778975534, 0.03301676595307528, 0.013756985813781368, 0.874944297756495, 0.03301676595307528, 0.02476257446480646, 0.013756985813781368, 0.0027513971627562733, 0.9203666048652782, 0.0657404717760913, 0.9885826053939143, 0.9539372159658724, 0.9862690043889719, 0.03211551571986455, 0.9527602996893149, 0.01427356254216202, 0.9629275150645988, 0.989772617298915, 0.9615535758408305, 0.983981638519179, 0.9874369645908654, 0.1675509077277056, 0.2206768052999049, 0.2364783543213796, 0.17872096824288594, 0.06402351758700944, 0.0370519080503544, 0.06593060108960122, 0.0016346430022215178, 0.005176369507034807, 0.013077144017772142, 0.0019070835025917709, 0.00735589350999683, 0.9842891788118441, 0.9954896129885822, 0.03915626585258692, 0.13052088617528973, 0.6411838533361108, 0.008157555385955608, 0.055471376624498143, 0.1125742643261874, 0.011420577540337852, 0.10088226360231183, 0.041539755600951925, 0.12066309960276511, 0.18198369120417035, 0.3699016332084767, 0.09890418000226649, 0.007912334400181319, 0.011868501600271978, 0.06329867520145055, 0.9422295755035722, 0.03249067501736456, 0.9018209338070984, 0.0809022791488015, 0.5605372198166961, 0.06356607647405832, 0.28315797702080525, 0.9782791707753206, 0.04404388135164236, 0.17617552540656944, 0.3523510508131389, 0.026426328810985417, 0.3963949321647812, 0.9792729649304127, 0.9436388237639803, 0.054232116308274736, 0.1146007373121896, 0.2990799729854704, 0.5757988264953916, 0.008385419803330947, 0.9186566585919704, 0.36693079682333773, 0.13693217135087402, 0.0011855599251157924, 0.4902290290353802, 0.0011855599251157924, 0.003556679775347377, 0.6151214635049065, 0.1921651039834794, 0.17864595093941554, 0.0009656537888617057, 0.009656537888617056, 0.0038626151554468227, 0.9633842156983078, 0.9932378659377005, 0.03700074285706383, 0.05755671111098818, 0.22611565079316784, 0.09044626031726714, 0.09866864761883688, 0.09866864761883688, 0.07400148571412767, 0.31656191111043497, 0.92720490870036, 0.06936695077558803, 0.9366851980518667, 0.05648796868906215, 0.887193390587035, 0.04651950362628648, 0.006645643375183782, 0.20041178550953118, 0.46706136453492436, 0.16304687634673723, 0.011888834733616255, 0.07982503321142344, 0.06114257863002646, 0.011888834733616255, 0.003396809923890359, 0.998246995475909, 0.9939711286325006, 0.9568065577089357, 0.9287138208097311, 0.04266176562023499, 0.02625339422783692, 0.9771047003383784, 0.9880821760606238, 0.9869567453321153, 0.18736161098204165, 0.08516436862820076, 0.026765944426005953, 0.01216633837545725, 0.1411295251553041, 0.5328856208450276, 0.014599606050548702, 0.9855990328137164, 0.9671266953313531, 0.9948587380524025, 0.9989505466260583, 0.9981983957229628, 0.3159688740779782, 0.46549780603600727, 0.037382232989507276, 0.13261792179610915, 0.00089005316641684, 0.00178010633283368, 0.01513090382908628, 0.00801047849775156, 0.00801047849775156, 0.01602095699550312, 0.22985224340707014, 0.7661741446902338, 0.9841503519977896, 0.989472291176288, 0.7756242411082283, 0.008992744824443226, 0.11915386892387275, 0.07643833100776742, 0.015737303442775647, 0.2574839728211429, 0.03814577375128043, 0.05403984614764727, 0.015894072396366844, 0.629405266896127, 0.9926620745376898, 0.347746222237731, 0.08024912820870715, 0.5617438974609501, 0.9180596845987581, 0.9929734949683022, 0.9800457999797942, 0.964112042078257, 0.010903340315164663, 0.970397288049655, 0.010903340315164663, 0.14962313474948372, 0.8459461849297732, 0.046344967220602946, 0.9423476668189266, 0.04326074242993052, 0.14944620112157816, 0.09045427962621835, 0.21237091738329528, 0.3342875551403722, 0.16517738018700742, 0.2465629521365877, 0.7530165835522813, 0.9855037479026552, 0.8578417952578755, 0.938521023732395, 0.35248983338180395, 0.09399728890181439, 0.03021341428986891, 0.5069139508633562, 0.013428184128830628, 0.9926255604011098, 0.03755247362811977, 0.7767103295416106, 0.13331128137982518, 0.05257346307936767, 0.7211531838631786, 0.07434568905805965, 0.20445064490966405, 0.9968133791144891, 0.9894448829156974, 0.9892138866438377, 0.9871932869925334, 0.9854619600094491, 0.9811596709428896, 0.2704961041070083, 0.5148972899354581, 0.0986515203213795, 0.002545845685713019, 0.04900752944997562, 0.040097069549980054, 0.01463861269284986, 0.0038187685285695286, 0.005728152792854293, 0.9675621732810439, 0.04567302598255044, 0.9477152891379217, 0.06382657784537152, 0.00797832223067144, 0.9175070565272155, 0.9880016615897329, 0.9127577543766091, 0.22294710058028377, 0.17004439874767407, 0.08313281716552955, 0.022672586499689874, 0.08691158158214453, 0.011336293249844937, 0.007557528833229959, 0.2040532784972089, 0.18893822083074896, 0.8942964856172265, 0.05177505969362891, 0.05177505969362891, 0.03083046882972815, 0.08574724143268142, 0.4923240491247214, 0.12139497101705458, 0.07514926777246236, 0.09345485864011345, 0.07418581562153335, 0.005780712905574028, 0.021195947320438103, 0.4210121288453762, 0.5725764952297117, 0.04217442039221582, 0.21087210196107908, 0.7169651466676689, 0.9862808116801216, 0.9923327007585051, 0.9621910214822883, 0.9620244617781191, 0.07108623848566543, 0.00888577981070818, 0.9196782104082964, 0.14031994475806084, 0.8575107735214829, 0.4908889621105815, 0.10791093563637782, 0.03808621257754511, 0.011284803726680033, 0.04725511560547264, 0.29834199852410337, 0.0007053002329175021, 0.005642401863340017, 0.9855658178015851, 0.9935743478683811, 0.15518588187856197, 0.3332517335212709, 0.02188518847005361, 0.13827459987897509, 0.02188518847005361, 0.026859094940520342, 0.11539463011482813, 0.057697315057414066, 0.13031634952622834, 0.24441718722759645, 0.5421762361628442, 0.0023884415689993136, 0.13375272786396156, 0.023884415689993138, 0.027865151638325328, 0.014330649413995882, 0.010349913465663692, 0.0007961471896664379, 0.9980619160241736, 0.994931683619936, 0.9961837949692295, 0.9526843702165815, 0.9928946833674817, 0.024063738750579586, 0.11309957212772405, 0.026470112625637542, 0.6665655633910545, 0.12031869375289793, 0.04572110362610121, 0.9951227139054241, 0.993547392345779, 0.057138935806221175, 0.9427924408026493, 0.05643094231687671, 0.14107735579219177, 0.6524827705388869, 0.14813122358180136, 0.13081290930770453, 0.07217263961804388, 0.0857050095464271, 0.7081940262520555, 0.05592980791227565, 0.04194735593420674, 0.04194735593420674, 0.8529295706622037, 0.29890881708633876, 0.10346843668373265, 0.5518316623132409, 0.04598597185943674, 0.9520870666559772, 0.9674312058792882, 0.97350241679058, 0.1393694622553224, 0.2671248026560346, 0.04210119172296198, 0.19308477583289457, 0.22937890662855145, 0.00290353046365255, 0.047908252650267075, 0.04355295695478825, 0.033390600332004326, 0.9614705216069658, 0.3759544034167136, 0.6265906723611894, 0.9718870199028301, 0.27086965530571744, 0.7128148823834669, 0.0868832794571161, 0.8330573265594073, 0.07155093602350737, 0.9586631618701742, 0.9872632091647578, 0.9893694144653126, 0.21330858468269212, 0.24174972930705108, 0.09243372002916658, 0.17775715390224342, 0.021330858468269213, 0.2488600154631408, 0.9884852936172822, 0.07080255756243974, 0.0937092673620526, 0.07704984205324324, 0.03123642245401753, 0.5997393111171366, 0.12702811797967128, 0.9570274080697596, 0.9534365174838161, 0.20003961847913224, 0.7819730540547897, 0.0917822246609772, 0.28369051258847494, 0.008343838605543382, 0.050063031633260285, 0.5590371865714066, 0.20803422380695663, 0.7866294087700548, 0.01598786459235425, 0.5875540237690188, 0.063951458369417, 0.3237542579951736, 0.9951278630284048, 0.9904091576855276, 0.9899895624015981, 0.2797330737396207, 0.17843056143885272, 0.23138414741425417, 0.12202348072592507, 0.004604659650034908, 0.0057558245625436355, 0.013813978950104725, 0.0069069894750523626, 0.07252338948804982, 0.014965143862613453, 0.0679187298380149, 0.9847207403091249, 0.9926261456842119, 0.9704624847344724, 0.15342867256931403, 0.15342867256931403, 0.6819052114191735, 0.983520221743179, 0.015111706352007872, 0.24135504399617314, 0.018565772615090244, 0.3341839070716244, 0.39916411122444023, 0.998322614830121, 0.16610444091819887, 0.15806712926086666, 0.01875372720044181, 0.058940285487102825, 0.15806712926086666, 0.3429252973795074, 0.005358207771554803, 0.0026791038857774015, 0.07501490880176724, 0.013395519428887006, 0.03533476773825458, 0.9187039611946191, 0.9435052274372369, 0.9626082084835946, 0.984823367351018, 0.9677626585702854, 0.9593717462874681, 0.03527102008409809, 0.2698980539184457, 0.18811076485225, 0.094055382426125, 0.4068917631043234, 0.020446822266548915, 0.0020446822266548914, 0.01635745781323913, 0.9810147812236495, 0.9707331646614431, 0.9939018408631332, 0.9827904374153004, 0.030582427633116045, 0.25431702979117554, 0.1287681163499623, 0.15935054398307832, 0.004828804363123586, 0.423325182500501, 0.1200963974152831, 0.8406747819069816, 0.9700186180585444, 0.07257352880596427, 0.8623442834591047, 0.05976643548726469, 0.5611258237552463, 0.023843873530676192, 0.1859822135392743, 0.03656060608037016, 0.017485507255829206, 0.17326548098958033, 0.17673286118589962, 0.7885004575986291, 0.03474235732714266, 0.4682531588103142, 0.5296634091460931, 0.9967135570586464, 0.9753037495179535, 0.01797042084538943, 0.006534698489232519, 0.9956997298886864, 0.9857080083308157, 0.01122674269169494, 0.9756550560907, 0.9567749383012084, 0.998531382793868, 0.9801141341169967, 0.9881126794211266, 0.9848987223452764, 0.9957228851326656, 0.9878109381849451, 0.9943231650129755, 0.9618081815568331, 0.023458736135532517, 0.12856074502527726, 0.8713561607268793, 0.9849137868147553, 0.9837266241158054, 0.981130508225236, 0.016742841437290715, 0.020529998288014644, 0.9777411684666973, 0.9434381890461718, 0.9866586962731001, 0.9913358125675509, 0.6100826591794882, 0.1249406753003745, 0.031899746885202, 0.0132915612021675, 0.0558245570491035, 0.1462071732238425, 0.00132915612021675, 0.01462071732238425, 0.1835336586298845, 0.7941690088377246, 0.00857633918831236, 0.012006874863637305, 0.05122371156961409, 0.27888465187901007, 0.21058636978619127, 0.09675589963149328, 0.23904398732486576, 0.10244742313922818, 0.017074570523204696, 0.37338292489306746, 0.613414805181468, 0.9681673524185803, 0.9467442222171863, 0.6350240545080594, 0.22679430518144977, 0.0055541462493416275, 0.06479837290898566, 0.008331219374012442, 0.054615771451859335, 0.00462845520778469, 0.9662155972052612, 0.978840943396392, 0.9122888770828379, 0.08474814705141116, 0.9570977057371789, 0.024540966813773817, 0.9868160395805705, 0.9943656830843142, 0.4924157872860173, 0.45187792586295533, 0.05365305188346436, 0.0011922900418547635, 0.9891710745079192, 0.11586543108088906, 0.04384097392249857, 0.13465441990481702, 0.7045870808972984, 0.9786908677545946, 0.8561776447114637, 0.13518594390181005, 0.9809876405735583, 0.017270909165027434, 0.015101173954706193, 0.26427054420735835, 0.10570821768294335, 0.030202347909412387, 0.022651760932059287, 0.5587434363241292, 0.985084869409841, 0.9923362945734883, 0.9808592133086301, 0.014887902994659242, 0.048385684732642535, 0.725785270989638, 0.03163679386365089, 0.01116592724599443, 0.020470866617656458, 0.013026915120326835, 0.014887902994659242, 0.11724223608294153, 0.9956371416307278, 0.9976844221298057, 0.01279306677727158, 0.16630986810453055, 0.06652394724181221, 0.21108560182498107, 0.40170229680632763, 0.07803770734135664, 0.033261973620906105, 0.029424053587724635, 0.9572200527580929, 0.03920355164879561, 0.9894341218667391, 0.9714391831454047, 0.9808816150650623, 0.3302481119360537, 0.14617539380776148, 0.08662245558978458, 0.4331122779489229, 0.968879863572928, 0.009365718940862824, 0.3816530468401601, 0.3699458981640816, 0.028097156822588475, 0.025755727087372768, 0.004682859470431412, 0.07258432179168689, 0.10302290834949107, 0.9687371229211421, 0.9730709938399331, 0.47585430673095364, 0.24858060799378173, 0.000373805425554559, 0.17643616086175185, 0.0291568231932556, 0.015699827873291477, 0.004485665106654708, 0.039249569683228694, 0.010092746489973093, 0.36934298696921625, 0.045597899625829164, 0.5836531152106134, 0.004608097816958507, 0.40551260789234866, 0.07372956507133611, 0.40551260789234866, 0.10598624979004567, 0.2162200995399793, 0.04096801886020661, 0.4369922011755371, 0.2685681236391322, 0.03869201781241735, 0.18699689099990488, 0.6816338284835242, 0.12667531325800008, 0.36022061310343517, 0.10635084767815706, 0.01715336252873501, 0.044598742574711026, 0.02058403503448201, 0.05832143259769903, 0.3910966656551582, 0.9859125533295579, 0.06787974677880525, 0.006170886070800477, 0.7898734170624611, 0.07405063284960572, 0.05862341767260453, 0.2173719334898023, 0.03381341187619147, 0.16423657197007283, 0.14008413491565036, 0.1014402356285744, 0.06279633634149843, 0.27533778242041623, 0.9909068858682646, 0.02056450307517932, 0.061693509225537964, 0.9116929696662832, 0.9792595363056513, 0.986557532786056, 0.9881821828192121, 0.036796861183089856, 0.12312795857418529, 0.2618238199566009, 0.15001797251567403, 0.09199215295772464, 0.05236476399132018, 0.014152638916573021, 0.1372805974907583, 0.0070763194582865105, 0.12312795857418529, 0.990604182650137, 0.9844580942178922, 0.937560863072346, 0.052086714615130335, 0.931442291729832, 0.6338997464862384, 0.2268081661739752, 0.03489356402676542, 0.10322679357918102, 0.9512213102791489, 0.04208943850792694, 0.009819776987231393, 0.06873843891061976, 0.07364832740423545, 0.10310765836592962, 0.1423867663148552, 0.09328788137869824, 0.10310765836592962, 0.4075207449701028, 0.2483028260241471, 0.037245423903622066, 0.29382501079524076, 0.1117362717108662, 0.15518926626509194, 0.028968663036150494, 0.0020691902168678924, 0.045522184771093634, 0.06621408693977256, 0.010345951084339462, 0.2579238844421878, 0.7034287757514212, 0.3652590699274751, 0.20178647919070303, 0.017879814611834445, 0.13026722074336525, 0.043422406914455085, 0.24010036764463397, 0.9836561346021551, 0.45340628333373045, 0.07556771388895507, 0.24132915080666298, 0.22426547347689893, 0.0048753363799325855, 0.1611600108397215, 0.8288229128899963, 0.9830863547089997, 0.9709041008180833, 0.9774830050548068, 0.04475605888628337, 0.0406873262602576, 0.07323718726846369, 0.05696225676436065, 0.7364406053106627, 0.048824791512309125, 0.2988792742990821, 0.6911583218166274, 0.9387339793203576, 0.9733785447264338, 0.9878150738796849, 0.9897907563645061, 0.2859936566836807, 0.07414650358465796, 0.29658601433863185, 0.0847388612396091, 0.06355414592970682, 0.18007008013416934, 0.04955566434234199, 0.9415576225044977, 0.9773768567843771, 0.9962211347267984, 0.8633725234735453, 0.9870769942512599, 0.9872574778015001, 0.9921278653495667, 0.9792863693232088, 0.9650757290473817, 0.9801812533620065, 0.9958046944625626, 0.9899849519203366, 0.9453930326837087, 0.053619306331314814, 0.22431411535978826, 0.7699860413768618, 0.00477264075233592, 0.9600287387246889, 0.0371624027893428, 0.9724186935223735, 0.0037985105215717716, 0.01899255260785886, 0.995525988565462, 0.13997143346218727, 0.24310827917116737, 0.6114541567032391, 0.3674524408696803, 0.6292623049893276, 0.14227211207573784, 0.8434703787347315, 0.9644743667980438, 0.02755641047994411, 0.986552221326778, 0.9875161354083097, 0.24460788558866287, 0.14388699152274287, 0.22062672033487238, 0.13909075847198477, 0.023981165253790477, 0.19664555508108192, 0.023981165253790477, 0.9786212678860744, 0.11424231113013072, 0.8849245687540285, 0.997554906948109, 0.8870533716864187, 0.05544083573040117, 0.05544083573040117, 0.984823367351018, 0.09730298056165164, 0.020484838012979293, 0.010242419006489646, 0.07681814254867234, 0.2227726133911498, 0.5710148596117978, 0.9938355629380875, 0.9967344902468604, 0.9840603068184195, 0.9889530816077119, 0.9903170736777819, 0.021244751008522886, 0.04248950201704577, 0.9347690443750071, 0.5008361561554838, 0.22991237937658685, 0.0012427696182518207, 0.12924804029818937, 0.13919019724420392, 0.9934944187817172, 0.16583234292757587, 0.8329739524063294, 0.7865124968141944, 0.21146798263400512, 0.9871914011185686, 0.40593315142236996, 0.44973120197057304, 0.0032047354059660787, 0.07370891433721981, 0.01709192216515242, 0.04593454081884713, 0.005341225676610131, 0.203847065292228, 0.7918674459428858, 0.004686852146890982, 0.9936126551408881, 0.041666776990186005, 0.9531275236505048, 0.9703302487628362, 0.9947073511171394, 0.1171829576907639, 0.13671345063922455, 0.7226282390930441, 0.03385015711013174, 0.9613444619277416, 0.14525298224949454, 0.8379979745163146, 0.49471604281183285, 0.3034916372361867, 0.0012337058424235232, 0.07566729166864276, 0.008224705616156822, 0.04564711616967036, 0.03125388134139592, 0.03166511662220376, 0.008635940896964662, 0.7691625219602757, 0.17688750505029596, 0.003975000113489797, 0.017887500510704084, 0.027825000794428578, 0.22311119044975872, 0.6963228282585212, 0.06297493278823835, 0.014394270351597337, 0.2814549428546544, 0.11566641487177579, 0.05012211311110284, 0.5474876970597387, 0.9698133866188534, 0.032646663486497585, 0.9630765728516788, 0.17614309519880197, 0.03969421863634974, 0.09923554659087434, 0.1562959858806271, 0.45648351431802203, 0.062022216619296466, 0.009923554659087435, 0.228964174352673, 0.7073357529109362, 0.016354583882333785, 0.04497510567641791, 0.15354485355627995, 0.8385911232689136, 0.9531904646590544, 0.04446369514444569, 0.996808601784632, 0.10675092058546684, 0.8824742768398592, 0.9886685394170815, 0.446370654027801, 0.11218941571821738, 0.3723733798306789, 0.06683624766191673, 0.9972898880808388, 0.9914745730464962, 0.9879913676510778, 0.9775397816607114, 0.12647830554383666, 0.34947952847639074, 0.09985129385039736, 0.11649317615879692, 0.05658239984855851, 0.07322428215695806, 0.023298635231759384, 0.15310531723727597, 0.9673476912379093, 0.9578596752832224, 0.14176539002051702, 0.1412050525105545, 0.011767087709212875, 0.7049045875328475, 0.9927028730040349, 0.35601337306323494, 0.383644261718889, 0.01912907676160665, 0.23911345952008317, 0.0021254529735118505, 0.9767450715908218, 0.9799660431601473, 0.9946641002572657, 0.993715079984718, 0.22293391920410308, 0.20685486460263758, 0.04649888763126517, 0.06909647788197347, 0.07996070396404477, 0.02781241877010253, 0.04432604241485091, 0.11863734881621861, 0.03911121389545668, 0.017817330774596934, 0.03389638537606246, 0.03650379963575957, 0.04476061145813376, 0.009560518952222744, 0.001303707129848556, 0.1659533189896875, 0.08297665949484374, 0.005531777299656249, 0.7412581581539375, 0.9798061523879584, 0.9631463131323788, 0.9792415450737062, 0.03005636866826455, 0.9197248812488953, 0.04207891613557037, 0.020236233521641937, 0.9753864557431413, 0.9910758792682612, 0.9934628333103415, 0.9931562914738102, 0.9622736608852016, 0.03516614707553893, 0.9854390792753674, 0.9957700435840461, 0.2550724043493212, 0.052939555619670446, 0.4259227883946213, 0.02165709093531973, 0.03609515155886621, 0.02887612124709297, 0.024063434372577474, 0.06737761624321693, 0.08903470717853666, 0.9884357989093598, 0.9621296606732316, 0.9823354935456727, 0.9702774210439823, 0.9659750850404012, 0.9922790296019258, 0.007246190232695616, 0.1376776144212167, 0.10869285349043424, 0.05072333162886931, 0.6811418818733879, 0.636009283276602, 0.1461102407527329, 0.21486800110696017, 0.8931517144206012, 0.027910991075643786, 0.0031012212306270872, 0.0744293095350501, 0.027304422418856424, 0.9647562587995936, 0.9935624512145703, 0.9857432663554637, 0.9965979168267454, 0.9667411780241194, 0.9758787712484528, 0.0011687055904573266, 0.008180939133201285, 0.9314583555944892, 0.058435279522866326, 0.8599013503886355, 0.13819843131245926, 0.9786718533466389, 0.05442890027454068, 0.12246502561771652, 0.3537878517845144, 0.44903842726496057, 0.9911807175700771, 0.9767226999565265, 0.9826692992952271, 0.9825267420442308, 0.06277869927321872, 0.05075724622090024, 0.32725066642422523, 0.03472864215114227, 0.2577933821219407, 0.20970756991266679, 0.020035755087197463, 0.03472864215114227, 0.9930591280259462, 0.9930878593795218, 0.12322114356262728, 0.08571905639139289, 0.6589652460088329, 0.12857858458708935, 0.28208339681814754, 0.5154298716729502, 0.1890401821608528, 0.008861258538789975, 0.004430629269394987, 0.9833877680332798, 0.9889688775196361, 0.11011244309827041, 0.1594731934526675, 0.6568776777931303, 0.07214263513334958, 0.571543865068431, 0.2518322730883467, 0.07602483715874618, 0.09027949412601108, 0.010181897833760648, 0.24698208089231852, 0.5626335268253585, 0.02883354554196038, 0.10281435318251662, 0.006828997628359037, 0.017072494070897594, 0.018590049099421826, 0.015934327799504423, 0.00037938875713105764, 0.9919650984457764, 0.003911069276944887, 0.8471376053862625, 0.01799091867394648, 0.024248629517058296, 0.10559887047751194, 0.9918889207173083, 0.7118567381080845, 0.28706239133482836, 0.9805947497388458, 0.265600073984026, 0.39454284849079385, 0.02534772490303983, 0.07824732470068817, 0.012122824953627744, 0.0044082999831373615, 0.05840997477657004, 0.07163487472598212, 0.0044082999831373615, 0.08375769967960987, 0.9918536704867674, 0.33719223784951846, 0.6622334040648201, 0.15363679719959508, 0.16617857656282733, 0.02194811388565644, 0.1348241281547467, 0.5236192884149465, 0.98424562845286, 0.10545831242423495, 0.8858498243635736, 0.9701095504399148, 0.9826869171853687, 0.9793645640731227, 0.22544127546146853, 0.23606416278687806, 0.5146198748753942, 0.009442566511475122, 0.014163849767212683, 0.2669594293373258, 0.6720656962338272, 0.05787232384235734, 0.6021254150504544, 0.3821180518589422, 0.09436804613361988, 0.8964964382693889, 0.981312911121986, 0.9517037080310227, 0.31940867566939657, 0.6792757835902501, 0.0485428351147949, 0.9465852847385006, 0.9889468829016991, 0.22810924191393825, 0.09753636550802877, 0.1054022014360956, 0.45857823460629654, 0.0479815991612077, 0.03460967808349408, 0.018878006227360408, 0.0015731671856133672, 0.007079252335260152, 0.9918860787850852, 0.9832170496992746, 0.3904835501377988, 0.032447057174774106, 0.17454279031947453, 0.1376202769826626, 0.06936957051158603, 0.029090465053245754, 0.034684785255793014, 0.1264316365775681, 0.00559432020254726, 0.79093068447816, 0.046525334381068234, 0.10966685961251797, 0.03323238170076302, 0.01661619085038151, 0.06330799446748125, 0.08230039280772562, 0.0253231977869925, 0.1266159889349625, 0.2574525108344238, 0.12028518948821439, 0.04642586260948625, 0.2785551756569175, 0.04603756729109618, 0.02301878364554809, 0.8516949948852793, 0.06905635093664428, 0.4310076068943096, 0.041710413570417056, 0.041710413570417056, 0.4866214916548657, 0.9881643967033051, 0.9965002127573005, 0.1151969220682255, 0.8764983200843245, 0.9459001639428916, 0.9816192689144104, 0.9928115288472078, 0.98941924994506, 0.9912344131228493, 0.9592400084110626, 0.2373013997622441, 0.01582009331748294, 0.5672633460983169, 0.024860146641758906, 0.022600133310689913, 0.04746027995244882, 0.08136047991848369, 0.9826001175114472, 0.15469267071632356, 0.2110209801619414, 0.07062056706614772, 0.19336583839540447, 0.05716903048211958, 0.1177009451102462, 0.14292257620529894, 0.031106678350565065, 0.021018025912543963, 0.9808926306185939, 0.28397696383364845, 0.01859372977482222, 0.35666154386249893, 0.1555111944803313, 0.1352271256350707, 0.05071017211315151, 0.9608018508972498, 0.9784869895546672, 0.9942059120218569, 0.954819645341813, 0.9772622022353779, 0.9917825104206888, 0.024307945218940852, 0.07900082196155776, 0.8933169867960763, 0.8632578164050283, 0.07586205053256309, 0.015695596661909606, 0.04316289082025142, 0.011583925410977814, 0.9469859023474364, 0.0376477575856779, 0.908232190601288, 0.03632928762405152, 0.0454116095300644, 0.014475709940519553, 0.9698725660148101, 0.9827276166361891, 0.9188505707142268, 0.05156968897776632, 0.003125435695622201, 0.5766428858422962, 0.05156968897776632, 0.018752614173733206, 0.004688153543433301, 0.010939024934677704, 0.2187804986935541, 0.06407143176025512, 0.3221859923359704, 0.09372683413410048, 0.09079787056740983, 0.052721344200431515, 0.04686341706705024, 0.026360672100215757, 0.08493994343402855, 0.27825153883561077, 0.022118480475861818, 0.04644880899930982, 0.6104700611337861, 0.11943979456965381, 0.017694784380689454, 0.18579523599723927, 0.98499340392581, 0.9880961043157568, 0.006973605478953976, 0.3765746958635147, 0.3382198657292679, 0.003486802739476988, 0.2742951488388564, 0.021267442682278856, 0.5930578302258332, 0.09418438902152065, 0.14644153389797726, 0.01944451902379781, 0.04982657999848189, 0.007899335853417861, 0.06684053414430498, 0.983660557850202, 0.9899524743783319, 0.9870920876810825, 0.9666242889797357, 0.977720548744301, 0.06352591644017232, 0.4923258524113354, 0.44203450189619903, 0.968139769189179, 0.9115947532043122, 0.08681854792422021, 0.9972382984919449, 0.9741589018745079, 0.14444105422101325, 0.36110263555253314, 0.48147018073671083, 0.9931000064123486, 0.9717896397429776, 0.14691631536473337, 0.11970959029719017, 0.31922557412584046, 0.18681951213046344, 0.2267227088961935, 0.8459024382819497, 0.054439265830026465, 0.018844361248855315, 0.03350108666463167, 0.04606399416386855, 0.046516264014414416, 0.9458307016264265, 0.9302229575196386, 0.9043977136852813, 0.9774585595940156, 0.9905134651318172, 0.9954929497467547, 0.9986568824912149, 0.9985566667481377, 0.9911960485293302, 0.19498331259505597, 0.06615505248760827, 0.09575073386364355, 0.047004905714879565, 0.31162511566531265, 0.04526398328099513, 0.11490088063637226, 0.006963689735537713, 0.008704612169422142, 0.10793719090083455, 0.9866807101710819, 0.19921750363481083, 0.15494694727151953, 0.09591953878713114, 0.03689213030274275, 0.029513704242194197, 0.029513704242194197, 0.4574624157540101, 0.9873397287728809, 0.9771381233646138, 0.4233288466186822, 0.11441320178883302, 0.4233288466186822, 0.022882640357766604, 0.5862976928667467, 0.022992066386931242, 0.37936909538436553, 0.040289173799307826, 0.9535104465836185, 0.9990000976802617, 0.9930484528729986, 0.25651372551503326, 0.7425397317540438, 0.13796559870073094, 0.84461866521667, 0.016825073012284263, 0.9948167019840547, 0.01244740181413484, 0.10669201554972721, 0.19026742773034686, 0.01244740181413484, 0.01244740181413484, 0.4427718645313679, 0.07290621062564692, 0.0088910012958106, 0.12980861891883477, 0.01066920155497272, 0.9964698679687838, 0.9966050179351279, 0.920312423673556, 0.011432452467994484, 0.06287848857396967, 0.026284286169960418, 0.946234302118575, 0.026284286169960418, 0.9634136068418451, 0.9810213657794428, 0.989023954506958, 0.9940461841831106, 0.04030656154874527, 0.953921956653638, 0.15444697702311522, 0.6864310089916232, 0.15444697702311522, 0.9988625361258558, 0.9958264609370734, 0.9807313929459774, 0.7782555406164927, 0.081445347273819, 0.012065977373899112, 0.006032988686949556, 0.11161029070856678, 0.009049483030424334, 0.09987709651619314, 0.0814786840000523, 0.36008321638732793, 0.4547036236131951, 0.49283254440388624, 0.15401017012621446, 0.02566836168770241, 0.1642775148012954, 0.1642775148012954, 0.10198547962400734, 0.8938727331751231, 0.9542715380794059, 0.9783716995917436, 0.9060741165836198, 0.07447184519865369, 0.016549298933034154, 0.5878597140559378, 0.15670845968618233, 0.24846004489104553, 0.0024358827930494663, 0.004059804655082443, 0.3842444410422371, 0.0761565558822452, 0.09000320240628977, 0.4084760724593151, 0.0034616616310111452, 0.03461661631011145, 0.9753668396116738, 0.9931320701105512, 0.9835609492715974, 0.9849700355699245, 0.08029011023641686, 0.14911020472477415, 0.6346742047259618, 0.08411344881910338, 0.0229400314961191, 0.0229400314961191, 0.9859112787646293, 0.9699274683271107, 0.9268502404193155, 0.17420480291877116, 0.4327022524111413, 0.07726825935913237, 0.03722925223667287, 0.07164874958755911, 0.001404877442893316, 0.002809754885786632, 0.135570673239205, 0.005619509771573264, 0.008429264657359894, 0.033014619907992926, 0.000702438721446658, 0.011941458264593184, 0.007024387214466579, 0.9949938212167797, 0.01097055810725486, 0.9763796715456824, 0.9901319960879218, 0.08545514983320031, 0.6689075521426369, 0.008840187913779341, 0.15912338244802815, 0.07366823261482786, 0.9852587762763886, 0.9794513126331953, 0.9706894478328517, 0.021101944518105473, 0.8610594402567379, 0.07242556039542655, 0.010729712651174304, 0.05364856325587152, 0.9672919815403836, 0.9840458814663734, 0.9838531349888598, 0.021994190013440322, 0.8294951662211778, 0.10054486863287004, 0.043988380026880644, 0.9930363124633911, 0.9939281771361637, 0.13612618072191213, 0.48227561170048866, 0.014260837980390793, 0.10241874549553388, 0.05056115283956736, 0.15946209741709705, 0.0350038750427774, 0.02074303706238661, 0.9778233304037003, 0.9172278728138126, 0.986547629722795, 0.012217308108022228, 0.5974089888914064, 0.08806427326287664, 0.0023801154935912602, 0.09282450425005916, 0.2130203366764178, 0.0047602309871825205, 0.9890571187524095, 0.38427286164590246, 0.34860893902234297, 0.035663922623559476, 0.20996839213473098, 0.0030704039344786305, 0.004015143606625901, 0.011100691147730433, 0.002598034098404995, 0.0009447396721472709, 0.9866632457011324, 0.9374969426132741, 0.9910422860593409, 0.05224121430578823, 0.16639794186288104, 0.14317962439364182, 0.18477910985936208, 0.008706869050964705, 0.06191551325130457, 0.0628829431458562, 0.3202192950965908, 0.9890050198702841, 0.1350137425212543, 0.034228836132148985, 0.634184269448427, 0.026622428102782543, 0.0038032040146832205, 0.022819224088099322, 0.018065219069745297, 0.06465446824961475, 0.044687647172527836, 0.012360413047720465, 0.0028524030110124153, 0.9904239748707498, 0.35482042066032865, 0.5219051690136051, 0.08823576598431453, 0.03097638593066361, 0.000938678361535261, 0.000938678361535261, 0.001877356723070522, 0.9245721096831852, 0.07013995314837956, 0.24170669519013374, 0.42566776354303415, 0.02639800083987809, 0.022273313208647137, 0.09486781551831187, 0.05609575178474094, 0.016498750524923805, 0.014023937946185235, 0.07836906499338807, 0.023923188261139518, 0.3421191023349967, 0.3580902643604634, 0.15718985782959308, 0.08742109740255445, 0.000840587475024562, 0.0025217624250736858, 0.00420293737512281, 0.02521762425073686, 0.00840587475024562, 0.013449399600392991, 0.08861540313339109, 0.1476923385556518, 0.25107697554460806, 0.5021539510892161, 0.9896968471884163, 0.995234046383253, 0.9805582690999862, 0.21060184806634713, 0.3159027720995207, 0.0028459709198155017, 0.08253315667464955, 0.0056919418396310035, 0.011383883679262007, 0.20206393530690064, 0.02845970919815502, 0.1366066041511441, 0.947446127282807, 0.05062689229755457, 0.9900149737104621, 0.9905341130572952, 0.9954797794977457, 0.9921515946641775, 0.9894391074159448, 0.4806411361557139, 0.25618331184537224, 0.028552938781527558, 0.043622545360667106, 0.07376175851894619, 0.026966664404776026, 0.04282940817229134, 0.026966664404776026, 0.005551960318630359, 0.007931371883757655, 0.0071382346953818895, 0.010117684218372695, 0.6016130692924687, 0.2809603079101956, 0.018678801633918822, 0.08638945755687455, 0.0015565668028265684, 0.960873685393924, 0.03558791427384904, 0.3709696963405414, 0.05611306331201466, 0.23068703806050472, 0.03117392406223037, 0.06234784812446074, 0.03117392406223037, 0.08728698737424503, 0.02182174684356126, 0.04987827849956859, 0.05611306331201466, 0.9832634576755875, 0.9599096156975638, 0.36625241088695254, 0.3198913462177181, 0.01205387681400097, 0.14371930047462694, 0.07185965023731347, 0.02503497492138663, 0.004172495820231105, 0.00092722129338469, 0.01668998328092442, 0.02967108138831008, 0.008808602287154556, 0.9750845202556195, 0.989096977039033, 0.9594744941779489, 0.9853552954754253, 0.30412225700008977, 0.6893437825335368, 0.32422491356558275, 0.2001925640807625, 0.13273637401007077, 0.060492970450491276, 0.056140958187866005, 0.11880993476966992, 0.06919699497574182, 0.0013056036787875815, 0.0304640858383769, 0.005222414715150326, 0.00043520122626252713, 0.9896321142063168, 0.05848128691895346, 0.12713323243250751, 0.28477844064881686, 0.038139969729752254, 0.13476122637845797, 0.18307185470281084, 0.043225299027052556, 0.038139969729752254, 0.09407859200005557, 0.9926664933486943, 0.9923242064172667, 0.9919459699116159, 0.993622668702755, 0.11112514567340419, 0.8704803077749995, 0.9655282398902041, 0.02219605149172883, 0.9851836064096442, 0.8877937028631896, 0.9972842360796985, 0.6907142790344861, 0.1413101523245157, 0.05481859357416556, 0.008527336778203533, 0.002436381936629581, 0.1011098503701276, 0.0012181909683147904, 0.21194836052805704, 0.02697524588538908, 0.06936491799100049, 0.05395049177077816, 0.6319914750291156, 0.986851792338167, 0.020670397572688372, 0.05019953696224319, 0.9242620628930658, 0.04978154916186999, 0.9458494340755299, 0.0207422140206035, 0.05012701721645846, 0.9282140774220066, 0.0031406909555046574, 0.47895537071446026, 0.1743083480305085, 0.0015703454777523287, 0.14447178395321425, 0.1868711118525271, 0.007851727388761644, 0.9799528708285958, 0.9791331499678904, 0.9579077846282695, 0.20088832152550368, 0.08876460718568767, 0.24293471440293468, 0.4671821430825667, 0.9848175668040515, 0.9667028579142032, 0.02187734645186793, 0.27893616726131615, 0.0984480590334057, 0.2844055038742831, 0.010938673225933965, 0.08204004919450475, 0.18048810822791045, 0.03828535629076888, 0.9929450871610694, 0.4085519173384747, 0.34380029270369755, 0.02235472755248258, 0.10406511102017751, 0.00847937941645891, 0.026208990923600264, 0.01695875883291782, 0.055501392544094676, 0.013875348136023669, 0.041308385849516266, 0.3717754726456464, 0.03304670867961301, 0.053700901604371146, 0.24371947651214598, 0.1693643819830167, 0.08261677169903253, 0.9242889996183932, 0.04553147781371395, 0.02731888668822837, 0.022283295592027547, 0.6982099285501965, 0.17331452127132538, 0.10646463449524272, 0.9954889835638443, 0.9519805744214539, 0.9928910597118323, 0.9659872834513906, 0.9684658985919709, 0.03257911779405684, 0.08687764745081823, 0.021719411862704558, 0.05429852965676139, 0.7981883859543925, 0.07282823246893921, 0.9103529058617401, 0.9775430255760917, 0.0024602801293451587, 0.7774485208730701, 0.0049205602586903175, 0.051665882716248335, 0.1131728859498773, 0.009841120517380635, 0.03936448206952254, 0.9955103658078052, 0.982440544457976, 0.959341516619737, 0.9734997590671326, 0.997198238305698, 0.9928310809182193, 0.9959264187361389, 0.9657160784069684, 0.03075528912124103, 0.9793006414355899, 0.21894201975358088, 0.772736540306756, 0.9878072002092757, 0.02568228662639932, 0.9630857484899745, 0.9479681410306016, 0.9947486535917873, 0.7698601347037193, 0.22781575414701896, 0.9913424975195747, 0.9916690345704431, 0.002961436837818191, 0.9950427775069122, 0.3190682718519408, 0.4819776010626638, 0.01620092776681223, 0.13545775716140224, 0.0036002061704027174, 0.03510201016142649, 0.002700154627802038, 0.0004500257713003397, 0.0045002577130033965, 0.0004500257713003397, 0.0004500257713003397, 0.9704357736118694, 0.41681974901822766, 0.5696536569915779, 0.22386308505899954, 0.06813224327882596, 0.7007887880107813, 0.32944676589318844, 0.07344808849999655, 0.043498382509706696, 0.08842294149514147, 0.039932941320386474, 0.08271823559222913, 0.13334750048057625, 0.07843970616504486, 0.1226511769126156, 0.007843970616504487, 0.9685089973453693, 0.9944585382659797, 0.8951862937577345, 0.9711811321266904, 0.302417096752203, 0.09218982721505904, 0.27312313296424034, 0.026709202277260095, 0.07409649664014091, 0.006031110191639376, 0.22487425143112533, 0.4088283867975344, 0.5882122708005342, 0.01844352952786095, 0.1613808833687833, 0.7331302987324727, 0.012295686351907299, 0.05225666699560602, 0.023054411909826187, 0.13338258176943632, 0.022230430294906053, 0.09447932875335073, 0.6835857315683612, 0.06113368331099165, 0.814391264081756, 0.18427831523017835, 0.8964397419772063, 0.08865887558016326, 0.9935832847079961, 0.224077777962392, 0.17148809537938164, 0.02286507938391755, 0.44015277814041287, 0.07488313498232999, 0.006859523815175265, 0.005716269845979388, 0.0005716269845979388, 0.03887063495265984, 0.014862301599546409, 0.9801790875820217, 0.9828747539513957, 0.1030966595652316, 0.06443541222826975, 0.2061933191304632, 0.6056928749457356, 0.9910759685389919, 0.07306570894530108, 0.07306570894530108, 0.1380130057855687, 0.7063018531379104, 0.5582414463731511, 0.3320365187545081, 0.06543785406110744, 0.009694496897941843, 0.00888662215644669, 0.0032314989659806143, 0.021812618020369146, 0.9963034466012034, 0.13601265662831433, 0.793407163665167, 0.04533755220943811, 0.9568293712378432, 0.9958640924243873, 0.9602861108728469, 0.08918305054712322, 0.8621028219555245, 0.988066422788314, 0.9881679275904406, 0.9634879368688621, 0.012225541083334653, 0.024451082166669306, 0.09780432866667722, 0.8557878758334256, 0.6733400567435164, 0.15338634497246126, 0.08449247816279645, 0.0480957183388226, 0.02989733842683567, 0.0012998842794276378, 0.009099189955993464, 0.13471794360979067, 0.8532136428620076, 0.5059239229416704, 0.48905979217694806, 0.9931126613296082, 0.07029232461021993, 0.08435078953226392, 0.22282666901439718, 0.09700340796210351, 0.08083617330175293, 0.08435078953226392, 0.009138002199328591, 0.19330389267810483, 0.011949695183737388, 0.13636710974382668, 0.009138002199328591, 0.041728335913696436, 0.9388875580581698, 0.9664119024963416, 0.13847780396778347, 0.27695560793556695, 0.5807133714778018, 0.018979857797232737, 0.9236864127986598, 0.05693957339169821, 0.04073282575194732, 0.9368549922947883, 0.8863329156857815, 0.10779724650232478, 0.041255078959058694, 0.04675575615359985, 0.06875846493176449, 0.08801083511265854, 0.04675575615359985, 0.7068370194985389, 0.9817741274390865, 0.11013644436652298, 0.8535574438405531, 0.9705086612500051, 0.18667336973507134, 0.1388849870828931, 0.12843127837772908, 0.14037837404077366, 0.06869580006250625, 0.0029867739157611417, 0.3121178741970393, 0.019414030452447422, 0.986978781202204, 0.992435010380697, 0.9877373140538174, 0.9724821336182291, 0.21353099185447588, 0.0833291675529662, 0.09548133782110711, 0.21526701617849603, 0.006944097296080517, 0.14929809186573112, 0.012152170268140904, 0.07464904593286556, 0.14929809186573112, 0.9803436170846193, 0.9869770887199649, 0.9852857888741141, 0.10169869519640053, 0.016526037969415087, 0.8809649471388196, 0.8828007246894021, 0.031249583174846093, 0.031249583174846093, 0.03906197896855761, 0.9140768373390309, 0.9816414611558917, 0.5398179845229667, 0.1274324422480446, 0.20353792859062678, 0.1274324422480446, 0.9737865955681863, 0.9832849970680937, 0.112881409095286, 0.3489061735672477, 0.15392919422084456, 0.38482298555211136, 0.14922027409168073, 0.10445419186417651, 0.7423708636061116, 0.9850317762093109, 0.9895877727453622, 0.9944781042567806, 0.047891811441248905, 0.2941925559962433, 0.15051712167249656, 0.4994431764587386, 0.9674793148991424, 0.9787852429169065, 0.34789764459019373, 0.12583531825602753, 0.11103116316708311, 0.04441246526683324, 0.3701038772236104, 0.9945592092666407, 0.9883236716294626, 0.9814851035659251, 0.9909812168394991, 0.9973891868331523, 0.07491559156769721, 0.12286157017102342, 0.005993247325415777, 0.5993247325415777, 0.06292909691686566, 0.0509426022660341, 0.014983118313539443, 0.06892234424228143, 0.9799934906310914, 0.3166510609383301, 0.6556539614723071, 0.026077146194921304, 0.9838146118459128, 0.7743862357058856, 0.050388929859596227, 0.0199265313535676, 0.00022904059027089194, 0.07283490770614363, 0.009848745381648354, 0.004580811805417839, 0.0018323247221671355, 0.010077785971919245, 0.0006871217708126758, 0.05496974166501407, 0.019400952258669564, 0.09700476129334781, 0.007760380903467826, 0.09700476129334781, 0.06790333290534348, 0.5412865680168808, 0.05626276155014173, 0.025221237936270433, 0.003880190451733913, 0.08536418993814608, 0.8756211952930333, 0.9211659146939233, 0.7132463948663958, 0.02145101939447807, 0.026813774243097586, 0.012066198409393915, 0.10189234212377082, 0.07373787916851836, 0.028154462955252466, 0.0053627548486195175, 0.01608826454585855, 0.9079824170586598, 0.9590159149471763, 0.037608467252830444, 0.9834449551710946, 0.29110039867155413, 0.12361797751805723, 0.037882928594243345, 0.40474918445428415, 0.11763646247686091, 0.025919898511850708, 0.9862353994873388, 0.10448327891592045, 0.8881078707853238, 0.01373413387323406, 0.02746826774646812, 0.041202401619702185, 0.09156089248822707, 0.7004408275349371, 0.12360720485910655, 0.06524751395747133, 0.195742541872414, 0.6959734822130276, 0.9638842816272573, 0.01818649587975957, 0.9636595729537422, 0.9771673315720216, 0.9619688751213203, 0.011080696812425274, 0.9751013194934242, 0.9949781796933743, 0.1314581870630541, 0.8632420950473886, 0.986821282296051, 0.9890298587150269, 0.980456040736021, 0.7874090183684561, 0.20452182295284574, 0.03996428998393456, 0.0015985715993573825, 0.05435143437815101, 0.05115429117943624, 0.8520386624574848, 0.050059419078104544, 0.8159685309731041, 0.1301544896030718, 0.8432407858931574, 0.07699155001633176, 0.07332528572983978, 0.8887194656799045, 0.016012963345583865, 0.09607778007350318, 0.994985917033927, 0.23011072358448054, 0.03076689340405311, 0.18396038347840088, 0.4204808765220592, 0.0025639077836710922, 0.012178561972437689, 0.03909959370098416, 0.07691723351013277, 0.0025639077836710922, 0.09429492586753423, 0.10261506638525783, 0.0388273224160435, 0.06656112414178887, 0.4326473069216276, 0.23296393449626104, 0.027733801725745362, 0.22217812619537552, 0.01709062509195196, 0.7373383968242132, 0.019532142962230815, 0.957240859904889, 0.9897368795901802, 0.9331741936636314, 0.062456540520794225, 0.2552430444709621, 0.7292658413456059, 0.9862005073751453, 0.05302344426920166, 0.23418687885564066, 0.18027971051528563, 0.11134923296532348, 0.048604823913434854, 0.17762853830182557, 0.0053023444269201655, 0.01855820549422058, 0.11665157739224365, 0.007069792569226888, 0.0053023444269201655, 0.042418755415361324, 0.965527781219678, 0.9756979072327361, 0.9577629544477222, 0.9986079441033124, 0.25192346622469647, 0.5840892216913333, 0.1604845784838807, 0.0037321994996251328, 0.01575382782433284, 0.9609834972843031, 0.2504087357999619, 0.0033839018351346207, 0.16919509175673103, 0.5718794101377509, 0.0033839018351346207, 0.2315050850248301, 0.08214696565397198, 0.19416555518211556, 0.48541388795528895, 0.6969315723052437, 0.0326686674518083, 0.049003001177712446, 0.010889555817269433, 0.20690156052811923, 0.9944678958475535, 0.9961619646408205, 0.13295881402189902, 0.8656467466106617, 0.031368258506278786, 0.02091217233751919, 0.05750847392817777, 0.8861533028023757, 0.29731214851197624, 0.4427663996301431, 0.050314363594334444, 0.10794718007511753, 0.029273811545794583, 0.02287016527015202, 0.048484750372722284, 0.012555636122486393, 0.9793396175539386, 0.15530196745012056, 0.21339201634367713, 0.5109553280229158, 0.016597156826730443, 0.07942925052792427, 0.0171899124276851, 0.006520311610501246, 0.9925955817550973, 0.9526193273604617, 0.040972874295073625, 0.3809455194341425, 0.1240287737692557, 0.48725589695064736, 0.9885421343636125, 0.2955899420041666, 0.20666765654648164, 0.14963474242534575, 0.3471035418555152, 0.9464952959652231, 0.9371995202831088, 0.07971062488031776, 0.9166721861236542, 0.9896486522471091, 0.0551277385035641, 0.9096076853088078, 0.034454836564727566, 0.9859661261218733, 0.027290959139186995, 0.8226274826240652, 0.07017675207219513, 0.07407546052065042, 0.9774976579544545, 0.9826643335260296, 0.022072753420648326, 0.3510618877379305, 0.6211903462668171, 0.004204333984885396, 0.9669143513879723, 0.9907146734603696, 0.9657950202228383, 0.9599243968093136, 0.9895717058534307, 0.686014006622744, 0.04107345007804964, 0.15730257476699863, 0.04719077243009959, 0.028838805373949748, 0.035830030919149686, 0.004369515965749962, 0.021266712043594895, 0.9782687540053652, 0.17175193219213136, 0.07010282946617606, 0.14020565893235212, 0.1051542441992641, 0.06309254651955847, 0.12267995156580812, 0.1191748100924993, 0.2032982054519106, 0.970051915817734, 0.0992109841359031, 0.07003128291946101, 0.07003128291946101, 0.7586722316274943, 0.429378309339209, 0.06440674640088136, 0.4937850557400904, 0.9861963874509574, 0.3795978141168219, 0.07890983006804832, 0.11130439188545763, 0.16114217929685656, 0.017443225593989628, 0.10050620461298786, 0.0008306297901899823, 0.005814408531329876, 0.0016612595803799646, 0.141207064332297, 0.5154679882637926, 0.38772998866901043, 0.0903197976932803, 0.0012902828241897184, 0.002580565648379437, 0.0019354242362845779, 0.9881693355884812, 0.9898170917927605, 0.06193605171665693, 0.25691991823205834, 0.6629451461523649, 0.013763567048145983, 0.12640490244321312, 0.8637668333619564, 0.045955330785207776, 0.951931851979304, 0.9793014544975873, 0.9688578614292637, 0.04935578527926872, 0.9377599203061057, 0.9913315691337972, 0.013939060417585912, 0.8200813879013045, 0.0023231767362643188, 0.023231767362643187, 0.01858541389011455, 0.12312836702200888, 0.011472864352270152, 0.9579841734145577, 0.022945728704540303, 0.5676700690784643, 0.06039043288068769, 0.2864231959484045, 0.08454660603296277, 0.9846307561075105, 0.05246341551399279, 0.18886829585037407, 0.21335122309023735, 0.041970732411194235, 0.4441902513518057, 0.03497561034266186, 0.010492683102798559, 0.010492683102798559, 0.9851406887965346, 0.9781175320467413, 0.13254134765761222, 0.048196853693677176, 0.06506575248646418, 0.05542638174772875, 0.004819685369367718, 0.007229528054051576, 0.021688584162154727, 0.11567244886482522, 0.45305042472056545, 0.05301653906304489, 0.03614764027025788, 0.004819685369367718, 0.9946036713801053, 0.9661874889812173, 0.9433011453049592, 0.9968155979045367, 0.6162020976929607, 0.3697212586157765, 0.9824912176839748, 0.9962551427875146, 0.5040778376354017, 0.25280968003732684, 0.06782698732708768, 0.1079065707476395, 0.0005138408130839976, 0.030316607971955862, 0.022608995775695896, 0.007707612196259965, 0.0025692040654199883, 0.0020553632523359904, 0.06749916594931868, 0.6201485871593654, 0.23413773188669917, 0.01687479148732967, 0.04429632765424039, 0.01687479148732967, 0.9952419749340069, 0.9803661312972981, 0.7684470839591946, 0.10977815485131351, 0.01614384630166375, 0.08717677002898426, 0.01614384630166375, 0.9691736494008991, 0.9895564633803804, 0.11625225186450461, 0.8602666637973341, 0.015500300248600614, 0.9794212377424106, 0.9475172261055713, 0.9837758073156024, 0.14980007340814602, 0.8239004037448031, 0.9346933909735243, 0.03713656735301134, 0.002652611953786524, 0.10345186619767445, 0.005305223907573048, 0.15385149331961842, 0.6737634362617771, 0.023873507584078718, 0.9716273997252689, 0.06580909076718354, 0.16050997748093548, 0.0674141905419929, 0.6821674042939757, 0.006420399099237419, 0.016050997748093546, 0.04791624064951069, 0.2342571765087189, 0.2422432166169707, 0.05324026738834521, 0.42059811236792716, 0.4458583608092316, 0.5522890662927256, 0.11258851172800452, 0.8444138379600339, 0.9867507889586226, 0.7436856634995525, 0.0707523358509088, 0.0015722741300201954, 0.049264589407299456, 0.0031445482600403907, 0.012054101663488165, 0.01729501543022215, 0.10167372707463931, 0.9980210110302888, 0.9915473791718478, 0.9590120876275829, 0.9924334749677575, 0.0046058095765554195, 0.9902490589594152, 0.9895997737524774, 0.9900500338660323, 0.7816859181992953, 0.0591643011481118, 0.023307148937134953, 0.06992144681140486, 0.06454287397975833, 0.7687083311315368, 0.05042944725508309, 0.08450339810311219, 0.005451832135684658, 0.08995523023879685, 0.05945620653164486, 0.9343118169258477, 0.9780243112534921, 0.18759001252567498, 0.045899683915856644, 0.6505781285464898, 0.1157470290052037, 0.3552255011762327, 0.6424290978719103, 0.9901009649792082, 0.995739704120392, 0.9897742193626339, 0.2940718223570947, 0.20164924961629352, 0.11762872894283789, 0.37809234303055034, 0.9431988291008586, 0.024438077629935075, 0.9730798183555966, 0.9950862666463808, 0.9843222354771876, 0.16617504369909591, 0.8329267622448511, 0.9877912580909768, 0.9785822069235577, 0.9985379035158072, 0.2111919623862562, 0.14537865317751592, 0.003929152788581511, 0.132608906614626, 0.1414495003889344, 0.003929152788581511, 0.04322068067439662, 0.2072628095976747, 0.0658133092087403, 0.005893729182872266, 0.014734322957180666, 0.024557204928634443, 0.3035651314474449, 0.6811705388576813, 0.011106041394418717, 0.07985653900772596, 0.004436474389318109, 0.15749484082079288, 0.7275817998481698, 0.028837083530567707, 0.9821806536263081, 0.010022251567615388, 0.11272290111901272, 0.8844412241645614, 0.07833827480927721, 0.5522848374054043, 0.32118692671803656, 0.0450445080153344, 0.9712070232252933, 0.9781733275709079, 0.300385599313789, 0.06456886714221632, 0.07299089329120106, 0.07860557739052423, 0.47163346434314535, 0.005614684099323159, 0.9924379582483708, 0.9847060937568356, 0.052503864915454175, 0.008750644152575695, 0.633327870542666, 0.11485220450255601, 0.015313627267007468, 0.07328664477782146, 0.1006324077546205, 0.001093830519071962, 0.9790878113886551, 0.016318130189810917, 0.9861650390179137, 0.635240882260388, 0.3634310816778181, 0.1263081625854064, 0.20868305122806274, 0.14552896993535955, 0.02745829621421878, 0.38167031737764107, 0.005491659242843756, 0.06040825167128132, 0.002745829621421878, 0.03844161469990629, 0.6195321952848127, 0.37884037688680505, 0.9899020523637636, 0.13555719608899558, 0.8550530830228952, 0.024844640270708138, 0.29813568324849765, 0.024844640270708138, 0.09937856108283255, 0.546582085955579, 0.9724720211593993, 0.9943886418272944, 0.9911577957086223, 0.025674277416248375, 0.9719547879008313, 0.9777667471062348, 0.04199114972878415, 0.9552986563298393, 0.9941771539222888, 0.2949111364553536, 0.2774533947624363, 0.015587269368676196, 0.15587269368676196, 0.058608132826222493, 0.09102965311306899, 0.022445667890893722, 0.025563121764628962, 0.04738529888077564, 0.004364435423229335, 0.004364435423229335, 0.0012469815494940957, 0.0012469815494940957, 0.9882493225071947, 0.9057620710315902, 0.035289431338893125, 0.02352628755926208, 0.031368383412349446, 0.20112794889077965, 0.005746512825450847, 0.27966362417194124, 0.0038310085503005646, 0.02490155557695367, 0.4443969918348655, 0.02681705985210395, 0.009577521375751411, 0.980228506558268, 0.9869241209725679, 0.991336239950743, 0.04074032219103887, 0.0967582652037173, 0.2648120942417526, 0.3157374969805512, 0.10185080547759717, 0.17314636931191518, 0.9940818022394257, 0.983374481846281, 0.953418706795413, 0.5707135331283897, 0.42825499327199656, 0.9917832227669306, 0.4891769378894337, 0.09558629820828016, 0.0056227234240164795, 0.06747268108819776, 0.3373634054409888, 0.47155835071329316, 0.5250340399694399, 0.6277898724721747, 0.15014406516524356, 0.004692002036413861, 0.20832489041677546, 0.008445603665544952, 0.6381940186901602, 0.17635860590421248, 0.15925359061584404, 0.006488109247312164, 0.00471862490713612, 0.014155874721408359, 0.04078181555376934, 0.5038527534546341, 0.06446157942369993, 0.04867507017707954, 0.06577712186091829, 0.011839881934965293, 0.19206919583388143, 0.07235483404701012, 0.2085119387290211, 0.028068914828906687, 0.38895496262913554, 0.3729155827269031, 0.08872634853127369, 0.01971696634028304, 0.7541739625158264, 0.1380187643819813, 0.16874706576253232, 0.0022906841506226106, 0.8269369783747624, 0.0015271227670817403, 0.9881947808397402, 0.8750734168304991, 0.7178437605494322, 0.27346428973311704, 0.009385522006476538, 0.028156566019429615, 0.9573232446606069, 0.2605188010532558, 0.02605188010532558, 0.017367920070217053, 0.008683960035108526, 0.6860328427735737, 0.0030662778570829906, 0.04906044571332785, 0.2575673399949712, 0.3863510099924568, 0.04139475107062037, 0.07205752964145028, 0.18857608821060393, 0.9625397781329146, 0.027765570523064845, 0.9885094658416915, 0.13830556250785772, 0.06295999487298001, 0.07431343657138624, 0.02064262126982951, 0.549093725777465, 0.15481965952372134, 0.7775165381416906, 0.03942781633578553, 0.04258204164264837, 0.1261690122745137, 0.011039788574019948, 0.1535088121799048, 0.004039705583681706, 0.008079411167363411, 0.08079411167363411, 0.274699979690356, 0.012119116751045118, 0.46860584770707786, 0.47292219110698963, 0.05456794512772957, 0.46382753358570133, 0.9911862766972659, 0.4525461447840452, 0.5317417201212531, 0.02388910041242503, 0.2150019037118253, 0.30259527189071705, 0.07963033470808344, 0.12342701879752933, 0.03981516735404172, 0.03981516735404172, 0.1552791526807627, 0.015926066941616687, 0.9766077117934384, 0.41291017296509747, 0.4049054523260326, 0.008004720639064895, 0.11406726910667474, 0.008004720639064895, 0.007337660585809486, 0.006003540479298671, 0.0013341201065108156, 0.008004720639064895, 0.008671780692320302, 0.020011801597662235, 0.9698066787603187, 0.1640245637088677, 0.8159170605005214, 0.016823032175268482, 0.012502699566196663, 0.9814619159464381, 0.06170768550518293, 0.16969613513925305, 0.7044960761841718, 0.056565378379751015, 0.07434414065731806, 0.14868828131463613, 0.6948317761433958, 0.0714847506320366, 0.011437560101125855, 0.1263986395993048, 0.014938021043554205, 0.5389178361097632, 0.03447235625435586, 0.027577885003484685, 0.03217419917073213, 0.0781373408432066, 0.0022981570836237237, 0.060901162716028676, 0.037919591879791444, 0.04366498458885075, 0.9843394692156593, 0.9813526672379975, 0.9850451690770647, 0.9899550084315986, 0.9918323095245273, 0.3248019706756682, 0.06268108206021666, 0.05698280187292424, 0.5527331781673651, 0.9475083387654417, 0.9806699903433618, 0.9520298021111602, 0.9901665545885381, 0.0494104342581603, 0.9223281061523256, 0.9880227824896362, 0.07289018506560874, 0.9111273133201092, 0.9736315591586573, 0.9380664094462893, 0.9830124773999824, 0.03151074020146214, 0.21866543957984333, 0.42109807360135765, 0.06970557680929504, 0.042969191183812004, 0.17569624839603132, 0.039627142980626626, 0.6222682962992047, 0.1975454908886364, 0.09453962778241885, 0.04374221583962663, 0.012699352985698055, 0.028220784412662344, 0.48195061347223195, 0.359361431266359, 0.004903567288234918, 0.08476166312520358, 0.01260917302688979, 0.027319874891594546, 0.00840611535125986, 0.02031477876554466, 0.7572636167071619, 0.1733173770632589, 0.04799558134059477, 0.0026664211855885983, 0.01333210592794299, 0.005332842371177197, 0.9783796045487115, 0.901430916115742, 0.014973935483650199, 0.02395829677384032, 0.056900954837870756, 0.23542020167887906, 0.750401892851427, 0.9808865340030557, 0.055708233506432434, 0.9432416809611855, 0.99684739028569, 0.2079851336781332, 0.061405134704972664, 0.6794181033485686, 0.04952026992336505, 0.9892340994546878, 0.6225768341788842, 0.16269429464604987, 0.2093333257779175, 0.0032538858929209973, 0.9854617225575719, 0.985302228305819, 0.9780206668308462, 0.9803735327922278, 0.9168045530426673, 0.9882778172057302, 0.06860990532009388, 0.0678475730387595, 0.038878946348053195, 0.7943502371504202, 0.002286996844003129, 0.02744396212803755, 0.9866545116069622, 0.9402224735515329, 0.9728518012425703, 0.20365558619304736, 0.007022606420449908, 0.7865319190903898, 0.982957546606396, 0.0605268330199614, 0.11197464108692859, 0.0060526833019961404, 0.05447414971796526, 0.19671220731487454, 0.5477678388306507, 0.012105366603992281, 0.00907902495299421, 0.6003311262073555, 0.2028967224017265, 0.01063877945177592, 0.09878866633791926, 0.012158605087743909, 0.07447145616243143, 0.643779151914411, 0.2894366471703961, 0.05124146650548858, 0.0031055434245750653, 0.001242217369830026, 0.003416097767032572, 0.005279423821777611, 0.0027949890821175587, 0.1747983813982069, 0.0906361977620332, 0.0841621836361737, 0.041002089463776925, 0.04963410829825628, 0.34096474396193444, 0.04747610358963644, 0.06042413184135547, 0.058266127132735636, 0.030212065920677735, 0.021580047086198383, 0.6672076750116618, 0.23165006596038984, 0.06519492874334325, 0.020806892152130822, 0.013871261434753883, 0.9202837159939999, 0.96680832157834, 0.3792544687370738, 0.356079546617715, 0.06075587690750811, 0.10428714953711443, 0.02943841458405032, 0.010021587943506492, 0.00438444472528409, 0.011587461059679382, 0.010647937189975648, 0.0006263492464691557, 0.02348809674259334, 0.009395238697037336, 0.04377249156747691, 0.8754498313495382, 0.04377249156747691, 0.986318840410136, 0.9911588945814498, 0.99025561438126, 0.013824122609488329, 0.0034560306523720823, 0.06220855174269748, 0.027648245218976658, 0.07257664369981373, 0.7845189580884627, 0.03456030652372082, 0.9925452365151973, 0.980802845013373, 0.7338396965670783, 0.16429246938068914, 0.04850539572191775, 0.0015646901845779919, 0.05007008590649574, 0.9469230759089684, 0.9924842089101328, 0.009754542612645157, 0.11705451135174187, 0.868154292525419, 0.9796051741620301, 0.9670708794344189, 0.9772931348571304, 0.04725243898893974, 0.11813109747234937, 0.04725243898893974, 0.2268117071469108, 0.19373499985465295, 0.06615341458451565, 0.2929651217314264, 0.0047252438988939745, 0.9414193739537755, 0.06781187533152014, 0.8815543793097618, 0.04931772751383283, 0.9737111868114197, 0.9829084324767063, 0.42826094697911876, 0.06715910304899816, 0.10414527574264934, 0.04866601670217258, 0.2501433258491671, 0.02725296935321665, 0.03406621169152081, 0.04087945402982497, 0.3692266224679903, 0.6281355345644469, 0.995755005337457, 0.9981693539537103, 0.9967995801376265, 0.9842666470849019, 0.9877968117652294, 0.9678605596643286, 0.9767483713694353, 0.007075533354945049, 0.017688833387362622, 0.24056813406813168, 0.36792773445714255, 0.07783086690439554, 0.2865591008752745, 0.0050512943698726815, 0.926912516871637, 0.04041035495898145, 0.022730824664427066, 0.06477858030145829, 0.7478981543895639, 0.18255781721320063, 0.035510052974707246, 0.6422687842381832, 0.01543915346726402, 0.11733756635120655, 0.006175661386905608, 0.004631746040179206, 0.004631746040179206, 0.13277671981847058, 0.024702645547622432, 0.003087830693452804, 0.013895238120537619, 0.9686198513502242, 0.9907277171291475, 0.06387654524005318, 0.23585185934788866, 0.06436790328036128, 0.29874568850732564, 0.05748889071604786, 0.0368518530231076, 0.048644445990502036, 0.140528399528117, 0.0014740741209243041, 0.012283951007702534, 0.020637037692940258, 0.015232099249551143, 0.003930864322464811, 0.7186140512902992, 0.1976650475271517, 0.01662603203499407, 0.01293135824943983, 0.05172543299775932, 0.8173964766274127, 0.10364681548013302, 0.07773511161009977, 0.011323665622854109, 0.039632829679989386, 0.17111316941201765, 0.511452230632244, 0.06416743852950661, 0.04718194009522546, 0.0075491104152360725, 0.13148033973202827, 0.0025163701384120244, 0.006290925346030061, 0.006920017880633067, 0.9016897813507291, 0.9899154819333393, 0.43570090048315946, 0.06846728436163935, 0.4917195876881371, 0.9775903291644435, 0.9861622042444014, 0.9881035452270602, 0.5892222018562788, 0.36535652976943606, 0.035857272152438016, 0.008722039172214653, 0.0371278387341144, 0.9323212837677616, 0.0165012616596064, 0.0041253154149016, 0.0082506308298032, 0.9925779484275942, 0.9888824289182735, 0.02245793680849467, 0.9656912827652708, 0.9924887825093633, 0.4884358465471143, 0.21326072173183866, 0.032280158872561186, 0.2460700635367369, 0.015346305037774989, 0.0010583658646741373, 0.0005291829323370687, 0.0005291829323370687, 0.0021167317293482747, 0.9476547032763758, 0.9904318140351832, 0.10619754695023305, 0.6227037980263666, 0.16653706226286547, 0.07723457960016948, 0.026549386737558262, 0.24017818277142605, 0.7582768341783594, 0.009915988758243162, 0.856080362794993, 0.03635862544689159, 0.09585455799635056, 0.9785717094019459, 0.42164439190805875, 0.3465518911230082, 0.027408762786543445, 0.08485452588710711, 0.05181382554168487, 0.025906912770842436, 0.007884712582430306, 0.017646737684486876, 0.0030037000314020214, 0.012014800125608086, 0.001126387511775758, 0.06129670530678622, 0.04715131177445094, 0.23104142769480962, 0.13673880414590772, 0.43850719950239375, 0.037721049419560754, 0.04715131177445094, 0.15544855364745555, 0.14630452107995817, 0.05943621168873301, 0.5120658237798537, 0.12344443966121471, 0.9307748077429971, 0.989065704300105, 0.004379739054802192, 0.19708825746609865, 0.2321261699045162, 0.08321504204124165, 0.17956930124688988, 0.035037912438417536, 0.09197452015084603, 0.017518956219208768, 0.15767060597287894, 0.9973352630565491, 0.9962148724815987, 0.03372280582521555, 0.07756245339799576, 0.8756688579280971, 0.012365028802579036, 0.008280334619907072, 0.9906291236179733, 0.9749567863835372, 0.9859838957296122, 0.9943818847656767, 0.9855696624045103, 0.016444964667614637, 0.9757345702784683, 0.9892830716652434, 0.9904134637460565, 0.9920270815216399, 0.9515802498681983, 0.9722275127677918, 0.9347439334591474, 0.04515671176131147, 0.01354701352839344, 0.3274466670933232, 0.04604718755999857, 0.2507013544933256, 0.03837265629999881, 0.33767937543998955, 0.1934853400973757, 0.057893251367718716, 0.13254507549977707, 0.0716048109021784, 0.004570519844819898, 0.4829515969359693, 0.03656415875855919, 0.01675857276433963, 0.4586028228807241, 0.023908204036435853, 0.09563281614574341, 0.013040838565328648, 0.010867365471107207, 0.0021734730942214414, 0.38687821077141654, 0.0021734730942214414, 0.008693892376885766, 0.2173858983727075, 0.24153988708078608, 0.06740648011556821, 0.3656801546269576, 0.07302368679186556, 0.023592268040448873, 0.005055486008667616, 0.005617206676297351, 0.18627166220661617, 0.10329610358730533, 0.08297555861931084, 0.030480817451991736, 0.07620204362997934, 0.12700340604996557, 0.1845782834592833, 0.02709405995732599, 0.08551562674031014, 0.08043549049831153, 0.016933787473328743, 0.9902215786395541, 0.4888061467937204, 0.2660043551364817, 0.0009257692174123492, 0.14735160043813225, 0.03687647382692524, 0.012189294695929265, 0.012189294695929265, 0.0015429486956872486, 0.019749743304796785, 0.012189294695929265, 0.0013886538261185237, 0.0007714743478436243, 0.969195895887954, 0.9537774125382917, 0.9856433863668764, 0.9694125972991043, 0.9957660059879382, 0.9939320472807793, 0.9910304956937496, 0.9755393783906535, 0.0006363558398635128, 0.4613579839010468, 0.16036167164560525, 0.21954276475291196, 0.09990786685857152, 0.01081804927767972, 0.015908895996587822, 0.03054508031344862, 0.1965409595924307, 0.4487573445984169, 0.1415363224368699, 0.09793508566721802, 0.016098918191871456, 0.008720247353930372, 0.04158887199566793, 0.0335394128997322, 0.014757341675882168, 0.0006707882579946441, 0.9852517132306786, 0.9889243779861059, 0.9832716368666017], \"Term\": [\"absolute\", \"absolute\", \"absolute\", \"absolute\", \"accelerators\", \"adaptec\", \"adapter\", \"address\", \"address\", \"address\", \"address\", \"address\", \"address\", \"address\", \"administration\", \"administration\", \"adobe\", \"adobe\", \"advance\", \"advance\", \"advance\", \"advance\", \"advance\", \"advance\", \"advance\", \"afraid\", \"afraid\", \"aged\", \"aggression\", \"aids\", \"algorithm\", \"algorithm\", \"algorithm\", \"alias\", \"allah\", \"allocated\", \"allocation\", \"alomar\", \"also\", \"also\", \"also\", \"also\", \"also\", \"also\", \"also\", \"also\", \"also\", \"also\", \"also\", \"also\", \"aluminum\", \"amendment\", \"american\", \"american\", \"american\", \"american\", \"american\", \"american\", \"american\", \"among\", \"among\", \"among\", \"among\", \"among\", \"among\", \"among\", \"among\", \"among\", \"amps\", \"amps\", \"anas\", \"andrew\", \"andrew\", \"andrew\", \"andrew\", \"ankara\", \"annual\", \"annual\", \"annual\", \"annual\", \"annual\", \"anon\", \"anonymous\", \"anonymous\", \"anti\", \"anti\", \"anti\", \"anti\", \"antibiotic\", \"anyone\", \"anyone\", \"anyone\", \"anyone\", \"anyone\", \"anyone\", \"anything\", \"anything\", \"anything\", \"anything\", \"anything\", \"anything\", \"anyways\", \"apartment\", \"appears\", \"appears\", \"appears\", \"appears\", \"appears\", \"appears\", \"appears\", \"appears\", \"apple\", \"apple\", \"appointment\", \"appreciated\", \"appreciated\", \"appreciated\", \"appreciated\", \"april\", \"april\", \"april\", \"april\", \"april\", \"april\", \"april\", \"april\", \"arab\", \"arabs\", \"arafat\", \"archive\", \"archive\", \"archive\", \"arena\", \"argc\", \"argic\", \"argument\", \"argument\", \"argument\", \"argument\", \"argument\", \"argument\", \"argument\", \"argv\", \"arithmetic\", \"armenia\", \"armenian\", \"armenians\", \"around\", \"around\", \"around\", \"around\", \"around\", \"around\", \"around\", \"around\", \"around\", \"around\", \"arrest\", \"arrest\", \"arrogant\", \"asala\", \"asked\", \"asked\", \"asked\", \"asked\", \"asked\", \"asking\", \"asking\", \"asking\", \"asking\", \"asking\", \"assault\", \"assembled\", \"assembled\", \"assembled\", \"assessment\", \"astronomy\", \"astros\", \"asynchronous\", \"atheism\", \"atheism\", \"atheism\", \"atheists\", \"atheists\", \"atmosphere\", \"atmosphere\", \"attack\", \"attack\", \"attack\", \"attack\", \"attack\", \"attack\", \"attacks\", \"attacks\", \"attorney\", \"aura\", \"auth\", \"author\", \"author\", \"author\", \"author\", \"author\", \"autos\", \"available\", \"available\", \"available\", \"available\", \"average\", \"average\", \"average\", \"azerbaijan\", \"azerbaijani\", \"azerbaijanis\", \"azeri\", \"azeris\", \"babies\", \"back\", \"back\", \"back\", \"back\", \"back\", \"back\", \"back\", \"back\", \"back\", \"baerga\", \"baku\", \"baku\", \"ball\", \"ball\", \"ball\", \"balloon\", \"barrasso\", \"base\", \"base\", \"base\", \"base\", \"base\", \"base\", \"base\", \"base\", \"base\", \"baseball\", \"baseball\", \"baseball\", \"based\", \"based\", \"based\", \"based\", \"based\", \"based\", \"based\", \"based\", \"based\", \"bases\", \"bases\", \"bath\", \"bath\", \"bath\", \"batteries\", \"battery\", \"batting\", \"beef\", \"belief\", \"belief\", \"belief\", \"beliefs\", \"beliefs\", \"believe\", \"believe\", \"believe\", \"believe\", \"believe\", \"believe\", \"believe\", \"believe\", \"believer\", \"believes\", \"best\", \"best\", \"best\", \"best\", \"best\", \"best\", \"best\", \"best\", \"best\", \"better\", \"better\", \"better\", \"better\", \"better\", \"better\", \"better\", \"better\", \"better\", \"bible\", \"biblical\", \"bike\", \"biker\", \"bikes\", \"bill\", \"bill\", \"bill\", \"bill\", \"bill\", \"bill\", \"binaries\", \"bios\", \"bishop\", \"bishop\", \"bits\", \"bits\", \"bits\", \"bits\", \"block\", \"block\", \"block\", \"block\", \"blocks\", \"blocks\", \"blocks\", \"blocks\", \"bobby\", \"bobby\", \"bobby\", \"bobby\", \"boggs\", \"bonds\", \"bone\", \"book\", \"book\", \"book\", \"book\", \"book\", \"book\", \"book\", \"book\", \"book\", \"boom\", \"boots\", \"boots\", \"borders\", \"borland\", \"borland\", \"boston\", \"boston\", \"boston\", \"bounced\", \"brake\", \"braves\", \"brian\", \"brian\", \"brian\", \"brian\", \"brian\", \"brian\", \"bruins\", \"build\", \"build\", \"build\", \"build\", \"build\", \"build\", \"bullpen\", \"bure\", \"burst\", \"burst\", \"byte\", \"byte\", \"byte\", \"byte\", \"byte\", \"bytes\", \"bytes\", \"cable\", \"cable\", \"cable\", \"cable\", \"cache\", \"cadre\", \"calgary\", \"call\", \"call\", \"call\", \"call\", \"call\", \"call\", \"call\", \"call\", \"call\", \"call\", \"call\", \"canadiens\", \"candida\", \"capitalist\", \"captain\", \"captain\", \"captain\", \"card\", \"card\", \"career\", \"career\", \"career\", \"career\", \"cars\", \"cases\", \"cases\", \"cases\", \"cases\", \"cases\", \"cases\", \"cases\", \"cases\", \"cases\", \"cases\", \"cassels\", \"cassels\", \"castle\", \"casualties\", \"catbyte\", \"catcher\", \"catholic\", \"catholic\", \"cause\", \"cause\", \"cause\", \"cause\", \"cause\", \"cause\", \"cause\", \"cellular\", \"championships\", \"char\", \"chastity\", \"check\", \"check\", \"check\", \"check\", \"check\", \"check\", \"chemicals\", \"chemicals\", \"chemistry\", \"chicago\", \"chicago\", \"chicago\", \"children\", \"children\", \"children\", \"children\", \"children\", \"children\", \"chip\", \"chip\", \"chip\", \"chips\", \"chips\", \"christ\", \"christian\", \"christian\", \"christian\", \"christianity\", \"christians\", \"christians\", \"chronic\", \"chrysler\", \"church\", \"churches\", \"cica\", \"ciphertext\", \"circuit\", \"civic\", \"civilians\", \"claiming\", \"claiming\", \"classified\", \"classified\", \"clemens\", \"clinical\", \"clinton\", \"clinton\", \"clipper\", \"clipper\", \"clubs\", \"cluster\", \"coach\", \"code\", \"code\", \"code\", \"code\", \"code\", \"code\", \"code\", \"code\", \"color\", \"color\", \"color\", \"color\", \"colorado\", \"colorado\", \"colorado\", \"colorado\", \"colorado\", \"colorado\", \"colorado\", \"column\", \"column\", \"combat\", \"combo\", \"come\", \"come\", \"come\", \"come\", \"come\", \"come\", \"come\", \"comic\", \"comics\", \"comp\", \"comp\", \"compact\", \"compact\", \"comparing\", \"compass\", \"computer\", \"computer\", \"computer\", \"computer\", \"concealed\", \"condition\", \"condition\", \"condition\", \"condition\", \"confess\", \"confidential\", \"confidential\", \"congress\", \"congress\", \"connected\", \"connected\", \"connected\", \"connected\", \"connected\", \"connected\", \"connector\", \"constitution\", \"constitutional\", \"contact\", \"contact\", \"contact\", \"contact\", \"contact\", \"contact\", \"contact\", \"contact\", \"contact\", \"contest\", \"contrib\", \"control\", \"control\", \"control\", \"control\", \"control\", \"control\", \"control\", \"control\", \"controller\", \"controller\", \"convincing\", \"cooling\", \"cooper\", \"copies\", \"copies\", \"copies\", \"copies\", \"coprocessor\", \"copy\", \"copy\", \"copy\", \"copy\", \"copy\", \"copy\", \"copy\", \"copy\", \"corn\", \"corruption\", \"could\", \"could\", \"could\", \"could\", \"could\", \"could\", \"could\", \"could\", \"could\", \"count\", \"count\", \"count\", \"countries\", \"countries\", \"countries\", \"countries\", \"countries\", \"country\", \"country\", \"country\", \"country\", \"country\", \"court\", \"court\", \"court\", \"cover\", \"cover\", \"cover\", \"cover\", \"cover\", \"cover\", \"cover\", \"creative\", \"crime\", \"crime\", \"crime\", \"crime\", \"crime\", \"cross\", \"cross\", \"cross\", \"cross\", \"cross\", \"cross\", \"cross\", \"cryptanalysis\", \"crypto\", \"crypto\", \"crypto\", \"ctrl\", \"cubs\", \"cure\", \"current\", \"current\", \"current\", \"current\", \"current\", \"current\", \"current\", \"current\", \"current\", \"current\", \"cursor\", \"cyprus\", \"damn\", \"damn\", \"darn\", \"data\", \"data\", \"data\", \"data\", \"database\", \"database\", \"dave\", \"dave\", \"dave\", \"dave\", \"dave\", \"dave\", \"dave\", \"dave\", \"david\", \"david\", \"david\", \"david\", \"david\", \"david\", \"david\", \"david\", \"david\", \"david\", \"davis\", \"davis\", \"dead\", \"dead\", \"dead\", \"dead\", \"dead\", \"dead\", \"deaf\", \"death\", \"death\", \"death\", \"death\", \"death\", \"deaths\", \"deaths\", \"decenso\", \"deck\", \"defeated\", \"define\", \"define\", \"define\", \"define\", \"define\", \"define\", \"definitions\", \"definitions\", \"deletion\", \"democrats\", \"denning\", \"desktop\", \"detail\", \"detail\", \"detail\", \"detail\", \"detail\", \"detail\", \"detector\", \"detector\", \"detectors\", \"detroit\", \"devotion\", \"diagnosed\", \"diamond\", \"diet\", \"digest\", \"digit\", \"disciples\", \"disease\", \"diseases\", \"disk\", \"disk\", \"display\", \"display\", \"display\", \"distributed\", \"distributed\", \"distribution\", \"distribution\", \"distribution\", \"divine\", \"division\", \"division\", \"division\", \"doctor\", \"doctor\", \"doctors\", \"doctors\", \"doctrine\", \"doctrine\", \"dodgers\", \"dont\", \"double\", \"double\", \"double\", \"double\", \"double\", \"double\", \"double\", \"dreams\", \"drive\", \"drive\", \"drives\", \"driving\", \"driving\", \"driving\", \"dtmedin\", \"earth\", \"earth\", \"earth\", \"earth\", \"earth\", \"earth\", \"echo\", \"economic\", \"edmonton\", \"eisa\", \"electrical\", \"electronics\", \"electronics\", \"electronics\", \"email\", \"email\", \"email\", \"email\", \"email\", \"encrypted\", \"encryption\", \"encryption\", \"engine\", \"engine\", \"engines\", \"enough\", \"enough\", \"enough\", \"enough\", \"enough\", \"enough\", \"enough\", \"entries\", \"entries\", \"entry\", \"entry\", \"escrow\", \"escrow\", \"escrowed\", \"espn\", \"essence\", \"essence\", \"essence\", \"eternal\", \"eternal\", \"ethnic\", \"ethnic\", \"even\", \"even\", \"even\", \"even\", \"even\", \"even\", \"even\", \"even\", \"even\", \"everyone\", \"everyone\", \"everyone\", \"everyone\", \"everyone\", \"evidence\", \"evidence\", \"evidence\", \"evidence\", \"excellent\", \"excellent\", \"excellent\", \"excellent\", \"executables\", \"exhaust\", \"exhaust\", \"exist\", \"exist\", \"exist\", \"exist\", \"exist\", \"exist\", \"exist\", \"existence\", \"existence\", \"existence\", \"existence\", \"exit\", \"exit\", \"export\", \"export\", \"faith\", \"fans\", \"fans\", \"fascist\", \"fast\", \"fast\", \"fast\", \"fast\", \"federal\", \"feds\", \"feelings\", \"feustel\", \"field\", \"field\", \"field\", \"field\", \"field\", \"field\", \"field\", \"field\", \"fielding\", \"fighters\", \"file\", \"file\", \"file\", \"file\", \"filename\", \"files\", \"files\", \"files\", \"files\", \"files\", \"finals\", \"financial\", \"firearm\", \"firearms\", \"first\", \"first\", \"first\", \"first\", \"first\", \"first\", \"first\", \"first\", \"first\", \"first\", \"first\", \"first\", \"first\", \"first\", \"first\", \"flames\", \"flames\", \"flames\", \"flames\", \"flaws\", \"fleet\", \"fleury\", \"flight\", \"flight\", \"flight\", \"floppy\", \"floppy\", \"flyers\", \"font\", \"fonts\", \"food\", \"food\", \"foods\", \"foot\", \"force\", \"force\", \"force\", \"force\", \"force\", \"force\", \"force\", \"force\", \"force\", \"ford\", \"formatted\", \"forsale\", \"forty\", \"franchise\", \"francis\", \"francisco\", \"francisco\", \"francisco\", \"francisco\", \"francisco\", \"frank\", \"frank\", \"frank\", \"front\", \"front\", \"front\", \"front\", \"fuel\", \"fuel\", \"functionality\", \"funding\", \"funds\", \"fuse\", \"gainey\", \"game\", \"game\", \"game\", \"game\", \"games\", \"games\", \"gang\", \"gary\", \"gary\", \"gary\", \"gary\", \"gateway\", \"gays\", \"gaza\", \"gear\", \"general\", \"general\", \"general\", \"general\", \"general\", \"general\", \"general\", \"general\", \"genetic\", \"genocide\", \"german\", \"german\", \"german\", \"german\", \"getting\", \"getting\", \"getting\", \"getting\", \"getting\", \"ghetto\", \"ghost\", \"goal\", \"goal\", \"goal\", \"goal\", \"going\", \"going\", \"going\", \"going\", \"going\", \"good\", \"good\", \"good\", \"good\", \"good\", \"good\", \"good\", \"good\", \"good\", \"gospel\", \"government\", \"government\", \"government\", \"government\", \"government\", \"grace\", \"graphics\", \"graphics\", \"grayscale\", \"great\", \"great\", \"great\", \"great\", \"great\", \"great\", \"great\", \"great\", \"great\", \"great\", \"greece\", \"greek\", \"greek\", \"ground\", \"ground\", \"ground\", \"ground\", \"ground\", \"grounded\", \"guidelines\", \"guidelines\", \"hammer\", \"handguns\", \"handler\", \"hard\", \"hard\", \"hard\", \"hard\", \"hard\", \"hardware\", \"hardware\", \"hardware\", \"hartford\", \"hartford\", \"hash\", \"hash\", \"hawk\", \"headache\", \"health\", \"health\", \"heaven\", \"heaven\", \"hebrew\", \"help\", \"help\", \"help\", \"help\", \"help\", \"help\", \"help\", \"help\", \"help\", \"henrik\", \"hicnet\", \"high\", \"high\", \"high\", \"high\", \"high\", \"high\", \"high\", \"high\", \"high\", \"higher\", \"higher\", \"higher\", \"higher\", \"higher\", \"history\", \"history\", \"history\", \"history\", \"history\", \"history\", \"history\", \"history\", \"hitler\", \"hitler\", \"hitler\", \"hitler\", \"hits\", \"hits\", \"hits\", \"hits\", \"hitter\", \"hockey\", \"holy\", \"holy\", \"homers\", \"homicide\", \"homosexual\", \"homosexuality\", \"honda\", \"hong\", \"house\", \"house\", \"house\", \"house\", \"house\", \"house\", \"house\", \"houston\", \"however\", \"however\", \"however\", \"however\", \"however\", \"however\", \"however\", \"however\", \"however\", \"hulk\", \"human\", \"human\", \"human\", \"human\", \"human\", \"human\", \"huntsville\", \"husband\", \"icon\", \"icons\", \"idle\", \"ieee\", \"illegal\", \"illegal\", \"illegal\", \"image\", \"image\", \"image\", \"image\", \"images\", \"images\", \"images\", \"imho\", \"imho\", \"imho\", \"implement\", \"implement\", \"implies\", \"imprisoned\", \"include\", \"include\", \"include\", \"include\", \"include\", \"include\", \"include\", \"include\", \"include\", \"included\", \"included\", \"included\", \"included\", \"included\", \"included\", \"included\", \"included\", \"includes\", \"includes\", \"includes\", \"includes\", \"includes\", \"includes\", \"infection\", \"infections\", \"info\", \"info\", \"info\", \"info\", \"info\", \"information\", \"information\", \"information\", \"information\", \"information\", \"information\", \"information\", \"information\", \"ingr\", \"initiative\", \"inner\", \"inning\", \"innings\", \"input\", \"input\", \"input\", \"insane\", \"installed\", \"installed\", \"insurance\", \"intake\", \"integration\", \"integration\", \"integration\", \"intel\", \"intentional\", \"interested\", \"interested\", \"interested\", \"interested\", \"interested\", \"internet\", \"internet\", \"internet\", \"internet\", \"internet\", \"interpretation\", \"interpretation\", \"interrupts\", \"investigated\", \"iran\", \"isbn\", \"islam\", \"israel\", \"israeli\", \"israelis\", \"issue\", \"issue\", \"issue\", \"issue\", \"issue\", \"issue\", \"issue\", \"issue\", \"issue\", \"issue\", \"istanbul\", \"items\", \"items\", \"items\", \"items\", \"items\", \"items\", \"items\", \"jagr\", \"jays\", \"jeff\", \"jeff\", \"jeff\", \"jeff\", \"jersey\", \"jersey\", \"jersey\", \"jerusalem\", \"jerusalem\", \"jesus\", \"jets\", \"jewish\", \"jewish\", \"jews\", \"jews\", \"jews\", \"jobs\", \"john\", \"john\", \"john\", \"john\", \"john\", \"john\", \"john\", \"john\", \"john\", \"john\", \"jpeg\", \"judas\", \"judge\", \"judge\", \"judge\", \"judges\", \"judges\", \"judges\", \"juneau\", \"karabagh\", \"karabakh\", \"karina\", \"kent\", \"kent\", \"kevin\", \"kevin\", \"kevin\", \"keyboard\", \"keys\", \"kidney\", \"kill\", \"kill\", \"kill\", \"kill\", \"kill\", \"kill\", \"killed\", \"killed\", \"killed\", \"killed\", \"king\", \"king\", \"king\", \"king\", \"king\", \"kings\", \"kings\", \"kirlian\", \"knee\", \"knew\", \"knew\", \"knew\", \"know\", \"know\", \"know\", \"know\", \"know\", \"knowledge\", \"knowledge\", \"knowledge\", \"knowledge\", \"knowledge\", \"knowledge\", \"kong\", \"koresh\", \"kurds\", \"label\", \"land\", \"land\", \"land\", \"land\", \"land\", \"land\", \"laptop\", \"laserjet\", \"laserwriter\", \"last\", \"last\", \"last\", \"last\", \"last\", \"last\", \"last\", \"last\", \"last\", \"last\", \"last\", \"last\", \"last\", \"last\", \"launch\", \"launched\", \"launched\", \"launches\", \"laws\", \"laws\", \"laws\", \"laws\", \"laws\", \"layout\", \"lciii\", \"leafs\", \"leafs\", \"league\", \"league\", \"league\", \"league\", \"leagues\", \"lebanese\", \"lebanon\", \"legal\", \"legal\", \"legal\", \"legal\", \"legislation\", \"lemieux\", \"less\", \"less\", \"less\", \"less\", \"less\", \"less\", \"less\", \"less\", \"liar\", \"libertarianism\", \"library\", \"library\", \"life\", \"life\", \"life\", \"life\", \"life\", \"life\", \"lights\", \"like\", \"like\", \"like\", \"like\", \"like\", \"like\", \"like\", \"like\", \"like\", \"liked\", \"limbaugh\", \"lindros\", \"line\", \"line\", \"line\", \"line\", \"line\", \"line\", \"line\", \"line\", \"liquid\", \"list\", \"list\", \"list\", \"list\", \"list\", \"list\", \"list\", \"list\", \"list\", \"list\", \"list\", \"listserv\", \"little\", \"little\", \"little\", \"little\", \"little\", \"little\", \"little\", \"lock\", \"lock\", \"long\", \"long\", \"long\", \"long\", \"long\", \"long\", \"long\", \"long\", \"long\", \"long\", \"look\", \"look\", \"look\", \"look\", \"look\", \"look\", \"look\", \"look\", \"look\", \"look\", \"loop\", \"loop\", \"loop\", \"loop\", \"lopez\", \"lord\", \"losses\", \"lost\", \"lost\", \"lost\", \"lost\", \"lost\", \"lost\", \"lost\", \"lost\", \"lost\", \"louis\", \"louis\", \"lucky\", \"luke\", \"lunar\", \"lyuda\", \"macs\", \"made\", \"made\", \"made\", \"made\", \"made\", \"made\", \"made\", \"made\", \"made\", \"made\", \"made\", \"mail\", \"mail\", \"mail\", \"mail\", \"mail\", \"mail\", \"mailing\", \"mailing\", \"main\", \"main\", \"main\", \"main\", \"main\", \"main\", \"main\", \"main\", \"main\", \"main\", \"maine\", \"mainstream\", \"make\", \"make\", \"make\", \"make\", \"make\", \"make\", \"make\", \"make\", \"make\", \"make\", \"make\", \"males\", \"mamma\", \"managing\", \"mankind\", \"manuals\", \"manuals\", \"many\", \"many\", \"many\", \"many\", \"many\", \"many\", \"many\", \"many\", \"many\", \"many\", \"many\", \"marina\", \"mark\", \"mark\", \"mark\", \"mark\", \"mark\", \"mark\", \"mark\", \"mark\", \"mark\", \"marriage\", \"married\", \"mars\", \"mary\", \"mask\", \"mask\", \"massacre\", \"massacre\", \"massacres\", \"mathcad\", \"matthew\", \"mean\", \"mean\", \"mean\", \"mean\", \"mean\", \"mean\", \"mean\", \"meaning\", \"meaning\", \"meaning\", \"meaning\", \"meaning\", \"meat\", \"medical\", \"medical\", \"medical\", \"medicine\", \"medicine\", \"memory\", \"memory\", \"memory\", \"message\", \"message\", \"message\", \"message\", \"message\", \"message\", \"message\", \"messiah\", \"messier\", \"methanol\", \"method\", \"method\", \"method\", \"method\", \"mets\", \"miami\", \"michael\", \"michael\", \"michael\", \"michael\", \"michael\", \"michael\", \"michael\", \"michael\", \"microsoft\", \"might\", \"might\", \"might\", \"might\", \"might\", \"might\", \"might\", \"might\", \"might\", \"mike\", \"mike\", \"mike\", \"mike\", \"mike\", \"mike\", \"mike\", \"miles\", \"miles\", \"miles\", \"military\", \"military\", \"military\", \"military\", \"militia\", \"mime\", \"minnesota\", \"mint\", \"miracles\", \"mission\", \"mission\", \"mission\", \"mission\", \"mission\", \"missions\", \"missions\", \"mixer\", \"mode\", \"mode\", \"mode\", \"mode\", \"mode\", \"mode\", \"mode\", \"modem\", \"molecular\", \"momentum\", \"moncton\", \"monitor\", \"monthly\", \"montreal\", \"moon\", \"moon\", \"moore\", \"morality\", \"morality\", \"mormon\", \"morris\", \"morris\", \"mosaic\", \"motherboard\", \"motif\", \"motif\", \"motorcycle\", \"motorcycles\", \"mouse\", \"mouse\", \"much\", \"much\", \"much\", \"much\", \"much\", \"much\", \"much\", \"much\", \"much\", \"much\", \"much\", \"mullen\", \"murphy\", \"murphy\", \"muslim\", \"muslim\", \"muslim\", \"must\", \"must\", \"must\", \"must\", \"must\", \"must\", \"must\", \"must\", \"must\", \"must\", \"mydisplay\", \"myers\", \"myhint\", \"nagorno\", \"name\", \"name\", \"name\", \"name\", \"name\", \"name\", \"name\", \"nasa\", \"nasa\", \"national\", \"national\", \"national\", \"national\", \"national\", \"national\", \"natural\", \"natural\", \"natural\", \"natural\", \"natural\", \"nazi\", \"nazi\", \"nazis\", \"nazis\", \"ncsl\", \"need\", \"need\", \"need\", \"need\", \"need\", \"need\", \"need\", \"need\", \"need\", \"need\", \"neely\", \"negotiations\", \"netcom\", \"netcom\", \"netcom\", \"netcom\", \"networks\", \"neutral\", \"neutral\", \"neutral\", \"neutral\", \"never\", \"never\", \"never\", \"never\", \"never\", \"never\", \"never\", \"newsgroups\", \"nick\", \"nick\", \"nick\", \"nintendo\", \"nist\", \"nixon\", \"nolan\", \"nolan\", \"nonsense\", \"nords\", \"norm\", \"northern\", \"northern\", \"northern\", \"northern\", \"nothing\", \"nothing\", \"nothing\", \"nothing\", \"nothing\", \"nothing\", \"nothing\", \"nubus\", \"nubus\", \"nuclear\", \"nuclear\", \"null\", \"number\", \"number\", \"number\", \"number\", \"number\", \"number\", \"number\", \"number\", \"number\", \"number\", \"number\", \"obfuscate\", \"obfuscate\", \"objection\", \"objective\", \"objective\", \"objective\", \"objects\", \"objects\", \"objects\", \"obscure\", \"obscure\", \"occupied\", \"occupied\", \"offer\", \"offer\", \"offer\", \"offer\", \"offer\", \"offer\", \"offset\", \"olson\", \"olson\", \"olympic\", \"open\", \"open\", \"open\", \"open\", \"open\", \"open\", \"open\", \"open\", \"openwindows\", \"orbit\", \"orbital\", \"orbiter\", \"original\", \"original\", \"original\", \"original\", \"original\", \"original\", \"original\", \"original\", \"original\", \"orioles\", \"orthodox\", \"ottoman\", \"output\", \"output\", \"output\", \"owner\", \"owner\", \"owner\", \"owner\", \"oxygen\", \"ozone\", \"package\", \"package\", \"package\", \"package\", \"pads\", \"pagan\", \"paid\", \"paid\", \"paid\", \"paid\", \"pain\", \"pain\", \"pain\", \"palestine\", \"palestinian\", \"palestinians\", \"panel\", \"panel\", \"panel\", \"panel\", \"paradox\", \"paranoid\", \"park\", \"park\", \"park\", \"park\", \"park\", \"passages\", \"password\", \"patent\", \"patient\", \"patients\", \"paul\", \"paul\", \"paul\", \"paul\", \"paul\", \"paul\", \"paul\", \"paul\", \"payload\", \"peace\", \"peace\", \"peace\", \"pens\", \"people\", \"people\", \"people\", \"people\", \"people\", \"people\", \"people\", \"people\", \"people\", \"people\", \"people\", \"period\", \"period\", \"period\", \"period\", \"period\", \"period\", \"period\", \"period\", \"period\", \"period\", \"perpendicular\", \"persecuted\", \"person\", \"person\", \"person\", \"person\", \"person\", \"person\", \"person\", \"person\", \"person\", \"phenomena\", \"philadelphia\", \"philadelphia\", \"phillies\", \"phone\", \"phone\", \"phone\", \"phone\", \"phone\", \"phone\", \"phones\", \"photography\", \"photography\", \"physical\", \"physical\", \"physical\", \"physical\", \"physical\", \"physical\", \"pirates\", \"pirates\", \"pirates\", \"pitch\", \"pitch\", \"pitched\", \"pitcher\", \"pitchers\", \"pitching\", \"pitching\", \"pitt\", \"pittsburgh\", \"pittsburgh\", \"pixmap\", \"planetary\", \"plants\", \"plastic\", \"plastic\", \"play\", \"play\", \"play\", \"play\", \"play\", \"played\", \"played\", \"played\", \"player\", \"player\", \"player\", \"players\", \"players\", \"players\", \"playoffs\", \"please\", \"please\", \"please\", \"please\", \"please\", \"please\", \"please\", \"please\", \"please\", \"points\", \"points\", \"points\", \"points\", \"points\", \"points\", \"points\", \"police\", \"police\", \"police\", \"police\", \"polish\", \"pope\", \"port\", \"port\", \"posters\", \"posters\", \"pounds\", \"power\", \"power\", \"power\", \"power\", \"power\", \"power\", \"power\", \"power\", \"power\", \"power\", \"power\", \"power\", \"powerpc\", \"prayer\", \"premises\", \"president\", \"pretty\", \"pretty\", \"pretty\", \"pretty\", \"prevention\", \"prevention\", \"price\", \"price\", \"price\", \"price\", \"price\", \"prices\", \"prices\", \"prices\", \"prices\", \"print\", \"print\", \"print\", \"print\", \"print\", \"printer\", \"printf\", \"privacy\", \"privacy\", \"private\", \"private\", \"private\", \"private\", \"probably\", \"probably\", \"probably\", \"probably\", \"probably\", \"probably\", \"probably\", \"probe\", \"probe\", \"problem\", \"problem\", \"problem\", \"problem\", \"problem\", \"problem\", \"problem\", \"proceedings\", \"processing\", \"processing\", \"processor\", \"processor\", \"processor\", \"prog\", \"program\", \"program\", \"program\", \"program\", \"promo\", \"promotion\", \"propaganda\", \"propaganda\", \"prophecy\", \"proposal\", \"proposal\", \"proposal\", \"propulsion\", \"protect\", \"protect\", \"protect\", \"protect\", \"providence\", \"pseudo\", \"public\", \"public\", \"public\", \"public\", \"publisher\", \"puck\", \"pyramid\", \"qemm\", \"quebec\", \"question\", \"question\", \"question\", \"question\", \"question\", \"question\", \"question\", \"radar\", \"radar\", \"radio\", \"radio\", \"radio\", \"radio\", \"radio\", \"radio\", \"radio\", \"radio\", \"raid\", \"random\", \"random\", \"random\", \"random\", \"randy\", \"randy\", \"randy\", \"reactions\", \"read\", \"read\", \"read\", \"read\", \"read\", \"read\", \"read\", \"read\", \"read\", \"read\", \"really\", \"really\", \"really\", \"really\", \"really\", \"really\", \"rear\", \"refugees\", \"religion\", \"religion\", \"religion\", \"religion\", \"religions\", \"religions\", \"remark\", \"remark\", \"replacing\", \"repost\", \"republic\", \"republic\", \"republicans\", \"request\", \"request\", \"request\", \"request\", \"request\", \"request\", \"requests\", \"requests\", \"requests\", \"research\", \"research\", \"research\", \"research\", \"researchers\", \"results\", \"results\", \"results\", \"results\", \"results\", \"results\", \"results\", \"results\", \"resurrection\", \"retail\", \"return\", \"return\", \"return\", \"return\", \"return\", \"return\", \"return\", \"return\", \"return\", \"return\", \"return\", \"return\", \"revelation\", \"rewritten\", \"rickey\", \"ride\", \"rider\", \"rider\", \"riders\", \"riding\", \"right\", \"right\", \"right\", \"right\", \"right\", \"right\", \"right\", \"right\", \"right\", \"right\", \"rights\", \"rights\", \"rights\", \"rights\", \"rights\", \"rights\", \"ripem\", \"rkba\", \"road\", \"road\", \"road\", \"road\", \"road\", \"rochester\", \"rockefeller\", \"rocket\", \"rocket\", \"rocket\", \"rockets\", \"rockies\", \"romans\", \"rotation\", \"rotation\", \"rtrace\", \"rules\", \"rules\", \"rules\", \"rules\", \"rules\", \"rules\", \"rules\", \"runner\", \"running\", \"running\", \"running\", \"running\", \"running\", \"running\", \"runs\", \"runs\", \"runs\", \"runs\", \"runs\", \"russian\", \"russian\", \"saab\", \"saab\", \"sabbath\", \"said\", \"said\", \"said\", \"said\", \"said\", \"said\", \"said\", \"said\", \"sale\", \"salvation\", \"sandberg\", \"satan\", \"satellite\", \"satellite\", \"satellites\", \"saturn\", \"saying\", \"saying\", \"saying\", \"saying\", \"saying\", \"says\", \"says\", \"says\", \"says\", \"says\", \"scheme\", \"scheme\", \"schism\", \"science\", \"science\", \"science\", \"science\", \"scientific\", \"scientific\", \"scored\", \"scorer\", \"scoring\", \"scott\", \"scott\", \"scott\", \"scott\", \"scratches\", \"screen\", \"screen\", \"scripture\", \"scriptures\", \"scsi\", \"scsi\", \"sdpa\", \"seal\", \"season\", \"second\", \"second\", \"second\", \"second\", \"second\", \"second\", \"second\", \"second\", \"second\", \"second\", \"second\", \"second\", \"secret\", \"secret\", \"secret\", \"section\", \"section\", \"section\", \"section\", \"section\", \"secular\", \"secular\", \"secure\", \"secure\", \"security\", \"security\", \"security\", \"security\", \"seeds\", \"sega\", \"sell\", \"sell\", \"sell\", \"sell\", \"sell\", \"sell\", \"senate\", \"senator\", \"send\", \"send\", \"send\", \"send\", \"send\", \"send\", \"send\", \"send\", \"senior\", \"senior\", \"serdar\", \"serial\", \"serial\", \"series\", \"series\", \"series\", \"series\", \"series\", \"series\", \"series\", \"series\", \"series\", \"server\", \"server\", \"settings\", \"sexual\", \"sexual\", \"shadow\", \"shadow\", \"shadow\", \"shadow\", \"shadow\", \"shaft\", \"shameful\", \"sharks\", \"shipping\", \"shipping\", \"shouting\", \"shuttle\", \"shuttle\", \"simms\", \"since\", \"since\", \"since\", \"since\", \"since\", \"since\", \"since\", \"since\", \"since\", \"since\", \"since\", \"since\", \"since\", \"sins\", \"sites\", \"sites\", \"sites\", \"sites\", \"size\", \"size\", \"size\", \"size\", \"size\", \"size\", \"size\", \"size\", \"skipjack\", \"sleeve\", \"slots\", \"smith\", \"smith\", \"smith\", \"smith\", \"smith\", \"smith\", \"smokeless\", \"snow\", \"socialist\", \"software\", \"software\", \"solar\", \"sold\", \"sold\", \"sold\", \"sold\", \"sold\", \"soldiers\", \"soldiers\", \"someone\", \"someone\", \"someone\", \"someone\", \"someone\", \"something\", \"something\", \"something\", \"something\", \"something\", \"something\", \"source\", \"source\", \"source\", \"source\", \"source\", \"source\", \"source\", \"source\", \"south\", \"south\", \"south\", \"south\", \"soviet\", \"soviet\", \"soviet\", \"soviet\", \"space\", \"space\", \"space\", \"space\", \"spacecraft\", \"spacewalks\", \"speeds\", \"speeds\", \"spirit\", \"spirit\", \"spirit\", \"stage\", \"stage\", \"stage\", \"stage\", \"stage\", \"standard\", \"standard\", \"standard\", \"standard\", \"standard\", \"standard\", \"standard\", \"standing\", \"standing\", \"stanley\", \"state\", \"state\", \"state\", \"state\", \"state\", \"state\", \"states\", \"states\", \"states\", \"states\", \"states\", \"station\", \"station\", \"station\", \"station\", \"station\", \"station\", \"station\", \"stats\", \"stats\", \"stats\", \"steering\", \"stereo\", \"stereo\", \"steve\", \"steve\", \"steve\", \"steve\", \"steve\", \"steve\", \"steve\", \"steve\", \"steve\", \"stevens\", \"still\", \"still\", \"still\", \"still\", \"still\", \"still\", \"still\", \"still\", \"still\", \"still\", \"still\", \"streak\", \"stream\", \"stream\", \"stream\", \"string\", \"string\", \"studies\", \"studies\", \"studies\", \"studies\", \"study\", \"study\", \"study\", \"study\", \"study\", \"subject\", \"subject\", \"subject\", \"subject\", \"subject\", \"subject\", \"subject\", \"subject\", \"subject\", \"subject\", \"subject\", \"subjective\", \"subjects\", \"suck\", \"sumgait\", \"sunos\", \"surface\", \"surface\", \"surface\", \"surface\", \"surfaces\", \"surveillance\", \"sutter\", \"svga\", \"swap\", \"swap\", \"sweden\", \"symptoms\", \"symptoms\", \"sync\", \"synchronous\", \"syndrome\", \"system\", \"system\", \"system\", \"system\", \"system\", \"system\", \"system\", \"systems\", \"systems\", \"systems\", \"systems\", \"systems\", \"systems\", \"take\", \"take\", \"take\", \"take\", \"take\", \"take\", \"take\", \"take\", \"talking\", \"talking\", \"talking\", \"talking\", \"talking\", \"talking\", \"tampa\", \"tape\", \"tape\", \"tape\", \"tape\", \"tapes\", \"tapes\", \"targa\", \"team\", \"team\", \"teams\", \"technology\", \"technology\", \"technology\", \"technology\", \"telescope\", \"tell\", \"tell\", \"tell\", \"tell\", \"temp\", \"temperature\", \"temple\", \"terminals\", \"tesla\", \"testament\", \"thanks\", \"thanks\", \"thanks\", \"thanks\", \"thanks\", \"thanks\", \"thanx\", \"theist\", \"theories\", \"theory\", \"theory\", \"theory\", \"therapy\", \"therefore\", \"therefore\", \"therefore\", \"therefore\", \"therefore\", \"therefore\", \"therefore\", \"therefore\", \"things\", \"things\", \"things\", \"things\", \"things\", \"things\", \"think\", \"think\", \"think\", \"think\", \"think\", \"think\", \"think\", \"think\", \"third\", \"third\", \"third\", \"third\", \"third\", \"third\", \"third\", \"third\", \"third\", \"third\", \"third\", \"thought\", \"thought\", \"thought\", \"thought\", \"thought\", \"throughput\", \"tigers\", \"time\", \"time\", \"time\", \"time\", \"time\", \"time\", \"time\", \"time\", \"time\", \"time\", \"time\", \"time\", \"tips\", \"tips\", \"tips\", \"tire\", \"tires\", \"titan\", \"title\", \"title\", \"title\", \"title\", \"title\", \"title\", \"title\", \"tobacco\", \"tocchet\", \"told\", \"told\", \"told\", \"told\", \"told\", \"tons\", \"toolkit\", \"toronto\", \"toronto\", \"toronto\", \"torque\", \"toshiba\", \"toyota\", \"trade\", \"trade\", \"trade\", \"trade\", \"trade\", \"trade\", \"trade\", \"trade\", \"transformer\", \"treatment\", \"treatment\", \"treatment\", \"trees\", \"trigger\", \"true\", \"true\", \"true\", \"true\", \"true\", \"true\", \"true\", \"true\", \"truth\", \"truth\", \"turkey\", \"turkish\", \"turks\", \"twins\", \"tyre\", \"udel\", \"uniforms\", \"unit\", \"unit\", \"unit\", \"unit\", \"unit\", \"unit\", \"united\", \"united\", \"united\", \"united\", \"universe\", \"universe\", \"universe\", \"university\", \"university\", \"university\", \"university\", \"university\", \"university\", \"university\", \"university\", \"university\", \"university\", \"university\", \"unto\", \"upgrade\", \"used\", \"used\", \"used\", \"used\", \"used\", \"used\", \"used\", \"used\", \"used\", \"used\", \"used\", \"used\", \"used\", \"user\", \"user\", \"user\", \"user\", \"user\", \"users\", \"users\", \"users\", \"using\", \"using\", \"using\", \"using\", \"using\", \"using\", \"using\", \"using\", \"using\", \"using\", \"using\", \"uudecode\", \"uuencode\", \"vehicle\", \"vehicle\", \"vehicle\", \"venus\", \"verse\", \"verses\", \"version\", \"version\", \"version\", \"version\", \"video\", \"video\", \"video\", \"video\", \"video\", \"visualization\", \"vitamin\", \"voltage\", \"voltage\", \"vram\", \"want\", \"want\", \"want\", \"want\", \"want\", \"want\", \"want\", \"want\", \"want\", \"ware\", \"warrant\", \"washington\", \"washington\", \"washington\", \"washington\", \"washington\", \"water\", \"water\", \"weapons\", \"weapons\", \"weapons\", \"weapons\", \"weaver\", \"well\", \"well\", \"well\", \"well\", \"well\", \"well\", \"well\", \"well\", \"well\", \"well\", \"well\", \"west\", \"west\", \"west\", \"west\", \"west\", \"west\", \"west\", \"western\", \"western\", \"western\", \"western\", \"western\", \"whats\", \"wheel\", \"wide\", \"wide\", \"wide\", \"wide\", \"wide\", \"wide\", \"wide\", \"wide\", \"wide\", \"widget\", \"widgets\", \"window\", \"window\", \"window\", \"window\", \"windows\", \"windows\", \"winfield\", \"winner\", \"winners\", \"winnipeg\", \"wire\", \"wire\", \"wires\", \"wiretap\", \"wiring\", \"witnessed\", \"wolverine\", \"woman\", \"woman\", \"woman\", \"women\", \"women\", \"women\", \"women\", \"women\", \"word\", \"word\", \"word\", \"word\", \"word\", \"word\", \"word\", \"word\", \"words\", \"words\", \"words\", \"words\", \"words\", \"words\", \"words\", \"words\", \"words\", \"work\", \"work\", \"work\", \"work\", \"work\", \"work\", \"work\", \"work\", \"world\", \"world\", \"world\", \"world\", \"world\", \"world\", \"world\", \"world\", \"world\", \"world\", \"world\", \"worship\", \"would\", \"would\", \"would\", \"would\", \"would\", \"would\", \"would\", \"would\", \"would\", \"would\", \"would\", \"would\", \"wrap\", \"wrench\", \"wustl\", \"wwii\", \"xlib\", \"xterm\", \"yankees\", \"yassin\", \"year\", \"year\", \"year\", \"year\", \"year\", \"year\", \"year\", \"year\", \"years\", \"years\", \"years\", \"years\", \"years\", \"years\", \"years\", \"years\", \"years\", \"years\", \"yeast\", \"zionism\", \"zionist\"]}, \"R\": 30, \"lambda.step\": 0.01, \"plot.opts\": {\"xlab\": \"PC1\", \"ylab\": \"PC2\"}, \"topic.order\": [20, 6, 3, 16, 8, 4, 12, 13, 10, 2, 15, 14, 19, 18, 9, 11, 1, 5, 17, 7]};\n",
       "\n",
       "function LDAvis_load_lib(url, callback){\n",
       "  var s = document.createElement('script');\n",
       "  s.src = url;\n",
       "  s.async = true;\n",
       "  s.onreadystatechange = s.onload = callback;\n",
       "  s.onerror = function(){console.warn(\"failed to load library \" + url);};\n",
       "  document.getElementsByTagName(\"head\")[0].appendChild(s);\n",
       "}\n",
       "\n",
       "if(typeof(LDAvis) !== \"undefined\"){\n",
       "   // already loaded: just create the visualization\n",
       "   !function(LDAvis){\n",
       "       new LDAvis(\"#\" + \"ldavis_el728961405635070955849946128394\", ldavis_el728961405635070955849946128394_data);\n",
       "   }(LDAvis);\n",
       "}else if(typeof define === \"function\" && define.amd){\n",
       "   // require.js is available: use it to load d3/LDAvis\n",
       "   require.config({paths: {d3: \"https://d3js.org/d3.v5\"}});\n",
       "   require([\"d3\"], function(d3){\n",
       "      window.d3 = d3;\n",
       "      LDAvis_load_lib(\"https://cdn.jsdelivr.net/gh/bmabey/pyLDAvis@3.3.1/pyLDAvis/js/ldavis.v3.0.0.js\", function(){\n",
       "        new LDAvis(\"#\" + \"ldavis_el728961405635070955849946128394\", ldavis_el728961405635070955849946128394_data);\n",
       "      });\n",
       "    });\n",
       "}else{\n",
       "    // require.js not available: dynamically load d3 & LDAvis\n",
       "    LDAvis_load_lib(\"https://d3js.org/d3.v5.js\", function(){\n",
       "         LDAvis_load_lib(\"https://cdn.jsdelivr.net/gh/bmabey/pyLDAvis@3.3.1/pyLDAvis/js/ldavis.v3.0.0.js\", function(){\n",
       "                 new LDAvis(\"#\" + \"ldavis_el728961405635070955849946128394\", ldavis_el728961405635070955849946128394_data);\n",
       "            })\n",
       "         });\n",
       "}\n",
       "</script>"
      ],
      "text/plain": [
       "<IPython.core.display.HTML object>"
      ]
     },
     "execution_count": 28,
     "metadata": {},
     "output_type": "execute_result"
    }
   ],
   "source": [
    "import pyLDAvis.gensim_models\n",
    "pyLDAvis.enable_notebook()\n",
    "vis = pyLDAvis.gensim_models.prepare(ldamodel, corpus, dictionary)\n",
    "pyLDAvis.display(vis)"
   ]
  },
  {
   "cell_type": "code",
   "execution_count": 29,
   "id": "3515df41",
   "metadata": {
    "ExecuteTime": {
     "end_time": "2021-11-29T11:58:20.399265Z",
     "start_time": "2021-11-29T11:58:20.391709Z"
    }
   },
   "outputs": [
    {
     "name": "stdout",
     "output_type": "stream",
     "text": [
      "0 번째 문서의 topic 비율은 [(1, 0.20244572), (3, 0.39086446), (5, 0.09473751), (9, 0.016615272), (13, 0.13385874), (19, 0.15015769)]\n",
      "1 번째 문서의 topic 비율은 [(0, 0.051887017), (5, 0.11659032), (11, 0.1595764), (14, 0.09931481), (18, 0.02797119), (19, 0.5262146)]\n",
      "2 번째 문서의 topic 비율은 [(1, 0.41413373), (5, 0.12446677), (19, 0.4476755)]\n",
      "3 번째 문서의 topic 비율은 [(5, 0.2952014), (7, 0.22380748), (8, 0.020253021), (9, 0.20107634), (14, 0.047140997), (15, 0.20138499)]\n",
      "4 번째 문서의 topic 비율은 [(5, 0.55396616), (12, 0.29311246), (14, 0.12142332)]\n"
     ]
    }
   ],
   "source": [
    "for i, topic_list in enumerate(ldamodel[corpus]):\n",
    "    if i==5:\n",
    "        break\n",
    "    print(i,'번째 문서의 topic 비율은',topic_list)"
   ]
  },
  {
   "cell_type": "code",
   "execution_count": 33,
   "id": "b25e1b8d",
   "metadata": {
    "ExecuteTime": {
     "end_time": "2021-11-29T12:00:30.292669Z",
     "start_time": "2021-11-29T12:00:08.822017Z"
    }
   },
   "outputs": [
    {
     "data": {
      "text/html": [
       "<div>\n",
       "<style scoped>\n",
       "    .dataframe tbody tr th:only-of-type {\n",
       "        vertical-align: middle;\n",
       "    }\n",
       "\n",
       "    .dataframe tbody tr th {\n",
       "        vertical-align: top;\n",
       "    }\n",
       "\n",
       "    .dataframe thead th {\n",
       "        text-align: right;\n",
       "    }\n",
       "</style>\n",
       "<table border=\"1\" class=\"dataframe\">\n",
       "  <thead>\n",
       "    <tr style=\"text-align: right;\">\n",
       "      <th></th>\n",
       "      <th>문서 번호</th>\n",
       "      <th>가장 비중이 높은 토픽</th>\n",
       "      <th>가장 높은 토픽의 비중</th>\n",
       "      <th>각 토픽의 비중</th>\n",
       "    </tr>\n",
       "  </thead>\n",
       "  <tbody>\n",
       "    <tr>\n",
       "      <th>0</th>\n",
       "      <td>0</td>\n",
       "      <td>3.0</td>\n",
       "      <td>0.3909</td>\n",
       "      <td>[(1, 0.20244561), (3, 0.39086458), (5, 0.09474...</td>\n",
       "    </tr>\n",
       "    <tr>\n",
       "      <th>1</th>\n",
       "      <td>1</td>\n",
       "      <td>19.0</td>\n",
       "      <td>0.5266</td>\n",
       "      <td>[(0, 0.05190592), (5, 0.11622112), (11, 0.1595...</td>\n",
       "    </tr>\n",
       "    <tr>\n",
       "      <th>2</th>\n",
       "      <td>2</td>\n",
       "      <td>19.0</td>\n",
       "      <td>0.4477</td>\n",
       "      <td>[(1, 0.4141336), (5, 0.12445696), (19, 0.44768...</td>\n",
       "    </tr>\n",
       "    <tr>\n",
       "      <th>3</th>\n",
       "      <td>3</td>\n",
       "      <td>5.0</td>\n",
       "      <td>0.2952</td>\n",
       "      <td>[(5, 0.295171), (7, 0.22381689), (8, 0.0202532...</td>\n",
       "    </tr>\n",
       "    <tr>\n",
       "      <th>4</th>\n",
       "      <td>4</td>\n",
       "      <td>5.0</td>\n",
       "      <td>0.5540</td>\n",
       "      <td>[(5, 0.55403554), (12, 0.29309466), (14, 0.121...</td>\n",
       "    </tr>\n",
       "    <tr>\n",
       "      <th>5</th>\n",
       "      <td>5</td>\n",
       "      <td>19.0</td>\n",
       "      <td>0.4146</td>\n",
       "      <td>[(2, 0.24120253), (8, 0.080175586), (11, 0.229...</td>\n",
       "    </tr>\n",
       "    <tr>\n",
       "      <th>6</th>\n",
       "      <td>6</td>\n",
       "      <td>15.0</td>\n",
       "      <td>0.6696</td>\n",
       "      <td>[(5, 0.18825975), (7, 0.03536739), (15, 0.6696...</td>\n",
       "    </tr>\n",
       "    <tr>\n",
       "      <th>7</th>\n",
       "      <td>7</td>\n",
       "      <td>19.0</td>\n",
       "      <td>0.5346</td>\n",
       "      <td>[(1, 0.3505775), (5, 0.10087368), (19, 0.534602)]</td>\n",
       "    </tr>\n",
       "    <tr>\n",
       "      <th>8</th>\n",
       "      <td>8</td>\n",
       "      <td>19.0</td>\n",
       "      <td>0.5540</td>\n",
       "      <td>[(2, 0.08418062), (5, 0.046989676), (7, 0.0749...</td>\n",
       "    </tr>\n",
       "    <tr>\n",
       "      <th>9</th>\n",
       "      <td>9</td>\n",
       "      <td>5.0</td>\n",
       "      <td>0.8111</td>\n",
       "      <td>[(5, 0.811078), (9, 0.09313898), (13, 0.014621...</td>\n",
       "    </tr>\n",
       "  </tbody>\n",
       "</table>\n",
       "</div>"
      ],
      "text/plain": [
       "   문서 번호  가장 비중이 높은 토픽  가장 높은 토픽의 비중  \\\n",
       "0      0           3.0        0.3909   \n",
       "1      1          19.0        0.5266   \n",
       "2      2          19.0        0.4477   \n",
       "3      3           5.0        0.2952   \n",
       "4      4           5.0        0.5540   \n",
       "5      5          19.0        0.4146   \n",
       "6      6          15.0        0.6696   \n",
       "7      7          19.0        0.5346   \n",
       "8      8          19.0        0.5540   \n",
       "9      9           5.0        0.8111   \n",
       "\n",
       "                                            각 토픽의 비중  \n",
       "0  [(1, 0.20244561), (3, 0.39086458), (5, 0.09474...  \n",
       "1  [(0, 0.05190592), (5, 0.11622112), (11, 0.1595...  \n",
       "2  [(1, 0.4141336), (5, 0.12445696), (19, 0.44768...  \n",
       "3  [(5, 0.295171), (7, 0.22381689), (8, 0.0202532...  \n",
       "4  [(5, 0.55403554), (12, 0.29309466), (14, 0.121...  \n",
       "5  [(2, 0.24120253), (8, 0.080175586), (11, 0.229...  \n",
       "6  [(5, 0.18825975), (7, 0.03536739), (15, 0.6696...  \n",
       "7  [(1, 0.3505775), (5, 0.10087368), (19, 0.534602)]  \n",
       "8  [(2, 0.08418062), (5, 0.046989676), (7, 0.0749...  \n",
       "9  [(5, 0.811078), (9, 0.09313898), (13, 0.014621...  "
      ]
     },
     "execution_count": 33,
     "metadata": {},
     "output_type": "execute_result"
    }
   ],
   "source": [
    "def make_topictable_per_doc(ldamodel, corpus):\n",
    "    topic_table = pd.DataFrame()\n",
    "\n",
    "    for i, topic_list in enumerate(ldamodel[corpus]):\n",
    "        doc = topic_list[0] if ldamodel.per_word_topics else topic_list\n",
    "        doc = sorted(doc, key=lambda x: (x[1]), reverse=True)\n",
    "        # 각 문서에 대해서 비중이 높은 토픽순으로 토픽을 정렬한다.\n",
    "        # EX) 정렬 전 0번 문서 : (2번 토픽, 48.5%), (8번 토픽, 25%), (10번 토픽, 5%), (12번 토픽, 21.5%), \n",
    "        # Ex) 정렬 후 0번 문서 : (2번 토픽, 48.5%), (8번 토픽, 25%), (12번 토픽, 21.5%), (10번 토픽, 5%)\n",
    "        # 48 > 25 > 21 > 5 순으로 정렬이 된 것.\n",
    "\n",
    "        # 모든 문서에 대해서 각각 아래를 수행\n",
    "        for j, (topic_num, prop_topic) in enumerate(doc): #  몇 번 토픽인지와 비중을 나눠서 저장한다.\n",
    "            if j == 0:  # 정렬을 한 상태이므로 가장 앞에 있는 것이 가장 비중이 높은 토픽\n",
    "                topic_table = topic_table.append(pd.Series([int(topic_num), round(prop_topic,4), topic_list]), ignore_index=True)\n",
    "                # 가장 비중이 높은 토픽과, 가장 비중이 높은 토픽의 비중과, 전체 토픽의 비중을 저장한다.\n",
    "            else:\n",
    "                break\n",
    "    return(topic_table)\n",
    "\n",
    "topictable = make_topictable_per_doc(ldamodel, corpus)\n",
    "topictable = topictable.reset_index() # 문서 번호을 의미하는 열(column)로 사용하기 위해서 인덱스 열을 하나 더 만든다.\n",
    "topictable.columns = ['문서 번호', '가장 비중이 높은 토픽', '가장 높은 토픽의 비중', '각 토픽의 비중']\n",
    "topictable[:10]"
   ]
  },
  {
   "cell_type": "code",
   "execution_count": 37,
   "id": "5e707be2",
   "metadata": {
    "ExecuteTime": {
     "end_time": "2021-11-29T12:02:10.596187Z",
     "start_time": "2021-11-29T12:01:55.465165Z"
    }
   },
   "outputs": [
    {
     "name": "stderr",
     "output_type": "stream",
     "text": [
      "/Users/timber/opt/anaconda3/envs/NLP_tf/lib/python3.8/site-packages/IPython/core/interactiveshell.py:3444: FutureWarning: The error_bad_lines argument has been deprecated and will be removed in a future version.\n",
      "\n",
      "\n",
      "  exec(code_obj, self.user_global_ns, self.user_ns)\n"
     ]
    }
   ],
   "source": [
    "import pandas as pd\n",
    "import urllib.request\n",
    "urllib.request.urlretrieve(\"https://raw.githubusercontent.com/franciscadias/data/master/abcnews-date-text.csv\", filename=\"abcnews-date-text.csv\")\n",
    "data = pd.read_csv('abcnews-date-text.csv', error_bad_lines=False)"
   ]
  },
  {
   "cell_type": "code",
   "execution_count": 40,
   "id": "3570d69a",
   "metadata": {
    "ExecuteTime": {
     "end_time": "2021-11-29T12:02:55.351751Z",
     "start_time": "2021-11-29T12:02:55.321358Z"
    }
   },
   "outputs": [
    {
     "data": {
      "text/html": [
       "<div>\n",
       "<style scoped>\n",
       "    .dataframe tbody tr th:only-of-type {\n",
       "        vertical-align: middle;\n",
       "    }\n",
       "\n",
       "    .dataframe tbody tr th {\n",
       "        vertical-align: top;\n",
       "    }\n",
       "\n",
       "    .dataframe thead th {\n",
       "        text-align: right;\n",
       "    }\n",
       "</style>\n",
       "<table border=\"1\" class=\"dataframe\">\n",
       "  <thead>\n",
       "    <tr style=\"text-align: right;\">\n",
       "      <th></th>\n",
       "      <th>headline_text</th>\n",
       "    </tr>\n",
       "  </thead>\n",
       "  <tbody>\n",
       "    <tr>\n",
       "      <th>0</th>\n",
       "      <td>aba decides against community broadcasting lic...</td>\n",
       "    </tr>\n",
       "    <tr>\n",
       "      <th>1</th>\n",
       "      <td>act fire witnesses must be aware of defamation</td>\n",
       "    </tr>\n",
       "    <tr>\n",
       "      <th>2</th>\n",
       "      <td>a g calls for infrastructure protection summit</td>\n",
       "    </tr>\n",
       "  </tbody>\n",
       "</table>\n",
       "</div>"
      ],
      "text/plain": [
       "                                       headline_text\n",
       "0  aba decides against community broadcasting lic...\n",
       "1     act fire witnesses must be aware of defamation\n",
       "2     a g calls for infrastructure protection summit"
      ]
     },
     "execution_count": 40,
     "metadata": {},
     "output_type": "execute_result"
    }
   ],
   "source": [
    "text = data[['headline_text']]\n",
    "text.head(3)"
   ]
  },
  {
   "cell_type": "code",
   "execution_count": 41,
   "id": "88c5cf5c",
   "metadata": {
    "ExecuteTime": {
     "end_time": "2021-11-29T12:05:09.188558Z",
     "start_time": "2021-11-29T12:03:35.370778Z"
    }
   },
   "outputs": [
    {
     "name": "stderr",
     "output_type": "stream",
     "text": [
      "/var/folders/ph/pv7rmwrx0yl4zl9pm78d51hm0000gn/T/ipykernel_72896/4050420485.py:2: SettingWithCopyWarning: \n",
      "A value is trying to be set on a copy of a slice from a DataFrame.\n",
      "Try using .loc[row_indexer,col_indexer] = value instead\n",
      "\n",
      "See the caveats in the documentation: https://pandas.pydata.org/pandas-docs/stable/user_guide/indexing.html#returning-a-view-versus-a-copy\n",
      "  text['headline_text'] = text.apply(lambda row: nltk.word_tokenize(row['headline_text']), axis=1)\n"
     ]
    },
    {
     "data": {
      "text/html": [
       "<div>\n",
       "<style scoped>\n",
       "    .dataframe tbody tr th:only-of-type {\n",
       "        vertical-align: middle;\n",
       "    }\n",
       "\n",
       "    .dataframe tbody tr th {\n",
       "        vertical-align: top;\n",
       "    }\n",
       "\n",
       "    .dataframe thead th {\n",
       "        text-align: right;\n",
       "    }\n",
       "</style>\n",
       "<table border=\"1\" class=\"dataframe\">\n",
       "  <thead>\n",
       "    <tr style=\"text-align: right;\">\n",
       "      <th></th>\n",
       "      <th>headline_text</th>\n",
       "    </tr>\n",
       "  </thead>\n",
       "  <tbody>\n",
       "    <tr>\n",
       "      <th>0</th>\n",
       "      <td>[aba, decides, against, community, broadcastin...</td>\n",
       "    </tr>\n",
       "    <tr>\n",
       "      <th>1</th>\n",
       "      <td>[act, fire, witnesses, must, be, aware, of, de...</td>\n",
       "    </tr>\n",
       "    <tr>\n",
       "      <th>2</th>\n",
       "      <td>[a, g, calls, for, infrastructure, protection,...</td>\n",
       "    </tr>\n",
       "    <tr>\n",
       "      <th>3</th>\n",
       "      <td>[air, nz, staff, in, aust, strike, for, pay, r...</td>\n",
       "    </tr>\n",
       "    <tr>\n",
       "      <th>4</th>\n",
       "      <td>[air, nz, strike, to, affect, australian, trav...</td>\n",
       "    </tr>\n",
       "    <tr>\n",
       "      <th>...</th>\n",
       "      <td>...</td>\n",
       "    </tr>\n",
       "    <tr>\n",
       "      <th>1082163</th>\n",
       "      <td>[when, is, it, ok, to, compliment, a, womans, ...</td>\n",
       "    </tr>\n",
       "    <tr>\n",
       "      <th>1082164</th>\n",
       "      <td>[white, house, defends, trumps, tweet]</td>\n",
       "    </tr>\n",
       "    <tr>\n",
       "      <th>1082165</th>\n",
       "      <td>[winter, closes, in, on, tasmania, as, snow, i...</td>\n",
       "    </tr>\n",
       "    <tr>\n",
       "      <th>1082166</th>\n",
       "      <td>[womens, world, cup, australia, wins, despite,...</td>\n",
       "    </tr>\n",
       "    <tr>\n",
       "      <th>1082167</th>\n",
       "      <td>[youtube, stunt, death, foreshadowed, by, tweet]</td>\n",
       "    </tr>\n",
       "  </tbody>\n",
       "</table>\n",
       "<p>1082168 rows × 1 columns</p>\n",
       "</div>"
      ],
      "text/plain": [
       "                                             headline_text\n",
       "0        [aba, decides, against, community, broadcastin...\n",
       "1        [act, fire, witnesses, must, be, aware, of, de...\n",
       "2        [a, g, calls, for, infrastructure, protection,...\n",
       "3        [air, nz, staff, in, aust, strike, for, pay, r...\n",
       "4        [air, nz, strike, to, affect, australian, trav...\n",
       "...                                                    ...\n",
       "1082163  [when, is, it, ok, to, compliment, a, womans, ...\n",
       "1082164             [white, house, defends, trumps, tweet]\n",
       "1082165  [winter, closes, in, on, tasmania, as, snow, i...\n",
       "1082166  [womens, world, cup, australia, wins, despite,...\n",
       "1082167   [youtube, stunt, death, foreshadowed, by, tweet]\n",
       "\n",
       "[1082168 rows x 1 columns]"
      ]
     },
     "execution_count": 41,
     "metadata": {},
     "output_type": "execute_result"
    }
   ],
   "source": [
    "import nltk\n",
    "text['headline_text'] = text.apply(lambda row: nltk.word_tokenize(row['headline_text']), axis=1)\n",
    "text"
   ]
  },
  {
   "cell_type": "code",
   "execution_count": 42,
   "id": "17eb7877",
   "metadata": {
    "ExecuteTime": {
     "end_time": "2021-11-29T12:05:24.767872Z",
     "start_time": "2021-11-29T12:05:09.741289Z"
    }
   },
   "outputs": [
    {
     "name": "stderr",
     "output_type": "stream",
     "text": [
      "/var/folders/ph/pv7rmwrx0yl4zl9pm78d51hm0000gn/T/ipykernel_72896/1561283810.py:3: SettingWithCopyWarning: \n",
      "A value is trying to be set on a copy of a slice from a DataFrame.\n",
      "Try using .loc[row_indexer,col_indexer] = value instead\n",
      "\n",
      "See the caveats in the documentation: https://pandas.pydata.org/pandas-docs/stable/user_guide/indexing.html#returning-a-view-versus-a-copy\n",
      "  text['headline_text'] = text.headline_text.map(lambda x: [w for w in x if w not in (stop)])\n"
     ]
    },
    {
     "data": {
      "text/html": [
       "<div>\n",
       "<style scoped>\n",
       "    .dataframe tbody tr th:only-of-type {\n",
       "        vertical-align: middle;\n",
       "    }\n",
       "\n",
       "    .dataframe tbody tr th {\n",
       "        vertical-align: top;\n",
       "    }\n",
       "\n",
       "    .dataframe thead th {\n",
       "        text-align: right;\n",
       "    }\n",
       "</style>\n",
       "<table border=\"1\" class=\"dataframe\">\n",
       "  <thead>\n",
       "    <tr style=\"text-align: right;\">\n",
       "      <th></th>\n",
       "      <th>headline_text</th>\n",
       "    </tr>\n",
       "  </thead>\n",
       "  <tbody>\n",
       "    <tr>\n",
       "      <th>0</th>\n",
       "      <td>[aba, decides, community, broadcasting, licence]</td>\n",
       "    </tr>\n",
       "    <tr>\n",
       "      <th>1</th>\n",
       "      <td>[act, fire, witnesses, must, aware, defamation]</td>\n",
       "    </tr>\n",
       "    <tr>\n",
       "      <th>2</th>\n",
       "      <td>[g, calls, infrastructure, protection, summit]</td>\n",
       "    </tr>\n",
       "    <tr>\n",
       "      <th>3</th>\n",
       "      <td>[air, nz, staff, aust, strike, pay, rise]</td>\n",
       "    </tr>\n",
       "    <tr>\n",
       "      <th>4</th>\n",
       "      <td>[air, nz, strike, affect, australian, travellers]</td>\n",
       "    </tr>\n",
       "  </tbody>\n",
       "</table>\n",
       "</div>"
      ],
      "text/plain": [
       "                                       headline_text\n",
       "0   [aba, decides, community, broadcasting, licence]\n",
       "1    [act, fire, witnesses, must, aware, defamation]\n",
       "2     [g, calls, infrastructure, protection, summit]\n",
       "3          [air, nz, staff, aust, strike, pay, rise]\n",
       "4  [air, nz, strike, affect, australian, travellers]"
      ]
     },
     "execution_count": 42,
     "metadata": {},
     "output_type": "execute_result"
    }
   ],
   "source": [
    "from nltk.corpus import stopwords\n",
    "stop = stopwords.words('english')\n",
    "text['headline_text'] = text.headline_text.map(lambda x: [w for w in x if w not in (stop)])\n",
    "text.head(5)"
   ]
  },
  {
   "cell_type": "code",
   "execution_count": 43,
   "id": "8a35f20a",
   "metadata": {
    "ExecuteTime": {
     "end_time": "2021-11-29T12:08:14.592544Z",
     "start_time": "2021-11-29T12:08:12.045404Z"
    }
   },
   "outputs": [
    {
     "name": "stdout",
     "output_type": "stream",
     "text": [
      "0    [decides, community, broadcasting, licence]\n",
      "1     [fire, witnesses, must, aware, defamation]\n",
      "2    [calls, infrastructure, protection, summit]\n",
      "3                    [staff, aust, strike, rise]\n",
      "4       [strike, affect, australian, travellers]\n",
      "Name: headline_text, dtype: object\n"
     ]
    }
   ],
   "source": [
    "tokenized_doc = text['headline_text'].apply(lambda x: [word for word in x if len(word) > 3])\n",
    "print(tokenized_doc[:5])"
   ]
  },
  {
   "cell_type": "code",
   "execution_count": 47,
   "id": "2f3ab898",
   "metadata": {
    "ExecuteTime": {
     "end_time": "2021-11-29T12:09:46.512351Z",
     "start_time": "2021-11-29T12:09:43.852458Z"
    }
   },
   "outputs": [
    {
     "name": "stderr",
     "output_type": "stream",
     "text": [
      "/var/folders/ph/pv7rmwrx0yl4zl9pm78d51hm0000gn/T/ipykernel_72896/3975491853.py:6: SettingWithCopyWarning: \n",
      "A value is trying to be set on a copy of a slice from a DataFrame.\n",
      "Try using .loc[row_indexer,col_indexer] = value instead\n",
      "\n",
      "See the caveats in the documentation: https://pandas.pydata.org/pandas-docs/stable/user_guide/indexing.html#returning-a-view-versus-a-copy\n",
      "  text['headline_text'] = detokenized_doc # 다시 text['headline_text']에 재저장\n"
     ]
    }
   ],
   "source": [
    "detokenized_doc = []\n",
    "for i in range(len(text)):\n",
    "    t = ' '.join(tokenized_doc[i])\n",
    "    detokenized_doc.append(t)\n",
    "\n",
    "text['headline_text'] = detokenized_doc # 다시 text['headline_text']에 재저장"
   ]
  },
  {
   "cell_type": "code",
   "execution_count": 49,
   "id": "223e9bf2",
   "metadata": {
    "ExecuteTime": {
     "end_time": "2021-11-29T12:11:36.319518Z",
     "start_time": "2021-11-29T12:11:30.080440Z"
    }
   },
   "outputs": [
    {
     "data": {
      "text/plain": [
       "(1082168, 1000)"
      ]
     },
     "execution_count": 49,
     "metadata": {},
     "output_type": "execute_result"
    }
   ],
   "source": [
    "from sklearn.feature_extraction.text import TfidfVectorizer\n",
    "vectorizer = TfidfVectorizer(stop_words='english',\n",
    "                             max_features=1000)\n",
    "X = vectorizer.fit_transform(text['headline_text'])\n",
    "X.shape"
   ]
  },
  {
   "cell_type": "code",
   "execution_count": 50,
   "id": "d215213a",
   "metadata": {
    "ExecuteTime": {
     "end_time": "2021-11-29T12:22:27.340486Z",
     "start_time": "2021-11-29T12:20:19.215196Z"
    }
   },
   "outputs": [
    {
     "name": "stdout",
     "output_type": "stream",
     "text": [
      "[[1.00000524e-01 1.00000945e-01 1.00003031e-01 ... 1.00010614e-01\n",
      "  1.00003498e-01 1.00001781e-01]\n",
      " [1.00003244e-01 1.00006985e-01 1.00018485e-01 ... 1.00009374e-01\n",
      "  1.00004140e-01 1.00002710e-01]\n",
      " [1.00000613e-01 1.00001003e-01 1.00001719e-01 ... 1.00010032e-01\n",
      "  1.00003629e-01 1.00002942e-01]\n",
      " ...\n",
      " [1.00002359e-01 1.00002223e-01 1.00008046e-01 ... 2.25245378e+03\n",
      "  1.00004394e-01 1.00001389e-01]\n",
      " [1.00001729e-01 1.00001155e-01 3.56084764e+03 ... 1.00006474e-01\n",
      "  1.00003539e-01 1.00001515e-01]\n",
      " [1.00001008e-01 1.00001333e-01 1.00004934e-01 ... 1.00015214e-01\n",
      "  1.00003583e-01 1.00001347e-01]]\n",
      "(10, 1000)\n"
     ]
    }
   ],
   "source": [
    "from sklearn.decomposition import LatentDirichletAllocation\n",
    "lda_model = LatentDirichletAllocation(n_components=10,\n",
    "                                      learning_method='online',\n",
    "                                      random_state=777,\n",
    "                                      max_iter=1)\n",
    "lda_top = lda_model.fit_transform(X)\n",
    "print(lda_model.components_)\n",
    "print(lda_model.components_.shape)"
   ]
  },
  {
   "cell_type": "code",
   "execution_count": 51,
   "id": "598ad7ad",
   "metadata": {
    "ExecuteTime": {
     "end_time": "2021-11-29T12:22:28.059614Z",
     "start_time": "2021-11-29T12:22:28.052164Z"
    }
   },
   "outputs": [
    {
     "name": "stdout",
     "output_type": "stream",
     "text": [
      "Topic 1: [('trump', 10983.42), ('state', 4433.33), ('league', 4147.04), ('open', 4035.79), ('funding', 3547.71)]\n",
      "Topic 2: [('court', 7730.97), ('world', 7084.24), ('canberra', 6440.95), ('interview', 5813.89), ('country', 5368.42)]\n",
      "Topic 3: [('police', 12780.13), ('government', 9184.56), ('sydney', 8885.32), ('woman', 5633.17), ('north', 5261.69)]\n",
      "Topic 4: [('election', 8013.99), ('south', 6909.67), ('test', 3978.44), ('missing', 3629.12), ('power', 3624.58)]\n",
      "Topic 5: [('melbourne', 7830.58), ('years', 5286.89), ('calls', 4858.96), ('final', 3758.86), ('accused', 3747.29)]\n",
      "Topic 6: [('australia', 14376.71), ('death', 6201.75), ('2016', 5731.04), ('turnbull', 4364.71), ('people', 4166.9)]\n",
      "Topic 7: [('adelaide', 7079.47), ('perth', 6705.92), ('charged', 5845.25), ('dies', 4730.09), ('indigenous', 4334.57)]\n",
      "Topic 8: [('australian', 11564.41), ('queensland', 7981.64), ('year', 5768.28), ('brisbane', 5103.73), ('tasmania', 4820.45)]\n",
      "Topic 9: [('coast', 5606.92), ('tasmanian', 5034.86), ('school', 4564.63), ('council', 4167.15), ('gold', 3912.08)]\n",
      "Topic 10: [('says', 14415.72), ('rural', 5606.38), ('china', 4695.89), ('hospital', 4484.76), ('live', 4065.89)]\n"
     ]
    },
    {
     "name": "stderr",
     "output_type": "stream",
     "text": [
      "/Users/timber/opt/anaconda3/envs/NLP_tf/lib/python3.8/site-packages/sklearn/utils/deprecation.py:87: FutureWarning: Function get_feature_names is deprecated; get_feature_names is deprecated in 1.0 and will be removed in 1.2. Please use get_feature_names_out instead.\n",
      "  warnings.warn(msg, category=FutureWarning)\n"
     ]
    }
   ],
   "source": [
    "terms = vectorizer.get_feature_names() # 단어 집합. 1,000개의 단어가 저장됨.\n",
    "\n",
    "def get_topics(components, feature_names, n=5):\n",
    "    for idx, topic in enumerate(components):\n",
    "        print(\"Topic %d:\" % (idx+1), [(feature_names[i], topic[i].round(2)) for i in topic.argsort()[:-n - 1:-1]])\n",
    "get_topics(lda_model.components_,terms)"
   ]
  },
  {
   "cell_type": "code",
   "execution_count": null,
   "id": "9fcc2ee7",
   "metadata": {},
   "outputs": [],
   "source": []
  }
 ],
 "metadata": {
  "hide_input": false,
  "kernelspec": {
   "display_name": "Python [conda env:NLP_tf] *",
   "language": "python",
   "name": "conda-env-NLP_tf-py"
  },
  "language_info": {
   "codemirror_mode": {
    "name": "ipython",
    "version": 3
   },
   "file_extension": ".py",
   "mimetype": "text/x-python",
   "name": "python",
   "nbconvert_exporter": "python",
   "pygments_lexer": "ipython3",
   "version": "3.8.5"
  },
  "toc": {
   "base_numbering": 1,
   "nav_menu": {},
   "number_sections": true,
   "sideBar": true,
   "skip_h1_title": false,
   "title_cell": "Table of Contents",
   "title_sidebar": "Contents",
   "toc_cell": false,
   "toc_position": {},
   "toc_section_display": true,
   "toc_window_display": false
  },
  "varInspector": {
   "cols": {
    "lenName": 16,
    "lenType": 16,
    "lenVar": 40
   },
   "kernels_config": {
    "python": {
     "delete_cmd_postfix": "",
     "delete_cmd_prefix": "del ",
     "library": "var_list.py",
     "varRefreshCmd": "print(var_dic_list())"
    },
    "r": {
     "delete_cmd_postfix": ") ",
     "delete_cmd_prefix": "rm(",
     "library": "var_list.r",
     "varRefreshCmd": "cat(var_dic_list()) "
    }
   },
   "types_to_exclude": [
    "module",
    "function",
    "builtin_function_or_method",
    "instance",
    "_Feature"
   ],
   "window_display": false
  }
 },
 "nbformat": 4,
 "nbformat_minor": 5
}
